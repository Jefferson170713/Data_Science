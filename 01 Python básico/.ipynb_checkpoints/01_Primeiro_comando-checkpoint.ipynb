{
 "cells": [
  {
   "cell_type": "code",
   "execution_count": 34,
   "id": "f12787e1-4265-4953-8dd9-d2384dbc6cf4",
   "metadata": {},
   "outputs": [
    {
     "name": "stdout",
     "output_type": "stream",
     "text": [
      "Rayssa\n"
     ]
    }
   ],
   "source": [
    "from random import randint as rd\n",
    "\n",
    "nomes = [ 'Jefferson', 'Rayssa', 'Jonas', 'Juliana', 'Herverton', 'Allan']\n",
    "a = rd(0, 5)\n",
    "\n",
    "print(nomes[a])"
   ]
  }
 ],
 "metadata": {
  "kernelspec": {
   "display_name": "Python 3 (ipykernel)",
   "language": "python",
   "name": "python3"
  },
  "language_info": {
   "codemirror_mode": {
    "name": "ipython",
    "version": 3
   },
   "file_extension": ".py",
   "mimetype": "text/x-python",
   "name": "python",
   "nbconvert_exporter": "python",
   "pygments_lexer": "ipython3",
   "version": "3.9.12"
  }
 },
 "nbformat": 4,
 "nbformat_minor": 5
}
