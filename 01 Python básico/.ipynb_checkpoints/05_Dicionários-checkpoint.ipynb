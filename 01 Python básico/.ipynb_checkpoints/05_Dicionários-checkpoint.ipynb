{
 "cells": [
  {
   "cell_type": "markdown",
   "id": "d1e694e3-acb0-49ca-ac21-69c93b3c2484",
   "metadata": {},
   "source": [
    "### Dicionários em Python\n",
    "Diferente das listas, esses de diferem no armazenamento pis é complexo, similar aos arquivos JSON.\n",
    "\n",
    "    - Identificado ddesta forma dict = { 'chave' : 'valor da chave'}. \n",
    "    - Podendo dentro dele várias outras estruturas de dados."
   ]
  },
  {
   "cell_type": "code",
   "execution_count": 2,
   "id": "8853a551-f373-490f-8779-c6f18702edbb",
   "metadata": {},
   "outputs": [
    {
     "data": {
      "text/plain": [
       "{'nome': 'Rayssa', 'idade': 26, 'cidade': 'fortaleza'}"
      ]
     },
     "execution_count": 2,
     "metadata": {},
     "output_type": "execute_result"
    }
   ],
   "source": [
    "minha_dict01 = {'nome' : 'Jefferson', 'idade' : 29, 'cidade' : 'fortaleza'}\n",
    "\n",
    "minha_dict02 = {'nome' : 'Rayssa', 'idade': 26, 'cidade': 'fortaleza'}\n",
    "minha_dict02"
   ]
  },
  {
   "cell_type": "markdown",
   "id": "0ff91553-f9ba-4429-8ec5-6d84ee0a2812",
   "metadata": {},
   "source": [
    "# Adicionando mais chaves e valores.\n",
    "    Ex: minha_dict['chave'] = 'valor da chave'\n",
    "    "
   ]
  },
  {
   "cell_type": "code",
   "execution_count": 3,
   "id": "02106fff-8d9b-47aa-9b1d-c064405ec705",
   "metadata": {},
   "outputs": [],
   "source": [
    "minha_dict01['Estado'] = 'CE'\n",
    "minha_dict02['Estado'] = 'CE'\n"
   ]
  },
  {
   "cell_type": "code",
   "execution_count": 6,
   "id": "a4a1c570-fbc0-468b-9f57-0b12d4b9cc37",
   "metadata": {},
   "outputs": [
    {
     "data": {
      "text/plain": [
       "{'nome': 'Jefferson', 'idade': 29, 'cidade': 'fortaleza', 'Estado': 'CE'}"
      ]
     },
     "execution_count": 6,
     "metadata": {},
     "output_type": "execute_result"
    }
   ],
   "source": [
    "minha_dict01"
   ]
  },
  {
   "cell_type": "markdown",
   "id": "381a3182-cb32-4a76-a695-64ea689560f9",
   "metadata": {},
   "source": [
    "### Principais métodos com dicionários.\n",
    "    dict.keys() -> Mostra as chaves dos dicionários.\n",
    "    dict.values() -> Mostra os valores das chaves.\n",
    "    dict.items() -> MOstra todos os items, conjunto de pares como TUPLAS, outro modelo de dado em Python."
   ]
  },
  {
   "cell_type": "code",
   "execution_count": 8,
   "id": "17614cb7-c146-49a4-9ce7-307fb1a2c62d",
   "metadata": {},
   "outputs": [
    {
     "data": {
      "text/plain": [
       "dict_keys(['nome', 'idade', 'cidade', 'Estado'])"
      ]
     },
     "execution_count": 8,
     "metadata": {},
     "output_type": "execute_result"
    }
   ],
   "source": [
    "minha_dict01.keys()"
   ]
  },
  {
   "cell_type": "code",
   "execution_count": 9,
   "id": "5d4700a1-bf87-4c17-87fc-a1ccd49c8587",
   "metadata": {},
   "outputs": [
    {
     "data": {
      "text/plain": [
       "dict_values(['Jefferson', 29, 'fortaleza'])"
      ]
     },
     "execution_count": 9,
     "metadata": {},
     "output_type": "execute_result"
    }
   ],
   "source": [
    "minha_dict.values()"
   ]
  },
  {
   "cell_type": "code",
   "execution_count": 10,
   "id": "a4a7ba1f-a0c3-4a2a-9ff3-9960dd488d68",
   "metadata": {},
   "outputs": [
    {
     "data": {
      "text/plain": [
       "dict_items([('nome', 'Jefferson'), ('idade', 29), ('cidade', 'fortaleza'), ('Estado', 'CE')])"
      ]
     },
     "execution_count": 10,
     "metadata": {},
     "output_type": "execute_result"
    }
   ],
   "source": [
    "minha_dict01.items()\n"
   ]
  },
  {
   "cell_type": "code",
   "execution_count": null,
   "id": "8283f41f-9cde-46aa-99af-dc74a90fbed2",
   "metadata": {},
   "outputs": [],
   "source": []
  }
 ],
 "metadata": {
  "kernelspec": {
   "display_name": "Python 3 (ipykernel)",
   "language": "python",
   "name": "python3"
  },
  "language_info": {
   "codemirror_mode": {
    "name": "ipython",
    "version": 3
   },
   "file_extension": ".py",
   "mimetype": "text/x-python",
   "name": "python",
   "nbconvert_exporter": "python",
   "pygments_lexer": "ipython3",
   "version": "3.9.12"
  }
 },
 "nbformat": 4,
 "nbformat_minor": 5
}
