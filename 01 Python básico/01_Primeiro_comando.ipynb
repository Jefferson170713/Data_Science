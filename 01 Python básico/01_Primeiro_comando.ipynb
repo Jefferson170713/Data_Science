{
 "cells": [
  {
   "cell_type": "markdown",
   "id": "0d493e38-7131-410f-80d3-d5ef209174bb",
   "metadata": {},
   "source": [
    "## Programa escolhe nomes aleatórios.\n",
    "\n",
    "Dentre as opções de nomes disponíveis, aleatoriamente os nomes vão mudando de acordo com o môdolo Random"
   ]
  },
  {
   "cell_type": "code",
   "execution_count": 92,
   "id": "f12787e1-4265-4953-8dd9-d2384dbc6cf4",
   "metadata": {},
   "outputs": [
    {
     "name": "stdout",
     "output_type": "stream",
     "text": [
      "Jefferson\n"
     ]
    },
    {
     "data": {
      "text/plain": [
       "8"
      ]
     },
     "execution_count": 92,
     "metadata": {},
     "output_type": "execute_result"
    }
   ],
   "source": [
    "from random import randint as rd\n",
    "\n",
    "nomes = ['Jefferson', 'Rayssa', 'Jonas', 'Juliana', 'Herverton', 'Allan','Allana', 'Pedro']\n",
    "a = rd(0, len(nomes)-1)\n",
    "\n",
    "print(nomes[a])\n",
    "len(nomes)"
   ]
  },
  {
   "cell_type": "code",
   "execution_count": null,
   "id": "93acb69a-0bd4-4596-a57c-080ff7cd4be2",
   "metadata": {},
   "outputs": [],
   "source": []
  }
 ],
 "metadata": {
  "kernelspec": {
   "display_name": "Python 3 (ipykernel)",
   "language": "python",
   "name": "python3"
  },
  "language_info": {
   "codemirror_mode": {
    "name": "ipython",
    "version": 3
   },
   "file_extension": ".py",
   "mimetype": "text/x-python",
   "name": "python",
   "nbconvert_exporter": "python",
   "pygments_lexer": "ipython3",
   "version": "3.9.12"
  }
 },
 "nbformat": 4,
 "nbformat_minor": 5
}
