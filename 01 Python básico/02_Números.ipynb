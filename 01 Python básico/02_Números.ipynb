{
 "cells": [
  {
   "cell_type": "markdown",
   "id": "e0d0f450-a9d7-4ef4-ae17-fe9076f31125",
   "metadata": {},
   "source": [
    "## Números e operações em Python"
   ]
  },
  {
   "cell_type": "code",
   "execution_count": 8,
   "id": "e947c12f-bbdc-449f-b809-ec6bad90c592",
   "metadata": {},
   "outputs": [
    {
     "data": {
      "text/plain": [
       "5"
      ]
     },
     "execution_count": 8,
     "metadata": {},
     "output_type": "execute_result"
    }
   ],
   "source": [
    "a = 3\n",
    "b = 2\n",
    "\n",
    "a + b\n"
   ]
  },
  {
   "cell_type": "code",
   "execution_count": 10,
   "id": "387f9046-99d0-44ba-85f9-c0d2650ae382",
   "metadata": {},
   "outputs": [
    {
     "data": {
      "text/plain": [
       "-1"
      ]
     },
     "execution_count": 10,
     "metadata": {},
     "output_type": "execute_result"
    }
   ],
   "source": [
    "b - a "
   ]
  },
  {
   "cell_type": "code",
   "execution_count": 12,
   "id": "189779ea-18ff-40f8-a4b9-999a8131888d",
   "metadata": {},
   "outputs": [
    {
     "data": {
      "text/plain": [
       "1.5"
      ]
     },
     "execution_count": 12,
     "metadata": {},
     "output_type": "execute_result"
    }
   ],
   "source": [
    "a / b"
   ]
  },
  {
   "cell_type": "code",
   "execution_count": 19,
   "id": "285953d6-0b4a-432a-9f83-0fe38646bddc",
   "metadata": {},
   "outputs": [
    {
     "data": {
      "text/plain": [
       "9"
      ]
     },
     "execution_count": 19,
     "metadata": {},
     "output_type": "execute_result"
    }
   ],
   "source": [
    "a ** b"
   ]
  },
  {
   "cell_type": "code",
   "execution_count": 20,
   "id": "c82e5ada-69dd-4ce6-9cc5-8a6cbf83dba4",
   "metadata": {},
   "outputs": [
    {
     "data": {
      "text/plain": [
       "1.7320508075688772"
      ]
     },
     "execution_count": 20,
     "metadata": {},
     "output_type": "execute_result"
    }
   ],
   "source": [
    "a ** (1 / b)"
   ]
  },
  {
   "cell_type": "code",
   "execution_count": null,
   "id": "cd50d57e-31a1-4373-994f-fbe065113a60",
   "metadata": {
    "tags": []
   },
   "outputs": [
    {
     "data": {
      "text/plain": [
       "1"
      ]
     },
     "execution_count": 16,
     "metadata": {},
     "output_type": "execute_result"
    }
   ],
   "source": [
    "a % b"
   ]
  },
  {
   "cell_type": "markdown",
   "id": "e7f2a3d8-7d5b-4bce-b6a3-9ea53b1b4d46",
   "metadata": {},
   "source": [
    "## Operação raiz\n",
    "\n",
    "a ** (1 / b)\n"
   ]
  }
 ],
 "metadata": {
  "kernelspec": {
   "display_name": "Python 3 (ipykernel)",
   "language": "python",
   "name": "python3"
  },
  "language_info": {
   "codemirror_mode": {
    "name": "ipython",
    "version": 3
   },
   "file_extension": ".py",
   "mimetype": "text/x-python",
   "name": "python",
   "nbconvert_exporter": "python",
   "pygments_lexer": "ipython3",
   "version": "3.9.12"
  }
 },
 "nbformat": 4,
 "nbformat_minor": 5
}
