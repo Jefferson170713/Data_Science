{
 "cells": [
  {
   "cell_type": "markdown",
   "id": "7cdbad69-be54-4a67-9b67-ddb9504642a4",
   "metadata": {},
   "source": [
    "## Strings"
   ]
  },
  {
   "cell_type": "code",
   "execution_count": 3,
   "id": "af79c5eb-0de9-4cef-a52d-c0c2e776d596",
   "metadata": {},
   "outputs": [
    {
     "data": {
      "text/plain": [
       "'Meu nome é Jefferson'"
      ]
     },
     "execution_count": 3,
     "metadata": {},
     "output_type": "execute_result"
    }
   ],
   "source": [
    "minha_string = \"Meu nome é Jefferson\"\n",
    "minha_string"
   ]
  },
  {
   "cell_type": "code",
   "execution_count": 4,
   "id": "0754e758-07d2-4360-8aab-ceba2ad77039",
   "metadata": {},
   "outputs": [
    {
     "data": {
      "text/plain": [
       "'Estou aprendendo Python De Novo'"
      ]
     },
     "execution_count": 4,
     "metadata": {},
     "output_type": "execute_result"
    }
   ],
   "source": [
    "str2 = \"Estou aprendendo Python De Novo\"\n",
    "str2"
   ]
  },
  {
   "cell_type": "code",
   "execution_count": 6,
   "id": "5dd0fcc8-384e-4889-ba1c-ef28766ff309",
   "metadata": {},
   "outputs": [
    {
     "data": {
      "text/plain": [
       "'Meu nome é Jefferson e Estou aprendendo Python De Novo'"
      ]
     },
     "execution_count": 6,
     "metadata": {},
     "output_type": "execute_result"
    }
   ],
   "source": [
    "mostrar = minha_string +' e ' + str2\n",
    "mostrar"
   ]
  },
  {
   "cell_type": "code",
   "execution_count": 15,
   "id": "9a3a15a9-40a3-4290-9a27-b2c3d47437cb",
   "metadata": {},
   "outputs": [
    {
     "data": {
      "text/plain": [
       "20"
      ]
     },
     "execution_count": 15,
     "metadata": {},
     "output_type": "execute_result"
    }
   ],
   "source": [
    "len(minha_string)\n",
    "#len(str2)\n",
    "#len(mostrar)"
   ]
  },
  {
   "cell_type": "code",
   "execution_count": 18,
   "id": "9206aecb-a075-4035-8d02-585abe9ff27c",
   "metadata": {},
   "outputs": [
    {
     "data": {
      "text/plain": [
       "'ovoN eD nohtyP odnednerpa uotsE e nosreffeJ é emon ueM'"
      ]
     },
     "execution_count": 18,
     "metadata": {},
     "output_type": "execute_result"
    }
   ],
   "source": [
    "mostrar[::-1]"
   ]
  },
  {
   "cell_type": "code",
   "execution_count": 22,
   "id": "46a02a2d-51ee-4d07-baec-5b6be36b1f64",
   "metadata": {},
   "outputs": [
    {
     "data": {
      "text/plain": [
       "'u nome é Jefferson e Estou aprendendo Python De Novo'"
      ]
     },
     "execution_count": 22,
     "metadata": {},
     "output_type": "execute_result"
    }
   ],
   "source": [
    "mostrar[2:]"
   ]
  },
  {
   "cell_type": "code",
   "execution_count": 25,
   "id": "2dc0cbc7-645d-4d04-9f9e-6ca449bf336c",
   "metadata": {},
   "outputs": [
    {
     "name": "stdout",
     "output_type": "stream",
     "text": [
      "M\n",
      "e\n",
      "u\n",
      " \n",
      "n\n",
      "o\n",
      "m\n",
      "e\n",
      " \n",
      "é\n",
      " \n",
      "J\n",
      "e\n",
      "f\n",
      "f\n",
      "e\n",
      "r\n",
      "s\n",
      "o\n",
      "n\n",
      " \n",
      "e\n",
      " \n",
      "E\n",
      "s\n",
      "t\n",
      "o\n",
      "u\n",
      " \n",
      "a\n",
      "p\n",
      "r\n",
      "e\n",
      "n\n",
      "d\n",
      "e\n",
      "n\n",
      "d\n",
      "o\n",
      " \n",
      "P\n",
      "y\n",
      "t\n",
      "h\n",
      "o\n",
      "n\n",
      " \n",
      "D\n",
      "e\n",
      " \n",
      "N\n",
      "o\n",
      "v\n",
      "o\n"
     ]
    }
   ],
   "source": [
    "for _ in mostrar:\n",
    "    print(_)"
   ]
  }
 ],
 "metadata": {
  "kernelspec": {
   "display_name": "Python 3 (ipykernel)",
   "language": "python",
   "name": "python3"
  },
  "language_info": {
   "codemirror_mode": {
    "name": "ipython",
    "version": 3
   },
   "file_extension": ".py",
   "mimetype": "text/x-python",
   "name": "python",
   "nbconvert_exporter": "python",
   "pygments_lexer": "ipython3",
   "version": "3.9.12"
  }
 },
 "nbformat": 4,
 "nbformat_minor": 5
}
