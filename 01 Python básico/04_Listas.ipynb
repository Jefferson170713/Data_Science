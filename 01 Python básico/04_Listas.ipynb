{
 "cells": [
  {
   "cell_type": "markdown",
   "id": "3ec15d56-8eb5-4e5c-81f6-ba67f0757a62",
   "metadata": {},
   "source": [
    "### Listas"
   ]
  },
  {
   "cell_type": "code",
   "execution_count": 2,
   "id": "8cc1e8fe-7ca1-4a75-a518-13c77380f15e",
   "metadata": {},
   "outputs": [
    {
     "data": {
      "text/plain": [
       "['Jefferson']"
      ]
     },
     "execution_count": 2,
     "metadata": {},
     "output_type": "execute_result"
    }
   ],
   "source": [
    "l_1 = ['Jefferson']\n",
    "l_1"
   ]
  },
  {
   "cell_type": "code",
   "execution_count": 3,
   "id": "2e739af6-c8c9-4d6d-8f62-ed3ab865fbd6",
   "metadata": {},
   "outputs": [
    {
     "data": {
      "text/plain": [
       "['Rayssa']"
      ]
     },
     "execution_count": 3,
     "metadata": {},
     "output_type": "execute_result"
    }
   ],
   "source": [
    "l_2 = ['Rayssa']\n",
    "l_2"
   ]
  },
  {
   "cell_type": "code",
   "execution_count": 9,
   "id": "9aaf6895-164b-4060-860e-547db39684fb",
   "metadata": {},
   "outputs": [
    {
     "data": {
      "text/plain": [
       "[1, 2, 3]"
      ]
     },
     "execution_count": 9,
     "metadata": {},
     "output_type": "execute_result"
    }
   ],
   "source": [
    "l = [1, 2, 3]\n",
    "l"
   ]
  },
  {
   "cell_type": "code",
   "execution_count": 10,
   "id": "a324db8f-9dfb-4988-8443-7c45804b69dc",
   "metadata": {},
   "outputs": [
    {
     "data": {
      "text/plain": [
       "[1, 2, 3, 4]"
      ]
     },
     "execution_count": 10,
     "metadata": {},
     "output_type": "execute_result"
    }
   ],
   "source": [
    "l.append(4)\n",
    "l"
   ]
  },
  {
   "cell_type": "markdown",
   "id": "a840677f-fb88-4aba-b3bf-b6f56f11e282",
   "metadata": {},
   "source": [
    "### Adicionando \n",
    "Adicionando mais itens na lista com o método append()"
   ]
  },
  {
   "cell_type": "code",
   "execution_count": 11,
   "id": "e002f9cf-c779-4f0f-acbe-c8c048fa23a7",
   "metadata": {},
   "outputs": [
    {
     "data": {
      "text/plain": [
       "[1, 2, 3]"
      ]
     },
     "execution_count": 11,
     "metadata": {},
     "output_type": "execute_result"
    }
   ],
   "source": [
    "l.pop()\n",
    "l"
   ]
  },
  {
   "cell_type": "markdown",
   "id": "8e17f4cb-dead-481d-bfde-81199ebda6af",
   "metadata": {},
   "source": [
    "### removendo \n",
    "para remver, como foi visto acima, uso o nome mmétodo pop()"
   ]
  },
  {
   "cell_type": "code",
   "execution_count": 13,
   "id": "904d739d-19af-4f30-b165-c83602ce1d17",
   "metadata": {},
   "outputs": [
    {
     "data": {
      "text/plain": [
       "'****************************************************************************************************'"
      ]
     },
     "execution_count": 13,
     "metadata": {},
     "output_type": "execute_result"
    }
   ],
   "source": [
    "\"*\"*100"
   ]
  },
  {
   "cell_type": "markdown",
   "id": "b55bba95-e208-4b8a-9290-0f9a0d1ebafe",
   "metadata": {},
   "source": [
    "### Adicionando valores aleatórios numa matriz\n",
    "Usando o método random, ultilizando uma lista vazia"
   ]
  },
  {
   "cell_type": "code",
   "execution_count": 2,
   "id": "1a3d0f76-c1c4-4c34-98d6-6dae2cec7135",
   "metadata": {},
   "outputs": [
    {
     "name": "stdout",
     "output_type": "stream",
     "text": [
      "[79, 77, 72]\n",
      "[99, 48, 18]\n",
      "[10, 64, 95]\n"
     ]
    }
   ],
   "source": [
    "from random import randint as rd\n",
    "\n",
    "A = [[0,0,0],[0,0,0],[0,0,0]]\n",
    "\n",
    "for x in range(len(A)):\n",
    "    for y in range(len(A)):\n",
    "        A[x][y] = rd(1, 100)\n",
    "\n",
    "for _ in A:\n",
    "    print(_)"
   ]
  },
  {
   "cell_type": "markdown",
   "id": "4d1465de-3c39-4e00-a3a9-73255f83a908",
   "metadata": {},
   "source": [
    "# Organizando uma lista"
   ]
  },
  {
   "cell_type": "code",
   "execution_count": 3,
   "id": "e7f3ebd1-c761-4e36-9157-686388afb617",
   "metadata": {},
   "outputs": [
    {
     "data": {
      "text/plain": [
       "[53, 1, 60, 88, 51, 5, 15, 96, 83, 92]"
      ]
     },
     "execution_count": 3,
     "metadata": {},
     "output_type": "execute_result"
    }
   ],
   "source": [
    "b = []\n",
    "\n",
    "for i in range(10):\n",
    "    b.append(rd(1, 100))\n",
    "\n",
    "b"
   ]
  },
  {
   "cell_type": "code",
   "execution_count": 4,
   "id": "a6fd43ff-033f-41f7-b2c9-925785b5b5d2",
   "metadata": {},
   "outputs": [
    {
     "data": {
      "text/plain": [
       "[1, 5, 15, 51, 53, 60, 83, 88, 92, 96]"
      ]
     },
     "execution_count": 4,
     "metadata": {},
     "output_type": "execute_result"
    }
   ],
   "source": [
    "b.sort()\n",
    "b"
   ]
  },
  {
   "cell_type": "code",
   "execution_count": 5,
   "id": "da7ee6da-cab1-421b-980a-4ad01c773d02",
   "metadata": {},
   "outputs": [
    {
     "data": {
      "text/plain": [
       "[96, 92, 88, 83, 60, 53, 51, 15, 5, 1]"
      ]
     },
     "execution_count": 5,
     "metadata": {},
     "output_type": "execute_result"
    }
   ],
   "source": [
    "b.reverse()\n",
    "b"
   ]
  },
  {
   "cell_type": "code",
   "execution_count": 6,
   "id": "a54a1c36-bec2-4e71-8110-92ca0576788e",
   "metadata": {},
   "outputs": [
    {
     "data": {
      "text/plain": [
       "['Jefferson',\n",
       " 'Rayssa',\n",
       " 'Jonas',\n",
       " 'Juliana',\n",
       " 'Herverton',\n",
       " 'Allan',\n",
       " 'Allana',\n",
       " 'Pedro']"
      ]
     },
     "execution_count": 6,
     "metadata": {},
     "output_type": "execute_result"
    }
   ],
   "source": [
    "nomes = ['Jefferson', 'Rayssa', 'Jonas', 'Juliana', 'Herverton', 'Allan','Allana', 'Pedro']\n",
    "nomes"
   ]
  },
  {
   "cell_type": "code",
   "execution_count": 7,
   "id": "7b783d84-6228-486d-ab9b-709383a29cd8",
   "metadata": {},
   "outputs": [
    {
     "data": {
      "text/plain": [
       "['Allan',\n",
       " 'Allana',\n",
       " 'Herverton',\n",
       " 'Jefferson',\n",
       " 'Jonas',\n",
       " 'Juliana',\n",
       " 'Pedro',\n",
       " 'Rayssa']"
      ]
     },
     "execution_count": 7,
     "metadata": {},
     "output_type": "execute_result"
    }
   ],
   "source": [
    "nomes.sort()\n",
    "nomes"
   ]
  }
 ],
 "metadata": {
  "kernelspec": {
   "display_name": "Python 3 (ipykernel)",
   "language": "python",
   "name": "python3"
  },
  "language_info": {
   "codemirror_mode": {
    "name": "ipython",
    "version": 3
   },
   "file_extension": ".py",
   "mimetype": "text/x-python",
   "name": "python",
   "nbconvert_exporter": "python",
   "pygments_lexer": "ipython3",
   "version": "3.9.12"
  }
 },
 "nbformat": 4,
 "nbformat_minor": 5
}
