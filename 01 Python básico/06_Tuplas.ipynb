{
 "cells": [
  {
   "cell_type": "markdown",
   "id": "79831ca1-1712-45d9-be3c-57d9166a8a58",
   "metadata": {},
   "source": [
    "### Tuplas\n",
    "    Parecido com listas, a diferená é que em tuplas os seus valores não são mutáveis."
   ]
  },
  {
   "cell_type": "code",
   "execution_count": 1,
   "id": "94e5c34e-5700-4c7d-8ef1-9479dd1193f3",
   "metadata": {},
   "outputs": [
    {
     "data": {
      "text/plain": [
       "('jefferson', 29, 'fortaleza', 'ceará')"
      ]
     },
     "execution_count": 1,
     "metadata": {},
     "output_type": "execute_result"
    }
   ],
   "source": [
    "minha_tupla = ('jefferson', 29, 'fortaleza', 'ceará')\n",
    "minha_tupla"
   ]
  },
  {
   "cell_type": "code",
   "execution_count": 2,
   "id": "4b5fe015-2901-41c1-b0b8-60b4b018b50e",
   "metadata": {},
   "outputs": [],
   "source": [
    "a , b, c, d = minha_tupla"
   ]
  },
  {
   "cell_type": "code",
   "execution_count": 3,
   "id": "3dd7757d-4008-4865-b5cd-374a6472bb8b",
   "metadata": {},
   "outputs": [
    {
     "data": {
      "text/plain": [
       "'jefferson'"
      ]
     },
     "execution_count": 3,
     "metadata": {},
     "output_type": "execute_result"
    }
   ],
   "source": [
    "a"
   ]
  },
  {
   "cell_type": "code",
   "execution_count": 4,
   "id": "cc69793c-5fd6-480e-bae6-8ee78dcb782d",
   "metadata": {},
   "outputs": [
    {
     "data": {
      "text/plain": [
       "29"
      ]
     },
     "execution_count": 4,
     "metadata": {},
     "output_type": "execute_result"
    }
   ],
   "source": [
    "b"
   ]
  },
  {
   "cell_type": "code",
   "execution_count": 5,
   "id": "13b4a616-9cbc-46b1-ad8b-83ff1e1ed6db",
   "metadata": {},
   "outputs": [
    {
     "data": {
      "text/plain": [
       "'fortaleza'"
      ]
     },
     "execution_count": 5,
     "metadata": {},
     "output_type": "execute_result"
    }
   ],
   "source": [
    "c"
   ]
  },
  {
   "cell_type": "code",
   "execution_count": 6,
   "id": "35df2dde-e1e8-4a5c-9f4d-79f7a9a33f25",
   "metadata": {},
   "outputs": [
    {
     "data": {
      "text/plain": [
       "'ceará'"
      ]
     },
     "execution_count": 6,
     "metadata": {},
     "output_type": "execute_result"
    }
   ],
   "source": [
    "d"
   ]
  },
  {
   "cell_type": "code",
   "execution_count": null,
   "id": "376acd73-95ed-4d70-92ed-43fb9f6fed3f",
   "metadata": {},
   "outputs": [],
   "source": []
  }
 ],
 "metadata": {
  "kernelspec": {
   "display_name": "Python 3 (ipykernel)",
   "language": "python",
   "name": "python3"
  },
  "language_info": {
   "codemirror_mode": {
    "name": "ipython",
    "version": 3
   },
   "file_extension": ".py",
   "mimetype": "text/x-python",
   "name": "python",
   "nbconvert_exporter": "python",
   "pygments_lexer": "ipython3",
   "version": "3.9.12"
  }
 },
 "nbformat": 4,
 "nbformat_minor": 5
}
