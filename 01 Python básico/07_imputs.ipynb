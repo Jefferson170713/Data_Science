{
 "cells": [
  {
   "cell_type": "markdown",
   "id": "02e23fbe-aeb8-4917-90b9-84e9e8a0c1b7",
   "metadata": {},
   "source": [
    "### função input()\n",
    "    Na função input(), consigo pegar o que o usuário digitou.\n",
    "    "
   ]
  },
  {
   "cell_type": "code",
   "execution_count": 1,
   "id": "2cfef45f-554d-42ac-9e47-b73e0feb3ddc",
   "metadata": {},
   "outputs": [
    {
     "name": "stdin",
     "output_type": "stream",
     "text": [
      " Jefferson de almeida\n"
     ]
    }
   ],
   "source": [
    "nome = input()\n"
   ]
  },
  {
   "cell_type": "code",
   "execution_count": 2,
   "id": "2c9fd9f9-dcfd-4f5e-8180-7af425672ddf",
   "metadata": {},
   "outputs": [
    {
     "data": {
      "text/plain": [
       "'Jefferson de almeida'"
      ]
     },
     "execution_count": 2,
     "metadata": {},
     "output_type": "execute_result"
    }
   ],
   "source": [
    "nome"
   ]
  },
  {
   "cell_type": "markdown",
   "id": "e07d67d2-a781-45ab-81a9-66a84f03e1be",
   "metadata": {},
   "source": [
    "# Detalhe\n",
    "    É imporante saber que para o python, ele sempre vai entender e receber o dado como string.\n",
    "    Portante é necessário fazer o casting de converção.\n",
    "    "
   ]
  },
  {
   "cell_type": "code",
   "execution_count": null,
   "id": "539babc2-f8ca-49ce-b0d3-41a42e6e8026",
   "metadata": {},
   "outputs": [
    {
     "name": "stdin",
     "output_type": "stream",
     "text": [
      " 29\n"
     ]
    }
   ],
   "source": [
    "idade = input()"
   ]
  },
  {
   "cell_type": "code",
   "execution_count": 4,
   "id": "836fa4a6-64fa-4f51-8d30-f4f851432bf8",
   "metadata": {},
   "outputs": [
    {
     "data": {
      "text/plain": [
       "str"
      ]
     },
     "execution_count": 4,
     "metadata": {},
     "output_type": "execute_result"
    }
   ],
   "source": [
    "type(idade)"
   ]
  },
  {
   "cell_type": "code",
   "execution_count": 8,
   "id": "2963566b-72e8-4c03-b959-d7b7fd528ab9",
   "metadata": {},
   "outputs": [],
   "source": [
    "idade = int(idade)"
   ]
  },
  {
   "cell_type": "code",
   "execution_count": 9,
   "id": "4e545330-c15b-43d7-a349-c03fef0fd776",
   "metadata": {},
   "outputs": [
    {
     "data": {
      "text/plain": [
       "int"
      ]
     },
     "execution_count": 9,
     "metadata": {},
     "output_type": "execute_result"
    }
   ],
   "source": [
    "type(idade)"
   ]
  },
  {
   "cell_type": "code",
   "execution_count": null,
   "id": "c3aee6d3-aa89-4cf6-b9dd-72242362b77e",
   "metadata": {},
   "outputs": [],
   "source": []
  }
 ],
 "metadata": {
  "kernelspec": {
   "display_name": "Python 3 (ipykernel)",
   "language": "python",
   "name": "python3"
  },
  "language_info": {
   "codemirror_mode": {
    "name": "ipython",
    "version": 3
   },
   "file_extension": ".py",
   "mimetype": "text/x-python",
   "name": "python",
   "nbconvert_exporter": "python",
   "pygments_lexer": "ipython3",
   "version": "3.9.12"
  }
 },
 "nbformat": 4,
 "nbformat_minor": 5
}
