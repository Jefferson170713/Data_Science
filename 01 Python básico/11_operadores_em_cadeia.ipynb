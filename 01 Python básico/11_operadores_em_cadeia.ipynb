{
 "cells": [
  {
   "cell_type": "markdown",
   "id": "103ab741-a105-41e4-8f9c-85a25c83735d",
   "metadata": {},
   "source": [
    "# Operadores em cadeia.\n",
    "    Posso usar separados ou todos juntos.\n",
    "        - and\n",
    "        - or\n",
    "        - not\n",
    "        - is\n",
    "        - in"
   ]
  },
  {
   "cell_type": "code",
   "execution_count": 1,
   "id": "c7c5c317-734d-4b99-b1f1-203e3c0880ef",
   "metadata": {},
   "outputs": [
    {
     "data": {
      "text/plain": [
       "True"
      ]
     },
     "execution_count": 1,
     "metadata": {},
     "output_type": "execute_result"
    }
   ],
   "source": [
    "a = 2\n",
    "b = 2\n",
    "a is b"
   ]
  },
  {
   "cell_type": "code",
   "execution_count": 3,
   "id": "8de47d5a-f3f0-4ed6-a8ec-e9d7a6f9f7a6",
   "metadata": {},
   "outputs": [
    {
     "data": {
      "text/plain": [
       "2"
      ]
     },
     "execution_count": 3,
     "metadata": {},
     "output_type": "execute_result"
    }
   ],
   "source": [
    "a and b"
   ]
  },
  {
   "cell_type": "code",
   "execution_count": 4,
   "id": "5b5340f6-d46f-4cec-931b-4abf3b510d58",
   "metadata": {},
   "outputs": [
    {
     "data": {
      "text/plain": [
       "3"
      ]
     },
     "execution_count": 4,
     "metadata": {},
     "output_type": "execute_result"
    }
   ],
   "source": [
    "c = 3\n",
    "a and c"
   ]
  },
  {
   "cell_type": "code",
   "execution_count": 5,
   "id": "59eb5f06-e9cd-40fe-944d-e9d669186fdf",
   "metadata": {},
   "outputs": [
    {
     "data": {
      "text/plain": [
       "2"
      ]
     },
     "execution_count": 5,
     "metadata": {},
     "output_type": "execute_result"
    }
   ],
   "source": [
    "a"
   ]
  },
  {
   "cell_type": "code",
   "execution_count": 6,
   "id": "0a6f0e3e-ae8f-431a-bb27-2ea1dcfb40d1",
   "metadata": {},
   "outputs": [],
   "source": [
    "a = True\n",
    "b = False\n",
    "c = True"
   ]
  },
  {
   "cell_type": "code",
   "execution_count": 7,
   "id": "1afc34e5-bbe8-495d-8ee6-84e6ffd969a2",
   "metadata": {},
   "outputs": [
    {
     "data": {
      "text/plain": [
       "False"
      ]
     },
     "execution_count": 7,
     "metadata": {},
     "output_type": "execute_result"
    }
   ],
   "source": [
    "a and b"
   ]
  },
  {
   "cell_type": "code",
   "execution_count": 8,
   "id": "1c2af042-a7c4-4a3c-b22a-8527091f61ad",
   "metadata": {},
   "outputs": [
    {
     "data": {
      "text/plain": [
       "False"
      ]
     },
     "execution_count": 8,
     "metadata": {},
     "output_type": "execute_result"
    }
   ],
   "source": [
    "a and b and c"
   ]
  },
  {
   "cell_type": "code",
   "execution_count": 9,
   "id": "7d7912ba-03ad-4328-83c3-5c795e033a64",
   "metadata": {},
   "outputs": [
    {
     "data": {
      "text/plain": [
       "True"
      ]
     },
     "execution_count": 9,
     "metadata": {},
     "output_type": "execute_result"
    }
   ],
   "source": [
    "a and c"
   ]
  },
  {
   "cell_type": "code",
   "execution_count": 10,
   "id": "519d30d1-be79-4d14-b389-2239db239a57",
   "metadata": {},
   "outputs": [
    {
     "data": {
      "text/plain": [
       "True"
      ]
     },
     "execution_count": 10,
     "metadata": {},
     "output_type": "execute_result"
    }
   ],
   "source": [
    "a or b"
   ]
  },
  {
   "cell_type": "code",
   "execution_count": 12,
   "id": "5851fe0b-0e7e-4317-a446-0b64f1218d4d",
   "metadata": {},
   "outputs": [
    {
     "data": {
      "text/plain": [
       "True"
      ]
     },
     "execution_count": 12,
     "metadata": {},
     "output_type": "execute_result"
    }
   ],
   "source": [
    "a or b or c"
   ]
  },
  {
   "cell_type": "code",
   "execution_count": 13,
   "id": "506f01d5-a9f0-4474-9cec-a5862bb4d574",
   "metadata": {},
   "outputs": [],
   "source": [
    "d = False"
   ]
  },
  {
   "cell_type": "code",
   "execution_count": 14,
   "id": "252e3eda-6737-4cd7-853c-e2a1197b21b5",
   "metadata": {},
   "outputs": [
    {
     "data": {
      "text/plain": [
       "False"
      ]
     },
     "execution_count": 14,
     "metadata": {},
     "output_type": "execute_result"
    }
   ],
   "source": [
    "b or d "
   ]
  },
  {
   "cell_type": "code",
   "execution_count": 15,
   "id": "f1656720-8c9a-435b-afad-276226063763",
   "metadata": {},
   "outputs": [
    {
     "data": {
      "text/plain": [
       "True"
      ]
     },
     "execution_count": 15,
     "metadata": {},
     "output_type": "execute_result"
    }
   ],
   "source": [
    "b or d or a"
   ]
  },
  {
   "cell_type": "code",
   "execution_count": null,
   "id": "0056c345-a768-4dd4-ba10-f3d36247b1dc",
   "metadata": {},
   "outputs": [],
   "source": []
  }
 ],
 "metadata": {
  "kernelspec": {
   "display_name": "Python 3 (ipykernel)",
   "language": "python",
   "name": "python3"
  },
  "language_info": {
   "codemirror_mode": {
    "name": "ipython",
    "version": 3
   },
   "file_extension": ".py",
   "mimetype": "text/x-python",
   "name": "python",
   "nbconvert_exporter": "python",
   "pygments_lexer": "ipython3",
   "version": "3.9.12"
  }
 },
 "nbformat": 4,
 "nbformat_minor": 5
}
