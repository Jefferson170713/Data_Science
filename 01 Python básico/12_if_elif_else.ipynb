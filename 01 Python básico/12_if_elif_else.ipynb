{
 "cells": [
  {
   "cell_type": "markdown",
   "id": "6d56b033-9a15-468a-9d10-07f9042ae090",
   "metadata": {},
   "source": [
    "### If, elif e else."
   ]
  },
  {
   "cell_type": "code",
   "execution_count": 83,
   "id": "f6e116b4-589c-4763-a6c2-9b0bd69e53a4",
   "metadata": {},
   "outputs": [
    {
     "name": "stdout",
     "output_type": "stream",
     "text": [
      "O valor escolhido foi : 52\n",
      "Valor Alto.\n"
     ]
    }
   ],
   "source": [
    "from random import randint as rd\n",
    "\n",
    "valor = rd(1, 60)\n",
    "\n",
    "if valor < 29:\n",
    "    print(f'O valor escolhido foi : {valor}')\n",
    "    print('Abaixo de 30.')\n",
    "elif valor >= 30 and valor <= 50:\n",
    "    print(f'O valor escolhido foi : {valor}')\n",
    "    print('Valor intermediário.')\n",
    "else:\n",
    "    print(f'O valor escolhido foi : {valor}')\n",
    "    print('Valor Alto.')"
   ]
  },
  {
   "cell_type": "markdown",
   "id": "4cc680b2-eccc-4557-88fb-846bd5a4abce",
   "metadata": {},
   "source": [
    "### Descrição do código acima.\n",
    "    Com a função random, eu consigo gerar valores entre 1ce 60 aleatoriamente, assim as condições de if, elif e else poderam ser aplicados. Com isso, todas as vezes que eu rodar o código acima, dará valores diferentes para a variável valor."
   ]
  }
 ],
 "metadata": {
  "kernelspec": {
   "display_name": "Python 3 (ipykernel)",
   "language": "python",
   "name": "python3"
  },
  "language_info": {
   "codemirror_mode": {
    "name": "ipython",
    "version": 3
   },
   "file_extension": ".py",
   "mimetype": "text/x-python",
   "name": "python",
   "nbconvert_exporter": "python",
   "pygments_lexer": "ipython3",
   "version": "3.9.12"
  }
 },
 "nbformat": 4,
 "nbformat_minor": 5
}
