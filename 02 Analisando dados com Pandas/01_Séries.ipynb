{
 "cells": [
  {
   "cell_type": "markdown",
   "id": "a7a81802-09a2-4955-bde5-e8e7e2275d21",
   "metadata": {},
   "source": [
    "# Séries com Python no JupterLab.\n",
    "    - Usando a biblioteca pandas."
   ]
  },
  {
   "cell_type": "code",
   "execution_count": 7,
   "id": "e9c522ef-24a5-422c-a532-687cea562cc4",
   "metadata": {},
   "outputs": [
    {
     "data": {
      "text/plain": [
       "0       Jefferson\n",
       "1    Jonas coelho\n",
       "2     Pedro Bruno\n",
       "dtype: object"
      ]
     },
     "execution_count": 7,
     "metadata": {},
     "output_type": "execute_result"
    }
   ],
   "source": [
    "import pandas as pd\n",
    "\n",
    "ls_nomes = ['Jefferson', 'Jonas coelho', 'Pedro Bruno']\n",
    "\n",
    "\n",
    "tb_nomes = pd.Series(data=ls_nomes)\n",
    "tb_nomes"
   ]
  },
  {
   "cell_type": "markdown",
   "id": "56a58cf3-93f9-4bc6-b92b-740ce6f209fc",
   "metadata": {},
   "source": [
    "### fazendo um index para aplicar na serie"
   ]
  },
  {
   "cell_type": "code",
   "execution_count": 19,
   "id": "cae21381-d776-4b1d-849d-af44ae7368c7",
   "metadata": {},
   "outputs": [
    {
     "data": {
      "text/plain": [
       "[100, 200, 300]"
      ]
     },
     "execution_count": 19,
     "metadata": {},
     "output_type": "execute_result"
    }
   ],
   "source": [
    "#INDEX = [x for x in range(len(ls_nomes))]\n",
    "INDEX = [i for i in range(100, 301, 100)]\n",
    "INDEX"
   ]
  },
  {
   "cell_type": "code",
   "execution_count": 20,
   "id": "8d267058-ee10-4d5d-bb01-241187d48f19",
   "metadata": {},
   "outputs": [
    {
     "data": {
      "text/plain": [
       "100       Jefferson\n",
       "200    Jonas coelho\n",
       "300     Pedro Bruno\n",
       "dtype: object"
      ]
     },
     "execution_count": 20,
     "metadata": {},
     "output_type": "execute_result"
    }
   ],
   "source": [
    "tb_nomes = pd.Series(data=ls_nomes, index=INDEX)\n",
    "tb_nomes"
   ]
  },
  {
   "cell_type": "markdown",
   "id": "f6ee40f6-a4b9-492b-8c46-6a75ad8b793f",
   "metadata": {},
   "source": [
    "### Colocando um novo índice.\n",
    "    - Como podemos ver no bloco acima, atribuímos um novo formato de índece para a série."
   ]
  },
  {
   "cell_type": "code",
   "execution_count": 30,
   "id": "2b258be1-0b1c-41d3-a92a-500b5156b76a",
   "metadata": {},
   "outputs": [
    {
     "data": {
      "text/plain": [
       "10000       Jefferson\n",
       "20000    Jonas coelho\n",
       "30000     Pedro Bruno\n",
       "dtype: object"
      ]
     },
     "execution_count": 30,
     "metadata": {},
     "output_type": "execute_result"
    }
   ],
   "source": [
    "novo_INDEX = [ y for y in range(10000, 30001, 10000)]\n",
    "n_tb_nomes = pd.Series(ls_nomes, novo_INDEX)\n",
    "n_tb_nomes"
   ]
  },
  {
   "cell_type": "markdown",
   "id": "b2fc549f-290f-461b-88af-59b118d01356",
   "metadata": {},
   "source": [
    "## Outra maneira.\n",
    "    Seria interessante colocar como série uma dict(Dicionário)."
   ]
  },
  {
   "cell_type": "code",
   "execution_count": 33,
   "id": "01175cb3-a90e-4509-bfb9-a179b925aa5a",
   "metadata": {},
   "outputs": [
    {
     "data": {
      "text/plain": [
       "FARIAS BRITO           Allan\n",
       "IFCE               Jefferson\n",
       "UFC             Jonas Coelho\n",
       "dtype: object"
      ]
     },
     "execution_count": 33,
     "metadata": {},
     "output_type": "execute_result"
    }
   ],
   "source": [
    "serie_faculdade = {'UFC':'Jonas Coelho', 'IFCE':'Jefferson', 'FARIAS BRITO':'Allan'}\n",
    "\n",
    "serie = pd.Series(serie_faculdade)\n",
    "serie.sort_index() # Aqui esta função serve apenas para organizar."
   ]
  },
  {
   "cell_type": "markdown",
   "id": "d0f859b6-fd35-4ee2-8a03-e5c32ae431f5",
   "metadata": {},
   "source": [
    "# Sobre os dicionários.\n",
    "    Percebemos que a keys(chaves) e Values(valores), já passam como se fosse index e valores"
   ]
  },
  {
   "cell_type": "code",
   "execution_count": 44,
   "id": "94e2a45d-a295-49b2-8fd4-dbbba516b907",
   "metadata": {},
   "outputs": [
    {
     "data": {
      "text/plain": [
       "fortaleza    10\n",
       "ceará        20\n",
       "são paulo    30\n",
       "palmeiras    40\n",
       "dtype: int64"
      ]
     },
     "execution_count": 44,
     "metadata": {},
     "output_type": "execute_result"
    }
   ],
   "source": [
    "ser1 = pd.Series(data=[10,20,30,40], index=['fortaleza','ceará','são paulo', 'palmeiras'])\n",
    "ser2 = pd.Series(data=[105,205,305,405], index=['fortaleza','ceará','Flamengo', 'palmeiras'])\n",
    "\n",
    "pd.Series(ser1)"
   ]
  },
  {
   "cell_type": "code",
   "execution_count": 45,
   "id": "f14eba38-9afa-4e50-b742-7a8b829b056a",
   "metadata": {},
   "outputs": [
    {
     "data": {
      "text/plain": [
       "fortaleza    105\n",
       "ceará        205\n",
       "Flamengo     305\n",
       "palmeiras    405\n",
       "dtype: int64"
      ]
     },
     "execution_count": 45,
     "metadata": {},
     "output_type": "execute_result"
    }
   ],
   "source": [
    "pd.Series(ser2)"
   ]
  },
  {
   "cell_type": "code",
   "execution_count": 47,
   "id": "94902ef5-57d5-49eb-b6a4-f33d7785cb84",
   "metadata": {},
   "outputs": [
    {
     "data": {
      "text/plain": [
       "Flamengo       NaN\n",
       "ceará        225.0\n",
       "fortaleza    115.0\n",
       "palmeiras    445.0\n",
       "são paulo      NaN\n",
       "dtype: float64"
      ]
     },
     "execution_count": 47,
     "metadata": {},
     "output_type": "execute_result"
    }
   ],
   "source": [
    "ser1 + ser2"
   ]
  },
  {
   "cell_type": "markdown",
   "id": "1b689845-85d1-4b86-9028-4d932e267cfe",
   "metadata": {},
   "source": [
    "# Valores enncontrados com a soma."
   ]
  },
  {
   "cell_type": "code",
   "execution_count": 49,
   "id": "c00495f7-69e0-49ee-8e74-c9c4b8b3e678",
   "metadata": {},
   "outputs": [
    {
     "data": {
      "text/plain": [
       "Flamengo         NaN\n",
       "ceará         4100.0\n",
       "fortaleza     1050.0\n",
       "palmeiras    16200.0\n",
       "são paulo        NaN\n",
       "dtype: float64"
      ]
     },
     "execution_count": 49,
     "metadata": {},
     "output_type": "execute_result"
    }
   ],
   "source": [
    "ser1 * ser2"
   ]
  },
  {
   "cell_type": "code",
   "execution_count": 50,
   "id": "d4f10275-57d9-48d5-a3fa-39618c2e0dc8",
   "metadata": {},
   "outputs": [
    {
     "data": {
      "text/plain": [
       "Flamengo          NaN\n",
       "ceará        0.097561\n",
       "fortaleza    0.095238\n",
       "palmeiras    0.098765\n",
       "são paulo         NaN\n",
       "dtype: float64"
      ]
     },
     "execution_count": 50,
     "metadata": {},
     "output_type": "execute_result"
    }
   ],
   "source": [
    "ser1 / ser2"
   ]
  }
 ],
 "metadata": {
  "kernelspec": {
   "display_name": "Python 3 (ipykernel)",
   "language": "python",
   "name": "python3"
  },
  "language_info": {
   "codemirror_mode": {
    "name": "ipython",
    "version": 3
   },
   "file_extension": ".py",
   "mimetype": "text/x-python",
   "name": "python",
   "nbconvert_exporter": "python",
   "pygments_lexer": "ipython3",
   "version": "3.9.12"
  }
 },
 "nbformat": 4,
 "nbformat_minor": 5
}
