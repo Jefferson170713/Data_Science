{
 "cells": [
  {
   "cell_type": "markdown",
   "id": "6f67bcf4-8551-44cc-a0b9-ee390d6e6b1c",
   "metadata": {},
   "source": [
    "### Data Frames \n",
    "    Vamos ultilizar duas bibliotecas principais.\n",
    "        Pandas\n",
    "        Numpy"
   ]
  },
  {
   "cell_type": "code",
   "execution_count": 6,
   "id": "b8a2956b-eae3-4116-903d-da8b07d925ea",
   "metadata": {},
   "outputs": [],
   "source": [
    "import pandas as pd\n",
    "from numpy.random import randn\n",
    "\n",
    "df = pd.DataFrame(randn(5, 4), index=['A', 'B', 'C', 'D','E'], columns='X Y W Z'.split())"
   ]
  },
  {
   "cell_type": "markdown",
   "id": "709d0da4-9ab3-46b0-89e8-7cebef2ff838",
   "metadata": {},
   "source": [
    "# Obs:\n",
    "    Um detalhe importate é perceber que com o método randn de abiblioteca numpy dará valores aleatórios\n",
    "    "
   ]
  },
  {
   "cell_type": "code",
   "execution_count": 7,
   "id": "d43228f6-b94a-445e-9435-aba83e191cd0",
   "metadata": {},
   "outputs": [
    {
     "data": {
      "text/html": [
       "<div>\n",
       "<style scoped>\n",
       "    .dataframe tbody tr th:only-of-type {\n",
       "        vertical-align: middle;\n",
       "    }\n",
       "\n",
       "    .dataframe tbody tr th {\n",
       "        vertical-align: top;\n",
       "    }\n",
       "\n",
       "    .dataframe thead th {\n",
       "        text-align: right;\n",
       "    }\n",
       "</style>\n",
       "<table border=\"1\" class=\"dataframe\">\n",
       "  <thead>\n",
       "    <tr style=\"text-align: right;\">\n",
       "      <th></th>\n",
       "      <th>X</th>\n",
       "      <th>Y</th>\n",
       "      <th>W</th>\n",
       "      <th>Z</th>\n",
       "    </tr>\n",
       "  </thead>\n",
       "  <tbody>\n",
       "    <tr>\n",
       "      <th>A</th>\n",
       "      <td>0.167937</td>\n",
       "      <td>-1.196009</td>\n",
       "      <td>1.734942</td>\n",
       "      <td>0.280590</td>\n",
       "    </tr>\n",
       "    <tr>\n",
       "      <th>B</th>\n",
       "      <td>-0.905833</td>\n",
       "      <td>0.911117</td>\n",
       "      <td>0.080163</td>\n",
       "      <td>-0.132000</td>\n",
       "    </tr>\n",
       "    <tr>\n",
       "      <th>C</th>\n",
       "      <td>1.187853</td>\n",
       "      <td>1.465838</td>\n",
       "      <td>0.346322</td>\n",
       "      <td>0.521871</td>\n",
       "    </tr>\n",
       "    <tr>\n",
       "      <th>D</th>\n",
       "      <td>-1.349993</td>\n",
       "      <td>0.663103</td>\n",
       "      <td>0.827948</td>\n",
       "      <td>0.055366</td>\n",
       "    </tr>\n",
       "    <tr>\n",
       "      <th>E</th>\n",
       "      <td>-0.355199</td>\n",
       "      <td>0.742799</td>\n",
       "      <td>0.341585</td>\n",
       "      <td>0.633042</td>\n",
       "    </tr>\n",
       "  </tbody>\n",
       "</table>\n",
       "</div>"
      ],
      "text/plain": [
       "          X         Y         W         Z\n",
       "A  0.167937 -1.196009  1.734942  0.280590\n",
       "B -0.905833  0.911117  0.080163 -0.132000\n",
       "C  1.187853  1.465838  0.346322  0.521871\n",
       "D -1.349993  0.663103  0.827948  0.055366\n",
       "E -0.355199  0.742799  0.341585  0.633042"
      ]
     },
     "execution_count": 7,
     "metadata": {},
     "output_type": "execute_result"
    }
   ],
   "source": [
    "df"
   ]
  },
  {
   "cell_type": "code",
   "execution_count": 8,
   "id": "963e1f53-ec1c-4a91-9953-2c6484d47539",
   "metadata": {},
   "outputs": [
    {
     "data": {
      "text/plain": [
       "pandas.core.frame.DataFrame"
      ]
     },
     "execution_count": 8,
     "metadata": {},
     "output_type": "execute_result"
    }
   ],
   "source": [
    "type(df)"
   ]
  },
  {
   "cell_type": "markdown",
   "id": "4c1bc247-0d0f-4f7c-9042-8de4e10ab936",
   "metadata": {},
   "source": [
    "### Criando uma nova coluna."
   ]
  },
  {
   "cell_type": "code",
   "execution_count": 9,
   "id": "0334877b-c846-4c11-8010-d679f19728b5",
   "metadata": {},
   "outputs": [
    {
     "data": {
      "text/html": [
       "<div>\n",
       "<style scoped>\n",
       "    .dataframe tbody tr th:only-of-type {\n",
       "        vertical-align: middle;\n",
       "    }\n",
       "\n",
       "    .dataframe tbody tr th {\n",
       "        vertical-align: top;\n",
       "    }\n",
       "\n",
       "    .dataframe thead th {\n",
       "        text-align: right;\n",
       "    }\n",
       "</style>\n",
       "<table border=\"1\" class=\"dataframe\">\n",
       "  <thead>\n",
       "    <tr style=\"text-align: right;\">\n",
       "      <th></th>\n",
       "      <th>X</th>\n",
       "      <th>Y</th>\n",
       "      <th>W</th>\n",
       "      <th>Z</th>\n",
       "      <th>J</th>\n",
       "    </tr>\n",
       "  </thead>\n",
       "  <tbody>\n",
       "    <tr>\n",
       "      <th>A</th>\n",
       "      <td>0.167937</td>\n",
       "      <td>-1.196009</td>\n",
       "      <td>1.734942</td>\n",
       "      <td>0.280590</td>\n",
       "      <td>2.554465</td>\n",
       "    </tr>\n",
       "    <tr>\n",
       "      <th>B</th>\n",
       "      <td>-0.905833</td>\n",
       "      <td>0.911117</td>\n",
       "      <td>0.080163</td>\n",
       "      <td>-0.132000</td>\n",
       "      <td>0.939443</td>\n",
       "    </tr>\n",
       "    <tr>\n",
       "      <th>C</th>\n",
       "      <td>1.187853</td>\n",
       "      <td>1.465838</td>\n",
       "      <td>0.346322</td>\n",
       "      <td>0.521871</td>\n",
       "      <td>2.680352</td>\n",
       "    </tr>\n",
       "    <tr>\n",
       "      <th>D</th>\n",
       "      <td>-1.349993</td>\n",
       "      <td>0.663103</td>\n",
       "      <td>0.827948</td>\n",
       "      <td>0.055366</td>\n",
       "      <td>2.374364</td>\n",
       "    </tr>\n",
       "    <tr>\n",
       "      <th>E</th>\n",
       "      <td>-0.355199</td>\n",
       "      <td>0.742799</td>\n",
       "      <td>0.341585</td>\n",
       "      <td>0.633042</td>\n",
       "      <td>2.059011</td>\n",
       "    </tr>\n",
       "  </tbody>\n",
       "</table>\n",
       "</div>"
      ],
      "text/plain": [
       "          X         Y         W         Z         J\n",
       "A  0.167937 -1.196009  1.734942  0.280590  2.554465\n",
       "B -0.905833  0.911117  0.080163 -0.132000  0.939443\n",
       "C  1.187853  1.465838  0.346322  0.521871  2.680352\n",
       "D -1.349993  0.663103  0.827948  0.055366  2.374364\n",
       "E -0.355199  0.742799  0.341585  0.633042  2.059011"
      ]
     },
     "execution_count": 9,
     "metadata": {},
     "output_type": "execute_result"
    }
   ],
   "source": [
    "df['J'] = df['W'] + df['Y'] + df['W'] + df['Z']\n",
    "df"
   ]
  },
  {
   "cell_type": "markdown",
   "id": "6c2ddf61-eaa4-4db9-90de-f7c1be80ab5e",
   "metadata": {},
   "source": [
    "### Apagando a coluna."
   ]
  },
  {
   "cell_type": "code",
   "execution_count": 10,
   "id": "e6af40c6-b1a5-4578-9f7c-97781bc0a5c9",
   "metadata": {},
   "outputs": [
    {
     "data": {
      "text/html": [
       "<div>\n",
       "<style scoped>\n",
       "    .dataframe tbody tr th:only-of-type {\n",
       "        vertical-align: middle;\n",
       "    }\n",
       "\n",
       "    .dataframe tbody tr th {\n",
       "        vertical-align: top;\n",
       "    }\n",
       "\n",
       "    .dataframe thead th {\n",
       "        text-align: right;\n",
       "    }\n",
       "</style>\n",
       "<table border=\"1\" class=\"dataframe\">\n",
       "  <thead>\n",
       "    <tr style=\"text-align: right;\">\n",
       "      <th></th>\n",
       "      <th>X</th>\n",
       "      <th>Y</th>\n",
       "      <th>Z</th>\n",
       "      <th>J</th>\n",
       "    </tr>\n",
       "  </thead>\n",
       "  <tbody>\n",
       "    <tr>\n",
       "      <th>A</th>\n",
       "      <td>0.167937</td>\n",
       "      <td>-1.196009</td>\n",
       "      <td>0.280590</td>\n",
       "      <td>2.554465</td>\n",
       "    </tr>\n",
       "    <tr>\n",
       "      <th>B</th>\n",
       "      <td>-0.905833</td>\n",
       "      <td>0.911117</td>\n",
       "      <td>-0.132000</td>\n",
       "      <td>0.939443</td>\n",
       "    </tr>\n",
       "    <tr>\n",
       "      <th>C</th>\n",
       "      <td>1.187853</td>\n",
       "      <td>1.465838</td>\n",
       "      <td>0.521871</td>\n",
       "      <td>2.680352</td>\n",
       "    </tr>\n",
       "    <tr>\n",
       "      <th>D</th>\n",
       "      <td>-1.349993</td>\n",
       "      <td>0.663103</td>\n",
       "      <td>0.055366</td>\n",
       "      <td>2.374364</td>\n",
       "    </tr>\n",
       "    <tr>\n",
       "      <th>E</th>\n",
       "      <td>-0.355199</td>\n",
       "      <td>0.742799</td>\n",
       "      <td>0.633042</td>\n",
       "      <td>2.059011</td>\n",
       "    </tr>\n",
       "  </tbody>\n",
       "</table>\n",
       "</div>"
      ],
      "text/plain": [
       "          X         Y         Z         J\n",
       "A  0.167937 -1.196009  0.280590  2.554465\n",
       "B -0.905833  0.911117 -0.132000  0.939443\n",
       "C  1.187853  1.465838  0.521871  2.680352\n",
       "D -1.349993  0.663103  0.055366  2.374364\n",
       "E -0.355199  0.742799  0.633042  2.059011"
      ]
     },
     "execution_count": 10,
     "metadata": {},
     "output_type": "execute_result"
    }
   ],
   "source": [
    "df = df.drop('W', axis=1)\n",
    "df"
   ]
  },
  {
   "cell_type": "code",
   "execution_count": 11,
   "id": "e56b5be5-2878-43d0-9509-6770c74e0421",
   "metadata": {},
   "outputs": [
    {
     "data": {
      "text/html": [
       "<div>\n",
       "<style scoped>\n",
       "    .dataframe tbody tr th:only-of-type {\n",
       "        vertical-align: middle;\n",
       "    }\n",
       "\n",
       "    .dataframe tbody tr th {\n",
       "        vertical-align: top;\n",
       "    }\n",
       "\n",
       "    .dataframe thead th {\n",
       "        text-align: right;\n",
       "    }\n",
       "</style>\n",
       "<table border=\"1\" class=\"dataframe\">\n",
       "  <thead>\n",
       "    <tr style=\"text-align: right;\">\n",
       "      <th></th>\n",
       "      <th>X</th>\n",
       "      <th>Y</th>\n",
       "      <th>Z</th>\n",
       "      <th>J</th>\n",
       "    </tr>\n",
       "  </thead>\n",
       "  <tbody>\n",
       "    <tr>\n",
       "      <th>A</th>\n",
       "      <td>0.167937</td>\n",
       "      <td>-1.196009</td>\n",
       "      <td>0.280590</td>\n",
       "      <td>2.554465</td>\n",
       "    </tr>\n",
       "    <tr>\n",
       "      <th>B</th>\n",
       "      <td>-0.905833</td>\n",
       "      <td>0.911117</td>\n",
       "      <td>-0.132000</td>\n",
       "      <td>0.939443</td>\n",
       "    </tr>\n",
       "    <tr>\n",
       "      <th>C</th>\n",
       "      <td>1.187853</td>\n",
       "      <td>1.465838</td>\n",
       "      <td>0.521871</td>\n",
       "      <td>2.680352</td>\n",
       "    </tr>\n",
       "    <tr>\n",
       "      <th>D</th>\n",
       "      <td>-1.349993</td>\n",
       "      <td>0.663103</td>\n",
       "      <td>0.055366</td>\n",
       "      <td>2.374364</td>\n",
       "    </tr>\n",
       "    <tr>\n",
       "      <th>E</th>\n",
       "      <td>-0.355199</td>\n",
       "      <td>0.742799</td>\n",
       "      <td>0.633042</td>\n",
       "      <td>2.059011</td>\n",
       "    </tr>\n",
       "  </tbody>\n",
       "</table>\n",
       "</div>"
      ],
      "text/plain": [
       "          X         Y         Z         J\n",
       "A  0.167937 -1.196009  0.280590  2.554465\n",
       "B -0.905833  0.911117 -0.132000  0.939443\n",
       "C  1.187853  1.465838  0.521871  2.680352\n",
       "D -1.349993  0.663103  0.055366  2.374364\n",
       "E -0.355199  0.742799  0.633042  2.059011"
      ]
     },
     "execution_count": 11,
     "metadata": {},
     "output_type": "execute_result"
    }
   ],
   "source": [
    "df"
   ]
  },
  {
   "cell_type": "code",
   "execution_count": 12,
   "id": "667fe781-35a5-43b0-8d28-7f0f652098be",
   "metadata": {},
   "outputs": [
    {
     "data": {
      "text/html": [
       "<div>\n",
       "<style scoped>\n",
       "    .dataframe tbody tr th:only-of-type {\n",
       "        vertical-align: middle;\n",
       "    }\n",
       "\n",
       "    .dataframe tbody tr th {\n",
       "        vertical-align: top;\n",
       "    }\n",
       "\n",
       "    .dataframe thead th {\n",
       "        text-align: right;\n",
       "    }\n",
       "</style>\n",
       "<table border=\"1\" class=\"dataframe\">\n",
       "  <thead>\n",
       "    <tr style=\"text-align: right;\">\n",
       "      <th></th>\n",
       "      <th>Jefferson</th>\n",
       "      <th>Robert</th>\n",
       "      <th>Pedro Bruno</th>\n",
       "    </tr>\n",
       "  </thead>\n",
       "  <tbody>\n",
       "    <tr>\n",
       "      <th>notas</th>\n",
       "      <td>NaN</td>\n",
       "      <td>NaN</td>\n",
       "      <td>NaN</td>\n",
       "    </tr>\n",
       "    <tr>\n",
       "      <th>notas</th>\n",
       "      <td>NaN</td>\n",
       "      <td>NaN</td>\n",
       "      <td>NaN</td>\n",
       "    </tr>\n",
       "    <tr>\n",
       "      <th>notas</th>\n",
       "      <td>NaN</td>\n",
       "      <td>NaN</td>\n",
       "      <td>NaN</td>\n",
       "    </tr>\n",
       "  </tbody>\n",
       "</table>\n",
       "</div>"
      ],
      "text/plain": [
       "      Jefferson Robert Pedro Bruno\n",
       "notas       NaN    NaN         NaN\n",
       "notas       NaN    NaN         NaN\n",
       "notas       NaN    NaN         NaN"
      ]
     },
     "execution_count": 12,
     "metadata": {},
     "output_type": "execute_result"
    }
   ],
   "source": [
    "from random import randint as rd\n",
    "nomes = ['Jefferson', 'Robert', 'Pedro Bruno']\n",
    "notas = 'notas '*3\n",
    "\n",
    "\n",
    "x = notas.split()\n",
    "\n",
    "\n",
    "tb = pd.DataFrame(index=x, columns=nomes)\n",
    "tb"
   ]
  },
  {
   "cell_type": "code",
   "execution_count": 14,
   "id": "7cefec42-fa30-4273-880d-5e8861d64ccf",
   "metadata": {},
   "outputs": [
    {
     "data": {
      "text/plain": [
       "notas    NaN\n",
       "notas    NaN\n",
       "notas    NaN\n",
       "Name: Jefferson, dtype: object"
      ]
     },
     "execution_count": 14,
     "metadata": {},
     "output_type": "execute_result"
    }
   ],
   "source": [
    "tb['Jefferson']"
   ]
  },
  {
   "cell_type": "code",
   "execution_count": null,
   "id": "5d79c78c-39e8-4741-a60d-621fc11c342e",
   "metadata": {},
   "outputs": [],
   "source": [
    "\n"
   ]
  }
 ],
 "metadata": {
  "kernelspec": {
   "display_name": "Python 3 (ipykernel)",
   "language": "python",
   "name": "python3"
  },
  "language_info": {
   "codemirror_mode": {
    "name": "ipython",
    "version": 3
   },
   "file_extension": ".py",
   "mimetype": "text/x-python",
   "name": "python",
   "nbconvert_exporter": "python",
   "pygments_lexer": "ipython3",
   "version": "3.9.12"
  }
 },
 "nbformat": 4,
 "nbformat_minor": 5
}
