{
 "cells": [
  {
   "cell_type": "markdown",
   "id": "b1b622c6-5ca1-425d-9587-6f6d2d7b34ca",
   "metadata": {},
   "source": [
    "## Criando uma tabela para trabalhar com os índices"
   ]
  },
  {
   "cell_type": "code",
   "execution_count": 2,
   "id": "21f8079b-1882-4404-93ac-2c0c783a4ffe",
   "metadata": {},
   "outputs": [
    {
     "data": {
      "text/html": [
       "<div>\n",
       "<style scoped>\n",
       "    .dataframe tbody tr th:only-of-type {\n",
       "        vertical-align: middle;\n",
       "    }\n",
       "\n",
       "    .dataframe tbody tr th {\n",
       "        vertical-align: top;\n",
       "    }\n",
       "\n",
       "    .dataframe thead th {\n",
       "        text-align: right;\n",
       "    }\n",
       "</style>\n",
       "<table border=\"1\" class=\"dataframe\">\n",
       "  <thead>\n",
       "    <tr style=\"text-align: right;\">\n",
       "      <th></th>\n",
       "      <th>c</th>\n",
       "      <th>d</th>\n",
       "    </tr>\n",
       "  </thead>\n",
       "  <tbody>\n",
       "    <tr>\n",
       "      <th>jefferson</th>\n",
       "      <td>1.072546</td>\n",
       "      <td>-0.290672</td>\n",
       "    </tr>\n",
       "    <tr>\n",
       "      <th>e</th>\n",
       "      <td>0.429802</td>\n",
       "      <td>-0.448339</td>\n",
       "    </tr>\n",
       "    <tr>\n",
       "      <th>Rayssa</th>\n",
       "      <td>1.226290</td>\n",
       "      <td>1.078473</td>\n",
       "    </tr>\n",
       "  </tbody>\n",
       "</table>\n",
       "</div>"
      ],
      "text/plain": [
       "                  c         d\n",
       "jefferson  1.072546 -0.290672\n",
       "e          0.429802 -0.448339\n",
       "Rayssa     1.226290  1.078473"
      ]
     },
     "execution_count": 2,
     "metadata": {},
     "output_type": "execute_result"
    }
   ],
   "source": [
    "from random import randint as rd\n",
    "from numpy.random import randn\n",
    "import pandas as pd\n",
    "\n",
    "tabela = pd.DataFrame(randn(3,2), index='jefferson e Rayssa'.split(), columns=['c','d'])\n",
    "tabela"
   ]
  },
  {
   "cell_type": "markdown",
   "id": "83544738-4148-4863-8c91-b542d3a1d62c",
   "metadata": {},
   "source": [
    "### Usando tabela.index para crinar índeces na tabela"
   ]
  },
  {
   "cell_type": "code",
   "execution_count": 4,
   "id": "771dd1bd-5052-4f8c-8317-0581cf2a9a7c",
   "metadata": {},
   "outputs": [
    {
     "data": {
      "text/html": [
       "<div>\n",
       "<style scoped>\n",
       "    .dataframe tbody tr th:only-of-type {\n",
       "        vertical-align: middle;\n",
       "    }\n",
       "\n",
       "    .dataframe tbody tr th {\n",
       "        vertical-align: top;\n",
       "    }\n",
       "\n",
       "    .dataframe thead th {\n",
       "        text-align: right;\n",
       "    }\n",
       "</style>\n",
       "<table border=\"1\" class=\"dataframe\">\n",
       "  <thead>\n",
       "    <tr style=\"text-align: right;\">\n",
       "      <th></th>\n",
       "      <th>c</th>\n",
       "      <th>d</th>\n",
       "    </tr>\n",
       "  </thead>\n",
       "  <tbody>\n",
       "    <tr>\n",
       "      <th>jefferson</th>\n",
       "      <td>1.072546</td>\n",
       "      <td>-0.290672</td>\n",
       "    </tr>\n",
       "    <tr>\n",
       "      <th>e</th>\n",
       "      <td>0.429802</td>\n",
       "      <td>-0.448339</td>\n",
       "    </tr>\n",
       "    <tr>\n",
       "      <th>Rayssa</th>\n",
       "      <td>1.226290</td>\n",
       "      <td>1.078473</td>\n",
       "    </tr>\n",
       "  </tbody>\n",
       "</table>\n",
       "</div>"
      ],
      "text/plain": [
       "                  c         d\n",
       "jefferson  1.072546 -0.290672\n",
       "e          0.429802 -0.448339\n",
       "Rayssa     1.226290  1.078473"
      ]
     },
     "execution_count": 4,
     "metadata": {},
     "output_type": "execute_result"
    }
   ],
   "source": [
    "tabela"
   ]
  },
  {
   "cell_type": "code",
   "execution_count": 7,
   "id": "57bf947c-0cc7-45ac-b656-eb28810f96f4",
   "metadata": {},
   "outputs": [
    {
     "data": {
      "text/plain": [
       "Index(['jefferson', 'e', 'Rayssa'], dtype='object')"
      ]
     },
     "execution_count": 7,
     "metadata": {},
     "output_type": "execute_result"
    }
   ],
   "source": [
    "tabela.index"
   ]
  },
  {
   "cell_type": "code",
   "execution_count": 8,
   "id": "6ee85284-9aef-41e7-b882-c579bbc4a00f",
   "metadata": {},
   "outputs": [
    {
     "data": {
      "text/plain": [
       "Index(['c', 'd'], dtype='object')"
      ]
     },
     "execution_count": 8,
     "metadata": {},
     "output_type": "execute_result"
    }
   ],
   "source": [
    "tabela.columns"
   ]
  },
  {
   "cell_type": "code",
   "execution_count": 9,
   "id": "2d66abc1-aa66-4311-a4b7-efca7ca236d6",
   "metadata": {},
   "outputs": [
    {
     "data": {
      "text/html": [
       "<div>\n",
       "<style scoped>\n",
       "    .dataframe tbody tr th:only-of-type {\n",
       "        vertical-align: middle;\n",
       "    }\n",
       "\n",
       "    .dataframe tbody tr th {\n",
       "        vertical-align: top;\n",
       "    }\n",
       "\n",
       "    .dataframe thead th {\n",
       "        text-align: right;\n",
       "    }\n",
       "</style>\n",
       "<table border=\"1\" class=\"dataframe\">\n",
       "  <thead>\n",
       "    <tr style=\"text-align: right;\">\n",
       "      <th></th>\n",
       "      <th>index</th>\n",
       "      <th>c</th>\n",
       "      <th>d</th>\n",
       "    </tr>\n",
       "  </thead>\n",
       "  <tbody>\n",
       "    <tr>\n",
       "      <th>0</th>\n",
       "      <td>jefferson</td>\n",
       "      <td>1.072546</td>\n",
       "      <td>-0.290672</td>\n",
       "    </tr>\n",
       "    <tr>\n",
       "      <th>1</th>\n",
       "      <td>e</td>\n",
       "      <td>0.429802</td>\n",
       "      <td>-0.448339</td>\n",
       "    </tr>\n",
       "    <tr>\n",
       "      <th>2</th>\n",
       "      <td>Rayssa</td>\n",
       "      <td>1.226290</td>\n",
       "      <td>1.078473</td>\n",
       "    </tr>\n",
       "  </tbody>\n",
       "</table>\n",
       "</div>"
      ],
      "text/plain": [
       "       index         c         d\n",
       "0  jefferson  1.072546 -0.290672\n",
       "1          e  0.429802 -0.448339\n",
       "2     Rayssa  1.226290  1.078473"
      ]
     },
     "execution_count": 9,
     "metadata": {},
     "output_type": "execute_result"
    }
   ],
   "source": [
    "tabela.reset_index()"
   ]
  }
 ],
 "metadata": {
  "kernelspec": {
   "display_name": "Python 3 (ipykernel)",
   "language": "python",
   "name": "python3"
  },
  "language_info": {
   "codemirror_mode": {
    "name": "ipython",
    "version": 3
   },
   "file_extension": ".py",
   "mimetype": "text/x-python",
   "name": "python",
   "nbconvert_exporter": "python",
   "pygments_lexer": "ipython3",
   "version": "3.9.12"
  }
 },
 "nbformat": 4,
 "nbformat_minor": 5
}
