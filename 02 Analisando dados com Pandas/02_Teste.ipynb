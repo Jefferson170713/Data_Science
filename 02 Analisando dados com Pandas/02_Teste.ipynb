{
 "cells": [
  {
   "cell_type": "markdown",
   "id": "9f0a3d1a-4864-4b7e-88a7-da14e1759843",
   "metadata": {},
   "source": [
    "# Teste\n",
    "    Neste teste vou usar duas bibliotecas do python.\n",
    "       - Como podemos ver com o método do randInt, não é possível criar valores em cada local das variáveis da nossa tabela.\n",
    "       - Vamos tentar agora com outra biblioteca chamada numpy"
   ]
  },
  {
   "cell_type": "code",
   "execution_count": 113,
   "id": "4c6bc60c-d0f7-4ae0-806b-758b407803ba",
   "metadata": {},
   "outputs": [
    {
     "data": {
      "text/html": [
       "<div>\n",
       "<style scoped>\n",
       "    .dataframe tbody tr th:only-of-type {\n",
       "        vertical-align: middle;\n",
       "    }\n",
       "\n",
       "    .dataframe tbody tr th {\n",
       "        vertical-align: top;\n",
       "    }\n",
       "\n",
       "    .dataframe thead th {\n",
       "        text-align: right;\n",
       "    }\n",
       "</style>\n",
       "<table border=\"1\" class=\"dataframe\">\n",
       "  <thead>\n",
       "    <tr style=\"text-align: right;\">\n",
       "      <th></th>\n",
       "      <th>c</th>\n",
       "      <th>d</th>\n",
       "    </tr>\n",
       "  </thead>\n",
       "  <tbody>\n",
       "    <tr>\n",
       "      <th>jefferson</th>\n",
       "      <td>79</td>\n",
       "      <td>79</td>\n",
       "    </tr>\n",
       "    <tr>\n",
       "      <th>e</th>\n",
       "      <td>79</td>\n",
       "      <td>79</td>\n",
       "    </tr>\n",
       "    <tr>\n",
       "      <th>Rayssa</th>\n",
       "      <td>79</td>\n",
       "      <td>79</td>\n",
       "    </tr>\n",
       "  </tbody>\n",
       "</table>\n",
       "</div>"
      ],
      "text/plain": [
       "            c   d\n",
       "jefferson  79  79\n",
       "e          79  79\n",
       "Rayssa     79  79"
      ]
     },
     "execution_count": 113,
     "metadata": {},
     "output_type": "execute_result"
    }
   ],
   "source": [
    "from random import randint as rd\n",
    "import pandas as pd\n",
    "\n",
    "tabela = pd.DataFrame(rd(1, 100), index='jefferson e Rayssa'.split(), columns=['c','d'])\n",
    "tabela"
   ]
  },
  {
   "cell_type": "code",
   "execution_count": 190,
   "id": "6e81e352-d0f5-48e6-8213-174fbda521e4",
   "metadata": {},
   "outputs": [
    {
     "data": {
      "text/html": [
       "<div>\n",
       "<style scoped>\n",
       "    .dataframe tbody tr th:only-of-type {\n",
       "        vertical-align: middle;\n",
       "    }\n",
       "\n",
       "    .dataframe tbody tr th {\n",
       "        vertical-align: top;\n",
       "    }\n",
       "\n",
       "    .dataframe thead th {\n",
       "        text-align: right;\n",
       "    }\n",
       "</style>\n",
       "<table border=\"1\" class=\"dataframe\">\n",
       "  <thead>\n",
       "    <tr style=\"text-align: right;\">\n",
       "      <th></th>\n",
       "      <th>R</th>\n",
       "      <th>A</th>\n",
       "      <th>Y</th>\n",
       "    </tr>\n",
       "  </thead>\n",
       "  <tbody>\n",
       "    <tr>\n",
       "      <th>J</th>\n",
       "      <td>-0.950382</td>\n",
       "      <td>0.912656</td>\n",
       "      <td>-0.395476</td>\n",
       "    </tr>\n",
       "    <tr>\n",
       "      <th>E</th>\n",
       "      <td>0.537982</td>\n",
       "      <td>0.767943</td>\n",
       "      <td>-1.280409</td>\n",
       "    </tr>\n",
       "    <tr>\n",
       "      <th>F</th>\n",
       "      <td>1.216975</td>\n",
       "      <td>0.413674</td>\n",
       "      <td>1.605644</td>\n",
       "    </tr>\n",
       "  </tbody>\n",
       "</table>\n",
       "</div>"
      ],
      "text/plain": [
       "          R         A         Y\n",
       "J -0.950382  0.912656 -0.395476\n",
       "E  0.537982  0.767943 -1.280409\n",
       "F  1.216975  0.413674  1.605644"
      ]
     },
     "execution_count": 190,
     "metadata": {},
     "output_type": "execute_result"
    }
   ],
   "source": [
    "from numpy.random import randn\n",
    "\n",
    "tba = pd.DataFrame(randn(3, 3) , index='J E F E R'.split(), columns=' R A Y S A'.split())\n",
    "tba"
   ]
  },
  {
   "cell_type": "code",
   "execution_count": 154,
   "id": "4e204e71-8a5f-41c9-a15c-7cdcca2ada40",
   "metadata": {},
   "outputs": [
    {
     "data": {
      "text/plain": [
       "J    1.033996\n",
       "E   -0.867845\n",
       "F   -0.461852\n",
       "Name: R, dtype: float64"
      ]
     },
     "execution_count": 154,
     "metadata": {},
     "output_type": "execute_result"
    }
   ],
   "source": [
    "tba[\"R\"]\n"
   ]
  },
  {
   "cell_type": "code",
   "execution_count": 155,
   "id": "c5c66ad3-d65e-4e14-8389-e26d9dc35f94",
   "metadata": {},
   "outputs": [
    {
     "data": {
      "text/html": [
       "<div>\n",
       "<style scoped>\n",
       "    .dataframe tbody tr th:only-of-type {\n",
       "        vertical-align: middle;\n",
       "    }\n",
       "\n",
       "    .dataframe tbody tr th {\n",
       "        vertical-align: top;\n",
       "    }\n",
       "\n",
       "    .dataframe thead th {\n",
       "        text-align: right;\n",
       "    }\n",
       "</style>\n",
       "<table border=\"1\" class=\"dataframe\">\n",
       "  <thead>\n",
       "    <tr style=\"text-align: right;\">\n",
       "      <th></th>\n",
       "      <th>R</th>\n",
       "    </tr>\n",
       "  </thead>\n",
       "  <tbody>\n",
       "    <tr>\n",
       "      <th>J</th>\n",
       "      <td>1.033996</td>\n",
       "    </tr>\n",
       "    <tr>\n",
       "      <th>E</th>\n",
       "      <td>-0.867845</td>\n",
       "    </tr>\n",
       "    <tr>\n",
       "      <th>F</th>\n",
       "      <td>-0.461852</td>\n",
       "    </tr>\n",
       "  </tbody>\n",
       "</table>\n",
       "</div>"
      ],
      "text/plain": [
       "          R\n",
       "J  1.033996\n",
       "E -0.867845\n",
       "F -0.461852"
      ]
     },
     "execution_count": 155,
     "metadata": {},
     "output_type": "execute_result"
    }
   ],
   "source": [
    "tba[['R']]"
   ]
  },
  {
   "cell_type": "markdown",
   "id": "574f9faa-99f4-4050-a48b-2783691a546f",
   "metadata": {},
   "source": [
    "### criando uma nova coluna.\n",
    "    Podemos ver que estamos somando os valores de duas outras colunas e multiplicando por 100.\n",
    "        -Detalhe importante, por enquato, neste modelo e método eu só consigo acessar as colunas, não as linhas.\n",
    "        "
   ]
  },
  {
   "cell_type": "code",
   "execution_count": 191,
   "id": "3c0ec1fc-dd59-4583-9daf-bc6d4917b68f",
   "metadata": {},
   "outputs": [
    {
     "data": {
      "text/html": [
       "<div>\n",
       "<style scoped>\n",
       "    .dataframe tbody tr th:only-of-type {\n",
       "        vertical-align: middle;\n",
       "    }\n",
       "\n",
       "    .dataframe tbody tr th {\n",
       "        vertical-align: top;\n",
       "    }\n",
       "\n",
       "    .dataframe thead th {\n",
       "        text-align: right;\n",
       "    }\n",
       "</style>\n",
       "<table border=\"1\" class=\"dataframe\">\n",
       "  <thead>\n",
       "    <tr style=\"text-align: right;\">\n",
       "      <th></th>\n",
       "      <th>R</th>\n",
       "      <th>A</th>\n",
       "      <th>Y</th>\n",
       "      <th>RAY e JEF</th>\n",
       "    </tr>\n",
       "  </thead>\n",
       "  <tbody>\n",
       "    <tr>\n",
       "      <th>J</th>\n",
       "      <td>-0.950382</td>\n",
       "      <td>0.912656</td>\n",
       "      <td>-0.395476</td>\n",
       "      <td>-1.345859</td>\n",
       "    </tr>\n",
       "    <tr>\n",
       "      <th>E</th>\n",
       "      <td>0.537982</td>\n",
       "      <td>0.767943</td>\n",
       "      <td>-1.280409</td>\n",
       "      <td>-0.742427</td>\n",
       "    </tr>\n",
       "    <tr>\n",
       "      <th>F</th>\n",
       "      <td>1.216975</td>\n",
       "      <td>0.413674</td>\n",
       "      <td>1.605644</td>\n",
       "      <td>2.822619</td>\n",
       "    </tr>\n",
       "  </tbody>\n",
       "</table>\n",
       "</div>"
      ],
      "text/plain": [
       "          R         A         Y  RAY e JEF\n",
       "J -0.950382  0.912656 -0.395476  -1.345859\n",
       "E  0.537982  0.767943 -1.280409  -0.742427\n",
       "F  1.216975  0.413674  1.605644   2.822619"
      ]
     },
     "execution_count": 191,
     "metadata": {},
     "output_type": "execute_result"
    }
   ],
   "source": [
    "tba['RAY e JEF'] = (tba['R'] + tba['Y'])\n",
    "tba\n"
   ]
  },
  {
   "cell_type": "code",
   "execution_count": 192,
   "id": "817424d2-a806-469e-b0cf-5afb9ab0c343",
   "metadata": {},
   "outputs": [
    {
     "data": {
      "text/html": [
       "<div>\n",
       "<style scoped>\n",
       "    .dataframe tbody tr th:only-of-type {\n",
       "        vertical-align: middle;\n",
       "    }\n",
       "\n",
       "    .dataframe tbody tr th {\n",
       "        vertical-align: top;\n",
       "    }\n",
       "\n",
       "    .dataframe thead th {\n",
       "        text-align: right;\n",
       "    }\n",
       "</style>\n",
       "<table border=\"1\" class=\"dataframe\">\n",
       "  <thead>\n",
       "    <tr style=\"text-align: right;\">\n",
       "      <th></th>\n",
       "      <th>R</th>\n",
       "      <th>A</th>\n",
       "      <th>Y</th>\n",
       "      <th>RAY e JEF</th>\n",
       "      <th>Rock Babinha</th>\n",
       "      <th>Cabeção</th>\n",
       "    </tr>\n",
       "  </thead>\n",
       "  <tbody>\n",
       "    <tr>\n",
       "      <th>J</th>\n",
       "      <td>-0.950382</td>\n",
       "      <td>0.912656</td>\n",
       "      <td>-0.395476</td>\n",
       "      <td>-1.345859</td>\n",
       "      <td>-0.950382</td>\n",
       "      <td>0.912656</td>\n",
       "    </tr>\n",
       "    <tr>\n",
       "      <th>E</th>\n",
       "      <td>0.537982</td>\n",
       "      <td>0.767943</td>\n",
       "      <td>-1.280409</td>\n",
       "      <td>-0.742427</td>\n",
       "      <td>0.537982</td>\n",
       "      <td>0.767943</td>\n",
       "    </tr>\n",
       "    <tr>\n",
       "      <th>F</th>\n",
       "      <td>1.216975</td>\n",
       "      <td>0.413674</td>\n",
       "      <td>1.605644</td>\n",
       "      <td>2.822619</td>\n",
       "      <td>1.216975</td>\n",
       "      <td>0.413674</td>\n",
       "    </tr>\n",
       "  </tbody>\n",
       "</table>\n",
       "</div>"
      ],
      "text/plain": [
       "          R         A         Y  RAY e JEF  Rock Babinha   Cabeção\n",
       "J -0.950382  0.912656 -0.395476  -1.345859     -0.950382  0.912656\n",
       "E  0.537982  0.767943 -1.280409  -0.742427      0.537982  0.767943\n",
       "F  1.216975  0.413674  1.605644   2.822619      1.216975  0.413674"
      ]
     },
     "execution_count": 192,
     "metadata": {},
     "output_type": "execute_result"
    }
   ],
   "source": [
    "tba['Rock Babinha'] = tba[\"R\"]\n",
    "tba['Cabeção'] = tba['A']\n",
    "tba"
   ]
  },
  {
   "cell_type": "markdown",
   "id": "9785c8a6-cf34-42f5-9130-e0cf5c6e91fc",
   "metadata": {},
   "source": [
    "## Apagando colunas e linhas\n",
    "    Usando o  axis. \n",
    "        Este axis pode ter dois valores, 0 ou 1.\n",
    "        1 - Corresponde as colunas.\n",
    "        0 - Corresponde as linhas.\n",
    "        Posso uusar o comando del ou o comando Drop().\n"
   ]
  },
  {
   "cell_type": "code",
   "execution_count": 179,
   "id": "53cecdb0-8df4-4144-8e10-12272fb8b0df",
   "metadata": {},
   "outputs": [
    {
     "data": {
      "text/html": [
       "<div>\n",
       "<style scoped>\n",
       "    .dataframe tbody tr th:only-of-type {\n",
       "        vertical-align: middle;\n",
       "    }\n",
       "\n",
       "    .dataframe tbody tr th {\n",
       "        vertical-align: top;\n",
       "    }\n",
       "\n",
       "    .dataframe thead th {\n",
       "        text-align: right;\n",
       "    }\n",
       "</style>\n",
       "<table border=\"1\" class=\"dataframe\">\n",
       "  <thead>\n",
       "    <tr style=\"text-align: right;\">\n",
       "      <th></th>\n",
       "      <th>R</th>\n",
       "      <th>A</th>\n",
       "      <th>Y</th>\n",
       "      <th>RAY e JEF</th>\n",
       "      <th>Rock Babinha</th>\n",
       "    </tr>\n",
       "  </thead>\n",
       "  <tbody>\n",
       "    <tr>\n",
       "      <th>J</th>\n",
       "      <td>2.058578</td>\n",
       "      <td>0.964787</td>\n",
       "      <td>-0.046469</td>\n",
       "      <td>2.012108</td>\n",
       "      <td>2.058578</td>\n",
       "    </tr>\n",
       "    <tr>\n",
       "      <th>E</th>\n",
       "      <td>-1.302259</td>\n",
       "      <td>-0.696762</td>\n",
       "      <td>-0.782070</td>\n",
       "      <td>-2.084330</td>\n",
       "      <td>-1.302259</td>\n",
       "    </tr>\n",
       "    <tr>\n",
       "      <th>F</th>\n",
       "      <td>0.373775</td>\n",
       "      <td>-0.862057</td>\n",
       "      <td>-0.523332</td>\n",
       "      <td>-0.149557</td>\n",
       "      <td>0.373775</td>\n",
       "    </tr>\n",
       "  </tbody>\n",
       "</table>\n",
       "</div>"
      ],
      "text/plain": [
       "          R         A         Y  RAY e JEF  Rock Babinha\n",
       "J  2.058578  0.964787 -0.046469   2.012108      2.058578\n",
       "E -1.302259 -0.696762 -0.782070  -2.084330     -1.302259\n",
       "F  0.373775 -0.862057 -0.523332  -0.149557      0.373775"
      ]
     },
     "execution_count": 179,
     "metadata": {},
     "output_type": "execute_result"
    }
   ],
   "source": [
    "del tba['Cabeção']\n",
    "tba"
   ]
  },
  {
   "cell_type": "markdown",
   "id": "3b2d7392-5d24-4be8-a7de-e29640d8415e",
   "metadata": {},
   "source": [
    "## Recriaando as coluna."
   ]
  },
  {
   "cell_type": "markdown",
   "id": "7fca3222-30e3-43e2-afcc-526dcd726624",
   "metadata": {},
   "source": [
    "### Recriando a coluna"
   ]
  },
  {
   "cell_type": "code",
   "execution_count": 193,
   "id": "79e9af80-de6f-470e-b725-22b09ca76ac9",
   "metadata": {},
   "outputs": [
    {
     "data": {
      "text/html": [
       "<div>\n",
       "<style scoped>\n",
       "    .dataframe tbody tr th:only-of-type {\n",
       "        vertical-align: middle;\n",
       "    }\n",
       "\n",
       "    .dataframe tbody tr th {\n",
       "        vertical-align: top;\n",
       "    }\n",
       "\n",
       "    .dataframe thead th {\n",
       "        text-align: right;\n",
       "    }\n",
       "</style>\n",
       "<table border=\"1\" class=\"dataframe\">\n",
       "  <thead>\n",
       "    <tr style=\"text-align: right;\">\n",
       "      <th></th>\n",
       "      <th>R</th>\n",
       "      <th>A</th>\n",
       "      <th>Y</th>\n",
       "      <th>RAY e JEF</th>\n",
       "      <th>Rock Babinha</th>\n",
       "      <th>Cabeção</th>\n",
       "    </tr>\n",
       "  </thead>\n",
       "  <tbody>\n",
       "    <tr>\n",
       "      <th>J</th>\n",
       "      <td>-0.950382</td>\n",
       "      <td>0.912656</td>\n",
       "      <td>-0.395476</td>\n",
       "      <td>-1.345859</td>\n",
       "      <td>-0.950382</td>\n",
       "      <td>9.126556</td>\n",
       "    </tr>\n",
       "    <tr>\n",
       "      <th>E</th>\n",
       "      <td>0.537982</td>\n",
       "      <td>0.767943</td>\n",
       "      <td>-1.280409</td>\n",
       "      <td>-0.742427</td>\n",
       "      <td>0.537982</td>\n",
       "      <td>7.679425</td>\n",
       "    </tr>\n",
       "    <tr>\n",
       "      <th>F</th>\n",
       "      <td>1.216975</td>\n",
       "      <td>0.413674</td>\n",
       "      <td>1.605644</td>\n",
       "      <td>2.822619</td>\n",
       "      <td>1.216975</td>\n",
       "      <td>4.136739</td>\n",
       "    </tr>\n",
       "  </tbody>\n",
       "</table>\n",
       "</div>"
      ],
      "text/plain": [
       "          R         A         Y  RAY e JEF  Rock Babinha   Cabeção\n",
       "J -0.950382  0.912656 -0.395476  -1.345859     -0.950382  9.126556\n",
       "E  0.537982  0.767943 -1.280409  -0.742427      0.537982  7.679425\n",
       "F  1.216975  0.413674  1.605644   2.822619      1.216975  4.136739"
      ]
     },
     "execution_count": 193,
     "metadata": {},
     "output_type": "execute_result"
    }
   ],
   "source": [
    "tba['Cabeção'] = tba['A']*10\n",
    "tba"
   ]
  },
  {
   "cell_type": "code",
   "execution_count": 194,
   "id": "eeee6dc6-a0b9-4871-9d67-7b48ea0f4168",
   "metadata": {},
   "outputs": [
    {
     "data": {
      "text/html": [
       "<div>\n",
       "<style scoped>\n",
       "    .dataframe tbody tr th:only-of-type {\n",
       "        vertical-align: middle;\n",
       "    }\n",
       "\n",
       "    .dataframe tbody tr th {\n",
       "        vertical-align: top;\n",
       "    }\n",
       "\n",
       "    .dataframe thead th {\n",
       "        text-align: right;\n",
       "    }\n",
       "</style>\n",
       "<table border=\"1\" class=\"dataframe\">\n",
       "  <thead>\n",
       "    <tr style=\"text-align: right;\">\n",
       "      <th></th>\n",
       "      <th>R</th>\n",
       "      <th>A</th>\n",
       "      <th>Y</th>\n",
       "      <th>RAY e JEF</th>\n",
       "      <th>Rock Babinha</th>\n",
       "    </tr>\n",
       "  </thead>\n",
       "  <tbody>\n",
       "    <tr>\n",
       "      <th>J</th>\n",
       "      <td>-0.950382</td>\n",
       "      <td>0.912656</td>\n",
       "      <td>-0.395476</td>\n",
       "      <td>-1.345859</td>\n",
       "      <td>-0.950382</td>\n",
       "    </tr>\n",
       "    <tr>\n",
       "      <th>E</th>\n",
       "      <td>0.537982</td>\n",
       "      <td>0.767943</td>\n",
       "      <td>-1.280409</td>\n",
       "      <td>-0.742427</td>\n",
       "      <td>0.537982</td>\n",
       "    </tr>\n",
       "    <tr>\n",
       "      <th>F</th>\n",
       "      <td>1.216975</td>\n",
       "      <td>0.413674</td>\n",
       "      <td>1.605644</td>\n",
       "      <td>2.822619</td>\n",
       "      <td>1.216975</td>\n",
       "    </tr>\n",
       "  </tbody>\n",
       "</table>\n",
       "</div>"
      ],
      "text/plain": [
       "          R         A         Y  RAY e JEF  Rock Babinha\n",
       "J -0.950382  0.912656 -0.395476  -1.345859     -0.950382\n",
       "E  0.537982  0.767943 -1.280409  -0.742427      0.537982\n",
       "F  1.216975  0.413674  1.605644   2.822619      1.216975"
      ]
     },
     "execution_count": 194,
     "metadata": {},
     "output_type": "execute_result"
    }
   ],
   "source": [
    "tba.drop('Cabeção', axis=1, inplace=True)\n",
    "tba"
   ]
  },
  {
   "cell_type": "code",
   "execution_count": 195,
   "id": "340ce275-bcbf-4865-a868-545421a16e67",
   "metadata": {},
   "outputs": [
    {
     "data": {
      "text/html": [
       "<div>\n",
       "<style scoped>\n",
       "    .dataframe tbody tr th:only-of-type {\n",
       "        vertical-align: middle;\n",
       "    }\n",
       "\n",
       "    .dataframe tbody tr th {\n",
       "        vertical-align: top;\n",
       "    }\n",
       "\n",
       "    .dataframe thead th {\n",
       "        text-align: right;\n",
       "    }\n",
       "</style>\n",
       "<table border=\"1\" class=\"dataframe\">\n",
       "  <thead>\n",
       "    <tr style=\"text-align: right;\">\n",
       "      <th></th>\n",
       "      <th>R</th>\n",
       "      <th>A</th>\n",
       "      <th>Y</th>\n",
       "      <th>RAY e JEF</th>\n",
       "    </tr>\n",
       "  </thead>\n",
       "  <tbody>\n",
       "    <tr>\n",
       "      <th>J</th>\n",
       "      <td>-0.950382</td>\n",
       "      <td>0.912656</td>\n",
       "      <td>-0.395476</td>\n",
       "      <td>-1.345859</td>\n",
       "    </tr>\n",
       "    <tr>\n",
       "      <th>E</th>\n",
       "      <td>0.537982</td>\n",
       "      <td>0.767943</td>\n",
       "      <td>-1.280409</td>\n",
       "      <td>-0.742427</td>\n",
       "    </tr>\n",
       "    <tr>\n",
       "      <th>F</th>\n",
       "      <td>1.216975</td>\n",
       "      <td>0.413674</td>\n",
       "      <td>1.605644</td>\n",
       "      <td>2.822619</td>\n",
       "    </tr>\n",
       "  </tbody>\n",
       "</table>\n",
       "</div>"
      ],
      "text/plain": [
       "          R         A         Y  RAY e JEF\n",
       "J -0.950382  0.912656 -0.395476  -1.345859\n",
       "E  0.537982  0.767943 -1.280409  -0.742427\n",
       "F  1.216975  0.413674  1.605644   2.822619"
      ]
     },
     "execution_count": 195,
     "metadata": {},
     "output_type": "execute_result"
    }
   ],
   "source": [
    "# Apagabdo e deic=xando somente as colunas originais.\n",
    "tba.drop('Rock Babinha', axis=1, inplace=True)\n",
    "tba"
   ]
  },
  {
   "cell_type": "markdown",
   "id": "cdc4af7b-ca98-4aa7-a8cd-0cafed921241",
   "metadata": {},
   "source": [
    "### Acessando os índecies.\n",
    "    O método usado é loc.\n",
    "        Retorna somente valores selecionados pro mim."
   ]
  },
  {
   "cell_type": "code",
   "execution_count": 209,
   "id": "6ed30fbd-5154-4b6d-bcc5-054cc6056ffc",
   "metadata": {},
   "outputs": [
    {
     "data": {
      "text/html": [
       "<div>\n",
       "<style scoped>\n",
       "    .dataframe tbody tr th:only-of-type {\n",
       "        vertical-align: middle;\n",
       "    }\n",
       "\n",
       "    .dataframe tbody tr th {\n",
       "        vertical-align: top;\n",
       "    }\n",
       "\n",
       "    .dataframe thead th {\n",
       "        text-align: right;\n",
       "    }\n",
       "</style>\n",
       "<table border=\"1\" class=\"dataframe\">\n",
       "  <thead>\n",
       "    <tr style=\"text-align: right;\">\n",
       "      <th></th>\n",
       "      <th>R</th>\n",
       "      <th>Y</th>\n",
       "    </tr>\n",
       "  </thead>\n",
       "  <tbody>\n",
       "    <tr>\n",
       "      <th>J</th>\n",
       "      <td>-0.950382</td>\n",
       "      <td>-0.395476</td>\n",
       "    </tr>\n",
       "    <tr>\n",
       "      <th>F</th>\n",
       "      <td>1.216975</td>\n",
       "      <td>1.605644</td>\n",
       "    </tr>\n",
       "  </tbody>\n",
       "</table>\n",
       "</div>"
      ],
      "text/plain": [
       "          R         Y\n",
       "J -0.950382 -0.395476\n",
       "F  1.216975  1.605644"
      ]
     },
     "execution_count": 209,
     "metadata": {},
     "output_type": "execute_result"
    }
   ],
   "source": [
    "tba.loc[['J', 'F'], ['R','Y']]"
   ]
  },
  {
   "cell_type": "markdown",
   "id": "2117514d-1d15-4415-ad0a-3de029e70571",
   "metadata": {},
   "source": [
    "### Com o método iloc.\n",
    "    Esté um pouco diferente pois nos dar acesso aos índices."
   ]
  },
  {
   "cell_type": "code",
   "execution_count": 213,
   "id": "00093261-6c7f-46f4-a3b6-cd2f88092cf6",
   "metadata": {},
   "outputs": [
    {
     "data": {
      "text/plain": [
       "-1.3458588511313547"
      ]
     },
     "execution_count": 213,
     "metadata": {},
     "output_type": "execute_result"
    }
   ],
   "source": [
    "tba.iloc[0,3]\n"
   ]
  },
  {
   "cell_type": "code",
   "execution_count": 217,
   "id": "15232d42-4cfc-4261-af3b-8d27c83a39ba",
   "metadata": {},
   "outputs": [
    {
     "data": {
      "text/html": [
       "<div>\n",
       "<style scoped>\n",
       "    .dataframe tbody tr th:only-of-type {\n",
       "        vertical-align: middle;\n",
       "    }\n",
       "\n",
       "    .dataframe tbody tr th {\n",
       "        vertical-align: top;\n",
       "    }\n",
       "\n",
       "    .dataframe thead th {\n",
       "        text-align: right;\n",
       "    }\n",
       "</style>\n",
       "<table border=\"1\" class=\"dataframe\">\n",
       "  <thead>\n",
       "    <tr style=\"text-align: right;\">\n",
       "      <th></th>\n",
       "      <th>R</th>\n",
       "      <th>A</th>\n",
       "      <th>Y</th>\n",
       "    </tr>\n",
       "  </thead>\n",
       "  <tbody>\n",
       "    <tr>\n",
       "      <th>J</th>\n",
       "      <td>-0.950382</td>\n",
       "      <td>0.912656</td>\n",
       "      <td>-0.395476</td>\n",
       "    </tr>\n",
       "    <tr>\n",
       "      <th>E</th>\n",
       "      <td>0.537982</td>\n",
       "      <td>0.767943</td>\n",
       "      <td>-1.280409</td>\n",
       "    </tr>\n",
       "    <tr>\n",
       "      <th>F</th>\n",
       "      <td>1.216975</td>\n",
       "      <td>0.413674</td>\n",
       "      <td>1.605644</td>\n",
       "    </tr>\n",
       "  </tbody>\n",
       "</table>\n",
       "</div>"
      ],
      "text/plain": [
       "          R         A         Y\n",
       "J -0.950382  0.912656 -0.395476\n",
       "E  0.537982  0.767943 -1.280409\n",
       "F  1.216975  0.413674  1.605644"
      ]
     },
     "execution_count": 217,
     "metadata": {},
     "output_type": "execute_result"
    }
   ],
   "source": [
    "tba"
   ]
  },
  {
   "cell_type": "markdown",
   "id": "24f08d17-a133-416a-abd0-3e43d28f2557",
   "metadata": {},
   "source": [
    "### Vejamos agora como acessar cada índice."
   ]
  },
  {
   "cell_type": "code",
   "execution_count": 218,
   "id": "7b17fad3-0dd6-4b0f-aa65-b2e542fc358b",
   "metadata": {},
   "outputs": [
    {
     "data": {
      "text/html": [
       "<div>\n",
       "<style scoped>\n",
       "    .dataframe tbody tr th:only-of-type {\n",
       "        vertical-align: middle;\n",
       "    }\n",
       "\n",
       "    .dataframe tbody tr th {\n",
       "        vertical-align: top;\n",
       "    }\n",
       "\n",
       "    .dataframe thead th {\n",
       "        text-align: right;\n",
       "    }\n",
       "</style>\n",
       "<table border=\"1\" class=\"dataframe\">\n",
       "  <thead>\n",
       "    <tr style=\"text-align: right;\">\n",
       "      <th></th>\n",
       "      <th>R</th>\n",
       "      <th>A</th>\n",
       "      <th>Y</th>\n",
       "    </tr>\n",
       "  </thead>\n",
       "  <tbody>\n",
       "    <tr>\n",
       "      <th>J</th>\n",
       "      <td>-0.950382</td>\n",
       "      <td>0.912656</td>\n",
       "      <td>-0.395476</td>\n",
       "    </tr>\n",
       "    <tr>\n",
       "      <th>E</th>\n",
       "      <td>0.537982</td>\n",
       "      <td>0.767943</td>\n",
       "      <td>-1.280409</td>\n",
       "    </tr>\n",
       "    <tr>\n",
       "      <th>F</th>\n",
       "      <td>1.216975</td>\n",
       "      <td>0.413674</td>\n",
       "      <td>1.605644</td>\n",
       "    </tr>\n",
       "  </tbody>\n",
       "</table>\n",
       "</div>"
      ],
      "text/plain": [
       "          R         A         Y\n",
       "J -0.950382  0.912656 -0.395476\n",
       "E  0.537982  0.767943 -1.280409\n",
       "F  1.216975  0.413674  1.605644"
      ]
     },
     "execution_count": 218,
     "metadata": {},
     "output_type": "execute_result"
    }
   ],
   "source": [
    "#tba.drop('RAY e JEF', axis=1, inplace=True) # Aqui foi porque ativei o comando depois.\n",
    "tba"
   ]
  },
  {
   "cell_type": "code",
   "execution_count": 226,
   "id": "8bb96596-4951-4d89-82bd-8481d96b8a73",
   "metadata": {},
   "outputs": [
    {
     "name": "stdout",
     "output_type": "stream",
     "text": [
      "-0.9503824651236715\n",
      "0.9126555870314543\n",
      "-0.39547638600768326\n",
      "0.5379821990837935\n",
      "-1.2804094830793582\n",
      "1.2169751969504052\n",
      "0.413673899246279\n",
      "1.6056440517317678\n"
     ]
    }
   ],
   "source": [
    "for x in range(3):\n",
    "    for y in  range(3): \n",
    "        #print(tba[x][y]) # Assim o python não permite porque tba é um dataframe\n",
    "        if x == y == 1:\n",
    "            tba.iloc[x, y] = 'Jefferson'\n",
    "        else:\n",
    "            print(tba.iloc[x, y])"
   ]
  },
  {
   "cell_type": "code",
   "execution_count": 229,
   "id": "2e7f11c0-adef-4e0c-a9ed-d54ca5a5d8a4",
   "metadata": {},
   "outputs": [
    {
     "data": {
      "text/html": [
       "<div>\n",
       "<style scoped>\n",
       "    .dataframe tbody tr th:only-of-type {\n",
       "        vertical-align: middle;\n",
       "    }\n",
       "\n",
       "    .dataframe tbody tr th {\n",
       "        vertical-align: top;\n",
       "    }\n",
       "\n",
       "    .dataframe thead th {\n",
       "        text-align: right;\n",
       "    }\n",
       "</style>\n",
       "<table border=\"1\" class=\"dataframe\">\n",
       "  <thead>\n",
       "    <tr style=\"text-align: right;\">\n",
       "      <th></th>\n",
       "      <th>R</th>\n",
       "      <th>A</th>\n",
       "      <th>Y</th>\n",
       "    </tr>\n",
       "  </thead>\n",
       "  <tbody>\n",
       "    <tr>\n",
       "      <th>J</th>\n",
       "      <td>-0.950382</td>\n",
       "      <td>0.912656</td>\n",
       "      <td>-0.395476</td>\n",
       "    </tr>\n",
       "    <tr>\n",
       "      <th>E</th>\n",
       "      <td>0.537982</td>\n",
       "      <td>Jefferson</td>\n",
       "      <td>-1.280409</td>\n",
       "    </tr>\n",
       "    <tr>\n",
       "      <th>F</th>\n",
       "      <td>1.216975</td>\n",
       "      <td>0.413674</td>\n",
       "      <td>1.605644</td>\n",
       "    </tr>\n",
       "  </tbody>\n",
       "</table>\n",
       "</div>"
      ],
      "text/plain": [
       "          R          A         Y\n",
       "J -0.950382   0.912656 -0.395476\n",
       "E  0.537982  Jefferson -1.280409\n",
       "F  1.216975   0.413674  1.605644"
      ]
     },
     "execution_count": 229,
     "metadata": {},
     "output_type": "execute_result"
    }
   ],
   "source": [
    "tba"
   ]
  },
  {
   "cell_type": "code",
   "execution_count": 235,
   "id": "ffddd220-f259-43f1-8e8d-7aae29cc78d1",
   "metadata": {},
   "outputs": [
    {
     "data": {
      "text/plain": [
       "J    False\n",
       "E    False\n",
       "F     True\n",
       "Name: R, dtype: bool"
      ]
     },
     "execution_count": 235,
     "metadata": {},
     "output_type": "execute_result"
    }
   ],
   "source": [
    "tba['R'] > 1"
   ]
  },
  {
   "cell_type": "code",
   "execution_count": 237,
   "id": "72a0c39b-b3b1-4d21-9554-cf86f2062b4f",
   "metadata": {},
   "outputs": [
    {
     "data": {
      "text/html": [
       "<div>\n",
       "<style scoped>\n",
       "    .dataframe tbody tr th:only-of-type {\n",
       "        vertical-align: middle;\n",
       "    }\n",
       "\n",
       "    .dataframe tbody tr th {\n",
       "        vertical-align: top;\n",
       "    }\n",
       "\n",
       "    .dataframe thead th {\n",
       "        text-align: right;\n",
       "    }\n",
       "</style>\n",
       "<table border=\"1\" class=\"dataframe\">\n",
       "  <thead>\n",
       "    <tr style=\"text-align: right;\">\n",
       "      <th></th>\n",
       "      <th>R</th>\n",
       "      <th>A</th>\n",
       "      <th>Y</th>\n",
       "    </tr>\n",
       "  </thead>\n",
       "  <tbody>\n",
       "    <tr>\n",
       "      <th>F</th>\n",
       "      <td>1.216975</td>\n",
       "      <td>0.413674</td>\n",
       "      <td>1.605644</td>\n",
       "    </tr>\n",
       "  </tbody>\n",
       "</table>\n",
       "</div>"
      ],
      "text/plain": [
       "          R         A         Y\n",
       "F  1.216975  0.413674  1.605644"
      ]
     },
     "execution_count": 237,
     "metadata": {},
     "output_type": "execute_result"
    }
   ],
   "source": [
    "tba[tba['R'] > 1] "
   ]
  },
  {
   "cell_type": "code",
   "execution_count": 242,
   "id": "bffb3e6b-c4fe-4bdd-9ee3-1278bf5d9cd8",
   "metadata": {},
   "outputs": [
    {
     "data": {
      "text/html": [
       "<div>\n",
       "<style scoped>\n",
       "    .dataframe tbody tr th:only-of-type {\n",
       "        vertical-align: middle;\n",
       "    }\n",
       "\n",
       "    .dataframe tbody tr th {\n",
       "        vertical-align: top;\n",
       "    }\n",
       "\n",
       "    .dataframe thead th {\n",
       "        text-align: right;\n",
       "    }\n",
       "</style>\n",
       "<table border=\"1\" class=\"dataframe\">\n",
       "  <thead>\n",
       "    <tr style=\"text-align: right;\">\n",
       "      <th></th>\n",
       "      <th>R</th>\n",
       "      <th>A</th>\n",
       "      <th>Y</th>\n",
       "    </tr>\n",
       "  </thead>\n",
       "  <tbody>\n",
       "    <tr>\n",
       "      <th>F</th>\n",
       "      <td>1.216975</td>\n",
       "      <td>0.413674</td>\n",
       "      <td>1.605644</td>\n",
       "    </tr>\n",
       "  </tbody>\n",
       "</table>\n",
       "</div>"
      ],
      "text/plain": [
       "          R         A         Y\n",
       "F  1.216975  0.413674  1.605644"
      ]
     },
     "execution_count": 242,
     "metadata": {},
     "output_type": "execute_result"
    }
   ],
   "source": [
    "tba[(tba['R'] > 1) & (tba['Y'] > 1)]"
   ]
  },
  {
   "cell_type": "code",
   "execution_count": 244,
   "id": "efc6fdb1-0373-4c7a-81c3-9f7be20ee76c",
   "metadata": {},
   "outputs": [
    {
     "data": {
      "text/html": [
       "<div>\n",
       "<style scoped>\n",
       "    .dataframe tbody tr th:only-of-type {\n",
       "        vertical-align: middle;\n",
       "    }\n",
       "\n",
       "    .dataframe tbody tr th {\n",
       "        vertical-align: top;\n",
       "    }\n",
       "\n",
       "    .dataframe thead th {\n",
       "        text-align: right;\n",
       "    }\n",
       "</style>\n",
       "<table border=\"1\" class=\"dataframe\">\n",
       "  <thead>\n",
       "    <tr style=\"text-align: right;\">\n",
       "      <th></th>\n",
       "      <th>R</th>\n",
       "      <th>A</th>\n",
       "      <th>Y</th>\n",
       "    </tr>\n",
       "  </thead>\n",
       "  <tbody>\n",
       "    <tr>\n",
       "      <th>J</th>\n",
       "      <td>-0.950382</td>\n",
       "      <td>0.912656</td>\n",
       "      <td>-0.395476</td>\n",
       "    </tr>\n",
       "    <tr>\n",
       "      <th>E</th>\n",
       "      <td>0.537982</td>\n",
       "      <td>Jefferson</td>\n",
       "      <td>-1.280409</td>\n",
       "    </tr>\n",
       "  </tbody>\n",
       "</table>\n",
       "</div>"
      ],
      "text/plain": [
       "          R          A         Y\n",
       "J -0.950382   0.912656 -0.395476\n",
       "E  0.537982  Jefferson -1.280409"
      ]
     },
     "execution_count": 244,
     "metadata": {},
     "output_type": "execute_result"
    }
   ],
   "source": [
    "tba[tba['Y'] < 1]"
   ]
  },
  {
   "cell_type": "code",
   "execution_count": 253,
   "id": "bcecdf23-2553-46f9-ae3a-45add2f42b55",
   "metadata": {},
   "outputs": [
    {
     "data": {
      "text/html": [
       "<div>\n",
       "<style scoped>\n",
       "    .dataframe tbody tr th:only-of-type {\n",
       "        vertical-align: middle;\n",
       "    }\n",
       "\n",
       "    .dataframe tbody tr th {\n",
       "        vertical-align: top;\n",
       "    }\n",
       "\n",
       "    .dataframe thead th {\n",
       "        text-align: right;\n",
       "    }\n",
       "</style>\n",
       "<table border=\"1\" class=\"dataframe\">\n",
       "  <thead>\n",
       "    <tr style=\"text-align: right;\">\n",
       "      <th></th>\n",
       "      <th>R</th>\n",
       "      <th>A</th>\n",
       "      <th>Y</th>\n",
       "      <th>S</th>\n",
       "      <th>A</th>\n",
       "    </tr>\n",
       "  </thead>\n",
       "  <tbody>\n",
       "    <tr>\n",
       "      <th>J</th>\n",
       "      <td>-0.169880</td>\n",
       "      <td>0.229317</td>\n",
       "      <td>0.594606</td>\n",
       "      <td>0.773517</td>\n",
       "      <td>0.103203</td>\n",
       "    </tr>\n",
       "    <tr>\n",
       "      <th>E</th>\n",
       "      <td>-0.397806</td>\n",
       "      <td>0.128260</td>\n",
       "      <td>1.723761</td>\n",
       "      <td>-0.239980</td>\n",
       "      <td>-0.287344</td>\n",
       "    </tr>\n",
       "    <tr>\n",
       "      <th>F</th>\n",
       "      <td>-0.206958</td>\n",
       "      <td>0.122193</td>\n",
       "      <td>0.827278</td>\n",
       "      <td>-1.226216</td>\n",
       "      <td>-0.728535</td>\n",
       "    </tr>\n",
       "    <tr>\n",
       "      <th>E</th>\n",
       "      <td>0.039884</td>\n",
       "      <td>-2.668997</td>\n",
       "      <td>-1.637060</td>\n",
       "      <td>1.025961</td>\n",
       "      <td>-0.130283</td>\n",
       "    </tr>\n",
       "    <tr>\n",
       "      <th>R</th>\n",
       "      <td>-0.605290</td>\n",
       "      <td>0.532330</td>\n",
       "      <td>2.046807</td>\n",
       "      <td>-2.228501</td>\n",
       "      <td>-0.329516</td>\n",
       "    </tr>\n",
       "  </tbody>\n",
       "</table>\n",
       "</div>"
      ],
      "text/plain": [
       "          R         A         Y         S         A\n",
       "J -0.169880  0.229317  0.594606  0.773517  0.103203\n",
       "E -0.397806  0.128260  1.723761 -0.239980 -0.287344\n",
       "F -0.206958  0.122193  0.827278 -1.226216 -0.728535\n",
       "E  0.039884 -2.668997 -1.637060  1.025961 -0.130283\n",
       "R -0.605290  0.532330  2.046807 -2.228501 -0.329516"
      ]
     },
     "execution_count": 253,
     "metadata": {},
     "output_type": "execute_result"
    }
   ],
   "source": [
    "tba = pd.DataFrame(randn(5, 5) , index='J E F E R'.split(), columns=' R A Y S A'.split())\n",
    "tba"
   ]
  },
  {
   "cell_type": "code",
   "execution_count": 255,
   "id": "92c51777-3ce9-4db0-ac4a-9cf9e42078e4",
   "metadata": {},
   "outputs": [
    {
     "data": {
      "text/html": [
       "<div>\n",
       "<style scoped>\n",
       "    .dataframe tbody tr th:only-of-type {\n",
       "        vertical-align: middle;\n",
       "    }\n",
       "\n",
       "    .dataframe tbody tr th {\n",
       "        vertical-align: top;\n",
       "    }\n",
       "\n",
       "    .dataframe thead th {\n",
       "        text-align: right;\n",
       "    }\n",
       "</style>\n",
       "<table border=\"1\" class=\"dataframe\">\n",
       "  <thead>\n",
       "    <tr style=\"text-align: right;\">\n",
       "      <th></th>\n",
       "      <th>R</th>\n",
       "      <th>A</th>\n",
       "      <th>Y</th>\n",
       "      <th>S</th>\n",
       "      <th>A</th>\n",
       "    </tr>\n",
       "  </thead>\n",
       "  <tbody>\n",
       "    <tr>\n",
       "      <th>J</th>\n",
       "      <td>False</td>\n",
       "      <td>False</td>\n",
       "      <td>False</td>\n",
       "      <td>False</td>\n",
       "      <td>False</td>\n",
       "    </tr>\n",
       "    <tr>\n",
       "      <th>E</th>\n",
       "      <td>False</td>\n",
       "      <td>False</td>\n",
       "      <td>True</td>\n",
       "      <td>False</td>\n",
       "      <td>False</td>\n",
       "    </tr>\n",
       "    <tr>\n",
       "      <th>F</th>\n",
       "      <td>False</td>\n",
       "      <td>False</td>\n",
       "      <td>False</td>\n",
       "      <td>False</td>\n",
       "      <td>False</td>\n",
       "    </tr>\n",
       "    <tr>\n",
       "      <th>E</th>\n",
       "      <td>False</td>\n",
       "      <td>False</td>\n",
       "      <td>False</td>\n",
       "      <td>True</td>\n",
       "      <td>False</td>\n",
       "    </tr>\n",
       "    <tr>\n",
       "      <th>R</th>\n",
       "      <td>False</td>\n",
       "      <td>False</td>\n",
       "      <td>True</td>\n",
       "      <td>False</td>\n",
       "      <td>False</td>\n",
       "    </tr>\n",
       "  </tbody>\n",
       "</table>\n",
       "</div>"
      ],
      "text/plain": [
       "       R      A      Y      S      A\n",
       "J  False  False  False  False  False\n",
       "E  False  False   True  False  False\n",
       "F  False  False  False  False  False\n",
       "E  False  False  False   True  False\n",
       "R  False  False   True  False  False"
      ]
     },
     "execution_count": 255,
     "metadata": {},
     "output_type": "execute_result"
    }
   ],
   "source": [
    "tba > 1"
   ]
  },
  {
   "cell_type": "code",
   "execution_count": 257,
   "id": "8d4406b5-15d3-4da2-b75f-a0169accbf78",
   "metadata": {},
   "outputs": [
    {
     "data": {
      "text/html": [
       "<div>\n",
       "<style scoped>\n",
       "    .dataframe tbody tr th:only-of-type {\n",
       "        vertical-align: middle;\n",
       "    }\n",
       "\n",
       "    .dataframe tbody tr th {\n",
       "        vertical-align: top;\n",
       "    }\n",
       "\n",
       "    .dataframe thead th {\n",
       "        text-align: right;\n",
       "    }\n",
       "</style>\n",
       "<table border=\"1\" class=\"dataframe\">\n",
       "  <thead>\n",
       "    <tr style=\"text-align: right;\">\n",
       "      <th></th>\n",
       "      <th>R</th>\n",
       "      <th>A</th>\n",
       "      <th>Y</th>\n",
       "      <th>S</th>\n",
       "      <th>A</th>\n",
       "    </tr>\n",
       "  </thead>\n",
       "  <tbody>\n",
       "    <tr>\n",
       "      <th>J</th>\n",
       "      <td>NaN</td>\n",
       "      <td>NaN</td>\n",
       "      <td>NaN</td>\n",
       "      <td>NaN</td>\n",
       "      <td>NaN</td>\n",
       "    </tr>\n",
       "    <tr>\n",
       "      <th>E</th>\n",
       "      <td>NaN</td>\n",
       "      <td>NaN</td>\n",
       "      <td>1.723761</td>\n",
       "      <td>NaN</td>\n",
       "      <td>NaN</td>\n",
       "    </tr>\n",
       "    <tr>\n",
       "      <th>F</th>\n",
       "      <td>NaN</td>\n",
       "      <td>NaN</td>\n",
       "      <td>NaN</td>\n",
       "      <td>NaN</td>\n",
       "      <td>NaN</td>\n",
       "    </tr>\n",
       "    <tr>\n",
       "      <th>E</th>\n",
       "      <td>NaN</td>\n",
       "      <td>NaN</td>\n",
       "      <td>NaN</td>\n",
       "      <td>1.025961</td>\n",
       "      <td>NaN</td>\n",
       "    </tr>\n",
       "    <tr>\n",
       "      <th>R</th>\n",
       "      <td>NaN</td>\n",
       "      <td>NaN</td>\n",
       "      <td>2.046807</td>\n",
       "      <td>NaN</td>\n",
       "      <td>NaN</td>\n",
       "    </tr>\n",
       "  </tbody>\n",
       "</table>\n",
       "</div>"
      ],
      "text/plain": [
       "    R   A         Y         S   A\n",
       "J NaN NaN       NaN       NaN NaN\n",
       "E NaN NaN  1.723761       NaN NaN\n",
       "F NaN NaN       NaN       NaN NaN\n",
       "E NaN NaN       NaN  1.025961 NaN\n",
       "R NaN NaN  2.046807       NaN NaN"
      ]
     },
     "execution_count": 257,
     "metadata": {},
     "output_type": "execute_result"
    }
   ],
   "source": [
    "tba[tba > 1]"
   ]
  },
  {
   "cell_type": "code",
   "execution_count": 258,
   "id": "4d4c007d-f110-4408-98ab-4cf67f3e1fa2",
   "metadata": {},
   "outputs": [
    {
     "data": {
      "text/html": [
       "<div>\n",
       "<style scoped>\n",
       "    .dataframe tbody tr th:only-of-type {\n",
       "        vertical-align: middle;\n",
       "    }\n",
       "\n",
       "    .dataframe tbody tr th {\n",
       "        vertical-align: top;\n",
       "    }\n",
       "\n",
       "    .dataframe thead th {\n",
       "        text-align: right;\n",
       "    }\n",
       "</style>\n",
       "<table border=\"1\" class=\"dataframe\">\n",
       "  <thead>\n",
       "    <tr style=\"text-align: right;\">\n",
       "      <th></th>\n",
       "      <th>R</th>\n",
       "      <th>A</th>\n",
       "      <th>Y</th>\n",
       "      <th>S</th>\n",
       "      <th>A</th>\n",
       "    </tr>\n",
       "  </thead>\n",
       "  <tbody>\n",
       "    <tr>\n",
       "      <th>J</th>\n",
       "      <td>-0.169880</td>\n",
       "      <td>0.229317</td>\n",
       "      <td>0.594606</td>\n",
       "      <td>0.773517</td>\n",
       "      <td>0.103203</td>\n",
       "    </tr>\n",
       "    <tr>\n",
       "      <th>E</th>\n",
       "      <td>-0.397806</td>\n",
       "      <td>0.128260</td>\n",
       "      <td>NaN</td>\n",
       "      <td>-0.239980</td>\n",
       "      <td>-0.287344</td>\n",
       "    </tr>\n",
       "    <tr>\n",
       "      <th>F</th>\n",
       "      <td>-0.206958</td>\n",
       "      <td>0.122193</td>\n",
       "      <td>0.827278</td>\n",
       "      <td>-1.226216</td>\n",
       "      <td>-0.728535</td>\n",
       "    </tr>\n",
       "    <tr>\n",
       "      <th>E</th>\n",
       "      <td>0.039884</td>\n",
       "      <td>-2.668997</td>\n",
       "      <td>-1.637060</td>\n",
       "      <td>NaN</td>\n",
       "      <td>-0.130283</td>\n",
       "    </tr>\n",
       "    <tr>\n",
       "      <th>R</th>\n",
       "      <td>-0.605290</td>\n",
       "      <td>0.532330</td>\n",
       "      <td>NaN</td>\n",
       "      <td>-2.228501</td>\n",
       "      <td>-0.329516</td>\n",
       "    </tr>\n",
       "  </tbody>\n",
       "</table>\n",
       "</div>"
      ],
      "text/plain": [
       "          R         A         Y         S         A\n",
       "J -0.169880  0.229317  0.594606  0.773517  0.103203\n",
       "E -0.397806  0.128260       NaN -0.239980 -0.287344\n",
       "F -0.206958  0.122193  0.827278 -1.226216 -0.728535\n",
       "E  0.039884 -2.668997 -1.637060       NaN -0.130283\n",
       "R -0.605290  0.532330       NaN -2.228501 -0.329516"
      ]
     },
     "execution_count": 258,
     "metadata": {},
     "output_type": "execute_result"
    }
   ],
   "source": [
    "tba[tba < 1]"
   ]
  }
 ],
 "metadata": {
  "kernelspec": {
   "display_name": "Python 3 (ipykernel)",
   "language": "python",
   "name": "python3"
  },
  "language_info": {
   "codemirror_mode": {
    "name": "ipython",
    "version": 3
   },
   "file_extension": ".py",
   "mimetype": "text/x-python",
   "name": "python",
   "nbconvert_exporter": "python",
   "pygments_lexer": "ipython3",
   "version": "3.9.12"
  }
 },
 "nbformat": 4,
 "nbformat_minor": 5
}
