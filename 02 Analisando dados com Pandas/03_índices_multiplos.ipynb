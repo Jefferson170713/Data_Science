{
 "cells": [
  {
   "cell_type": "markdown",
   "id": "9772737d-b671-4fb2-bcac-e9acdcc23666",
   "metadata": {},
   "source": [
    "# Operações com índices Multiplos.\n"
   ]
  },
  {
   "cell_type": "code",
   "execution_count": 51,
   "id": "2512d8ed-f2bc-4349-8d10-10f883ef9939",
   "metadata": {},
   "outputs": [],
   "source": [
    "import pandas as pd\n",
    "import numpy as np\n",
    "from random import randint as rd"
   ]
  },
  {
   "cell_type": "code",
   "execution_count": 52,
   "id": "9a98193a-73db-44ad-a118-ee76d71d9f2c",
   "metadata": {},
   "outputs": [
    {
     "data": {
      "text/plain": [
       "[1, 2, 3, 1, 2, 3]"
      ]
     },
     "execution_count": 52,
     "metadata": {},
     "output_type": "execute_result"
    }
   ],
   "source": [
    "grupo = ['A','A','A','B','B','B',]\n",
    "valor = [1,2,3,1,2,3]\n",
    "valor"
   ]
  },
  {
   "cell_type": "code",
   "execution_count": 53,
   "id": "801bca3c-c2a7-4528-985c-6993f1dd2734",
   "metadata": {},
   "outputs": [
    {
     "data": {
      "text/plain": [
       "MultiIndex([('A', 1),\n",
       "            ('A', 2),\n",
       "            ('A', 3),\n",
       "            ('B', 1),\n",
       "            ('B', 2),\n",
       "            ('B', 3)],\n",
       "           )"
      ]
     },
     "execution_count": 53,
     "metadata": {},
     "output_type": "execute_result"
    }
   ],
   "source": [
    "tba = list(zip(grupo, valor))\n",
    "tba = pd.MultiIndex.from_tuples(tba)\n",
    "tabela = pd.DataFrame(np.random.randn(6, 2), index=tba, columns=['Jeff', 'Ray'])\n",
    "tba"
   ]
  },
  {
   "cell_type": "code",
   "execution_count": 54,
   "id": "34774fe8-1b50-4574-a47f-6772ea173274",
   "metadata": {},
   "outputs": [
    {
     "data": {
      "text/html": [
       "<div>\n",
       "<style scoped>\n",
       "    .dataframe tbody tr th:only-of-type {\n",
       "        vertical-align: middle;\n",
       "    }\n",
       "\n",
       "    .dataframe tbody tr th {\n",
       "        vertical-align: top;\n",
       "    }\n",
       "\n",
       "    .dataframe thead th {\n",
       "        text-align: right;\n",
       "    }\n",
       "</style>\n",
       "<table border=\"1\" class=\"dataframe\">\n",
       "  <thead>\n",
       "    <tr style=\"text-align: right;\">\n",
       "      <th></th>\n",
       "      <th></th>\n",
       "      <th>Jeff</th>\n",
       "      <th>Ray</th>\n",
       "    </tr>\n",
       "  </thead>\n",
       "  <tbody>\n",
       "    <tr>\n",
       "      <th rowspan=\"3\" valign=\"top\">A</th>\n",
       "      <th>1</th>\n",
       "      <td>-0.575132</td>\n",
       "      <td>0.966846</td>\n",
       "    </tr>\n",
       "    <tr>\n",
       "      <th>2</th>\n",
       "      <td>1.629452</td>\n",
       "      <td>-0.618837</td>\n",
       "    </tr>\n",
       "    <tr>\n",
       "      <th>3</th>\n",
       "      <td>-1.191391</td>\n",
       "      <td>1.040689</td>\n",
       "    </tr>\n",
       "    <tr>\n",
       "      <th rowspan=\"3\" valign=\"top\">B</th>\n",
       "      <th>1</th>\n",
       "      <td>-0.592613</td>\n",
       "      <td>0.455907</td>\n",
       "    </tr>\n",
       "    <tr>\n",
       "      <th>2</th>\n",
       "      <td>-1.677600</td>\n",
       "      <td>-1.240544</td>\n",
       "    </tr>\n",
       "    <tr>\n",
       "      <th>3</th>\n",
       "      <td>0.910066</td>\n",
       "      <td>0.796660</td>\n",
       "    </tr>\n",
       "  </tbody>\n",
       "</table>\n",
       "</div>"
      ],
      "text/plain": [
       "         Jeff       Ray\n",
       "A 1 -0.575132  0.966846\n",
       "  2  1.629452 -0.618837\n",
       "  3 -1.191391  1.040689\n",
       "B 1 -0.592613  0.455907\n",
       "  2 -1.677600 -1.240544\n",
       "  3  0.910066  0.796660"
      ]
     },
     "execution_count": 54,
     "metadata": {},
     "output_type": "execute_result"
    }
   ],
   "source": [
    "tabela"
   ]
  },
  {
   "cell_type": "code",
   "execution_count": 55,
   "id": "57673e5f-60f5-4df0-8555-79a33dbfcca5",
   "metadata": {},
   "outputs": [
    {
     "data": {
      "text/plain": [
       "A  1     True\n",
       "   2    False\n",
       "   3     True\n",
       "B  1    False\n",
       "   2    False\n",
       "   3     True\n",
       "Name: Ray, dtype: bool"
      ]
     },
     "execution_count": 55,
     "metadata": {},
     "output_type": "execute_result"
    }
   ],
   "source": [
    "tabela['Ray'] > 0.5"
   ]
  },
  {
   "cell_type": "code",
   "execution_count": 56,
   "id": "489d28a5-37f6-4e2f-8595-5968d61e723f",
   "metadata": {},
   "outputs": [
    {
     "data": {
      "text/plain": [
       "A  1    False\n",
       "   2     True\n",
       "   3    False\n",
       "B  1    False\n",
       "   2    False\n",
       "   3     True\n",
       "Name: Jeff, dtype: bool"
      ]
     },
     "execution_count": 56,
     "metadata": {},
     "output_type": "execute_result"
    }
   ],
   "source": [
    "tabela['Jeff'] > 0.3"
   ]
  },
  {
   "cell_type": "code",
   "execution_count": 57,
   "id": "d7f218b6-4763-46e3-99f1-7bb22c84457d",
   "metadata": {},
   "outputs": [
    {
     "data": {
      "text/plain": [
       "A  1    False\n",
       "   2     True\n",
       "   3    False\n",
       "B  1    False\n",
       "   2    False\n",
       "   3     True\n",
       "Name: Jeff, dtype: bool"
      ]
     },
     "execution_count": 57,
     "metadata": {},
     "output_type": "execute_result"
    }
   ],
   "source": [
    "tabela['Jeff'] > 0.3 "
   ]
  },
  {
   "cell_type": "code",
   "execution_count": 58,
   "id": "afe617cc-354e-4c5a-8061-ed5821d1fd5e",
   "metadata": {},
   "outputs": [
    {
     "data": {
      "text/html": [
       "<div>\n",
       "<style scoped>\n",
       "    .dataframe tbody tr th:only-of-type {\n",
       "        vertical-align: middle;\n",
       "    }\n",
       "\n",
       "    .dataframe tbody tr th {\n",
       "        vertical-align: top;\n",
       "    }\n",
       "\n",
       "    .dataframe thead th {\n",
       "        text-align: right;\n",
       "    }\n",
       "</style>\n",
       "<table border=\"1\" class=\"dataframe\">\n",
       "  <thead>\n",
       "    <tr style=\"text-align: right;\">\n",
       "      <th></th>\n",
       "      <th>Jeff</th>\n",
       "      <th>Ray</th>\n",
       "    </tr>\n",
       "  </thead>\n",
       "  <tbody>\n",
       "    <tr>\n",
       "      <th>1</th>\n",
       "      <td>-0.575132</td>\n",
       "      <td>0.966846</td>\n",
       "    </tr>\n",
       "    <tr>\n",
       "      <th>2</th>\n",
       "      <td>1.629452</td>\n",
       "      <td>-0.618837</td>\n",
       "    </tr>\n",
       "    <tr>\n",
       "      <th>3</th>\n",
       "      <td>-1.191391</td>\n",
       "      <td>1.040689</td>\n",
       "    </tr>\n",
       "  </tbody>\n",
       "</table>\n",
       "</div>"
      ],
      "text/plain": [
       "       Jeff       Ray\n",
       "1 -0.575132  0.966846\n",
       "2  1.629452 -0.618837\n",
       "3 -1.191391  1.040689"
      ]
     },
     "execution_count": 58,
     "metadata": {},
     "output_type": "execute_result"
    }
   ],
   "source": [
    "tabela.loc['A']"
   ]
  },
  {
   "cell_type": "code",
   "execution_count": 59,
   "id": "29cdbcb3-aaf4-43f7-9bfd-c5e364d16b72",
   "metadata": {},
   "outputs": [
    {
     "data": {
      "text/html": [
       "<div>\n",
       "<style scoped>\n",
       "    .dataframe tbody tr th:only-of-type {\n",
       "        vertical-align: middle;\n",
       "    }\n",
       "\n",
       "    .dataframe tbody tr th {\n",
       "        vertical-align: top;\n",
       "    }\n",
       "\n",
       "    .dataframe thead th {\n",
       "        text-align: right;\n",
       "    }\n",
       "</style>\n",
       "<table border=\"1\" class=\"dataframe\">\n",
       "  <thead>\n",
       "    <tr style=\"text-align: right;\">\n",
       "      <th></th>\n",
       "      <th>Jeff</th>\n",
       "      <th>Ray</th>\n",
       "    </tr>\n",
       "  </thead>\n",
       "  <tbody>\n",
       "    <tr>\n",
       "      <th>1</th>\n",
       "      <td>-0.592613</td>\n",
       "      <td>0.455907</td>\n",
       "    </tr>\n",
       "    <tr>\n",
       "      <th>2</th>\n",
       "      <td>-1.677600</td>\n",
       "      <td>-1.240544</td>\n",
       "    </tr>\n",
       "    <tr>\n",
       "      <th>3</th>\n",
       "      <td>0.910066</td>\n",
       "      <td>0.796660</td>\n",
       "    </tr>\n",
       "  </tbody>\n",
       "</table>\n",
       "</div>"
      ],
      "text/plain": [
       "       Jeff       Ray\n",
       "1 -0.592613  0.455907\n",
       "2 -1.677600 -1.240544\n",
       "3  0.910066  0.796660"
      ]
     },
     "execution_count": 59,
     "metadata": {},
     "output_type": "execute_result"
    }
   ],
   "source": [
    "tabela.loc['B']"
   ]
  },
  {
   "cell_type": "code",
   "execution_count": 61,
   "id": "aaed14a1-859e-4938-b981-1c48f7429817",
   "metadata": {},
   "outputs": [
    {
     "data": {
      "text/html": [
       "<div>\n",
       "<style scoped>\n",
       "    .dataframe tbody tr th:only-of-type {\n",
       "        vertical-align: middle;\n",
       "    }\n",
       "\n",
       "    .dataframe tbody tr th {\n",
       "        vertical-align: top;\n",
       "    }\n",
       "\n",
       "    .dataframe thead th {\n",
       "        text-align: right;\n",
       "    }\n",
       "</style>\n",
       "<table border=\"1\" class=\"dataframe\">\n",
       "  <thead>\n",
       "    <tr style=\"text-align: right;\">\n",
       "      <th></th>\n",
       "      <th>Jeff</th>\n",
       "      <th>Ray</th>\n",
       "    </tr>\n",
       "  </thead>\n",
       "  <tbody>\n",
       "    <tr>\n",
       "      <th>1</th>\n",
       "      <td>False</td>\n",
       "      <td>True</td>\n",
       "    </tr>\n",
       "    <tr>\n",
       "      <th>2</th>\n",
       "      <td>False</td>\n",
       "      <td>False</td>\n",
       "    </tr>\n",
       "    <tr>\n",
       "      <th>3</th>\n",
       "      <td>True</td>\n",
       "      <td>True</td>\n",
       "    </tr>\n",
       "  </tbody>\n",
       "</table>\n",
       "</div>"
      ],
      "text/plain": [
       "    Jeff    Ray\n",
       "1  False   True\n",
       "2  False  False\n",
       "3   True   True"
      ]
     },
     "execution_count": 61,
     "metadata": {},
     "output_type": "execute_result"
    }
   ],
   "source": [
    "tabela.loc['B'] > 0.4"
   ]
  },
  {
   "cell_type": "code",
   "execution_count": 62,
   "id": "ab3e43a9-820a-428f-b0d7-0c50158d66bc",
   "metadata": {},
   "outputs": [
    {
     "data": {
      "text/html": [
       "<div>\n",
       "<style scoped>\n",
       "    .dataframe tbody tr th:only-of-type {\n",
       "        vertical-align: middle;\n",
       "    }\n",
       "\n",
       "    .dataframe tbody tr th {\n",
       "        vertical-align: top;\n",
       "    }\n",
       "\n",
       "    .dataframe thead th {\n",
       "        text-align: right;\n",
       "    }\n",
       "</style>\n",
       "<table border=\"1\" class=\"dataframe\">\n",
       "  <thead>\n",
       "    <tr style=\"text-align: right;\">\n",
       "      <th></th>\n",
       "      <th></th>\n",
       "      <th>Jeff</th>\n",
       "      <th>Ray</th>\n",
       "    </tr>\n",
       "    <tr>\n",
       "      <th>Grupo</th>\n",
       "      <th>Ns</th>\n",
       "      <th></th>\n",
       "      <th></th>\n",
       "    </tr>\n",
       "  </thead>\n",
       "  <tbody>\n",
       "    <tr>\n",
       "      <th rowspan=\"3\" valign=\"top\">A</th>\n",
       "      <th>1</th>\n",
       "      <td>-0.575132</td>\n",
       "      <td>0.966846</td>\n",
       "    </tr>\n",
       "    <tr>\n",
       "      <th>2</th>\n",
       "      <td>1.629452</td>\n",
       "      <td>-0.618837</td>\n",
       "    </tr>\n",
       "    <tr>\n",
       "      <th>3</th>\n",
       "      <td>-1.191391</td>\n",
       "      <td>1.040689</td>\n",
       "    </tr>\n",
       "    <tr>\n",
       "      <th rowspan=\"3\" valign=\"top\">B</th>\n",
       "      <th>1</th>\n",
       "      <td>-0.592613</td>\n",
       "      <td>0.455907</td>\n",
       "    </tr>\n",
       "    <tr>\n",
       "      <th>2</th>\n",
       "      <td>-1.677600</td>\n",
       "      <td>-1.240544</td>\n",
       "    </tr>\n",
       "    <tr>\n",
       "      <th>3</th>\n",
       "      <td>0.910066</td>\n",
       "      <td>0.796660</td>\n",
       "    </tr>\n",
       "  </tbody>\n",
       "</table>\n",
       "</div>"
      ],
      "text/plain": [
       "              Jeff       Ray\n",
       "Grupo Ns                    \n",
       "A     1  -0.575132  0.966846\n",
       "      2   1.629452 -0.618837\n",
       "      3  -1.191391  1.040689\n",
       "B     1  -0.592613  0.455907\n",
       "      2  -1.677600 -1.240544\n",
       "      3   0.910066  0.796660"
      ]
     },
     "execution_count": 62,
     "metadata": {},
     "output_type": "execute_result"
    }
   ],
   "source": [
    "tabela.index.names = ['Grupo','Ns']\n",
    "tabela"
   ]
  },
  {
   "cell_type": "code",
   "execution_count": 63,
   "id": "264f0985-f268-493c-acfd-5dba852fb3fc",
   "metadata": {},
   "outputs": [
    {
     "data": {
      "text/html": [
       "<div>\n",
       "<style scoped>\n",
       "    .dataframe tbody tr th:only-of-type {\n",
       "        vertical-align: middle;\n",
       "    }\n",
       "\n",
       "    .dataframe tbody tr th {\n",
       "        vertical-align: top;\n",
       "    }\n",
       "\n",
       "    .dataframe thead th {\n",
       "        text-align: right;\n",
       "    }\n",
       "</style>\n",
       "<table border=\"1\" class=\"dataframe\">\n",
       "  <thead>\n",
       "    <tr style=\"text-align: right;\">\n",
       "      <th></th>\n",
       "      <th>Jeff</th>\n",
       "      <th>Ray</th>\n",
       "    </tr>\n",
       "    <tr>\n",
       "      <th>Grupo</th>\n",
       "      <th></th>\n",
       "      <th></th>\n",
       "    </tr>\n",
       "  </thead>\n",
       "  <tbody>\n",
       "    <tr>\n",
       "      <th>A</th>\n",
       "      <td>1.629452</td>\n",
       "      <td>-0.618837</td>\n",
       "    </tr>\n",
       "    <tr>\n",
       "      <th>B</th>\n",
       "      <td>-1.677600</td>\n",
       "      <td>-1.240544</td>\n",
       "    </tr>\n",
       "  </tbody>\n",
       "</table>\n",
       "</div>"
      ],
      "text/plain": [
       "           Jeff       Ray\n",
       "Grupo                    \n",
       "A      1.629452 -0.618837\n",
       "B     -1.677600 -1.240544"
      ]
     },
     "execution_count": 63,
     "metadata": {},
     "output_type": "execute_result"
    }
   ],
   "source": [
    "tabela.xs(2, level='Ns')"
   ]
  }
 ],
 "metadata": {
  "kernelspec": {
   "display_name": "Python 3 (ipykernel)",
   "language": "python",
   "name": "python3"
  },
  "language_info": {
   "codemirror_mode": {
    "name": "ipython",
    "version": 3
   },
   "file_extension": ".py",
   "mimetype": "text/x-python",
   "name": "python",
   "nbconvert_exporter": "python",
   "pygments_lexer": "ipython3",
   "version": "3.9.12"
  }
 },
 "nbformat": 4,
 "nbformat_minor": 5
}
