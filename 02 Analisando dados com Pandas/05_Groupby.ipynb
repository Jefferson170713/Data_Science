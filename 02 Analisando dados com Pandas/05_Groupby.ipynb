{
 "cells": [
  {
   "cell_type": "markdown",
   "id": "7441238d-a0c1-4146-bff8-6e68eacdb4e6",
   "metadata": {},
   "source": [
    "# Groupby no python."
   ]
  },
  {
   "cell_type": "code",
   "execution_count": 1,
   "id": "c54294b7-d2b2-4a01-aa20-83fca2a4d8e6",
   "metadata": {},
   "outputs": [],
   "source": [
    "import numpy as np\n",
    "import pandas as pd"
   ]
  },
  {
   "cell_type": "code",
   "execution_count": 3,
   "id": "b5163b57-9dbe-4d3a-a8e3-87b11ed47ede",
   "metadata": {},
   "outputs": [],
   "source": [
    "dados_excel_csv_etc = {\n",
    "    'Função' : ['Engenheiro','Mestre de obra','Pedreiro','Engenheiro','Mestre de obra','Pedreiro'],\n",
    "    'Nomes' : ['Francisco Assis','Luiz Carvalho','Gerlan Melo','Francisco Ribamar','João Ambrosio','Fracisco Chico'],\n",
    "    'Salário' : [3000, 1800, 1450, 2800, 1700, 1400]\n",
    "}"
   ]
  },
  {
   "cell_type": "code",
   "execution_count": 5,
   "id": "126db554-f937-4f5c-b684-bd76056136fa",
   "metadata": {},
   "outputs": [
    {
     "data": {
      "text/html": [
       "<div>\n",
       "<style scoped>\n",
       "    .dataframe tbody tr th:only-of-type {\n",
       "        vertical-align: middle;\n",
       "    }\n",
       "\n",
       "    .dataframe tbody tr th {\n",
       "        vertical-align: top;\n",
       "    }\n",
       "\n",
       "    .dataframe thead th {\n",
       "        text-align: right;\n",
       "    }\n",
       "</style>\n",
       "<table border=\"1\" class=\"dataframe\">\n",
       "  <thead>\n",
       "    <tr style=\"text-align: right;\">\n",
       "      <th></th>\n",
       "      <th>Função</th>\n",
       "      <th>Nomes</th>\n",
       "      <th>Salário</th>\n",
       "    </tr>\n",
       "  </thead>\n",
       "  <tbody>\n",
       "    <tr>\n",
       "      <th>0</th>\n",
       "      <td>Engenheiro</td>\n",
       "      <td>Francisco Assis</td>\n",
       "      <td>3000</td>\n",
       "    </tr>\n",
       "    <tr>\n",
       "      <th>1</th>\n",
       "      <td>Mestre de obra</td>\n",
       "      <td>Luiz Carvalho</td>\n",
       "      <td>1800</td>\n",
       "    </tr>\n",
       "    <tr>\n",
       "      <th>2</th>\n",
       "      <td>Pedreiro</td>\n",
       "      <td>Gerlan Melo</td>\n",
       "      <td>1450</td>\n",
       "    </tr>\n",
       "    <tr>\n",
       "      <th>3</th>\n",
       "      <td>Engenheiro</td>\n",
       "      <td>Francisco Ribamar</td>\n",
       "      <td>2800</td>\n",
       "    </tr>\n",
       "    <tr>\n",
       "      <th>4</th>\n",
       "      <td>Mestre de obra</td>\n",
       "      <td>João Ambrosio</td>\n",
       "      <td>1700</td>\n",
       "    </tr>\n",
       "    <tr>\n",
       "      <th>5</th>\n",
       "      <td>Pedreiro</td>\n",
       "      <td>Fracisco Chico</td>\n",
       "      <td>1400</td>\n",
       "    </tr>\n",
       "  </tbody>\n",
       "</table>\n",
       "</div>"
      ],
      "text/plain": [
       "           Função              Nomes  Salário\n",
       "0      Engenheiro    Francisco Assis     3000\n",
       "1  Mestre de obra      Luiz Carvalho     1800\n",
       "2        Pedreiro        Gerlan Melo     1450\n",
       "3      Engenheiro  Francisco Ribamar     2800\n",
       "4  Mestre de obra      João Ambrosio     1700\n",
       "5        Pedreiro     Fracisco Chico     1400"
      ]
     },
     "execution_count": 5,
     "metadata": {},
     "output_type": "execute_result"
    }
   ],
   "source": [
    "df = pd.DataFrame(dados_excel_csv_etc)\n",
    "df"
   ]
  },
  {
   "cell_type": "code",
   "execution_count": 12,
   "id": "3cfab7cd-38dd-42ee-9808-197db3b42cbd",
   "metadata": {},
   "outputs": [
    {
     "data": {
      "text/html": [
       "<div>\n",
       "<style scoped>\n",
       "    .dataframe tbody tr th:only-of-type {\n",
       "        vertical-align: middle;\n",
       "    }\n",
       "\n",
       "    .dataframe tbody tr th {\n",
       "        vertical-align: top;\n",
       "    }\n",
       "\n",
       "    .dataframe thead th {\n",
       "        text-align: right;\n",
       "    }\n",
       "</style>\n",
       "<table border=\"1\" class=\"dataframe\">\n",
       "  <thead>\n",
       "    <tr style=\"text-align: right;\">\n",
       "      <th></th>\n",
       "      <th>Salário</th>\n",
       "    </tr>\n",
       "    <tr>\n",
       "      <th>Função</th>\n",
       "      <th></th>\n",
       "    </tr>\n",
       "  </thead>\n",
       "  <tbody>\n",
       "    <tr>\n",
       "      <th>Engenheiro</th>\n",
       "      <td>2900.0</td>\n",
       "    </tr>\n",
       "    <tr>\n",
       "      <th>Mestre de obra</th>\n",
       "      <td>1750.0</td>\n",
       "    </tr>\n",
       "    <tr>\n",
       "      <th>Pedreiro</th>\n",
       "      <td>1425.0</td>\n",
       "    </tr>\n",
       "  </tbody>\n",
       "</table>\n",
       "</div>"
      ],
      "text/plain": [
       "                Salário\n",
       "Função                 \n",
       "Engenheiro       2900.0\n",
       "Mestre de obra   1750.0\n",
       "Pedreiro         1425.0"
      ]
     },
     "execution_count": 12,
     "metadata": {},
     "output_type": "execute_result"
    }
   ],
   "source": [
    "funcao = df.groupby('Função')\n",
    "funcao.mean()# Repare que aqui é a média dos salários."
   ]
  },
  {
   "cell_type": "code",
   "execution_count": 15,
   "id": "fe424f0a-5ced-48a7-8bc0-ac9fdff3fc7e",
   "metadata": {},
   "outputs": [
    {
     "data": {
      "text/html": [
       "<div>\n",
       "<style scoped>\n",
       "    .dataframe tbody tr th:only-of-type {\n",
       "        vertical-align: middle;\n",
       "    }\n",
       "\n",
       "    .dataframe tbody tr th {\n",
       "        vertical-align: top;\n",
       "    }\n",
       "\n",
       "    .dataframe thead th {\n",
       "        text-align: right;\n",
       "    }\n",
       "</style>\n",
       "<table border=\"1\" class=\"dataframe\">\n",
       "  <thead>\n",
       "    <tr style=\"text-align: right;\">\n",
       "      <th></th>\n",
       "      <th>Função</th>\n",
       "      <th>Nomes</th>\n",
       "      <th>Salário</th>\n",
       "    </tr>\n",
       "  </thead>\n",
       "  <tbody>\n",
       "    <tr>\n",
       "      <th>0</th>\n",
       "      <td>Engenheiro</td>\n",
       "      <td>Francisco Assis</td>\n",
       "      <td>3000</td>\n",
       "    </tr>\n",
       "    <tr>\n",
       "      <th>3</th>\n",
       "      <td>Engenheiro</td>\n",
       "      <td>Francisco Ribamar</td>\n",
       "      <td>2800</td>\n",
       "    </tr>\n",
       "  </tbody>\n",
       "</table>\n",
       "</div>"
      ],
      "text/plain": [
       "       Função              Nomes  Salário\n",
       "0  Engenheiro    Francisco Assis     3000\n",
       "3  Engenheiro  Francisco Ribamar     2800"
      ]
     },
     "execution_count": 15,
     "metadata": {},
     "output_type": "execute_result"
    }
   ],
   "source": [
    "df[df['Salário'] > 2000]"
   ]
  },
  {
   "cell_type": "code",
   "execution_count": 18,
   "id": "9782148c-68b9-4a53-ab7f-08b35e44449f",
   "metadata": {},
   "outputs": [
    {
     "data": {
      "text/plain": [
       "0     True\n",
       "1    False\n",
       "2    False\n",
       "3     True\n",
       "4    False\n",
       "5    False\n",
       "Name: Salário, dtype: bool"
      ]
     },
     "execution_count": 18,
     "metadata": {},
     "output_type": "execute_result"
    }
   ],
   "source": [
    "df['Salário'] > 2000"
   ]
  },
  {
   "cell_type": "code",
   "execution_count": 21,
   "id": "82f75abd-e707-45fe-a083-c08916f57afb",
   "metadata": {},
   "outputs": [
    {
     "data": {
      "text/html": [
       "<div>\n",
       "<style scoped>\n",
       "    .dataframe tbody tr th:only-of-type {\n",
       "        vertical-align: middle;\n",
       "    }\n",
       "\n",
       "    .dataframe tbody tr th {\n",
       "        vertical-align: top;\n",
       "    }\n",
       "\n",
       "    .dataframe thead th {\n",
       "        text-align: right;\n",
       "    }\n",
       "</style>\n",
       "<table border=\"1\" class=\"dataframe\">\n",
       "  <thead>\n",
       "    <tr style=\"text-align: right;\">\n",
       "      <th></th>\n",
       "      <th>Nomes</th>\n",
       "      <th>Salário</th>\n",
       "    </tr>\n",
       "    <tr>\n",
       "      <th>Função</th>\n",
       "      <th></th>\n",
       "      <th></th>\n",
       "    </tr>\n",
       "  </thead>\n",
       "  <tbody>\n",
       "    <tr>\n",
       "      <th>Engenheiro</th>\n",
       "      <td>Francisco Ribamar</td>\n",
       "      <td>3000</td>\n",
       "    </tr>\n",
       "    <tr>\n",
       "      <th>Mestre de obra</th>\n",
       "      <td>Luiz Carvalho</td>\n",
       "      <td>1800</td>\n",
       "    </tr>\n",
       "    <tr>\n",
       "      <th>Pedreiro</th>\n",
       "      <td>Gerlan Melo</td>\n",
       "      <td>1450</td>\n",
       "    </tr>\n",
       "  </tbody>\n",
       "</table>\n",
       "</div>"
      ],
      "text/plain": [
       "                            Nomes  Salário\n",
       "Função                                    \n",
       "Engenheiro      Francisco Ribamar     3000\n",
       "Mestre de obra      Luiz Carvalho     1800\n",
       "Pedreiro              Gerlan Melo     1450"
      ]
     },
     "execution_count": 21,
     "metadata": {},
     "output_type": "execute_result"
    }
   ],
   "source": [
    "df.groupby('Função').max()"
   ]
  },
  {
   "cell_type": "code",
   "execution_count": 23,
   "id": "8a225078-da50-47ca-b914-360c6883ca20",
   "metadata": {},
   "outputs": [
    {
     "data": {
      "text/html": [
       "<div>\n",
       "<style scoped>\n",
       "    .dataframe tbody tr th:only-of-type {\n",
       "        vertical-align: middle;\n",
       "    }\n",
       "\n",
       "    .dataframe tbody tr th {\n",
       "        vertical-align: top;\n",
       "    }\n",
       "\n",
       "    .dataframe thead th {\n",
       "        text-align: right;\n",
       "    }\n",
       "</style>\n",
       "<table border=\"1\" class=\"dataframe\">\n",
       "  <thead>\n",
       "    <tr style=\"text-align: right;\">\n",
       "      <th></th>\n",
       "      <th>Salário</th>\n",
       "    </tr>\n",
       "    <tr>\n",
       "      <th>Função</th>\n",
       "      <th></th>\n",
       "    </tr>\n",
       "  </thead>\n",
       "  <tbody>\n",
       "    <tr>\n",
       "      <th>Engenheiro</th>\n",
       "      <td>2900.0</td>\n",
       "    </tr>\n",
       "    <tr>\n",
       "      <th>Mestre de obra</th>\n",
       "      <td>1750.0</td>\n",
       "    </tr>\n",
       "    <tr>\n",
       "      <th>Pedreiro</th>\n",
       "      <td>1425.0</td>\n",
       "    </tr>\n",
       "  </tbody>\n",
       "</table>\n",
       "</div>"
      ],
      "text/plain": [
       "                Salário\n",
       "Função                 \n",
       "Engenheiro       2900.0\n",
       "Mestre de obra   1750.0\n",
       "Pedreiro         1425.0"
      ]
     },
     "execution_count": 23,
     "metadata": {},
     "output_type": "execute_result"
    }
   ],
   "source": [
    "df.groupby('Função').median()"
   ]
  },
  {
   "cell_type": "code",
   "execution_count": 25,
   "id": "f1ddafa3-e543-493a-b391-540ba4b9c21a",
   "metadata": {},
   "outputs": [
    {
     "data": {
      "text/html": [
       "<div>\n",
       "<style scoped>\n",
       "    .dataframe tbody tr th:only-of-type {\n",
       "        vertical-align: middle;\n",
       "    }\n",
       "\n",
       "    .dataframe tbody tr th {\n",
       "        vertical-align: top;\n",
       "    }\n",
       "\n",
       "    .dataframe thead th {\n",
       "        text-align: right;\n",
       "    }\n",
       "</style>\n",
       "<table border=\"1\" class=\"dataframe\">\n",
       "  <thead>\n",
       "    <tr style=\"text-align: right;\">\n",
       "      <th></th>\n",
       "      <th>Nomes</th>\n",
       "      <th>Salário</th>\n",
       "    </tr>\n",
       "    <tr>\n",
       "      <th>Função</th>\n",
       "      <th></th>\n",
       "      <th></th>\n",
       "    </tr>\n",
       "  </thead>\n",
       "  <tbody>\n",
       "    <tr>\n",
       "      <th>Engenheiro</th>\n",
       "      <td>Francisco Assis</td>\n",
       "      <td>2800</td>\n",
       "    </tr>\n",
       "    <tr>\n",
       "      <th>Mestre de obra</th>\n",
       "      <td>João Ambrosio</td>\n",
       "      <td>1700</td>\n",
       "    </tr>\n",
       "    <tr>\n",
       "      <th>Pedreiro</th>\n",
       "      <td>Fracisco Chico</td>\n",
       "      <td>1400</td>\n",
       "    </tr>\n",
       "  </tbody>\n",
       "</table>\n",
       "</div>"
      ],
      "text/plain": [
       "                          Nomes  Salário\n",
       "Função                                  \n",
       "Engenheiro      Francisco Assis     2800\n",
       "Mestre de obra    João Ambrosio     1700\n",
       "Pedreiro         Fracisco Chico     1400"
      ]
     },
     "execution_count": 25,
     "metadata": {},
     "output_type": "execute_result"
    }
   ],
   "source": [
    "df.groupby('Função').min()"
   ]
  },
  {
   "cell_type": "code",
   "execution_count": 34,
   "id": "2ea46d5e-39a2-4804-8809-40422d49028b",
   "metadata": {},
   "outputs": [
    {
     "data": {
      "text/html": [
       "<div>\n",
       "<style scoped>\n",
       "    .dataframe tbody tr th:only-of-type {\n",
       "        vertical-align: middle;\n",
       "    }\n",
       "\n",
       "    .dataframe tbody tr th {\n",
       "        vertical-align: top;\n",
       "    }\n",
       "\n",
       "    .dataframe thead th {\n",
       "        text-align: right;\n",
       "    }\n",
       "</style>\n",
       "<table border=\"1\" class=\"dataframe\">\n",
       "  <thead>\n",
       "    <tr style=\"text-align: right;\">\n",
       "      <th></th>\n",
       "      <th></th>\n",
       "      <th>Salário</th>\n",
       "    </tr>\n",
       "    <tr>\n",
       "      <th>Função</th>\n",
       "      <th>Nomes</th>\n",
       "      <th></th>\n",
       "    </tr>\n",
       "  </thead>\n",
       "  <tbody>\n",
       "    <tr>\n",
       "      <th rowspan=\"2\" valign=\"top\">Engenheiro</th>\n",
       "      <th>Francisco Assis</th>\n",
       "      <td>3000</td>\n",
       "    </tr>\n",
       "    <tr>\n",
       "      <th>Francisco Ribamar</th>\n",
       "      <td>2800</td>\n",
       "    </tr>\n",
       "    <tr>\n",
       "      <th rowspan=\"2\" valign=\"top\">Mestre de obra</th>\n",
       "      <th>João Ambrosio</th>\n",
       "      <td>1700</td>\n",
       "    </tr>\n",
       "    <tr>\n",
       "      <th>Luiz Carvalho</th>\n",
       "      <td>1800</td>\n",
       "    </tr>\n",
       "    <tr>\n",
       "      <th rowspan=\"2\" valign=\"top\">Pedreiro</th>\n",
       "      <th>Fracisco Chico</th>\n",
       "      <td>1400</td>\n",
       "    </tr>\n",
       "    <tr>\n",
       "      <th>Gerlan Melo</th>\n",
       "      <td>1450</td>\n",
       "    </tr>\n",
       "  </tbody>\n",
       "</table>\n",
       "</div>"
      ],
      "text/plain": [
       "                                  Salário\n",
       "Função         Nomes                     \n",
       "Engenheiro     Francisco Assis       3000\n",
       "               Francisco Ribamar     2800\n",
       "Mestre de obra João Ambrosio         1700\n",
       "               Luiz Carvalho         1800\n",
       "Pedreiro       Fracisco Chico        1400\n",
       "               Gerlan Melo           1450"
      ]
     },
     "execution_count": 34,
     "metadata": {},
     "output_type": "execute_result"
    }
   ],
   "source": [
    "df.groupby(['Função', 'Nomes']).sum()"
   ]
  },
  {
   "cell_type": "code",
   "execution_count": 39,
   "id": "7234701a-bbd6-4e50-bca6-f71b6cfb3c12",
   "metadata": {},
   "outputs": [
    {
     "data": {
      "text/html": [
       "<div>\n",
       "<style scoped>\n",
       "    .dataframe tbody tr th:only-of-type {\n",
       "        vertical-align: middle;\n",
       "    }\n",
       "\n",
       "    .dataframe tbody tr th {\n",
       "        vertical-align: top;\n",
       "    }\n",
       "\n",
       "    .dataframe thead th {\n",
       "        text-align: right;\n",
       "    }\n",
       "</style>\n",
       "<table border=\"1\" class=\"dataframe\">\n",
       "  <thead>\n",
       "    <tr style=\"text-align: right;\">\n",
       "      <th></th>\n",
       "      <th></th>\n",
       "      <th>Nomes</th>\n",
       "    </tr>\n",
       "    <tr>\n",
       "      <th>Função</th>\n",
       "      <th>Salário</th>\n",
       "      <th></th>\n",
       "    </tr>\n",
       "  </thead>\n",
       "  <tbody>\n",
       "    <tr>\n",
       "      <th rowspan=\"2\" valign=\"top\">Engenheiro</th>\n",
       "      <th>2800</th>\n",
       "      <td>Francisco Ribamar</td>\n",
       "    </tr>\n",
       "    <tr>\n",
       "      <th>3000</th>\n",
       "      <td>Francisco Assis</td>\n",
       "    </tr>\n",
       "    <tr>\n",
       "      <th rowspan=\"2\" valign=\"top\">Mestre de obra</th>\n",
       "      <th>1700</th>\n",
       "      <td>João Ambrosio</td>\n",
       "    </tr>\n",
       "    <tr>\n",
       "      <th>1800</th>\n",
       "      <td>Luiz Carvalho</td>\n",
       "    </tr>\n",
       "    <tr>\n",
       "      <th rowspan=\"2\" valign=\"top\">Pedreiro</th>\n",
       "      <th>1400</th>\n",
       "      <td>Fracisco Chico</td>\n",
       "    </tr>\n",
       "    <tr>\n",
       "      <th>1450</th>\n",
       "      <td>Gerlan Melo</td>\n",
       "    </tr>\n",
       "  </tbody>\n",
       "</table>\n",
       "</div>"
      ],
      "text/plain": [
       "                                    Nomes\n",
       "Função         Salário                   \n",
       "Engenheiro     2800     Francisco Ribamar\n",
       "               3000       Francisco Assis\n",
       "Mestre de obra 1700         João Ambrosio\n",
       "               1800         Luiz Carvalho\n",
       "Pedreiro       1400        Fracisco Chico\n",
       "               1450           Gerlan Melo"
      ]
     },
     "execution_count": 39,
     "metadata": {},
     "output_type": "execute_result"
    }
   ],
   "source": [
    "df.groupby(['Função', 'Salário']).max()"
   ]
  },
  {
   "cell_type": "code",
   "execution_count": null,
   "id": "4f428940-dceb-4566-9f85-e58c97af824e",
   "metadata": {},
   "outputs": [],
   "source": []
  }
 ],
 "metadata": {
  "kernelspec": {
   "display_name": "Python 3 (ipykernel)",
   "language": "python",
   "name": "python3"
  },
  "language_info": {
   "codemirror_mode": {
    "name": "ipython",
    "version": 3
   },
   "file_extension": ".py",
   "mimetype": "text/x-python",
   "name": "python",
   "nbconvert_exporter": "python",
   "pygments_lexer": "ipython3",
   "version": "3.9.12"
  }
 },
 "nbformat": 4,
 "nbformat_minor": 5
}
