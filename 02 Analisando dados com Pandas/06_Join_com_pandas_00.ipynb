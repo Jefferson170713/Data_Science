{
 "cells": [
  {
   "cell_type": "markdown",
   "id": "cc3d8bf4-e506-4c1b-a4b8-0c3ec1389f17",
   "metadata": {},
   "source": [
    "# Join.\n",
    "    Serve para juntar elementos."
   ]
  },
  {
   "cell_type": "code",
   "execution_count": 30,
   "id": "8cadc52f-6b98-4c72-8fa6-965fb4fc2d9a",
   "metadata": {},
   "outputs": [],
   "source": [
    "import pandas as pd"
   ]
  },
  {
   "cell_type": "code",
   "execution_count": 31,
   "id": "505e540e-47f7-4ad4-a210-9db6ea6de3a6",
   "metadata": {},
   "outputs": [],
   "source": [
    "df_1 = pd.DataFrame(\n",
    "    {\n",
    "        'A': ['A0','A1','A2'],\n",
    "        'B': ['B0','B1','B2']\n",
    "    }, index= [1,2,3]\n",
    ")"
   ]
  },
  {
   "cell_type": "code",
   "execution_count": 32,
   "id": "d565d2ac-67e8-4b28-a904-58aa585e1b4f",
   "metadata": {},
   "outputs": [],
   "source": [
    "df_2 = pd.DataFrame(\n",
    "    {\n",
    "        'C': ['B0','B1','B2'],\n",
    "        'D': ['C0','C1','C2']\n",
    "    }, index= [1,2,3]\n",
    ")"
   ]
  },
  {
   "cell_type": "code",
   "execution_count": 23,
   "id": "74d6b5f6-c42a-401e-8be4-1677447ed4f2",
   "metadata": {},
   "outputs": [],
   "source": [
    "df_3 = pd.DataFrame(\n",
    "    {\n",
    "        'C': ['B0','B1','B2'],\n",
    "        'D': ['C0','C1','C2']\n",
    "    }, index= [1,2,3]\n",
    ")"
   ]
  },
  {
   "cell_type": "code",
   "execution_count": 37,
   "id": "7a74ad44-d1e8-480d-897d-0b46ba6168a0",
   "metadata": {},
   "outputs": [
    {
     "data": {
      "text/html": [
       "<div>\n",
       "<style scoped>\n",
       "    .dataframe tbody tr th:only-of-type {\n",
       "        vertical-align: middle;\n",
       "    }\n",
       "\n",
       "    .dataframe tbody tr th {\n",
       "        vertical-align: top;\n",
       "    }\n",
       "\n",
       "    .dataframe thead th {\n",
       "        text-align: right;\n",
       "    }\n",
       "</style>\n",
       "<table border=\"1\" class=\"dataframe\">\n",
       "  <thead>\n",
       "    <tr style=\"text-align: right;\">\n",
       "      <th></th>\n",
       "      <th>A</th>\n",
       "      <th>B</th>\n",
       "      <th>C</th>\n",
       "      <th>D</th>\n",
       "    </tr>\n",
       "  </thead>\n",
       "  <tbody>\n",
       "    <tr>\n",
       "      <th>1</th>\n",
       "      <td>A0</td>\n",
       "      <td>B0</td>\n",
       "      <td>B0</td>\n",
       "      <td>C0</td>\n",
       "    </tr>\n",
       "    <tr>\n",
       "      <th>2</th>\n",
       "      <td>A1</td>\n",
       "      <td>B1</td>\n",
       "      <td>B1</td>\n",
       "      <td>C1</td>\n",
       "    </tr>\n",
       "    <tr>\n",
       "      <th>3</th>\n",
       "      <td>A2</td>\n",
       "      <td>B2</td>\n",
       "      <td>B2</td>\n",
       "      <td>C2</td>\n",
       "    </tr>\n",
       "  </tbody>\n",
       "</table>\n",
       "</div>"
      ],
      "text/plain": [
       "    A   B   C   D\n",
       "1  A0  B0  B0  C0\n",
       "2  A1  B1  B1  C1\n",
       "3  A2  B2  B2  C2"
      ]
     },
     "execution_count": 37,
     "metadata": {},
     "output_type": "execute_result"
    }
   ],
   "source": [
    "df_1.join(df_2)"
   ]
  },
  {
   "cell_type": "code",
   "execution_count": null,
   "id": "30865818-56d4-4c9d-ad45-eb31571445e0",
   "metadata": {},
   "outputs": [],
   "source": []
  }
 ],
 "metadata": {
  "kernelspec": {
   "display_name": "Python 3 (ipykernel)",
   "language": "python",
   "name": "python3"
  },
  "language_info": {
   "codemirror_mode": {
    "name": "ipython",
    "version": 3
   },
   "file_extension": ".py",
   "mimetype": "text/x-python",
   "name": "python",
   "nbconvert_exporter": "python",
   "pygments_lexer": "ipython3",
   "version": "3.9.12"
  }
 },
 "nbformat": 4,
 "nbformat_minor": 5
}
