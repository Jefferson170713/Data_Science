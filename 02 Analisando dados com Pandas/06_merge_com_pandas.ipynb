{
 "cells": [
  {
   "cell_type": "markdown",
   "id": "c022cbbf-362b-4006-86fa-0ff860b3d710",
   "metadata": {},
   "source": [
    "# Merge com pandas"
   ]
  },
  {
   "cell_type": "code",
   "execution_count": 1,
   "id": "fc86708a-0023-4a5b-8fdd-ae4732f25f4d",
   "metadata": {},
   "outputs": [],
   "source": [
    "import pandas as pd\n",
    "from numpy.random import randn"
   ]
  },
  {
   "cell_type": "code",
   "execution_count": 2,
   "id": "8a4e8d3e-2293-463a-9e91-a12228330c19",
   "metadata": {},
   "outputs": [
    {
     "data": {
      "text/html": [
       "<div>\n",
       "<style scoped>\n",
       "    .dataframe tbody tr th:only-of-type {\n",
       "        vertical-align: middle;\n",
       "    }\n",
       "\n",
       "    .dataframe tbody tr th {\n",
       "        vertical-align: top;\n",
       "    }\n",
       "\n",
       "    .dataframe thead th {\n",
       "        text-align: right;\n",
       "    }\n",
       "</style>\n",
       "<table border=\"1\" class=\"dataframe\">\n",
       "  <thead>\n",
       "    <tr style=\"text-align: right;\">\n",
       "      <th></th>\n",
       "      <th>FLAMENGO</th>\n",
       "      <th>SÃO PAULO</th>\n",
       "      <th>GRÊMIO</th>\n",
       "      <th>FORTALEZA</th>\n",
       "      <th>CEARÁ</th>\n",
       "      <th>CRUZEIRO</th>\n",
       "      <th>FLUMINENCE</th>\n",
       "    </tr>\n",
       "  </thead>\n",
       "  <tbody>\n",
       "    <tr>\n",
       "      <th>Placar 1</th>\n",
       "      <td>1</td>\n",
       "      <td>4</td>\n",
       "      <td>1</td>\n",
       "      <td>4</td>\n",
       "      <td>1</td>\n",
       "      <td>4</td>\n",
       "      <td>1</td>\n",
       "    </tr>\n",
       "    <tr>\n",
       "      <th>Placar 2</th>\n",
       "      <td>2</td>\n",
       "      <td>3</td>\n",
       "      <td>2</td>\n",
       "      <td>3</td>\n",
       "      <td>2</td>\n",
       "      <td>3</td>\n",
       "      <td>2</td>\n",
       "    </tr>\n",
       "    <tr>\n",
       "      <th>Placar 3</th>\n",
       "      <td>3</td>\n",
       "      <td>2</td>\n",
       "      <td>3</td>\n",
       "      <td>2</td>\n",
       "      <td>3</td>\n",
       "      <td>2</td>\n",
       "      <td>3</td>\n",
       "    </tr>\n",
       "    <tr>\n",
       "      <th>Placar 4</th>\n",
       "      <td>4</td>\n",
       "      <td>1</td>\n",
       "      <td>4</td>\n",
       "      <td>1</td>\n",
       "      <td>4</td>\n",
       "      <td>1</td>\n",
       "      <td>4</td>\n",
       "    </tr>\n",
       "  </tbody>\n",
       "</table>\n",
       "</div>"
      ],
      "text/plain": [
       "          FLAMENGO  SÃO PAULO  GRÊMIO  FORTALEZA  CEARÁ  CRUZEIRO  FLUMINENCE\n",
       "Placar 1         1          4       1          4      1         4           1\n",
       "Placar 2         2          3       2          3      2         3           2\n",
       "Placar 3         3          2       3          2      3         2           3\n",
       "Placar 4         4          1       4          1      4         1           4"
      ]
     },
     "execution_count": 2,
     "metadata": {},
     "output_type": "execute_result"
    }
   ],
   "source": [
    "df1 = pd.DataFrame({\n",
    "    'FLAMENGO': [1,2,3,4],\n",
    "    'SÃO PAULO': [4,3,2,1],\n",
    "    'GRÊMIO': [1,2,3,4],\n",
    "    'FORTALEZA': [4,3,2,1],\n",
    "    'CEARÁ': [1,2,3,4],\n",
    "    'CRUZEIRO': [4,3,2,1],\n",
    "    'FLUMINENCE': [1,2,3,4],\n",
    "    },\n",
    "    index=['Placar 1','Placar 2','Placar 3','Placar 4']\n",
    ")\n",
    "df1"
   ]
  },
  {
   "cell_type": "code",
   "execution_count": 6,
   "id": "b2ad1234-9740-4c84-a91c-89b79d806d70",
   "metadata": {},
   "outputs": [
    {
     "data": {
      "text/html": [
       "<div>\n",
       "<style scoped>\n",
       "    .dataframe tbody tr th:only-of-type {\n",
       "        vertical-align: middle;\n",
       "    }\n",
       "\n",
       "    .dataframe tbody tr th {\n",
       "        vertical-align: top;\n",
       "    }\n",
       "\n",
       "    .dataframe thead th {\n",
       "        text-align: right;\n",
       "    }\n",
       "</style>\n",
       "<table border=\"1\" class=\"dataframe\">\n",
       "  <thead>\n",
       "    <tr style=\"text-align: right;\">\n",
       "      <th></th>\n",
       "      <th>3</th>\n",
       "      <th>2</th>\n",
       "      <th>1</th>\n",
       "    </tr>\n",
       "  </thead>\n",
       "  <tbody>\n",
       "    <tr>\n",
       "      <th>1</th>\n",
       "      <td>-0.298737</td>\n",
       "      <td>1.061884</td>\n",
       "      <td>-0.343667</td>\n",
       "    </tr>\n",
       "    <tr>\n",
       "      <th>2</th>\n",
       "      <td>0.334671</td>\n",
       "      <td>-0.909897</td>\n",
       "      <td>-0.594869</td>\n",
       "    </tr>\n",
       "    <tr>\n",
       "      <th>3</th>\n",
       "      <td>-1.285778</td>\n",
       "      <td>-0.079157</td>\n",
       "      <td>-0.370571</td>\n",
       "    </tr>\n",
       "  </tbody>\n",
       "</table>\n",
       "</div>"
      ],
      "text/plain": [
       "          3         2         1\n",
       "1 -0.298737  1.061884 -0.343667\n",
       "2  0.334671 -0.909897 -0.594869\n",
       "3 -1.285778 -0.079157 -0.370571"
      ]
     },
     "execution_count": 6,
     "metadata": {},
     "output_type": "execute_result"
    }
   ],
   "source": [
    "df = pd.DataFrame(randn(3,3),index='1 2 3'.split(), columns='3 2 1'.split())\n",
    "df"
   ]
  }
 ],
 "metadata": {
  "kernelspec": {
   "display_name": "Python 3 (ipykernel)",
   "language": "python",
   "name": "python3"
  },
  "language_info": {
   "codemirror_mode": {
    "name": "ipython",
    "version": 3
   },
   "file_extension": ".py",
   "mimetype": "text/x-python",
   "name": "python",
   "nbconvert_exporter": "python",
   "pygments_lexer": "ipython3",
   "version": "3.9.12"
  }
 },
 "nbformat": 4,
 "nbformat_minor": 5
}
