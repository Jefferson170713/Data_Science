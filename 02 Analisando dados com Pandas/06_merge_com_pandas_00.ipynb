{
 "cells": [
  {
   "cell_type": "markdown",
   "id": "cbcbf4a5-722f-4b58-af3f-2268f2d1dc10",
   "metadata": {},
   "source": [
    "# Merge.\n",
    "    Este tipo de função serve para juntar elementos, vamos definir assim por enquanto."
   ]
  },
  {
   "cell_type": "code",
   "execution_count": 13,
   "id": "d96beead-2f97-4801-b9b6-71c87b7514fa",
   "metadata": {},
   "outputs": [],
   "source": [
    "import pandas as pd"
   ]
  },
  {
   "cell_type": "code",
   "execution_count": 14,
   "id": "968b3aaf-9bc4-4865-b3cb-de0fad8165a5",
   "metadata": {},
   "outputs": [],
   "source": [
    "esquerda = pd.DataFrame(\n",
    "    {\n",
    "        'Clubes': ['placar 1','placar 2','placar 3','placar 4'],\n",
    "        'Flamengo': ['B0','B1','B2','B3'],\n",
    "        'Vasco': ['C0','C1','C2','C3'],\n",
    "        'Fortaleza': ['D0','D1','D2','D3']\n",
    "    }\n",
    ")"
   ]
  },
  {
   "cell_type": "code",
   "execution_count": 15,
   "id": "faaa88b2-a9b8-4bf6-b6df-7ad7843f428b",
   "metadata": {},
   "outputs": [],
   "source": [
    "direita = pd.DataFrame(\n",
    "    {\n",
    "        'Clubes': ['placar 1','placar 2','placar 3','placar 4'],\n",
    "        'Cruzeiro': ['B0','B1','B2','B3'],\n",
    "        'Botafogo': ['C0','C1','C2','C3'],\n",
    "        'Ceará': ['D0','D1','D2','D3']\n",
    "    }\n",
    ")"
   ]
  },
  {
   "cell_type": "code",
   "execution_count": 22,
   "id": "b3bcf134-ccd9-4731-96a4-bd219a1b2131",
   "metadata": {},
   "outputs": [
    {
     "data": {
      "text/html": [
       "<div>\n",
       "<style scoped>\n",
       "    .dataframe tbody tr th:only-of-type {\n",
       "        vertical-align: middle;\n",
       "    }\n",
       "\n",
       "    .dataframe tbody tr th {\n",
       "        vertical-align: top;\n",
       "    }\n",
       "\n",
       "    .dataframe thead th {\n",
       "        text-align: right;\n",
       "    }\n",
       "</style>\n",
       "<table border=\"1\" class=\"dataframe\">\n",
       "  <thead>\n",
       "    <tr style=\"text-align: right;\">\n",
       "      <th></th>\n",
       "      <th>Flamengo</th>\n",
       "      <th>Vasco</th>\n",
       "      <th>Fortaleza</th>\n",
       "      <th>Cruzeiro</th>\n",
       "      <th>Botafogo</th>\n",
       "      <th>Ceará</th>\n",
       "    </tr>\n",
       "    <tr>\n",
       "      <th>Clubes</th>\n",
       "      <th></th>\n",
       "      <th></th>\n",
       "      <th></th>\n",
       "      <th></th>\n",
       "      <th></th>\n",
       "      <th></th>\n",
       "    </tr>\n",
       "  </thead>\n",
       "  <tbody>\n",
       "    <tr>\n",
       "      <th>placar 1</th>\n",
       "      <td>B0</td>\n",
       "      <td>C0</td>\n",
       "      <td>D0</td>\n",
       "      <td>B0</td>\n",
       "      <td>C0</td>\n",
       "      <td>D0</td>\n",
       "    </tr>\n",
       "    <tr>\n",
       "      <th>placar 2</th>\n",
       "      <td>B1</td>\n",
       "      <td>C1</td>\n",
       "      <td>D1</td>\n",
       "      <td>B1</td>\n",
       "      <td>C1</td>\n",
       "      <td>D1</td>\n",
       "    </tr>\n",
       "    <tr>\n",
       "      <th>placar 3</th>\n",
       "      <td>B2</td>\n",
       "      <td>C2</td>\n",
       "      <td>D2</td>\n",
       "      <td>B2</td>\n",
       "      <td>C2</td>\n",
       "      <td>D2</td>\n",
       "    </tr>\n",
       "    <tr>\n",
       "      <th>placar 4</th>\n",
       "      <td>B3</td>\n",
       "      <td>C3</td>\n",
       "      <td>D3</td>\n",
       "      <td>B3</td>\n",
       "      <td>C3</td>\n",
       "      <td>D3</td>\n",
       "    </tr>\n",
       "  </tbody>\n",
       "</table>\n",
       "</div>"
      ],
      "text/plain": [
       "         Flamengo Vasco Fortaleza Cruzeiro Botafogo Ceará\n",
       "Clubes                                                   \n",
       "placar 1       B0    C0        D0       B0       C0    D0\n",
       "placar 2       B1    C1        D1       B1       C1    D1\n",
       "placar 3       B2    C2        D2       B2       C2    D2\n",
       "placar 4       B3    C3        D3       B3       C3    D3"
      ]
     },
     "execution_count": 22,
     "metadata": {},
     "output_type": "execute_result"
    }
   ],
   "source": [
    "df = pd.merge(esquerda, direita)\n",
    "df.reset_index()\n",
    "df.set_index('Clubes', inplace=True)\n",
    "df"
   ]
  },
  {
   "cell_type": "code",
   "execution_count": 23,
   "id": "5eed6b6d-0135-4d7a-9ec9-b5a23df46ecb",
   "metadata": {},
   "outputs": [
    {
     "data": {
      "text/html": [
       "<div>\n",
       "<style scoped>\n",
       "    .dataframe tbody tr th:only-of-type {\n",
       "        vertical-align: middle;\n",
       "    }\n",
       "\n",
       "    .dataframe tbody tr th {\n",
       "        vertical-align: top;\n",
       "    }\n",
       "\n",
       "    .dataframe thead th {\n",
       "        text-align: right;\n",
       "    }\n",
       "</style>\n",
       "<table border=\"1\" class=\"dataframe\">\n",
       "  <thead>\n",
       "    <tr style=\"text-align: right;\">\n",
       "      <th></th>\n",
       "      <th>Clubes</th>\n",
       "      <th>Flamengo</th>\n",
       "      <th>Vasco</th>\n",
       "      <th>Fortaleza</th>\n",
       "      <th>Cruzeiro</th>\n",
       "      <th>Botafogo</th>\n",
       "      <th>Ceará</th>\n",
       "    </tr>\n",
       "  </thead>\n",
       "  <tbody>\n",
       "    <tr>\n",
       "      <th>0</th>\n",
       "      <td>placar 1</td>\n",
       "      <td>B0</td>\n",
       "      <td>C0</td>\n",
       "      <td>D0</td>\n",
       "      <td>B0</td>\n",
       "      <td>C0</td>\n",
       "      <td>D0</td>\n",
       "    </tr>\n",
       "    <tr>\n",
       "      <th>1</th>\n",
       "      <td>placar 2</td>\n",
       "      <td>B1</td>\n",
       "      <td>C1</td>\n",
       "      <td>D1</td>\n",
       "      <td>B1</td>\n",
       "      <td>C1</td>\n",
       "      <td>D1</td>\n",
       "    </tr>\n",
       "    <tr>\n",
       "      <th>2</th>\n",
       "      <td>placar 3</td>\n",
       "      <td>B2</td>\n",
       "      <td>C2</td>\n",
       "      <td>D2</td>\n",
       "      <td>B2</td>\n",
       "      <td>C2</td>\n",
       "      <td>D2</td>\n",
       "    </tr>\n",
       "    <tr>\n",
       "      <th>3</th>\n",
       "      <td>placar 4</td>\n",
       "      <td>B3</td>\n",
       "      <td>C3</td>\n",
       "      <td>D3</td>\n",
       "      <td>B3</td>\n",
       "      <td>C3</td>\n",
       "      <td>D3</td>\n",
       "    </tr>\n",
       "  </tbody>\n",
       "</table>\n",
       "</div>"
      ],
      "text/plain": [
       "     Clubes Flamengo Vasco Fortaleza Cruzeiro Botafogo Ceará\n",
       "0  placar 1       B0    C0        D0       B0       C0    D0\n",
       "1  placar 2       B1    C1        D1       B1       C1    D1\n",
       "2  placar 3       B2    C2        D2       B2       C2    D2\n",
       "3  placar 4       B3    C3        D3       B3       C3    D3"
      ]
     },
     "execution_count": 23,
     "metadata": {},
     "output_type": "execute_result"
    }
   ],
   "source": [
    "df_1 = pd.merge(esquerda, direita, on='Clubes')\n",
    "df_1"
   ]
  }
 ],
 "metadata": {
  "kernelspec": {
   "display_name": "Python 3 (ipykernel)",
   "language": "python",
   "name": "python3"
  },
  "language_info": {
   "codemirror_mode": {
    "name": "ipython",
    "version": 3
   },
   "file_extension": ".py",
   "mimetype": "text/x-python",
   "name": "python",
   "nbconvert_exporter": "python",
   "pygments_lexer": "ipython3",
   "version": "3.9.12"
  }
 },
 "nbformat": 4,
 "nbformat_minor": 5
}
