{
 "cells": [
  {
   "cell_type": "markdown",
   "id": "86e43d70-475a-40cd-8cbf-6401827add1a",
   "metadata": {},
   "source": [
    "## Operações com DataFrames."
   ]
  },
  {
   "cell_type": "code",
   "execution_count": 62,
   "id": "e78ad48c-b1f9-4fff-8535-7163dd83adba",
   "metadata": {},
   "outputs": [],
   "source": [
    "import pandas as pd"
   ]
  },
  {
   "cell_type": "code",
   "execution_count": 63,
   "id": "1ac2edce-b5dc-4e5c-b0ad-9204219ab4af",
   "metadata": {},
   "outputs": [],
   "source": [
    "df = pd.DataFrame(\n",
    "    {\n",
    "        'NOME': 'Jefferson Rayssa Jefferson Rayssa'.split(),\n",
    "        'DESTINO' : ['Canoa Quebrada', 'Trairi', 'Cumbuco', 'Porto Das Dunas'],\n",
    "        'LAZER' : ['Passeios', 'Culinária Local','Tirolesa','Passeio de Bugg']\n",
    "    }\n",
    ")"
   ]
  },
  {
   "cell_type": "code",
   "execution_count": 64,
   "id": "d7600a2e-8471-4e48-8327-9e69576f01c5",
   "metadata": {},
   "outputs": [
    {
     "data": {
      "text/html": [
       "<div>\n",
       "<style scoped>\n",
       "    .dataframe tbody tr th:only-of-type {\n",
       "        vertical-align: middle;\n",
       "    }\n",
       "\n",
       "    .dataframe tbody tr th {\n",
       "        vertical-align: top;\n",
       "    }\n",
       "\n",
       "    .dataframe thead th {\n",
       "        text-align: right;\n",
       "    }\n",
       "</style>\n",
       "<table border=\"1\" class=\"dataframe\">\n",
       "  <thead>\n",
       "    <tr style=\"text-align: right;\">\n",
       "      <th></th>\n",
       "      <th>NOME</th>\n",
       "      <th>DESTINO</th>\n",
       "      <th>LAZER</th>\n",
       "    </tr>\n",
       "  </thead>\n",
       "  <tbody>\n",
       "    <tr>\n",
       "      <th>0</th>\n",
       "      <td>Jefferson</td>\n",
       "      <td>Canoa Quebrada</td>\n",
       "      <td>Passeios</td>\n",
       "    </tr>\n",
       "    <tr>\n",
       "      <th>1</th>\n",
       "      <td>Rayssa</td>\n",
       "      <td>Trairi</td>\n",
       "      <td>Culinária Local</td>\n",
       "    </tr>\n",
       "    <tr>\n",
       "      <th>2</th>\n",
       "      <td>Jefferson</td>\n",
       "      <td>Cumbuco</td>\n",
       "      <td>Tirolesa</td>\n",
       "    </tr>\n",
       "    <tr>\n",
       "      <th>3</th>\n",
       "      <td>Rayssa</td>\n",
       "      <td>Porto Das Dunas</td>\n",
       "      <td>Passeio de Bugg</td>\n",
       "    </tr>\n",
       "  </tbody>\n",
       "</table>\n",
       "</div>"
      ],
      "text/plain": [
       "        NOME          DESTINO            LAZER\n",
       "0  Jefferson   Canoa Quebrada         Passeios\n",
       "1     Rayssa           Trairi  Culinária Local\n",
       "2  Jefferson          Cumbuco         Tirolesa\n",
       "3     Rayssa  Porto Das Dunas  Passeio de Bugg"
      ]
     },
     "execution_count": 64,
     "metadata": {},
     "output_type": "execute_result"
    }
   ],
   "source": [
    "df"
   ]
  },
  {
   "cell_type": "code",
   "execution_count": 65,
   "id": "86cf709a-b7a3-4d6a-bf3b-1c2f786eee34",
   "metadata": {},
   "outputs": [
    {
     "data": {
      "text/html": [
       "<div>\n",
       "<style scoped>\n",
       "    .dataframe tbody tr th:only-of-type {\n",
       "        vertical-align: middle;\n",
       "    }\n",
       "\n",
       "    .dataframe tbody tr th {\n",
       "        vertical-align: top;\n",
       "    }\n",
       "\n",
       "    .dataframe thead th {\n",
       "        text-align: right;\n",
       "    }\n",
       "</style>\n",
       "<table border=\"1\" class=\"dataframe\">\n",
       "  <thead>\n",
       "    <tr style=\"text-align: right;\">\n",
       "      <th></th>\n",
       "      <th>NOME</th>\n",
       "      <th>DESTINO</th>\n",
       "      <th>LAZER</th>\n",
       "    </tr>\n",
       "    <tr>\n",
       "      <th>index_novo</th>\n",
       "      <th></th>\n",
       "      <th></th>\n",
       "      <th></th>\n",
       "    </tr>\n",
       "  </thead>\n",
       "  <tbody>\n",
       "    <tr>\n",
       "      <th>A</th>\n",
       "      <td>Jefferson</td>\n",
       "      <td>Canoa Quebrada</td>\n",
       "      <td>Passeios</td>\n",
       "    </tr>\n",
       "    <tr>\n",
       "      <th>B</th>\n",
       "      <td>Rayssa</td>\n",
       "      <td>Trairi</td>\n",
       "      <td>Culinária Local</td>\n",
       "    </tr>\n",
       "    <tr>\n",
       "      <th>C</th>\n",
       "      <td>Jefferson</td>\n",
       "      <td>Cumbuco</td>\n",
       "      <td>Tirolesa</td>\n",
       "    </tr>\n",
       "    <tr>\n",
       "      <th>D</th>\n",
       "      <td>Rayssa</td>\n",
       "      <td>Porto Das Dunas</td>\n",
       "      <td>Passeio de Bugg</td>\n",
       "    </tr>\n",
       "  </tbody>\n",
       "</table>\n",
       "</div>"
      ],
      "text/plain": [
       "                 NOME          DESTINO            LAZER\n",
       "index_novo                                             \n",
       "A           Jefferson   Canoa Quebrada         Passeios\n",
       "B              Rayssa           Trairi  Culinária Local\n",
       "C           Jefferson          Cumbuco         Tirolesa\n",
       "D              Rayssa  Porto Das Dunas  Passeio de Bugg"
      ]
     },
     "execution_count": 65,
     "metadata": {},
     "output_type": "execute_result"
    }
   ],
   "source": [
    "df['index_novo'] = 'A B C D'.split()\n",
    "df.reset_index()\n",
    "df.set_index('index_novo', inplace=True)\n",
    "df"
   ]
  },
  {
   "cell_type": "code",
   "execution_count": 66,
   "id": "beb7f2b4-efb2-4b1f-889c-53624a0a36a0",
   "metadata": {},
   "outputs": [
    {
     "name": "stdout",
     "output_type": "stream",
     "text": [
      "<class 'pandas.core.frame.DataFrame'>\n",
      "Index: 4 entries, A to D\n",
      "Data columns (total 3 columns):\n",
      " #   Column   Non-Null Count  Dtype \n",
      "---  ------   --------------  ----- \n",
      " 0   NOME     4 non-null      object\n",
      " 1   DESTINO  4 non-null      object\n",
      " 2   LAZER    4 non-null      object\n",
      "dtypes: object(3)\n",
      "memory usage: 128.0+ bytes\n"
     ]
    }
   ],
   "source": [
    "df.info()"
   ]
  },
  {
   "cell_type": "code",
   "execution_count": 67,
   "id": "524853f5-8baa-471e-ac63-59db465b39aa",
   "metadata": {},
   "outputs": [
    {
     "data": {
      "text/plain": [
       "<bound method DataFrame.info of                  NOME          DESTINO            LAZER\n",
       "index_novo                                             \n",
       "A           Jefferson   Canoa Quebrada         Passeios\n",
       "B              Rayssa           Trairi  Culinária Local\n",
       "C           Jefferson          Cumbuco         Tirolesa\n",
       "D              Rayssa  Porto Das Dunas  Passeio de Bugg>"
      ]
     },
     "execution_count": 67,
     "metadata": {},
     "output_type": "execute_result"
    }
   ],
   "source": [
    "df.info"
   ]
  },
  {
   "cell_type": "code",
   "execution_count": 68,
   "id": "622b97f4-79c6-44a8-9fd3-f3695aad73c0",
   "metadata": {},
   "outputs": [
    {
     "data": {
      "text/plain": [
       "<bound method DataFrame.memory_usage of                  NOME          DESTINO            LAZER\n",
       "index_novo                                             \n",
       "A           Jefferson   Canoa Quebrada         Passeios\n",
       "B              Rayssa           Trairi  Culinária Local\n",
       "C           Jefferson          Cumbuco         Tirolesa\n",
       "D              Rayssa  Porto Das Dunas  Passeio de Bugg>"
      ]
     },
     "execution_count": 68,
     "metadata": {},
     "output_type": "execute_result"
    }
   ],
   "source": [
    "df.memory_usage"
   ]
  },
  {
   "cell_type": "code",
   "execution_count": 69,
   "id": "85ef13c4-e118-4b1e-8ec9-ff22b96ea199",
   "metadata": {},
   "outputs": [
    {
     "data": {
      "text/plain": [
       "Index      32\n",
       "NOME       32\n",
       "DESTINO    32\n",
       "LAZER      32\n",
       "dtype: int64"
      ]
     },
     "execution_count": 69,
     "metadata": {},
     "output_type": "execute_result"
    }
   ],
   "source": [
    "df.memory_usage()"
   ]
  },
  {
   "cell_type": "markdown",
   "id": "a85f608c-e8fe-4156-b9a3-ca6d9abb0ed4",
   "metadata": {},
   "source": [
    "#### Retorna vaalores únicos."
   ]
  },
  {
   "cell_type": "code",
   "execution_count": 70,
   "id": "7a086f8e-11fa-456b-9566-a33afb7d4b82",
   "metadata": {},
   "outputs": [
    {
     "data": {
      "text/plain": [
       "array(['Jefferson', 'Rayssa'], dtype=object)"
      ]
     },
     "execution_count": 70,
     "metadata": {},
     "output_type": "execute_result"
    }
   ],
   "source": [
    "df['NOME'].unique()"
   ]
  },
  {
   "cell_type": "code",
   "execution_count": 71,
   "id": "d98f126d-76c7-44ff-a487-de21e4094445",
   "metadata": {},
   "outputs": [
    {
     "data": {
      "text/plain": [
       "array(['Passeios', 'Culinária Local', 'Tirolesa', 'Passeio de Bugg'],\n",
       "      dtype=object)"
      ]
     },
     "execution_count": 71,
     "metadata": {},
     "output_type": "execute_result"
    }
   ],
   "source": [
    "df['LAZER'].unique()"
   ]
  },
  {
   "cell_type": "code",
   "execution_count": 72,
   "id": "bb92b727-4b86-4621-b301-035472377b1a",
   "metadata": {},
   "outputs": [
    {
     "data": {
      "text/plain": [
       "array(['Canoa Quebrada', 'Trairi', 'Cumbuco', 'Porto Das Dunas'],\n",
       "      dtype=object)"
      ]
     },
     "execution_count": 72,
     "metadata": {},
     "output_type": "execute_result"
    }
   ],
   "source": [
    "df['DESTINO'].unique()"
   ]
  },
  {
   "cell_type": "markdown",
   "id": "8e092a9f-3d06-4b2a-b4e7-96313842586d",
   "metadata": {},
   "source": [
    "##### Retorna valores únicos nas colunas especificadas."
   ]
  },
  {
   "cell_type": "code",
   "execution_count": 73,
   "id": "c58dbdf1-e121-481e-82ff-8083fdbab4a8",
   "metadata": {},
   "outputs": [
    {
     "data": {
      "text/plain": [
       "2"
      ]
     },
     "execution_count": 73,
     "metadata": {},
     "output_type": "execute_result"
    }
   ],
   "source": [
    "df['NOME'].nunique()"
   ]
  },
  {
   "cell_type": "markdown",
   "id": "96c20bca-74da-4035-bb83-9840b63523c8",
   "metadata": {},
   "source": [
    "#### Com o Value_counts, diz quantas vezes os nomes ou valores aparecem repetidas vezes."
   ]
  },
  {
   "cell_type": "code",
   "execution_count": 74,
   "id": "f02abe36-d6f9-4fd7-929b-d9498005beff",
   "metadata": {},
   "outputs": [
    {
     "data": {
      "text/plain": [
       "Jefferson    2\n",
       "Rayssa       2\n",
       "Name: NOME, dtype: int64"
      ]
     },
     "execution_count": 74,
     "metadata": {},
     "output_type": "execute_result"
    }
   ],
   "source": [
    "df['NOME'].value_counts()"
   ]
  },
  {
   "cell_type": "markdown",
   "id": "a893ab94-9621-404a-a011-7eeec0d5e768",
   "metadata": {},
   "source": [
    "### Aplicando funções dentro do dataFrame.\n",
    "    com o método applay."
   ]
  },
  {
   "cell_type": "code",
   "execution_count": 75,
   "id": "ed7874fe-31bd-48ea-af51-08a4898eff0a",
   "metadata": {},
   "outputs": [
    {
     "data": {
      "text/html": [
       "<div>\n",
       "<style scoped>\n",
       "    .dataframe tbody tr th:only-of-type {\n",
       "        vertical-align: middle;\n",
       "    }\n",
       "\n",
       "    .dataframe tbody tr th {\n",
       "        vertical-align: top;\n",
       "    }\n",
       "\n",
       "    .dataframe thead th {\n",
       "        text-align: right;\n",
       "    }\n",
       "</style>\n",
       "<table border=\"1\" class=\"dataframe\">\n",
       "  <thead>\n",
       "    <tr style=\"text-align: right;\">\n",
       "      <th></th>\n",
       "      <th>NOME</th>\n",
       "      <th>DESTINO</th>\n",
       "      <th>LAZER</th>\n",
       "      <th>VALOR</th>\n",
       "    </tr>\n",
       "    <tr>\n",
       "      <th>index_novo</th>\n",
       "      <th></th>\n",
       "      <th></th>\n",
       "      <th></th>\n",
       "      <th></th>\n",
       "    </tr>\n",
       "  </thead>\n",
       "  <tbody>\n",
       "    <tr>\n",
       "      <th>A</th>\n",
       "      <td>Jefferson</td>\n",
       "      <td>Canoa Quebrada</td>\n",
       "      <td>Passeios</td>\n",
       "      <td>10</td>\n",
       "    </tr>\n",
       "    <tr>\n",
       "      <th>B</th>\n",
       "      <td>Rayssa</td>\n",
       "      <td>Trairi</td>\n",
       "      <td>Culinária Local</td>\n",
       "      <td>12</td>\n",
       "    </tr>\n",
       "    <tr>\n",
       "      <th>C</th>\n",
       "      <td>Jefferson</td>\n",
       "      <td>Cumbuco</td>\n",
       "      <td>Tirolesa</td>\n",
       "      <td>13</td>\n",
       "    </tr>\n",
       "    <tr>\n",
       "      <th>D</th>\n",
       "      <td>Rayssa</td>\n",
       "      <td>Porto Das Dunas</td>\n",
       "      <td>Passeio de Bugg</td>\n",
       "      <td>14</td>\n",
       "    </tr>\n",
       "  </tbody>\n",
       "</table>\n",
       "</div>"
      ],
      "text/plain": [
       "                 NOME          DESTINO            LAZER  VALOR\n",
       "index_novo                                                    \n",
       "A           Jefferson   Canoa Quebrada         Passeios     10\n",
       "B              Rayssa           Trairi  Culinária Local     12\n",
       "C           Jefferson          Cumbuco         Tirolesa     13\n",
       "D              Rayssa  Porto Das Dunas  Passeio de Bugg     14"
      ]
     },
     "execution_count": 75,
     "metadata": {},
     "output_type": "execute_result"
    }
   ],
   "source": [
    "df['VALOR'] = [10, 12, 13, 14]\n",
    "df"
   ]
  },
  {
   "cell_type": "code",
   "execution_count": 76,
   "id": "b9365efe-9607-42f3-9cdc-783ebddf1452",
   "metadata": {},
   "outputs": [],
   "source": [
    "def calcula_valor(x):\n",
    "    return x ** 2"
   ]
  },
  {
   "cell_type": "markdown",
   "id": "8a3da930-364a-4a2f-aa18-e438e7a263d4",
   "metadata": {},
   "source": [
    "### Detalhe super interessante é que que você precisa passar o valor da função para o método apply praticamente crur."
   ]
  },
  {
   "cell_type": "code",
   "execution_count": 77,
   "id": "2dcf65ae-6a63-4a1c-8dec-ae5f063eea11",
   "metadata": {},
   "outputs": [
    {
     "data": {
      "text/html": [
       "<div>\n",
       "<style scoped>\n",
       "    .dataframe tbody tr th:only-of-type {\n",
       "        vertical-align: middle;\n",
       "    }\n",
       "\n",
       "    .dataframe tbody tr th {\n",
       "        vertical-align: top;\n",
       "    }\n",
       "\n",
       "    .dataframe thead th {\n",
       "        text-align: right;\n",
       "    }\n",
       "</style>\n",
       "<table border=\"1\" class=\"dataframe\">\n",
       "  <thead>\n",
       "    <tr style=\"text-align: right;\">\n",
       "      <th></th>\n",
       "      <th>NOME</th>\n",
       "      <th>DESTINO</th>\n",
       "      <th>LAZER</th>\n",
       "      <th>VALOR</th>\n",
       "      <th>VALOR CORRIGIDO</th>\n",
       "    </tr>\n",
       "    <tr>\n",
       "      <th>index_novo</th>\n",
       "      <th></th>\n",
       "      <th></th>\n",
       "      <th></th>\n",
       "      <th></th>\n",
       "      <th></th>\n",
       "    </tr>\n",
       "  </thead>\n",
       "  <tbody>\n",
       "    <tr>\n",
       "      <th>A</th>\n",
       "      <td>Jefferson</td>\n",
       "      <td>Canoa Quebrada</td>\n",
       "      <td>Passeios</td>\n",
       "      <td>10</td>\n",
       "      <td>100</td>\n",
       "    </tr>\n",
       "    <tr>\n",
       "      <th>B</th>\n",
       "      <td>Rayssa</td>\n",
       "      <td>Trairi</td>\n",
       "      <td>Culinária Local</td>\n",
       "      <td>12</td>\n",
       "      <td>144</td>\n",
       "    </tr>\n",
       "    <tr>\n",
       "      <th>C</th>\n",
       "      <td>Jefferson</td>\n",
       "      <td>Cumbuco</td>\n",
       "      <td>Tirolesa</td>\n",
       "      <td>13</td>\n",
       "      <td>169</td>\n",
       "    </tr>\n",
       "    <tr>\n",
       "      <th>D</th>\n",
       "      <td>Rayssa</td>\n",
       "      <td>Porto Das Dunas</td>\n",
       "      <td>Passeio de Bugg</td>\n",
       "      <td>14</td>\n",
       "      <td>196</td>\n",
       "    </tr>\n",
       "  </tbody>\n",
       "</table>\n",
       "</div>"
      ],
      "text/plain": [
       "                 NOME          DESTINO            LAZER  VALOR  \\\n",
       "index_novo                                                       \n",
       "A           Jefferson   Canoa Quebrada         Passeios     10   \n",
       "B              Rayssa           Trairi  Culinária Local     12   \n",
       "C           Jefferson          Cumbuco         Tirolesa     13   \n",
       "D              Rayssa  Porto Das Dunas  Passeio de Bugg     14   \n",
       "\n",
       "            VALOR CORRIGIDO  \n",
       "index_novo                   \n",
       "A                       100  \n",
       "B                       144  \n",
       "C                       169  \n",
       "D                       196  "
      ]
     },
     "execution_count": 77,
     "metadata": {},
     "output_type": "execute_result"
    }
   ],
   "source": [
    "df['VALOR CORRIGIDO'] = df['VALOR'].apply(calcula_valor)\n",
    "df"
   ]
  },
  {
   "cell_type": "code",
   "execution_count": 81,
   "id": "599552f7-b654-4377-8c5e-a6c8cb977659",
   "metadata": {},
   "outputs": [
    {
     "data": {
      "text/html": [
       "<div>\n",
       "<style scoped>\n",
       "    .dataframe tbody tr th:only-of-type {\n",
       "        vertical-align: middle;\n",
       "    }\n",
       "\n",
       "    .dataframe tbody tr th {\n",
       "        vertical-align: top;\n",
       "    }\n",
       "\n",
       "    .dataframe thead th {\n",
       "        text-align: right;\n",
       "    }\n",
       "</style>\n",
       "<table border=\"1\" class=\"dataframe\">\n",
       "  <thead>\n",
       "    <tr style=\"text-align: right;\">\n",
       "      <th></th>\n",
       "      <th>NOME</th>\n",
       "      <th>DESTINO</th>\n",
       "      <th>LAZER</th>\n",
       "      <th>VALOR CORRIGIDO</th>\n",
       "    </tr>\n",
       "    <tr>\n",
       "      <th>index_novo</th>\n",
       "      <th></th>\n",
       "      <th></th>\n",
       "      <th></th>\n",
       "      <th></th>\n",
       "    </tr>\n",
       "  </thead>\n",
       "  <tbody>\n",
       "    <tr>\n",
       "      <th>A</th>\n",
       "      <td>Jefferson</td>\n",
       "      <td>Canoa Quebrada</td>\n",
       "      <td>Passeios</td>\n",
       "      <td>100</td>\n",
       "    </tr>\n",
       "    <tr>\n",
       "      <th>B</th>\n",
       "      <td>Rayssa</td>\n",
       "      <td>Trairi</td>\n",
       "      <td>Culinária Local</td>\n",
       "      <td>144</td>\n",
       "    </tr>\n",
       "    <tr>\n",
       "      <th>C</th>\n",
       "      <td>Jefferson</td>\n",
       "      <td>Cumbuco</td>\n",
       "      <td>Tirolesa</td>\n",
       "      <td>169</td>\n",
       "    </tr>\n",
       "    <tr>\n",
       "      <th>D</th>\n",
       "      <td>Rayssa</td>\n",
       "      <td>Porto Das Dunas</td>\n",
       "      <td>Passeio de Bugg</td>\n",
       "      <td>196</td>\n",
       "    </tr>\n",
       "  </tbody>\n",
       "</table>\n",
       "</div>"
      ],
      "text/plain": [
       "                 NOME          DESTINO            LAZER  VALOR CORRIGIDO\n",
       "index_novo                                                              \n",
       "A           Jefferson   Canoa Quebrada         Passeios              100\n",
       "B              Rayssa           Trairi  Culinária Local              144\n",
       "C           Jefferson          Cumbuco         Tirolesa              169\n",
       "D              Rayssa  Porto Das Dunas  Passeio de Bugg              196"
      ]
     },
     "execution_count": 81,
     "metadata": {},
     "output_type": "execute_result"
    }
   ],
   "source": [
    "df.drop('VALOR', axis=1,inplace=True)\n",
    "df"
   ]
  },
  {
   "cell_type": "markdown",
   "id": "651f75f6-65bb-4b9b-84ab-d2c5a954c190",
   "metadata": {},
   "source": [
    "#### Agora vamos calcular alguns valores usando alguns métodos."
   ]
  },
  {
   "cell_type": "code",
   "execution_count": 100,
   "id": "15fa42a6-933e-45a4-bf5d-4ae199728033",
   "metadata": {},
   "outputs": [
    {
     "data": {
      "text/plain": [
       "609"
      ]
     },
     "execution_count": 100,
     "metadata": {},
     "output_type": "execute_result"
    }
   ],
   "source": [
    "df['VALOR CORRIGIDO'].sum() # Calculando a soma da coluna."
   ]
  },
  {
   "cell_type": "code",
   "execution_count": 101,
   "id": "cf7ce5fc-fec8-4c9b-bd44-c383d6fe5a7c",
   "metadata": {},
   "outputs": [
    {
     "data": {
      "text/plain": [
       "196"
      ]
     },
     "execution_count": 101,
     "metadata": {},
     "output_type": "execute_result"
    }
   ],
   "source": [
    "df['VALOR CORRIGIDO'].max() # Calculando o valor máximo"
   ]
  },
  {
   "cell_type": "code",
   "execution_count": 99,
   "id": "28b60d4d-fa06-401b-a8b9-0ead81254841",
   "metadata": {},
   "outputs": [
    {
     "data": {
      "text/plain": [
       "100"
      ]
     },
     "execution_count": 99,
     "metadata": {},
     "output_type": "execute_result"
    }
   ],
   "source": [
    "df['VALOR CORRIGIDO'].minn() # Calculando o valor mínimo."
   ]
  },
  {
   "cell_type": "code",
   "execution_count": 102,
   "id": "434c246b-0c98-4522-8672-d9d982afe194",
   "metadata": {},
   "outputs": [
    {
     "data": {
      "text/plain": [
       "40.79522030826651"
      ]
     },
     "execution_count": 102,
     "metadata": {},
     "output_type": "execute_result"
    }
   ],
   "source": [
    "df['VALOR CORRIGIDO'].std() # Calculando o desvio padrão."
   ]
  },
  {
   "cell_type": "code",
   "execution_count": 105,
   "id": "e3f4ee25-5c97-4238-91a1-fd3ac5c50fe7",
   "metadata": {},
   "outputs": [
    {
     "data": {
      "text/plain": [
       "'D'"
      ]
     },
     "execution_count": 105,
     "metadata": {},
     "output_type": "execute_result"
    }
   ],
   "source": [
    "df['VALOR CORRIGIDO'].idxmax() # Calculando o índice com o valor máximo."
   ]
  },
  {
   "cell_type": "markdown",
   "id": "3ee2cf31-54f0-4d67-91e9-6fbf0e68969b",
   "metadata": {},
   "source": [
    "#### Alterando os nomes ou valoes e agrupando em uma nova coluna."
   ]
  },
  {
   "cell_type": "code",
   "execution_count": 107,
   "id": "4500d9ed-bc65-4297-9004-42a9848017c5",
   "metadata": {},
   "outputs": [
    {
     "data": {
      "text/html": [
       "<div>\n",
       "<style scoped>\n",
       "    .dataframe tbody tr th:only-of-type {\n",
       "        vertical-align: middle;\n",
       "    }\n",
       "\n",
       "    .dataframe tbody tr th {\n",
       "        vertical-align: top;\n",
       "    }\n",
       "\n",
       "    .dataframe thead th {\n",
       "        text-align: right;\n",
       "    }\n",
       "</style>\n",
       "<table border=\"1\" class=\"dataframe\">\n",
       "  <thead>\n",
       "    <tr style=\"text-align: right;\">\n",
       "      <th></th>\n",
       "      <th>NOME</th>\n",
       "      <th>DESTINO</th>\n",
       "      <th>LAZER</th>\n",
       "      <th>VALOR CORRIGIDO</th>\n",
       "      <th>NOMES M</th>\n",
       "    </tr>\n",
       "    <tr>\n",
       "      <th>index_novo</th>\n",
       "      <th></th>\n",
       "      <th></th>\n",
       "      <th></th>\n",
       "      <th></th>\n",
       "      <th></th>\n",
       "    </tr>\n",
       "  </thead>\n",
       "  <tbody>\n",
       "    <tr>\n",
       "      <th>A</th>\n",
       "      <td>Jefferson</td>\n",
       "      <td>Canoa Quebrada</td>\n",
       "      <td>Passeios</td>\n",
       "      <td>100</td>\n",
       "      <td>JEFFERSON</td>\n",
       "    </tr>\n",
       "    <tr>\n",
       "      <th>B</th>\n",
       "      <td>Rayssa</td>\n",
       "      <td>Trairi</td>\n",
       "      <td>Culinária Local</td>\n",
       "      <td>144</td>\n",
       "      <td>RAYSSA</td>\n",
       "    </tr>\n",
       "    <tr>\n",
       "      <th>C</th>\n",
       "      <td>Jefferson</td>\n",
       "      <td>Cumbuco</td>\n",
       "      <td>Tirolesa</td>\n",
       "      <td>169</td>\n",
       "      <td>JEFFERSON</td>\n",
       "    </tr>\n",
       "    <tr>\n",
       "      <th>D</th>\n",
       "      <td>Rayssa</td>\n",
       "      <td>Porto Das Dunas</td>\n",
       "      <td>Passeio de Bugg</td>\n",
       "      <td>196</td>\n",
       "      <td>RAYSSA</td>\n",
       "    </tr>\n",
       "  </tbody>\n",
       "</table>\n",
       "</div>"
      ],
      "text/plain": [
       "                 NOME          DESTINO            LAZER  VALOR CORRIGIDO  \\\n",
       "index_novo                                                                 \n",
       "A           Jefferson   Canoa Quebrada         Passeios              100   \n",
       "B              Rayssa           Trairi  Culinária Local              144   \n",
       "C           Jefferson          Cumbuco         Tirolesa              169   \n",
       "D              Rayssa  Porto Das Dunas  Passeio de Bugg              196   \n",
       "\n",
       "              NOMES M  \n",
       "index_novo             \n",
       "A           JEFFERSON  \n",
       "B              RAYSSA  \n",
       "C           JEFFERSON  \n",
       "D              RAYSSA  "
      ]
     },
     "execution_count": 107,
     "metadata": {},
     "output_type": "execute_result"
    }
   ],
   "source": [
    "nome_caixa_alta = { 'Jefferson': 'JEFFERSON', 'Rayssa' : 'RAYSSA'} # Trocou onde encontrou menusculo por maiúscula.\n",
    "\n",
    "df['NOMES M'] = df['NOME'].map(nome_caixa_alta)\n",
    "df"
   ]
  },
  {
   "cell_type": "code",
   "execution_count": null,
   "id": "02baa158-cfb9-465e-997e-d4dc4a3f1f45",
   "metadata": {},
   "outputs": [],
   "source": []
  }
 ],
 "metadata": {
  "kernelspec": {
   "display_name": "Python 3 (ipykernel)",
   "language": "python",
   "name": "python3"
  },
  "language_info": {
   "codemirror_mode": {
    "name": "ipython",
    "version": 3
   },
   "file_extension": ".py",
   "mimetype": "text/x-python",
   "name": "python",
   "nbconvert_exporter": "python",
   "pygments_lexer": "ipython3",
   "version": "3.9.12"
  }
 },
 "nbformat": 4,
 "nbformat_minor": 5
}
