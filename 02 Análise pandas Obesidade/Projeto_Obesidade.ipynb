{
 "cells": [
  {
   "cell_type": "markdown",
   "id": "6d233e01-79eb-45dc-81e4-ae00334daa32",
   "metadata": {},
   "source": [
    "## Projeto 2 analisando dados com o Pandas, Obesidade."
   ]
  },
  {
   "cell_type": "code",
   "execution_count": 1,
   "id": "85b309d1-76d6-4192-82cf-48f4bdcb7a2f",
   "metadata": {},
   "outputs": [],
   "source": [
    "import pandas as pd\n",
    "import numpy as np"
   ]
  },
  {
   "cell_type": "code",
   "execution_count": 2,
   "id": "51caae90-fe3c-44b5-b2e4-bc8d3c5825ff",
   "metadata": {},
   "outputs": [
    {
     "data": {
      "text/html": [
       "<div>\n",
       "<style scoped>\n",
       "    .dataframe tbody tr th:only-of-type {\n",
       "        vertical-align: middle;\n",
       "    }\n",
       "\n",
       "    .dataframe tbody tr th {\n",
       "        vertical-align: top;\n",
       "    }\n",
       "\n",
       "    .dataframe thead th {\n",
       "        text-align: right;\n",
       "    }\n",
       "</style>\n",
       "<table border=\"1\" class=\"dataframe\">\n",
       "  <thead>\n",
       "    <tr style=\"text-align: right;\">\n",
       "      <th></th>\n",
       "      <th>Country</th>\n",
       "      <th>Year</th>\n",
       "      <th>Obesity (%)</th>\n",
       "      <th>Sex</th>\n",
       "    </tr>\n",
       "  </thead>\n",
       "  <tbody>\n",
       "    <tr>\n",
       "      <th>0</th>\n",
       "      <td>Afghanistan</td>\n",
       "      <td>1975</td>\n",
       "      <td>0.5 [0.2-1.1]</td>\n",
       "      <td>Both sexes</td>\n",
       "    </tr>\n",
       "    <tr>\n",
       "      <th>1</th>\n",
       "      <td>Afghanistan</td>\n",
       "      <td>1975</td>\n",
       "      <td>0.2 [0.0-0.6]</td>\n",
       "      <td>Male</td>\n",
       "    </tr>\n",
       "    <tr>\n",
       "      <th>2</th>\n",
       "      <td>Afghanistan</td>\n",
       "      <td>1975</td>\n",
       "      <td>0.8 [0.2-2.0]</td>\n",
       "      <td>Female</td>\n",
       "    </tr>\n",
       "    <tr>\n",
       "      <th>3</th>\n",
       "      <td>Afghanistan</td>\n",
       "      <td>1976</td>\n",
       "      <td>0.5 [0.2-1.1]</td>\n",
       "      <td>Both sexes</td>\n",
       "    </tr>\n",
       "    <tr>\n",
       "      <th>4</th>\n",
       "      <td>Afghanistan</td>\n",
       "      <td>1976</td>\n",
       "      <td>0.2 [0.0-0.7]</td>\n",
       "      <td>Male</td>\n",
       "    </tr>\n",
       "    <tr>\n",
       "      <th>...</th>\n",
       "      <td>...</td>\n",
       "      <td>...</td>\n",
       "      <td>...</td>\n",
       "      <td>...</td>\n",
       "    </tr>\n",
       "    <tr>\n",
       "      <th>24565</th>\n",
       "      <td>Zimbabwe</td>\n",
       "      <td>2015</td>\n",
       "      <td>4.5 [2.4-7.6]</td>\n",
       "      <td>Male</td>\n",
       "    </tr>\n",
       "    <tr>\n",
       "      <th>24566</th>\n",
       "      <td>Zimbabwe</td>\n",
       "      <td>2015</td>\n",
       "      <td>24.8 [18.9-31.3]</td>\n",
       "      <td>Female</td>\n",
       "    </tr>\n",
       "    <tr>\n",
       "      <th>24567</th>\n",
       "      <td>Zimbabwe</td>\n",
       "      <td>2016</td>\n",
       "      <td>15.5 [12.0-19.2]</td>\n",
       "      <td>Both sexes</td>\n",
       "    </tr>\n",
       "    <tr>\n",
       "      <th>24568</th>\n",
       "      <td>Zimbabwe</td>\n",
       "      <td>2016</td>\n",
       "      <td>4.7 [2.5-8.0]</td>\n",
       "      <td>Male</td>\n",
       "    </tr>\n",
       "    <tr>\n",
       "      <th>24569</th>\n",
       "      <td>Zimbabwe</td>\n",
       "      <td>2016</td>\n",
       "      <td>25.3 [19.1-32.0]</td>\n",
       "      <td>Female</td>\n",
       "    </tr>\n",
       "  </tbody>\n",
       "</table>\n",
       "<p>24570 rows × 4 columns</p>\n",
       "</div>"
      ],
      "text/plain": [
       "           Country  Year       Obesity (%)         Sex\n",
       "0      Afghanistan  1975     0.5 [0.2-1.1]  Both sexes\n",
       "1      Afghanistan  1975     0.2 [0.0-0.6]        Male\n",
       "2      Afghanistan  1975     0.8 [0.2-2.0]      Female\n",
       "3      Afghanistan  1976     0.5 [0.2-1.1]  Both sexes\n",
       "4      Afghanistan  1976     0.2 [0.0-0.7]        Male\n",
       "...            ...   ...               ...         ...\n",
       "24565     Zimbabwe  2015     4.5 [2.4-7.6]        Male\n",
       "24566     Zimbabwe  2015  24.8 [18.9-31.3]      Female\n",
       "24567     Zimbabwe  2016  15.5 [12.0-19.2]  Both sexes\n",
       "24568     Zimbabwe  2016     4.7 [2.5-8.0]        Male\n",
       "24569     Zimbabwe  2016  25.3 [19.1-32.0]      Female\n",
       "\n",
       "[24570 rows x 4 columns]"
      ]
     },
     "execution_count": 2,
     "metadata": {},
     "output_type": "execute_result"
    }
   ],
   "source": [
    "df = pd.read_csv('C:/Users/55859/Desktop/Estudos/Data Science/02 Análise pandas Obesidade/obesity_cleaned.csv', index_col=0)\n",
    "df"
   ]
  },
  {
   "cell_type": "markdown",
   "id": "38904116-9700-4a96-9d8a-e4c7e18ca4bf",
   "metadata": {},
   "source": [
    "### 1 - Observando os tipos de dados.\n",
    "    - Função sahpe\n",
    "    - Função info()"
   ]
  },
  {
   "cell_type": "code",
   "execution_count": 3,
   "id": "9bf67f1d-5861-4cff-ae52-3f11fb1dce05",
   "metadata": {},
   "outputs": [
    {
     "data": {
      "text/plain": [
       "(24570, 4)"
      ]
     },
     "execution_count": 3,
     "metadata": {},
     "output_type": "execute_result"
    }
   ],
   "source": [
    "df.shape"
   ]
  },
  {
   "cell_type": "code",
   "execution_count": 4,
   "id": "6fd4c918-b1f0-4c71-9174-95ffa6eeb964",
   "metadata": {},
   "outputs": [
    {
     "name": "stdout",
     "output_type": "stream",
     "text": [
      "<class 'pandas.core.frame.DataFrame'>\n",
      "Int64Index: 24570 entries, 0 to 24569\n",
      "Data columns (total 4 columns):\n",
      " #   Column       Non-Null Count  Dtype \n",
      "---  ------       --------------  ----- \n",
      " 0   Country      24570 non-null  object\n",
      " 1   Year         24570 non-null  int64 \n",
      " 2   Obesity (%)  24570 non-null  object\n",
      " 3   Sex          24570 non-null  object\n",
      "dtypes: int64(1), object(3)\n",
      "memory usage: 959.8+ KB\n"
     ]
    }
   ],
   "source": [
    "df.info()"
   ]
  },
  {
   "cell_type": "code",
   "execution_count": 5,
   "id": "61bb5f6d",
   "metadata": {},
   "outputs": [
    {
     "data": {
      "text/plain": [
       "Afghanistan    126\n",
       "Saint Lucia    126\n",
       "Niger          126\n",
       "Nigeria        126\n",
       "Niue           126\n",
       "              ... \n",
       "Ghana          126\n",
       "Greece         126\n",
       "Grenada        126\n",
       "Guatemala      126\n",
       "Zimbabwe       126\n",
       "Name: Country, Length: 195, dtype: int64"
      ]
     },
     "execution_count": 5,
     "metadata": {},
     "output_type": "execute_result"
    }
   ],
   "source": [
    "df['Country'].value_counts()"
   ]
  },
  {
   "cell_type": "markdown",
   "id": "508142a9",
   "metadata": {},
   "source": [
    "- Observe:\n",
    "    ###### Na coluna [Obesity (%)], temos dados 'No' e 'data' é somo se fosse dados nulos. precisamos reparar isso na hora da conversão para float."
   ]
  },
  {
   "cell_type": "code",
   "execution_count": 6,
   "id": "4c5d3e81",
   "metadata": {},
   "outputs": [
    {
     "data": {
      "text/plain": [
       "No data            504\n",
       "0.4 [0.1-1.0]       55\n",
       "0.6 [0.2-1.3]       47\n",
       "0.3 [0.1-0.7]       46\n",
       "0.3 [0.1-0.8]       46\n",
       "                  ... \n",
       "9.5 [6.7-13.1]       1\n",
       "4.4 [2.2-7.6]        1\n",
       "14.1 [9.1-20.3]      1\n",
       "9.8 [6.9-13.4]       1\n",
       "4.7 [2.5-8.0]        1\n",
       "Name: Obesity (%), Length: 16375, dtype: int64"
      ]
     },
     "execution_count": 6,
     "metadata": {},
     "output_type": "execute_result"
    }
   ],
   "source": [
    "df['Obesity (%)'].value_counts()"
   ]
  },
  {
   "cell_type": "code",
   "execution_count": 7,
   "id": "df2d1c68",
   "metadata": {},
   "outputs": [
    {
     "data": {
      "text/plain": [
       "Both sexes    8190\n",
       "Male          8190\n",
       "Female        8190\n",
       "Name: Sex, dtype: int64"
      ]
     },
     "execution_count": 7,
     "metadata": {},
     "output_type": "execute_result"
    }
   ],
   "source": [
    "df['Sex'].value_counts()"
   ]
  },
  {
   "cell_type": "markdown",
   "id": "0afcd0f4-116c-41dc-bd5e-385d74c276f6",
   "metadata": {},
   "source": [
    "- 1.0\n",
    "### Limpe os dados do DataFrame, criando uma coluna de nome 'Obesity' que conterá os valores de obesidade. Transforme em float as colunas que porventura foram importadas como string."
   ]
  },
  {
   "cell_type": "code",
   "execution_count": 8,
   "id": "226ae766-c1a0-44e3-bb0c-6ee94013269f",
   "metadata": {},
   "outputs": [
    {
     "data": {
      "text/plain": [
       "0           0.5 [0.2-1.1]\n",
       "1           0.2 [0.0-0.6]\n",
       "2           0.8 [0.2-2.0]\n",
       "3           0.5 [0.2-1.1]\n",
       "4           0.2 [0.0-0.7]\n",
       "               ...       \n",
       "24565       4.5 [2.4-7.6]\n",
       "24566    24.8 [18.9-31.3]\n",
       "24567    15.5 [12.0-19.2]\n",
       "24568       4.7 [2.5-8.0]\n",
       "24569    25.3 [19.1-32.0]\n",
       "Name: Obesity (%), Length: 24570, dtype: object"
      ]
     },
     "execution_count": 8,
     "metadata": {},
     "output_type": "execute_result"
    }
   ],
   "source": [
    "df['Obesity (%)']"
   ]
  },
  {
   "cell_type": "markdown",
   "id": "c33b9143-2699-4f9b-9e83-16175ad36325",
   "metadata": {},
   "source": [
    "- 1.1 \n",
    "## Se observarmos bem, os dados estão bagunçados.\n",
    "    - Com isso devemos limpar e tratar esse primeiro dado.\n",
    "    - a coluna (df['Obesity (%)']) está como object. ou seja, como string, de alguma forma, precisamos transforma-lá em vallor numerico, seja int ou float.\n",
    "        - Vamos criar uma nova coluna e tentar repassar os dados como uma lista de string para ela."
   ]
  },
  {
   "cell_type": "code",
   "execution_count": 9,
   "id": "d7f7bfb9-824d-484d-b0f0-e64e02b9739e",
   "metadata": {},
   "outputs": [
    {
     "data": {
      "text/html": [
       "<div>\n",
       "<style scoped>\n",
       "    .dataframe tbody tr th:only-of-type {\n",
       "        vertical-align: middle;\n",
       "    }\n",
       "\n",
       "    .dataframe tbody tr th {\n",
       "        vertical-align: top;\n",
       "    }\n",
       "\n",
       "    .dataframe thead th {\n",
       "        text-align: right;\n",
       "    }\n",
       "</style>\n",
       "<table border=\"1\" class=\"dataframe\">\n",
       "  <thead>\n",
       "    <tr style=\"text-align: right;\">\n",
       "      <th></th>\n",
       "      <th>Country</th>\n",
       "      <th>Year</th>\n",
       "      <th>Obesity (%)</th>\n",
       "      <th>Sex</th>\n",
       "      <th>Obesidade</th>\n",
       "    </tr>\n",
       "  </thead>\n",
       "  <tbody>\n",
       "    <tr>\n",
       "      <th>0</th>\n",
       "      <td>Afghanistan</td>\n",
       "      <td>1975</td>\n",
       "      <td>0.5 [0.2-1.1]</td>\n",
       "      <td>Both sexes</td>\n",
       "      <td>0.5</td>\n",
       "    </tr>\n",
       "    <tr>\n",
       "      <th>1</th>\n",
       "      <td>Afghanistan</td>\n",
       "      <td>1975</td>\n",
       "      <td>0.2 [0.0-0.6]</td>\n",
       "      <td>Male</td>\n",
       "      <td>0.2</td>\n",
       "    </tr>\n",
       "    <tr>\n",
       "      <th>2</th>\n",
       "      <td>Afghanistan</td>\n",
       "      <td>1975</td>\n",
       "      <td>0.8 [0.2-2.0]</td>\n",
       "      <td>Female</td>\n",
       "      <td>0.8</td>\n",
       "    </tr>\n",
       "    <tr>\n",
       "      <th>3</th>\n",
       "      <td>Afghanistan</td>\n",
       "      <td>1976</td>\n",
       "      <td>0.5 [0.2-1.1]</td>\n",
       "      <td>Both sexes</td>\n",
       "      <td>0.5</td>\n",
       "    </tr>\n",
       "    <tr>\n",
       "      <th>4</th>\n",
       "      <td>Afghanistan</td>\n",
       "      <td>1976</td>\n",
       "      <td>0.2 [0.0-0.7]</td>\n",
       "      <td>Male</td>\n",
       "      <td>0.2</td>\n",
       "    </tr>\n",
       "  </tbody>\n",
       "</table>\n",
       "</div>"
      ],
      "text/plain": [
       "       Country  Year    Obesity (%)         Sex Obesidade\n",
       "0  Afghanistan  1975  0.5 [0.2-1.1]  Both sexes       0.5\n",
       "1  Afghanistan  1975  0.2 [0.0-0.6]        Male       0.2\n",
       "2  Afghanistan  1975  0.8 [0.2-2.0]      Female       0.8\n",
       "3  Afghanistan  1976  0.5 [0.2-1.1]  Both sexes       0.5\n",
       "4  Afghanistan  1976  0.2 [0.0-0.7]        Male       0.2"
      ]
     },
     "execution_count": 9,
     "metadata": {},
     "output_type": "execute_result"
    }
   ],
   "source": [
    "df['Obesidade'] = df['Obesity (%)'].apply(lambda x : x.split(\" \")[0])\n",
    "df.head()"
   ]
  },
  {
   "cell_type": "markdown",
   "id": "c8126bef-f5db-463f-9de7-9a9913b63bc8",
   "metadata": {},
   "source": [
    "- 1.2\n",
    "#### Aqui na célula de cima, foi criada uma coluna nova, com uma função que pega somente o primeiro índece da função split().\n",
    "    - Agora veremos como ficou dado e qual o tipo de dado desta respectiva coluna."
   ]
  },
  {
   "cell_type": "code",
   "execution_count": 10,
   "id": "cae6f20a-7a3c-4805-9e5e-f09cff5fb2aa",
   "metadata": {},
   "outputs": [
    {
     "data": {
      "text/plain": [
       "0         0.5\n",
       "1         0.2\n",
       "2         0.8\n",
       "3         0.5\n",
       "4         0.2\n",
       "         ... \n",
       "24565     4.5\n",
       "24566    24.8\n",
       "24567    15.5\n",
       "24568     4.7\n",
       "24569    25.3\n",
       "Name: Obesidade, Length: 24570, dtype: object"
      ]
     },
     "execution_count": 10,
     "metadata": {},
     "output_type": "execute_result"
    }
   ],
   "source": [
    "df['Obesidade']"
   ]
  },
  {
   "cell_type": "code",
   "execution_count": 11,
   "id": "5136f2b1",
   "metadata": {},
   "outputs": [
    {
     "data": {
      "text/plain": [
       "No      504\n",
       "0.4     222\n",
       "0.6     218\n",
       "0.5     217\n",
       "0.7     210\n",
       "       ... \n",
       "60.1      1\n",
       "56.3      1\n",
       "59.8      1\n",
       "55.5      1\n",
       "46.5      1\n",
       "Name: Obesidade, Length: 602, dtype: int64"
      ]
     },
     "execution_count": 11,
     "metadata": {},
     "output_type": "execute_result"
    }
   ],
   "source": [
    "df['Obesidade'].value_counts()"
   ]
  },
  {
   "cell_type": "code",
   "execution_count": 12,
   "id": "12f9c915",
   "metadata": {},
   "outputs": [
    {
     "name": "stdout",
     "output_type": "stream",
     "text": [
      "<class 'pandas.core.frame.DataFrame'>\n",
      "Int64Index: 504 entries, 14112 to 20915\n",
      "Data columns (total 5 columns):\n",
      " #   Column       Non-Null Count  Dtype \n",
      "---  ------       --------------  ----- \n",
      " 0   Country      504 non-null    object\n",
      " 1   Year         504 non-null    int64 \n",
      " 2   Obesity (%)  504 non-null    object\n",
      " 3   Sex          504 non-null    object\n",
      " 4   Obesidade    504 non-null    object\n",
      "dtypes: int64(1), object(4)\n",
      "memory usage: 23.6+ KB\n"
     ]
    }
   ],
   "source": [
    "df[df['Obesidade'] == 'No'].info()"
   ]
  },
  {
   "cell_type": "code",
   "execution_count": 13,
   "id": "1f7b355b-6d4a-40d5-89f5-fecc072722b8",
   "metadata": {},
   "outputs": [
    {
     "data": {
      "text/plain": [
       "str"
      ]
     },
     "execution_count": 13,
     "metadata": {},
     "output_type": "execute_result"
    }
   ],
   "source": [
    "type(df['Obesidade'].iloc[0])"
   ]
  },
  {
   "cell_type": "markdown",
   "id": "6f30c7dc",
   "metadata": {},
   "source": [
    "- 1.3\n",
    "#### Convertendo os dados da coluna [Obesidade]."
   ]
  },
  {
   "cell_type": "code",
   "execution_count": 14,
   "id": "7b915435",
   "metadata": {},
   "outputs": [],
   "source": [
    "df.loc[df['Obesidade'] == \"No\", 'Obesidade'] = np.nan"
   ]
  },
  {
   "cell_type": "code",
   "execution_count": 15,
   "id": "54079c12",
   "metadata": {},
   "outputs": [],
   "source": [
    "df['Obesidade'] = df['Obesidade'].dropna()"
   ]
  },
  {
   "cell_type": "code",
   "execution_count": 16,
   "id": "289d8504",
   "metadata": {},
   "outputs": [],
   "source": [
    "df['Obesidade'] = df['Obesidade'].apply(lambda x: float(x))"
   ]
  },
  {
   "cell_type": "code",
   "execution_count": 17,
   "id": "cb6d7b9e",
   "metadata": {},
   "outputs": [
    {
     "data": {
      "text/plain": [
       "numpy.float64"
      ]
     },
     "execution_count": 17,
     "metadata": {},
     "output_type": "execute_result"
    }
   ],
   "source": [
    "type(df['Obesidade'].iloc[0])"
   ]
  },
  {
   "cell_type": "markdown",
   "id": "68caa6c8",
   "metadata": {},
   "source": [
    "- 1.3.1\n",
    "    ##### Aproveitar que já convertemos os valores percentuais de obesidade de String para Float, agora vamos converter a coluna [Year] em int."
   ]
  },
  {
   "cell_type": "code",
   "execution_count": 18,
   "id": "d22366cc",
   "metadata": {},
   "outputs": [
    {
     "name": "stdout",
     "output_type": "stream",
     "text": [
      "<class 'pandas.core.series.Series'>\n",
      "Int64Index: 24570 entries, 0 to 24569\n",
      "Series name: Year\n",
      "Non-Null Count  Dtype\n",
      "--------------  -----\n",
      "24570 non-null  int64\n",
      "dtypes: int64(1)\n",
      "memory usage: 383.9 KB\n"
     ]
    }
   ],
   "source": [
    "df['Year'] = df['Year'].apply(lambda year : int(year))\n",
    "df['Year'].info()"
   ]
  },
  {
   "cell_type": "code",
   "execution_count": 19,
   "id": "98a46fb2",
   "metadata": {},
   "outputs": [
    {
     "data": {
      "text/html": [
       "<div>\n",
       "<style scoped>\n",
       "    .dataframe tbody tr th:only-of-type {\n",
       "        vertical-align: middle;\n",
       "    }\n",
       "\n",
       "    .dataframe tbody tr th {\n",
       "        vertical-align: top;\n",
       "    }\n",
       "\n",
       "    .dataframe thead th {\n",
       "        text-align: right;\n",
       "    }\n",
       "</style>\n",
       "<table border=\"1\" class=\"dataframe\">\n",
       "  <thead>\n",
       "    <tr style=\"text-align: right;\">\n",
       "      <th></th>\n",
       "      <th>Country</th>\n",
       "      <th>Year</th>\n",
       "      <th>Obesity (%)</th>\n",
       "      <th>Sex</th>\n",
       "      <th>Obesidade</th>\n",
       "    </tr>\n",
       "  </thead>\n",
       "  <tbody>\n",
       "    <tr>\n",
       "      <th>0</th>\n",
       "      <td>Afghanistan</td>\n",
       "      <td>1975</td>\n",
       "      <td>0.5 [0.2-1.1]</td>\n",
       "      <td>Both sexes</td>\n",
       "      <td>0.5</td>\n",
       "    </tr>\n",
       "    <tr>\n",
       "      <th>1</th>\n",
       "      <td>Afghanistan</td>\n",
       "      <td>1975</td>\n",
       "      <td>0.2 [0.0-0.6]</td>\n",
       "      <td>Male</td>\n",
       "      <td>0.2</td>\n",
       "    </tr>\n",
       "    <tr>\n",
       "      <th>2</th>\n",
       "      <td>Afghanistan</td>\n",
       "      <td>1975</td>\n",
       "      <td>0.8 [0.2-2.0]</td>\n",
       "      <td>Female</td>\n",
       "      <td>0.8</td>\n",
       "    </tr>\n",
       "    <tr>\n",
       "      <th>3</th>\n",
       "      <td>Afghanistan</td>\n",
       "      <td>1976</td>\n",
       "      <td>0.5 [0.2-1.1]</td>\n",
       "      <td>Both sexes</td>\n",
       "      <td>0.5</td>\n",
       "    </tr>\n",
       "    <tr>\n",
       "      <th>4</th>\n",
       "      <td>Afghanistan</td>\n",
       "      <td>1976</td>\n",
       "      <td>0.2 [0.0-0.7]</td>\n",
       "      <td>Male</td>\n",
       "      <td>0.2</td>\n",
       "    </tr>\n",
       "    <tr>\n",
       "      <th>...</th>\n",
       "      <td>...</td>\n",
       "      <td>...</td>\n",
       "      <td>...</td>\n",
       "      <td>...</td>\n",
       "      <td>...</td>\n",
       "    </tr>\n",
       "    <tr>\n",
       "      <th>24565</th>\n",
       "      <td>Zimbabwe</td>\n",
       "      <td>2015</td>\n",
       "      <td>4.5 [2.4-7.6]</td>\n",
       "      <td>Male</td>\n",
       "      <td>4.5</td>\n",
       "    </tr>\n",
       "    <tr>\n",
       "      <th>24566</th>\n",
       "      <td>Zimbabwe</td>\n",
       "      <td>2015</td>\n",
       "      <td>24.8 [18.9-31.3]</td>\n",
       "      <td>Female</td>\n",
       "      <td>24.8</td>\n",
       "    </tr>\n",
       "    <tr>\n",
       "      <th>24567</th>\n",
       "      <td>Zimbabwe</td>\n",
       "      <td>2016</td>\n",
       "      <td>15.5 [12.0-19.2]</td>\n",
       "      <td>Both sexes</td>\n",
       "      <td>15.5</td>\n",
       "    </tr>\n",
       "    <tr>\n",
       "      <th>24568</th>\n",
       "      <td>Zimbabwe</td>\n",
       "      <td>2016</td>\n",
       "      <td>4.7 [2.5-8.0]</td>\n",
       "      <td>Male</td>\n",
       "      <td>4.7</td>\n",
       "    </tr>\n",
       "    <tr>\n",
       "      <th>24569</th>\n",
       "      <td>Zimbabwe</td>\n",
       "      <td>2016</td>\n",
       "      <td>25.3 [19.1-32.0]</td>\n",
       "      <td>Female</td>\n",
       "      <td>25.3</td>\n",
       "    </tr>\n",
       "  </tbody>\n",
       "</table>\n",
       "<p>24570 rows × 5 columns</p>\n",
       "</div>"
      ],
      "text/plain": [
       "           Country  Year       Obesity (%)         Sex  Obesidade\n",
       "0      Afghanistan  1975     0.5 [0.2-1.1]  Both sexes        0.5\n",
       "1      Afghanistan  1975     0.2 [0.0-0.6]        Male        0.2\n",
       "2      Afghanistan  1975     0.8 [0.2-2.0]      Female        0.8\n",
       "3      Afghanistan  1976     0.5 [0.2-1.1]  Both sexes        0.5\n",
       "4      Afghanistan  1976     0.2 [0.0-0.7]        Male        0.2\n",
       "...            ...   ...               ...         ...        ...\n",
       "24565     Zimbabwe  2015     4.5 [2.4-7.6]        Male        4.5\n",
       "24566     Zimbabwe  2015  24.8 [18.9-31.3]      Female       24.8\n",
       "24567     Zimbabwe  2016  15.5 [12.0-19.2]  Both sexes       15.5\n",
       "24568     Zimbabwe  2016     4.7 [2.5-8.0]        Male        4.7\n",
       "24569     Zimbabwe  2016  25.3 [19.1-32.0]      Female       25.3\n",
       "\n",
       "[24570 rows x 5 columns]"
      ]
     },
     "execution_count": 19,
     "metadata": {},
     "output_type": "execute_result"
    }
   ],
   "source": [
    "df"
   ]
  },
  {
   "cell_type": "markdown",
   "id": "5ec910e9",
   "metadata": {},
   "source": [
    "- Missão concluida.\n",
    "    ### Com isso já conseguimos converter e ajustar todas as colunas.\n",
    "        - trabalhar agora para extrair a informaçôes dos dados.\n",
    "       "
   ]
  },
  {
   "cell_type": "code",
   "execution_count": 20,
   "id": "15bacb19",
   "metadata": {},
   "outputs": [
    {
     "data": {
      "text/plain": [
       "Country                  Brazil\n",
       "Year                       2015\n",
       "Obesity (%)    24.9 [20.3-29.8]\n",
       "Sex                        Male\n",
       "Obesidade                  24.9\n",
       "dtype: object"
      ]
     },
     "execution_count": 20,
     "metadata": {},
     "output_type": "execute_result"
    }
   ],
   "source": [
    "df[(df['Year'] == 2015) & (df['Obesidade']) & (df['Country'] == 'Brazil')].max()"
   ]
  },
  {
   "cell_type": "code",
   "execution_count": 21,
   "id": "56eee588",
   "metadata": {},
   "outputs": [
    {
     "data": {
      "text/plain": [
       "Country                  Brazil\n",
       "Year                       2015\n",
       "Obesity (%)    18.0 [13.9-22.6]\n",
       "Sex                  Both sexes\n",
       "Obesidade                  18.0\n",
       "dtype: object"
      ]
     },
     "execution_count": 21,
     "metadata": {},
     "output_type": "execute_result"
    }
   ],
   "source": [
    "df[(df['Year'] == 2015) & (df['Obesidade']) & (df['Country'] == 'Brazil')].min()"
   ]
  },
  {
   "cell_type": "code",
   "execution_count": 22,
   "id": "0310ea19",
   "metadata": {},
   "outputs": [
    {
     "data": {
      "text/html": [
       "<div>\n",
       "<style scoped>\n",
       "    .dataframe tbody tr th:only-of-type {\n",
       "        vertical-align: middle;\n",
       "    }\n",
       "\n",
       "    .dataframe tbody tr th {\n",
       "        vertical-align: top;\n",
       "    }\n",
       "\n",
       "    .dataframe thead th {\n",
       "        text-align: right;\n",
       "    }\n",
       "</style>\n",
       "<table border=\"1\" class=\"dataframe\">\n",
       "  <thead>\n",
       "    <tr style=\"text-align: right;\">\n",
       "      <th></th>\n",
       "      <th>Country</th>\n",
       "      <th>Year</th>\n",
       "      <th>Obesity (%)</th>\n",
       "      <th>Sex</th>\n",
       "    </tr>\n",
       "    <tr>\n",
       "      <th>Obesidade</th>\n",
       "      <th></th>\n",
       "      <th></th>\n",
       "      <th></th>\n",
       "      <th></th>\n",
       "    </tr>\n",
       "  </thead>\n",
       "  <tbody>\n",
       "    <tr>\n",
       "      <th>18.0</th>\n",
       "      <td>Brazil</td>\n",
       "      <td>2015</td>\n",
       "      <td>18.0 [13.9-22.6]</td>\n",
       "      <td>Male</td>\n",
       "    </tr>\n",
       "    <tr>\n",
       "      <th>21.6</th>\n",
       "      <td>Brazil</td>\n",
       "      <td>2015</td>\n",
       "      <td>21.6 [18.4-25.0]</td>\n",
       "      <td>Both sexes</td>\n",
       "    </tr>\n",
       "    <tr>\n",
       "      <th>24.9</th>\n",
       "      <td>Brazil</td>\n",
       "      <td>2015</td>\n",
       "      <td>24.9 [20.3-29.8]</td>\n",
       "      <td>Female</td>\n",
       "    </tr>\n",
       "  </tbody>\n",
       "</table>\n",
       "</div>"
      ],
      "text/plain": [
       "          Country  Year       Obesity (%)         Sex\n",
       "Obesidade                                            \n",
       "18.0       Brazil  2015  18.0 [13.9-22.6]        Male\n",
       "21.6       Brazil  2015  21.6 [18.4-25.0]  Both sexes\n",
       "24.9       Brazil  2015  24.9 [20.3-29.8]      Female"
      ]
     },
     "execution_count": 22,
     "metadata": {},
     "output_type": "execute_result"
    }
   ],
   "source": [
    "df[(df['Year'] == 2015) & (df['Country'] == 'Brazil')].groupby('Obesidade').max()"
   ]
  },
  {
   "cell_type": "markdown",
   "id": "17c0541a-d340-4858-ba35-3c3a46ec6a7a",
   "metadata": {},
   "source": [
    "# Agora vamos começar as perguntas.\n",
    "    - 1. Quais são os 5 países com a maior e a menor taxa de obesidade em periodo anual(você esolhe a data)?\n",
    "    - 2. Quais os países com maiores e menores níveis percentuais de obesidasde em determinado ano?\n",
    "    - 3. Qual a difereça média do percentual de obesidade entre os sexos ao longo dos anos no Brasil?\n",
    "    - 4. Plotar um Gráfico para mostrar."
   ]
  },
  {
   "cell_type": "markdown",
   "id": "17392f50-2013-4530-b8e7-ac69548e615c",
   "metadata": {},
   "source": [
    "- 1° Pergunta.\n",
    "#### Quais são os 5 países com a maior e a menor taxa de obesidade em periodo anual(você esolhe a data)?"
   ]
  },
  {
   "cell_type": "markdown",
   "id": "b86161e9-62bc-4dd4-ba80-d8c4db683c46",
   "metadata": {},
   "source": [
    "- 1.1\n",
    "#### A primeira informação que podemos extrair é verificar os dados com relação a quantidade de anos.\n",
    "    E observar que temos a quantidade de anos e fazer uma comparação entre final e inicial."
   ]
  },
  {
   "cell_type": "code",
   "execution_count": 24,
   "id": "d01bd7a9",
   "metadata": {},
   "outputs": [
    {
     "data": {
      "text/plain": [
       "0        1975\n",
       "1        1975\n",
       "2        1975\n",
       "3        1976\n",
       "4        1976\n",
       "         ... \n",
       "24565    2015\n",
       "24566    2015\n",
       "24567    2016\n",
       "24568    2016\n",
       "24569    2016\n",
       "Name: Year, Length: 24570, dtype: int64"
      ]
     },
     "execution_count": 24,
     "metadata": {},
     "output_type": "execute_result"
    }
   ],
   "source": [
    "df['Year'] # Repare que comça em 1975 e os dados terminam em 2016."
   ]
  },
  {
   "cell_type": "code",
   "execution_count": 30,
   "id": "2a127ff8-38cd-4a80-b232-8eee8a2323a7",
   "metadata": {},
   "outputs": [
    {
     "data": {
      "text/html": [
       "<div>\n",
       "<style scoped>\n",
       "    .dataframe tbody tr th:only-of-type {\n",
       "        vertical-align: middle;\n",
       "    }\n",
       "\n",
       "    .dataframe tbody tr th {\n",
       "        vertical-align: top;\n",
       "    }\n",
       "\n",
       "    .dataframe thead th {\n",
       "        text-align: right;\n",
       "    }\n",
       "</style>\n",
       "<table border=\"1\" class=\"dataframe\">\n",
       "  <thead>\n",
       "    <tr style=\"text-align: right;\">\n",
       "      <th></th>\n",
       "      <th>Year</th>\n",
       "      <th>Obesity (%)</th>\n",
       "      <th>Sex</th>\n",
       "      <th>Obesidade</th>\n",
       "    </tr>\n",
       "    <tr>\n",
       "      <th>Country</th>\n",
       "      <th></th>\n",
       "      <th></th>\n",
       "      <th></th>\n",
       "      <th></th>\n",
       "    </tr>\n",
       "  </thead>\n",
       "  <tbody>\n",
       "    <tr>\n",
       "      <th>Afghanistan</th>\n",
       "      <td>1975</td>\n",
       "      <td>0.5 [0.2-1.1]</td>\n",
       "      <td>Both sexes</td>\n",
       "      <td>0.5</td>\n",
       "    </tr>\n",
       "    <tr>\n",
       "      <th>Afghanistan</th>\n",
       "      <td>1975</td>\n",
       "      <td>0.2 [0.0-0.6]</td>\n",
       "      <td>Male</td>\n",
       "      <td>0.2</td>\n",
       "    </tr>\n",
       "    <tr>\n",
       "      <th>Afghanistan</th>\n",
       "      <td>1975</td>\n",
       "      <td>0.8 [0.2-2.0]</td>\n",
       "      <td>Female</td>\n",
       "      <td>0.8</td>\n",
       "    </tr>\n",
       "    <tr>\n",
       "      <th>Albania</th>\n",
       "      <td>1975</td>\n",
       "      <td>6.5 [3.6-10.5]</td>\n",
       "      <td>Both sexes</td>\n",
       "      <td>6.5</td>\n",
       "    </tr>\n",
       "    <tr>\n",
       "      <th>Albania</th>\n",
       "      <td>1975</td>\n",
       "      <td>4.4 [1.7-9.2]</td>\n",
       "      <td>Male</td>\n",
       "      <td>4.4</td>\n",
       "    </tr>\n",
       "  </tbody>\n",
       "</table>\n",
       "</div>"
      ],
      "text/plain": [
       "             Year     Obesity (%)         Sex  Obesidade\n",
       "Country                                                 \n",
       "Afghanistan  1975   0.5 [0.2-1.1]  Both sexes        0.5\n",
       "Afghanistan  1975   0.2 [0.0-0.6]        Male        0.2\n",
       "Afghanistan  1975   0.8 [0.2-2.0]      Female        0.8\n",
       "Albania      1975  6.5 [3.6-10.5]  Both sexes        6.5\n",
       "Albania      1975   4.4 [1.7-9.2]        Male        4.4"
      ]
     },
     "execution_count": 30,
     "metadata": {},
     "output_type": "execute_result"
    }
   ],
   "source": [
    "df_inicial = df[df['Year'] == 1975]\n",
    "df_inicial.set_index('Country', inplace=True)\n",
    "df_inicial.head()"
   ]
  },
  {
   "cell_type": "code",
   "execution_count": 31,
   "id": "4e3efebc",
   "metadata": {},
   "outputs": [
    {
     "data": {
      "text/html": [
       "<div>\n",
       "<style scoped>\n",
       "    .dataframe tbody tr th:only-of-type {\n",
       "        vertical-align: middle;\n",
       "    }\n",
       "\n",
       "    .dataframe tbody tr th {\n",
       "        vertical-align: top;\n",
       "    }\n",
       "\n",
       "    .dataframe thead th {\n",
       "        text-align: right;\n",
       "    }\n",
       "</style>\n",
       "<table border=\"1\" class=\"dataframe\">\n",
       "  <thead>\n",
       "    <tr style=\"text-align: right;\">\n",
       "      <th></th>\n",
       "      <th>Year</th>\n",
       "      <th>Obesity (%)</th>\n",
       "      <th>Sex</th>\n",
       "      <th>Obesidade</th>\n",
       "    </tr>\n",
       "    <tr>\n",
       "      <th>Country</th>\n",
       "      <th></th>\n",
       "      <th></th>\n",
       "      <th></th>\n",
       "      <th></th>\n",
       "    </tr>\n",
       "  </thead>\n",
       "  <tbody>\n",
       "    <tr>\n",
       "      <th>Afghanistan</th>\n",
       "      <td>2016</td>\n",
       "      <td>5.5 [3.4-8.1]</td>\n",
       "      <td>Both sexes</td>\n",
       "      <td>5.5</td>\n",
       "    </tr>\n",
       "    <tr>\n",
       "      <th>Afghanistan</th>\n",
       "      <td>2016</td>\n",
       "      <td>3.2 [1.3-6.4]</td>\n",
       "      <td>Male</td>\n",
       "      <td>3.2</td>\n",
       "    </tr>\n",
       "    <tr>\n",
       "      <th>Afghanistan</th>\n",
       "      <td>2016</td>\n",
       "      <td>7.6 [4.3-12.4]</td>\n",
       "      <td>Female</td>\n",
       "      <td>7.6</td>\n",
       "    </tr>\n",
       "    <tr>\n",
       "      <th>Albania</th>\n",
       "      <td>2016</td>\n",
       "      <td>21.7 [17.0-26.7]</td>\n",
       "      <td>Both sexes</td>\n",
       "      <td>21.7</td>\n",
       "    </tr>\n",
       "    <tr>\n",
       "      <th>Albania</th>\n",
       "      <td>2016</td>\n",
       "      <td>21.6 [14.8-29.0]</td>\n",
       "      <td>Male</td>\n",
       "      <td>21.6</td>\n",
       "    </tr>\n",
       "  </tbody>\n",
       "</table>\n",
       "</div>"
      ],
      "text/plain": [
       "             Year       Obesity (%)         Sex  Obesidade\n",
       "Country                                                   \n",
       "Afghanistan  2016     5.5 [3.4-8.1]  Both sexes        5.5\n",
       "Afghanistan  2016     3.2 [1.3-6.4]        Male        3.2\n",
       "Afghanistan  2016    7.6 [4.3-12.4]      Female        7.6\n",
       "Albania      2016  21.7 [17.0-26.7]  Both sexes       21.7\n",
       "Albania      2016  21.6 [14.8-29.0]        Male       21.6"
      ]
     },
     "execution_count": 31,
     "metadata": {},
     "output_type": "execute_result"
    }
   ],
   "source": [
    "df_final = df[df['Year'] == 2016]\n",
    "df_final.set_index('Country', inplace=True)\n",
    "df_final.head()"
   ]
  },
  {
   "cell_type": "markdown",
   "id": "56be1adf",
   "metadata": {},
   "source": [
    "- 1.1.2\n",
    "    ##### Nesta parte pegamos somente os dados da coluna tipo de sexo e escolhemos ambos os sexos e relacionamos com a coluna Obesidade."
   ]
  },
  {
   "cell_type": "code",
   "execution_count": 32,
   "id": "0d3a3e7b",
   "metadata": {},
   "outputs": [],
   "source": [
    "df_evolução = df_final[df_final['Sex'] == 'Both sexes']['Obesidade'] - df_inicial[df_inicial['Sex'] == 'Both sexes']['Obesidade'] "
   ]
  },
  {
   "cell_type": "markdown",
   "id": "712d1c35",
   "metadata": {},
   "source": [
    "- 1.1.3\n",
    "    ##### Agora vamos olhar como ficou df_evolução e ordenar com o comando sort_values."
   ]
  },
  {
   "cell_type": "code",
   "execution_count": 36,
   "id": "3f80e43c",
   "metadata": {},
   "outputs": [
    {
     "data": {
      "text/plain": [
       "Country\n",
       "Viet Nam        2.0\n",
       "Singapore       3.1\n",
       "Japan           3.3\n",
       "Bangladesh      3.4\n",
       "Timor-Leste     3.6\n",
       "               ... \n",
       "Tuvalu         33.7\n",
       "Monaco          NaN\n",
       "San Marino      NaN\n",
       "South Sudan     NaN\n",
       "Sudan           NaN\n",
       "Name: Obesidade, Length: 195, dtype: float64"
      ]
     },
     "execution_count": 36,
     "metadata": {},
     "output_type": "execute_result"
    }
   ],
   "source": [
    "df_evolução.sort_values() # Alguns valores ficaram faltando, justamente os dados que se repetem, porém, vamos descartalos."
   ]
  },
  {
   "cell_type": "code",
   "execution_count": 38,
   "id": "d55f4db7",
   "metadata": {},
   "outputs": [
    {
     "data": {
      "text/plain": [
       "Country\n",
       "Viet Nam         2.0\n",
       "Singapore        3.1\n",
       "Japan            3.3\n",
       "Bangladesh       3.4\n",
       "Timor-Leste      3.6\n",
       "                ... \n",
       "Cook Islands    27.9\n",
       "Tonga           28.3\n",
       "Kiribati        30.1\n",
       "Niue            31.1\n",
       "Tuvalu          33.7\n",
       "Name: Obesidade, Length: 191, dtype: float64"
      ]
     },
     "execution_count": 38,
     "metadata": {},
     "output_type": "execute_result"
    }
   ],
   "source": [
    "df_evolução = df_evolução.sort_values().dropna() # Após isso é fácil saber, como na saída a seguir.\n",
    "df_evolução"
   ]
  },
  {
   "cell_type": "code",
   "execution_count": 39,
   "id": "f98836ba",
   "metadata": {},
   "outputs": [
    {
     "data": {
      "text/plain": [
       "Country\n",
       "Viet Nam       2.0\n",
       "Singapore      3.1\n",
       "Japan          3.3\n",
       "Bangladesh     3.4\n",
       "Timor-Leste    3.6\n",
       "Name: Obesidade, dtype: float64"
      ]
     },
     "execution_count": 39,
     "metadata": {},
     "output_type": "execute_result"
    }
   ],
   "source": [
    "df_evolução.head(5)"
   ]
  },
  {
   "cell_type": "code",
   "execution_count": 49,
   "id": "0073fd1f",
   "metadata": {},
   "outputs": [
    {
     "data": {
      "text/html": [
       "<div>\n",
       "<style scoped>\n",
       "    .dataframe tbody tr th:only-of-type {\n",
       "        vertical-align: middle;\n",
       "    }\n",
       "\n",
       "    .dataframe tbody tr th {\n",
       "        vertical-align: top;\n",
       "    }\n",
       "\n",
       "    .dataframe thead th {\n",
       "        text-align: right;\n",
       "    }\n",
       "</style>\n",
       "<table border=\"1\" class=\"dataframe\">\n",
       "  <thead>\n",
       "    <tr style=\"text-align: right;\">\n",
       "      <th></th>\n",
       "      <th>Country</th>\n",
       "      <th>Year</th>\n",
       "      <th>Sex</th>\n",
       "      <th>Obesidade</th>\n",
       "    </tr>\n",
       "  </thead>\n",
       "  <tbody>\n",
       "    <tr>\n",
       "      <th>24189</th>\n",
       "      <td>Viet Nam</td>\n",
       "      <td>2016</td>\n",
       "      <td>Both sexes</td>\n",
       "      <td>2.1</td>\n",
       "    </tr>\n",
       "    <tr>\n",
       "      <th>24190</th>\n",
       "      <td>Viet Nam</td>\n",
       "      <td>2016</td>\n",
       "      <td>Male</td>\n",
       "      <td>1.6</td>\n",
       "    </tr>\n",
       "    <tr>\n",
       "      <th>24191</th>\n",
       "      <td>Viet Nam</td>\n",
       "      <td>2016</td>\n",
       "      <td>Female</td>\n",
       "      <td>2.6</td>\n",
       "    </tr>\n",
       "  </tbody>\n",
       "</table>\n",
       "</div>"
      ],
      "text/plain": [
       "        Country  Year         Sex  Obesidade\n",
       "24189  Viet Nam  2016  Both sexes        2.1\n",
       "24190  Viet Nam  2016        Male        1.6\n",
       "24191  Viet Nam  2016      Female        2.6"
      ]
     },
     "execution_count": 49,
     "metadata": {},
     "output_type": "execute_result"
    }
   ],
   "source": [
    "df[(df['Country'] == \"Viet Nam\") & (df['Year'] == 2016)][['Country', 'Year','Sex', 'Obesidade']]"
   ]
  },
  {
   "cell_type": "code",
   "execution_count": 41,
   "id": "7a46dde1",
   "metadata": {},
   "outputs": [
    {
     "data": {
      "text/plain": [
       "Country\n",
       "Cook Islands    27.9\n",
       "Tonga           28.3\n",
       "Kiribati        30.1\n",
       "Niue            31.1\n",
       "Tuvalu          33.7\n",
       "Name: Obesidade, dtype: float64"
      ]
     },
     "execution_count": 41,
     "metadata": {},
     "output_type": "execute_result"
    }
   ],
   "source": [
    "df_evolução.tail(5)"
   ]
  },
  {
   "cell_type": "markdown",
   "id": "812fd7e7",
   "metadata": {},
   "source": [
    "- 3\n",
    "    ##### Qual a difereça média do percentual de obesidade entre os sexos ao longo dos anos no Brasil?"
   ]
  },
  {
   "cell_type": "code",
   "execution_count": 81,
   "id": "c5222c35",
   "metadata": {},
   "outputs": [
    {
     "data": {
      "text/html": [
       "<div>\n",
       "<style scoped>\n",
       "    .dataframe tbody tr th:only-of-type {\n",
       "        vertical-align: middle;\n",
       "    }\n",
       "\n",
       "    .dataframe tbody tr th {\n",
       "        vertical-align: top;\n",
       "    }\n",
       "\n",
       "    .dataframe thead th {\n",
       "        text-align: right;\n",
       "    }\n",
       "</style>\n",
       "<table border=\"1\" class=\"dataframe\">\n",
       "  <thead>\n",
       "    <tr style=\"text-align: right;\">\n",
       "      <th></th>\n",
       "      <th>Country</th>\n",
       "      <th>Year</th>\n",
       "      <th>Obesity (%)</th>\n",
       "      <th>Sex</th>\n",
       "      <th>Obesidade</th>\n",
       "    </tr>\n",
       "  </thead>\n",
       "  <tbody>\n",
       "    <tr>\n",
       "      <th>2898</th>\n",
       "      <td>Brazil</td>\n",
       "      <td>1975</td>\n",
       "      <td>5.2 [3.3-7.9]</td>\n",
       "      <td>Both sexes</td>\n",
       "      <td>5.2</td>\n",
       "    </tr>\n",
       "    <tr>\n",
       "      <th>2899</th>\n",
       "      <td>Brazil</td>\n",
       "      <td>1975</td>\n",
       "      <td>3.0 [1.4-5.7]</td>\n",
       "      <td>Male</td>\n",
       "      <td>3.0</td>\n",
       "    </tr>\n",
       "    <tr>\n",
       "      <th>2900</th>\n",
       "      <td>Brazil</td>\n",
       "      <td>1975</td>\n",
       "      <td>7.3 [4.0-12.0]</td>\n",
       "      <td>Female</td>\n",
       "      <td>7.3</td>\n",
       "    </tr>\n",
       "    <tr>\n",
       "      <th>2901</th>\n",
       "      <td>Brazil</td>\n",
       "      <td>1976</td>\n",
       "      <td>5.5 [3.5-8.1]</td>\n",
       "      <td>Both sexes</td>\n",
       "      <td>5.5</td>\n",
       "    </tr>\n",
       "    <tr>\n",
       "      <th>2902</th>\n",
       "      <td>Brazil</td>\n",
       "      <td>1976</td>\n",
       "      <td>3.2 [1.5-5.8]</td>\n",
       "      <td>Male</td>\n",
       "      <td>3.2</td>\n",
       "    </tr>\n",
       "    <tr>\n",
       "      <th>...</th>\n",
       "      <td>...</td>\n",
       "      <td>...</td>\n",
       "      <td>...</td>\n",
       "      <td>...</td>\n",
       "      <td>...</td>\n",
       "    </tr>\n",
       "    <tr>\n",
       "      <th>3019</th>\n",
       "      <td>Brazil</td>\n",
       "      <td>2015</td>\n",
       "      <td>18.0 [13.9-22.6]</td>\n",
       "      <td>Male</td>\n",
       "      <td>18.0</td>\n",
       "    </tr>\n",
       "    <tr>\n",
       "      <th>3020</th>\n",
       "      <td>Brazil</td>\n",
       "      <td>2015</td>\n",
       "      <td>24.9 [20.3-29.8]</td>\n",
       "      <td>Female</td>\n",
       "      <td>24.9</td>\n",
       "    </tr>\n",
       "    <tr>\n",
       "      <th>3021</th>\n",
       "      <td>Brazil</td>\n",
       "      <td>2016</td>\n",
       "      <td>22.1 [18.7-25.7]</td>\n",
       "      <td>Both sexes</td>\n",
       "      <td>22.1</td>\n",
       "    </tr>\n",
       "    <tr>\n",
       "      <th>3022</th>\n",
       "      <td>Brazil</td>\n",
       "      <td>2016</td>\n",
       "      <td>18.5 [14.1-23.5]</td>\n",
       "      <td>Male</td>\n",
       "      <td>18.5</td>\n",
       "    </tr>\n",
       "    <tr>\n",
       "      <th>3023</th>\n",
       "      <td>Brazil</td>\n",
       "      <td>2016</td>\n",
       "      <td>25.4 [20.4-30.7]</td>\n",
       "      <td>Female</td>\n",
       "      <td>25.4</td>\n",
       "    </tr>\n",
       "  </tbody>\n",
       "</table>\n",
       "<p>126 rows × 5 columns</p>\n",
       "</div>"
      ],
      "text/plain": [
       "     Country  Year       Obesity (%)         Sex  Obesidade\n",
       "2898  Brazil  1975     5.2 [3.3-7.9]  Both sexes        5.2\n",
       "2899  Brazil  1975     3.0 [1.4-5.7]        Male        3.0\n",
       "2900  Brazil  1975    7.3 [4.0-12.0]      Female        7.3\n",
       "2901  Brazil  1976     5.5 [3.5-8.1]  Both sexes        5.5\n",
       "2902  Brazil  1976     3.2 [1.5-5.8]        Male        3.2\n",
       "...      ...   ...               ...         ...        ...\n",
       "3019  Brazil  2015  18.0 [13.9-22.6]        Male       18.0\n",
       "3020  Brazil  2015  24.9 [20.3-29.8]      Female       24.9\n",
       "3021  Brazil  2016  22.1 [18.7-25.7]  Both sexes       22.1\n",
       "3022  Brazil  2016  18.5 [14.1-23.5]        Male       18.5\n",
       "3023  Brazil  2016  25.4 [20.4-30.7]      Female       25.4\n",
       "\n",
       "[126 rows x 5 columns]"
      ]
     },
     "execution_count": 81,
     "metadata": {},
     "output_type": "execute_result"
    }
   ],
   "source": [
    "df_br = df[df['Country'] == 'Brazil']\n",
    "df_br"
   ]
  },
  {
   "cell_type": "markdown",
   "id": "7cfab324",
   "metadata": {},
   "source": [
    "# Agora vamos plotar um gáfico dos homens."
   ]
  },
  {
   "cell_type": "code",
   "execution_count": 91,
   "id": "01b3ffdc",
   "metadata": {},
   "outputs": [
    {
     "data": {
      "text/plain": [
       "<AxesSubplot:xlabel='Country'>"
      ]
     },
     "execution_count": 91,
     "metadata": {},
     "output_type": "execute_result"
    },
    {
     "data": {
      "image/png": "[encoded data removed]",
      "text/plain": [
       "<Figure size 432x288 with 1 Axes>"
      ]
     },
     "metadata": {
      "needs_background": "light"
     },
     "output_type": "display_data"
    }
   ],
   "source": [
    "df_evolução.plot()"
   ]
  },
  {
   "cell_type": "code",
   "execution_count": null,
   "id": "b3f8fee2",
   "metadata": {},
   "outputs": [],
   "source": []
  }
 ],
 "metadata": {
  "kernelspec": {
   "display_name": "Python 3 (ipykernel)",
   "language": "python",
   "name": "python3"
  },
  "language_info": {
   "codemirror_mode": {
    "name": "ipython",
    "version": 3
   },
   "file_extension": ".py",
   "mimetype": "text/x-python",
   "name": "python",
   "nbconvert_exporter": "python",
   "pygments_lexer": "ipython3",
   "version": "3.9.12"
  }
 },
 "nbformat": 4,
 "nbformat_minor": 5
}
