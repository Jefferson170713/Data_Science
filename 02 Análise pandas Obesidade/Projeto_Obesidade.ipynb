{
 "cells": [
  {
   "cell_type": "markdown",
   "id": "6d233e01-79eb-45dc-81e4-ae00334daa32",
   "metadata": {},
   "source": [
    "## Projeto 2 analisando dados com o Pandas, Obesidade."
   ]
  },
  {
   "cell_type": "code",
   "execution_count": 40,
   "id": "85b309d1-76d6-4192-82cf-48f4bdcb7a2f",
   "metadata": {},
   "outputs": [],
   "source": [
    "import pandas as pd\n",
    "import numpy as np"
   ]
  },
  {
   "cell_type": "code",
   "execution_count": 106,
   "id": "51caae90-fe3c-44b5-b2e4-bc8d3c5825ff",
   "metadata": {},
   "outputs": [
    {
     "data": {
      "text/html": [
       "<div>\n",
       "<style scoped>\n",
       "    .dataframe tbody tr th:only-of-type {\n",
       "        vertical-align: middle;\n",
       "    }\n",
       "\n",
       "    .dataframe tbody tr th {\n",
       "        vertical-align: top;\n",
       "    }\n",
       "\n",
       "    .dataframe thead th {\n",
       "        text-align: right;\n",
       "    }\n",
       "</style>\n",
       "<table border=\"1\" class=\"dataframe\">\n",
       "  <thead>\n",
       "    <tr style=\"text-align: right;\">\n",
       "      <th></th>\n",
       "      <th>Country</th>\n",
       "      <th>Year</th>\n",
       "      <th>Obesity (%)</th>\n",
       "      <th>Sex</th>\n",
       "    </tr>\n",
       "  </thead>\n",
       "  <tbody>\n",
       "    <tr>\n",
       "      <th>0</th>\n",
       "      <td>Afghanistan</td>\n",
       "      <td>1975</td>\n",
       "      <td>0.5 [0.2-1.1]</td>\n",
       "      <td>Both sexes</td>\n",
       "    </tr>\n",
       "    <tr>\n",
       "      <th>1</th>\n",
       "      <td>Afghanistan</td>\n",
       "      <td>1975</td>\n",
       "      <td>0.2 [0.0-0.6]</td>\n",
       "      <td>Male</td>\n",
       "    </tr>\n",
       "    <tr>\n",
       "      <th>2</th>\n",
       "      <td>Afghanistan</td>\n",
       "      <td>1975</td>\n",
       "      <td>0.8 [0.2-2.0]</td>\n",
       "      <td>Female</td>\n",
       "    </tr>\n",
       "    <tr>\n",
       "      <th>3</th>\n",
       "      <td>Afghanistan</td>\n",
       "      <td>1976</td>\n",
       "      <td>0.5 [0.2-1.1]</td>\n",
       "      <td>Both sexes</td>\n",
       "    </tr>\n",
       "    <tr>\n",
       "      <th>4</th>\n",
       "      <td>Afghanistan</td>\n",
       "      <td>1976</td>\n",
       "      <td>0.2 [0.0-0.7]</td>\n",
       "      <td>Male</td>\n",
       "    </tr>\n",
       "    <tr>\n",
       "      <th>...</th>\n",
       "      <td>...</td>\n",
       "      <td>...</td>\n",
       "      <td>...</td>\n",
       "      <td>...</td>\n",
       "    </tr>\n",
       "    <tr>\n",
       "      <th>24565</th>\n",
       "      <td>Zimbabwe</td>\n",
       "      <td>2015</td>\n",
       "      <td>4.5 [2.4-7.6]</td>\n",
       "      <td>Male</td>\n",
       "    </tr>\n",
       "    <tr>\n",
       "      <th>24566</th>\n",
       "      <td>Zimbabwe</td>\n",
       "      <td>2015</td>\n",
       "      <td>24.8 [18.9-31.3]</td>\n",
       "      <td>Female</td>\n",
       "    </tr>\n",
       "    <tr>\n",
       "      <th>24567</th>\n",
       "      <td>Zimbabwe</td>\n",
       "      <td>2016</td>\n",
       "      <td>15.5 [12.0-19.2]</td>\n",
       "      <td>Both sexes</td>\n",
       "    </tr>\n",
       "    <tr>\n",
       "      <th>24568</th>\n",
       "      <td>Zimbabwe</td>\n",
       "      <td>2016</td>\n",
       "      <td>4.7 [2.5-8.0]</td>\n",
       "      <td>Male</td>\n",
       "    </tr>\n",
       "    <tr>\n",
       "      <th>24569</th>\n",
       "      <td>Zimbabwe</td>\n",
       "      <td>2016</td>\n",
       "      <td>25.3 [19.1-32.0]</td>\n",
       "      <td>Female</td>\n",
       "    </tr>\n",
       "  </tbody>\n",
       "</table>\n",
       "<p>24570 rows × 4 columns</p>\n",
       "</div>"
      ],
      "text/plain": [
       "           Country  Year       Obesity (%)         Sex\n",
       "0      Afghanistan  1975     0.5 [0.2-1.1]  Both sexes\n",
       "1      Afghanistan  1975     0.2 [0.0-0.6]        Male\n",
       "2      Afghanistan  1975     0.8 [0.2-2.0]      Female\n",
       "3      Afghanistan  1976     0.5 [0.2-1.1]  Both sexes\n",
       "4      Afghanistan  1976     0.2 [0.0-0.7]        Male\n",
       "...            ...   ...               ...         ...\n",
       "24565     Zimbabwe  2015     4.5 [2.4-7.6]        Male\n",
       "24566     Zimbabwe  2015  24.8 [18.9-31.3]      Female\n",
       "24567     Zimbabwe  2016  15.5 [12.0-19.2]  Both sexes\n",
       "24568     Zimbabwe  2016     4.7 [2.5-8.0]        Male\n",
       "24569     Zimbabwe  2016  25.3 [19.1-32.0]      Female\n",
       "\n",
       "[24570 rows x 4 columns]"
      ]
     },
     "execution_count": 106,
     "metadata": {},
     "output_type": "execute_result"
    }
   ],
   "source": [
    "df = pd.read_csv('C:/Users/55859/Desktop/Estudos/Data Science/02 Análise pandas Obesidade/obesity_cleaned.csv', index_col=0)\n",
    "df"
   ]
  },
  {
   "cell_type": "markdown",
   "id": "38904116-9700-4a96-9d8a-e4c7e18ca4bf",
   "metadata": {},
   "source": [
    "### 1 - Observando os tipos de dados.\n",
    "    - Função sahpe\n",
    "    - Função info()"
   ]
  },
  {
   "cell_type": "code",
   "execution_count": 42,
   "id": "9bf67f1d-5861-4cff-ae52-3f11fb1dce05",
   "metadata": {},
   "outputs": [
    {
     "data": {
      "text/plain": [
       "(24570, 4)"
      ]
     },
     "execution_count": 42,
     "metadata": {},
     "output_type": "execute_result"
    }
   ],
   "source": [
    "df.shape"
   ]
  },
  {
   "cell_type": "code",
   "execution_count": 43,
   "id": "6fd4c918-b1f0-4c71-9174-95ffa6eeb964",
   "metadata": {},
   "outputs": [
    {
     "name": "stdout",
     "output_type": "stream",
     "text": [
      "<class 'pandas.core.frame.DataFrame'>\n",
      "Int64Index: 24570 entries, 0 to 24569\n",
      "Data columns (total 4 columns):\n",
      " #   Column       Non-Null Count  Dtype \n",
      "---  ------       --------------  ----- \n",
      " 0   Country      24570 non-null  object\n",
      " 1   Year         24570 non-null  int64 \n",
      " 2   Obesity (%)  24570 non-null  object\n",
      " 3   Sex          24570 non-null  object\n",
      "dtypes: int64(1), object(3)\n",
      "memory usage: 959.8+ KB\n"
     ]
    }
   ],
   "source": [
    "df.info()"
   ]
  },
  {
   "cell_type": "code",
   "execution_count": 44,
   "id": "61bb5f6d",
   "metadata": {},
   "outputs": [
    {
     "data": {
      "text/plain": [
       "Afghanistan    126\n",
       "Saint Lucia    126\n",
       "Niger          126\n",
       "Nigeria        126\n",
       "Niue           126\n",
       "              ... \n",
       "Ghana          126\n",
       "Greece         126\n",
       "Grenada        126\n",
       "Guatemala      126\n",
       "Zimbabwe       126\n",
       "Name: Country, Length: 195, dtype: int64"
      ]
     },
     "execution_count": 44,
     "metadata": {},
     "output_type": "execute_result"
    }
   ],
   "source": [
    "df['Country'].value_counts()"
   ]
  },
  {
   "cell_type": "markdown",
   "id": "508142a9",
   "metadata": {},
   "source": [
    "- Observe:\n",
    "    ###### Na coluna [Obesity (%)], temos dados 'No' e 'data' é somo se fosse dados nulos. precisamos reparar isso na hora da conversão para float."
   ]
  },
  {
   "cell_type": "code",
   "execution_count": 47,
   "id": "4c5d3e81",
   "metadata": {},
   "outputs": [
    {
     "data": {
      "text/plain": [
       "No data            504\n",
       "0.4 [0.1-1.0]       55\n",
       "0.6 [0.2-1.3]       47\n",
       "0.3 [0.1-0.7]       46\n",
       "0.3 [0.1-0.8]       46\n",
       "                  ... \n",
       "9.5 [6.7-13.1]       1\n",
       "4.4 [2.2-7.6]        1\n",
       "14.1 [9.1-20.3]      1\n",
       "9.8 [6.9-13.4]       1\n",
       "4.7 [2.5-8.0]        1\n",
       "Name: Obesity (%), Length: 16375, dtype: int64"
      ]
     },
     "execution_count": 47,
     "metadata": {},
     "output_type": "execute_result"
    }
   ],
   "source": [
    "df['Obesity (%)'].value_counts()"
   ]
  },
  {
   "cell_type": "code",
   "execution_count": 48,
   "id": "df2d1c68",
   "metadata": {},
   "outputs": [
    {
     "data": {
      "text/plain": [
       "Both sexes    8190\n",
       "Male          8190\n",
       "Female        8190\n",
       "Name: Sex, dtype: int64"
      ]
     },
     "execution_count": 48,
     "metadata": {},
     "output_type": "execute_result"
    }
   ],
   "source": [
    "df['Sex'].value_counts()"
   ]
  },
  {
   "cell_type": "markdown",
   "id": "0afcd0f4-116c-41dc-bd5e-385d74c276f6",
   "metadata": {},
   "source": [
    "- 1.0\n",
    "### Limpe os dados do DataFrame, criando uma coluna de nome 'Obesity' que conterá os valores de obesidade. Transforme em float as colunas que porventura foram importadas como string."
   ]
  },
  {
   "cell_type": "code",
   "execution_count": 49,
   "id": "226ae766-c1a0-44e3-bb0c-6ee94013269f",
   "metadata": {},
   "outputs": [
    {
     "data": {
      "text/plain": [
       "0           0.5 [0.2-1.1]\n",
       "1           0.2 [0.0-0.6]\n",
       "2           0.8 [0.2-2.0]\n",
       "3           0.5 [0.2-1.1]\n",
       "4           0.2 [0.0-0.7]\n",
       "               ...       \n",
       "24565       4.5 [2.4-7.6]\n",
       "24566    24.8 [18.9-31.3]\n",
       "24567    15.5 [12.0-19.2]\n",
       "24568       4.7 [2.5-8.0]\n",
       "24569    25.3 [19.1-32.0]\n",
       "Name: Obesity (%), Length: 24570, dtype: object"
      ]
     },
     "execution_count": 49,
     "metadata": {},
     "output_type": "execute_result"
    }
   ],
   "source": [
    "df['Obesity (%)']"
   ]
  },
  {
   "cell_type": "markdown",
   "id": "c33b9143-2699-4f9b-9e83-16175ad36325",
   "metadata": {},
   "source": [
    "- 1.1 \n",
    "## Se observarmos bem, os dados estão bagunçados.\n",
    "    - Com isso devemos limpar e tratar esse primeiro dado.\n",
    "    - a coluna (df['Obesity (%)']) está como object. ou seja, como string, de alguma forma, precisamos transforma-lá em vallor numerico, seja int ou float.\n",
    "        - Vamos criar uma nova coluna e tentar repassar os dados como uma lista de string para ela."
   ]
  },
  {
   "cell_type": "code",
   "execution_count": 50,
   "id": "d7f7bfb9-824d-484d-b0f0-e64e02b9739e",
   "metadata": {},
   "outputs": [
    {
     "data": {
      "text/html": [
       "<div>\n",
       "<style scoped>\n",
       "    .dataframe tbody tr th:only-of-type {\n",
       "        vertical-align: middle;\n",
       "    }\n",
       "\n",
       "    .dataframe tbody tr th {\n",
       "        vertical-align: top;\n",
       "    }\n",
       "\n",
       "    .dataframe thead th {\n",
       "        text-align: right;\n",
       "    }\n",
       "</style>\n",
       "<table border=\"1\" class=\"dataframe\">\n",
       "  <thead>\n",
       "    <tr style=\"text-align: right;\">\n",
       "      <th></th>\n",
       "      <th>Country</th>\n",
       "      <th>Year</th>\n",
       "      <th>Obesity (%)</th>\n",
       "      <th>Sex</th>\n",
       "      <th>Obesidade</th>\n",
       "    </tr>\n",
       "  </thead>\n",
       "  <tbody>\n",
       "    <tr>\n",
       "      <th>0</th>\n",
       "      <td>Afghanistan</td>\n",
       "      <td>1975</td>\n",
       "      <td>0.5 [0.2-1.1]</td>\n",
       "      <td>Both sexes</td>\n",
       "      <td>0.5</td>\n",
       "    </tr>\n",
       "    <tr>\n",
       "      <th>1</th>\n",
       "      <td>Afghanistan</td>\n",
       "      <td>1975</td>\n",
       "      <td>0.2 [0.0-0.6]</td>\n",
       "      <td>Male</td>\n",
       "      <td>0.2</td>\n",
       "    </tr>\n",
       "    <tr>\n",
       "      <th>2</th>\n",
       "      <td>Afghanistan</td>\n",
       "      <td>1975</td>\n",
       "      <td>0.8 [0.2-2.0]</td>\n",
       "      <td>Female</td>\n",
       "      <td>0.8</td>\n",
       "    </tr>\n",
       "    <tr>\n",
       "      <th>3</th>\n",
       "      <td>Afghanistan</td>\n",
       "      <td>1976</td>\n",
       "      <td>0.5 [0.2-1.1]</td>\n",
       "      <td>Both sexes</td>\n",
       "      <td>0.5</td>\n",
       "    </tr>\n",
       "    <tr>\n",
       "      <th>4</th>\n",
       "      <td>Afghanistan</td>\n",
       "      <td>1976</td>\n",
       "      <td>0.2 [0.0-0.7]</td>\n",
       "      <td>Male</td>\n",
       "      <td>0.2</td>\n",
       "    </tr>\n",
       "  </tbody>\n",
       "</table>\n",
       "</div>"
      ],
      "text/plain": [
       "       Country  Year    Obesity (%)         Sex Obesidade\n",
       "0  Afghanistan  1975  0.5 [0.2-1.1]  Both sexes       0.5\n",
       "1  Afghanistan  1975  0.2 [0.0-0.6]        Male       0.2\n",
       "2  Afghanistan  1975  0.8 [0.2-2.0]      Female       0.8\n",
       "3  Afghanistan  1976  0.5 [0.2-1.1]  Both sexes       0.5\n",
       "4  Afghanistan  1976  0.2 [0.0-0.7]        Male       0.2"
      ]
     },
     "execution_count": 50,
     "metadata": {},
     "output_type": "execute_result"
    }
   ],
   "source": [
    "df['Obesidade'] = df['Obesity (%)'].apply(lambda x : x.split(\" \")[0])\n",
    "df.head()"
   ]
  },
  {
   "cell_type": "markdown",
   "id": "c8126bef-f5db-463f-9de7-9a9913b63bc8",
   "metadata": {},
   "source": [
    "- 1.2\n",
    "#### Aqui na célula de cima, foi criada uma coluna nova, com uma função que pega somente o primeiro índece da função split().\n",
    "    - Agora veremos como ficou dado e qual o tipo de dado desta respectiva coluna."
   ]
  },
  {
   "cell_type": "code",
   "execution_count": 20,
   "id": "cae6f20a-7a3c-4805-9e5e-f09cff5fb2aa",
   "metadata": {},
   "outputs": [
    {
     "data": {
      "text/plain": [
       "0         0.5\n",
       "1         0.2\n",
       "2         0.8\n",
       "3         0.5\n",
       "4         0.2\n",
       "         ... \n",
       "24565     4.5\n",
       "24566    24.8\n",
       "24567    15.5\n",
       "24568     4.7\n",
       "24569    25.3\n",
       "Name: Obesidade, Length: 24570, dtype: object"
      ]
     },
     "execution_count": 20,
     "metadata": {},
     "output_type": "execute_result"
    }
   ],
   "source": [
    "df['Obesidade']"
   ]
  },
  {
   "cell_type": "code",
   "execution_count": 51,
   "id": "5136f2b1",
   "metadata": {},
   "outputs": [
    {
     "data": {
      "text/plain": [
       "No      504\n",
       "0.4     222\n",
       "0.6     218\n",
       "0.5     217\n",
       "0.7     210\n",
       "       ... \n",
       "60.1      1\n",
       "56.3      1\n",
       "59.8      1\n",
       "55.5      1\n",
       "46.5      1\n",
       "Name: Obesidade, Length: 602, dtype: int64"
      ]
     },
     "execution_count": 51,
     "metadata": {},
     "output_type": "execute_result"
    }
   ],
   "source": [
    "df['Obesidade'].value_counts()"
   ]
  },
  {
   "cell_type": "code",
   "execution_count": 52,
   "id": "12f9c915",
   "metadata": {},
   "outputs": [
    {
     "name": "stdout",
     "output_type": "stream",
     "text": [
      "<class 'pandas.core.frame.DataFrame'>\n",
      "Int64Index: 504 entries, 14112 to 20915\n",
      "Data columns (total 5 columns):\n",
      " #   Column       Non-Null Count  Dtype \n",
      "---  ------       --------------  ----- \n",
      " 0   Country      504 non-null    object\n",
      " 1   Year         504 non-null    int64 \n",
      " 2   Obesity (%)  504 non-null    object\n",
      " 3   Sex          504 non-null    object\n",
      " 4   Obesidade    504 non-null    object\n",
      "dtypes: int64(1), object(4)\n",
      "memory usage: 23.6+ KB\n"
     ]
    }
   ],
   "source": [
    "df[df['Obesidade'] == 'No'].info()"
   ]
  },
  {
   "cell_type": "code",
   "execution_count": 53,
   "id": "1f7b355b-6d4a-40d5-89f5-fecc072722b8",
   "metadata": {},
   "outputs": [
    {
     "data": {
      "text/plain": [
       "str"
      ]
     },
     "execution_count": 53,
     "metadata": {},
     "output_type": "execute_result"
    }
   ],
   "source": [
    "type(df['Obesidade'].iloc[0])"
   ]
  },
  {
   "cell_type": "code",
   "execution_count": 54,
   "id": "9d68604f-23d0-419e-936c-a4b29b236d09",
   "metadata": {},
   "outputs": [
    {
     "data": {
      "text/plain": [
       "0.5"
      ]
     },
     "execution_count": 54,
     "metadata": {},
     "output_type": "execute_result"
    }
   ],
   "source": []
  },
  {
   "cell_type": "markdown",
   "id": "6f30c7dc",
   "metadata": {},
   "source": [
    "- 1.3\n",
    "#### Convertendo os dados da coluna [Obesidade]."
   ]
  },
  {
   "cell_type": "code",
   "execution_count": 56,
   "id": "7b915435",
   "metadata": {},
   "outputs": [],
   "source": [
    "df.loc[df['Obesidade'] == \"No\", 'Obesidade'] = np.nan"
   ]
  },
  {
   "cell_type": "code",
   "execution_count": 57,
   "id": "54079c12",
   "metadata": {},
   "outputs": [],
   "source": [
    "df['Obesidade'] = df['Obesidade'].dropna()"
   ]
  },
  {
   "cell_type": "code",
   "execution_count": 59,
   "id": "289d8504",
   "metadata": {},
   "outputs": [],
   "source": [
    "df['Obesidade'] = df['Obesidade'].apply(lambda x: float(x))"
   ]
  },
  {
   "cell_type": "code",
   "execution_count": 68,
   "id": "cb6d7b9e",
   "metadata": {},
   "outputs": [
    {
     "data": {
      "text/plain": [
       "numpy.float64"
      ]
     },
     "execution_count": 68,
     "metadata": {},
     "output_type": "execute_result"
    }
   ],
   "source": [
    "type(df['Obesidade'].iloc[0])"
   ]
  },
  {
   "cell_type": "markdown",
   "id": "68caa6c8",
   "metadata": {},
   "source": [
    "- 1.3.1\n",
    "    ##### Aproveitar que já convertemos os valores percentuais de obesidade de String para Float, agora vamos converter a coluna [Year] em int."
   ]
  },
  {
   "cell_type": "code",
   "execution_count": 70,
   "id": "d22366cc",
   "metadata": {},
   "outputs": [
    {
     "name": "stdout",
     "output_type": "stream",
     "text": [
      "<class 'pandas.core.series.Series'>\n",
      "Int64Index: 24570 entries, 0 to 24569\n",
      "Series name: Year\n",
      "Non-Null Count  Dtype\n",
      "--------------  -----\n",
      "24570 non-null  int64\n",
      "dtypes: int64(1)\n",
      "memory usage: 899.9 KB\n"
     ]
    }
   ],
   "source": [
    "df['Year'] = df['Year'].apply(lambda year : int(year))\n",
    "df['Year'].info()"
   ]
  },
  {
   "cell_type": "code",
   "execution_count": 72,
   "id": "98a46fb2",
   "metadata": {},
   "outputs": [
    {
     "data": {
      "text/html": [
       "<div>\n",
       "<style scoped>\n",
       "    .dataframe tbody tr th:only-of-type {\n",
       "        vertical-align: middle;\n",
       "    }\n",
       "\n",
       "    .dataframe tbody tr th {\n",
       "        vertical-align: top;\n",
       "    }\n",
       "\n",
       "    .dataframe thead th {\n",
       "        text-align: right;\n",
       "    }\n",
       "</style>\n",
       "<table border=\"1\" class=\"dataframe\">\n",
       "  <thead>\n",
       "    <tr style=\"text-align: right;\">\n",
       "      <th></th>\n",
       "      <th>Country</th>\n",
       "      <th>Year</th>\n",
       "      <th>Obesity (%)</th>\n",
       "      <th>Sex</th>\n",
       "      <th>Obesidade</th>\n",
       "    </tr>\n",
       "  </thead>\n",
       "  <tbody>\n",
       "    <tr>\n",
       "      <th>0</th>\n",
       "      <td>Afghanistan</td>\n",
       "      <td>1975</td>\n",
       "      <td>0.5 [0.2-1.1]</td>\n",
       "      <td>Both sexes</td>\n",
       "      <td>0.5</td>\n",
       "    </tr>\n",
       "    <tr>\n",
       "      <th>1</th>\n",
       "      <td>Afghanistan</td>\n",
       "      <td>1975</td>\n",
       "      <td>0.2 [0.0-0.6]</td>\n",
       "      <td>Male</td>\n",
       "      <td>0.2</td>\n",
       "    </tr>\n",
       "    <tr>\n",
       "      <th>2</th>\n",
       "      <td>Afghanistan</td>\n",
       "      <td>1975</td>\n",
       "      <td>0.8 [0.2-2.0]</td>\n",
       "      <td>Female</td>\n",
       "      <td>0.8</td>\n",
       "    </tr>\n",
       "    <tr>\n",
       "      <th>3</th>\n",
       "      <td>Afghanistan</td>\n",
       "      <td>1976</td>\n",
       "      <td>0.5 [0.2-1.1]</td>\n",
       "      <td>Both sexes</td>\n",
       "      <td>0.5</td>\n",
       "    </tr>\n",
       "    <tr>\n",
       "      <th>4</th>\n",
       "      <td>Afghanistan</td>\n",
       "      <td>1976</td>\n",
       "      <td>0.2 [0.0-0.7]</td>\n",
       "      <td>Male</td>\n",
       "      <td>0.2</td>\n",
       "    </tr>\n",
       "    <tr>\n",
       "      <th>...</th>\n",
       "      <td>...</td>\n",
       "      <td>...</td>\n",
       "      <td>...</td>\n",
       "      <td>...</td>\n",
       "      <td>...</td>\n",
       "    </tr>\n",
       "    <tr>\n",
       "      <th>24565</th>\n",
       "      <td>Zimbabwe</td>\n",
       "      <td>2015</td>\n",
       "      <td>4.5 [2.4-7.6]</td>\n",
       "      <td>Male</td>\n",
       "      <td>4.5</td>\n",
       "    </tr>\n",
       "    <tr>\n",
       "      <th>24566</th>\n",
       "      <td>Zimbabwe</td>\n",
       "      <td>2015</td>\n",
       "      <td>24.8 [18.9-31.3]</td>\n",
       "      <td>Female</td>\n",
       "      <td>24.8</td>\n",
       "    </tr>\n",
       "    <tr>\n",
       "      <th>24567</th>\n",
       "      <td>Zimbabwe</td>\n",
       "      <td>2016</td>\n",
       "      <td>15.5 [12.0-19.2]</td>\n",
       "      <td>Both sexes</td>\n",
       "      <td>15.5</td>\n",
       "    </tr>\n",
       "    <tr>\n",
       "      <th>24568</th>\n",
       "      <td>Zimbabwe</td>\n",
       "      <td>2016</td>\n",
       "      <td>4.7 [2.5-8.0]</td>\n",
       "      <td>Male</td>\n",
       "      <td>4.7</td>\n",
       "    </tr>\n",
       "    <tr>\n",
       "      <th>24569</th>\n",
       "      <td>Zimbabwe</td>\n",
       "      <td>2016</td>\n",
       "      <td>25.3 [19.1-32.0]</td>\n",
       "      <td>Female</td>\n",
       "      <td>25.3</td>\n",
       "    </tr>\n",
       "  </tbody>\n",
       "</table>\n",
       "<p>24570 rows × 5 columns</p>\n",
       "</div>"
      ],
      "text/plain": [
       "           Country  Year       Obesity (%)         Sex  Obesidade\n",
       "0      Afghanistan  1975     0.5 [0.2-1.1]  Both sexes        0.5\n",
       "1      Afghanistan  1975     0.2 [0.0-0.6]        Male        0.2\n",
       "2      Afghanistan  1975     0.8 [0.2-2.0]      Female        0.8\n",
       "3      Afghanistan  1976     0.5 [0.2-1.1]  Both sexes        0.5\n",
       "4      Afghanistan  1976     0.2 [0.0-0.7]        Male        0.2\n",
       "...            ...   ...               ...         ...        ...\n",
       "24565     Zimbabwe  2015     4.5 [2.4-7.6]        Male        4.5\n",
       "24566     Zimbabwe  2015  24.8 [18.9-31.3]      Female       24.8\n",
       "24567     Zimbabwe  2016  15.5 [12.0-19.2]  Both sexes       15.5\n",
       "24568     Zimbabwe  2016     4.7 [2.5-8.0]        Male        4.7\n",
       "24569     Zimbabwe  2016  25.3 [19.1-32.0]      Female       25.3\n",
       "\n",
       "[24570 rows x 5 columns]"
      ]
     },
     "execution_count": 72,
     "metadata": {},
     "output_type": "execute_result"
    }
   ],
   "source": [
    "df"
   ]
  },
  {
   "cell_type": "markdown",
   "id": "5ec910e9",
   "metadata": {},
   "source": [
    "- Missão concluida.\n",
    "    ### Com isso já conseguimos converter e ajustar todas as colunas.\n",
    "        - trabalhar agora para extrair a informaçôes dos dados.\n",
    "       "
   ]
  },
  {
   "cell_type": "code",
   "execution_count": 92,
   "id": "15bacb19",
   "metadata": {},
   "outputs": [
    {
     "data": {
      "text/plain": [
       "Country                  Brazil\n",
       "Year                       2015\n",
       "Obesity (%)    24.9 [20.3-29.8]\n",
       "Sex                        Male\n",
       "Obesidade                  24.9\n",
       "dtype: object"
      ]
     },
     "execution_count": 92,
     "metadata": {},
     "output_type": "execute_result"
    }
   ],
   "source": [
    "df[(df['Year'] == 2015) & (df['Obesidade']) & (df['Country'] == 'Brazil')].max()"
   ]
  },
  {
   "cell_type": "code",
   "execution_count": 95,
   "id": "56eee588",
   "metadata": {},
   "outputs": [
    {
     "data": {
      "text/plain": [
       "Country                  Brazil\n",
       "Year                       2015\n",
       "Obesity (%)    18.0 [13.9-22.6]\n",
       "Sex                  Both sexes\n",
       "Obesidade                  18.0\n",
       "dtype: object"
      ]
     },
     "execution_count": 95,
     "metadata": {},
     "output_type": "execute_result"
    }
   ],
   "source": [
    "df[(df['Year'] == 2015) & (df['Obesidade']) & (df['Country'] == 'Brazil')].min()"
   ]
  },
  {
   "cell_type": "code",
   "execution_count": 105,
   "id": "0310ea19",
   "metadata": {},
   "outputs": [
    {
     "data": {
      "text/html": [
       "<div>\n",
       "<style scoped>\n",
       "    .dataframe tbody tr th:only-of-type {\n",
       "        vertical-align: middle;\n",
       "    }\n",
       "\n",
       "    .dataframe tbody tr th {\n",
       "        vertical-align: top;\n",
       "    }\n",
       "\n",
       "    .dataframe thead th {\n",
       "        text-align: right;\n",
       "    }\n",
       "</style>\n",
       "<table border=\"1\" class=\"dataframe\">\n",
       "  <thead>\n",
       "    <tr style=\"text-align: right;\">\n",
       "      <th></th>\n",
       "      <th>Country</th>\n",
       "      <th>Year</th>\n",
       "      <th>Obesity (%)</th>\n",
       "      <th>Sex</th>\n",
       "    </tr>\n",
       "    <tr>\n",
       "      <th>Obesidade</th>\n",
       "      <th></th>\n",
       "      <th></th>\n",
       "      <th></th>\n",
       "      <th></th>\n",
       "    </tr>\n",
       "  </thead>\n",
       "  <tbody>\n",
       "    <tr>\n",
       "      <th>18.0</th>\n",
       "      <td>Brazil</td>\n",
       "      <td>2015</td>\n",
       "      <td>18.0 [13.9-22.6]</td>\n",
       "      <td>Male</td>\n",
       "    </tr>\n",
       "    <tr>\n",
       "      <th>21.6</th>\n",
       "      <td>Brazil</td>\n",
       "      <td>2015</td>\n",
       "      <td>21.6 [18.4-25.0]</td>\n",
       "      <td>Both sexes</td>\n",
       "    </tr>\n",
       "    <tr>\n",
       "      <th>24.9</th>\n",
       "      <td>Brazil</td>\n",
       "      <td>2015</td>\n",
       "      <td>24.9 [20.3-29.8]</td>\n",
       "      <td>Female</td>\n",
       "    </tr>\n",
       "  </tbody>\n",
       "</table>\n",
       "</div>"
      ],
      "text/plain": [
       "          Country  Year       Obesity (%)         Sex\n",
       "Obesidade                                            \n",
       "18.0       Brazil  2015  18.0 [13.9-22.6]        Male\n",
       "21.6       Brazil  2015  21.6 [18.4-25.0]  Both sexes\n",
       "24.9       Brazil  2015  24.9 [20.3-29.8]      Female"
      ]
     },
     "execution_count": 105,
     "metadata": {},
     "output_type": "execute_result"
    }
   ],
   "source": [
    "df[(df['Year'] == 2015) & (df['Country'] == 'Brazil')].groupby('Obesidade').max()"
   ]
  }
 ],
 "metadata": {
  "kernelspec": {
   "display_name": "Python 3 (ipykernel)",
   "language": "python",
   "name": "python3"
  },
  "language_info": {
   "codemirror_mode": {
    "name": "ipython",
    "version": 3
   },
   "file_extension": ".py",
   "mimetype": "text/x-python",
   "name": "python",
   "nbconvert_exporter": "python",
   "pygments_lexer": "ipython3",
   "version": "3.9.12"
  }
 },
 "nbformat": 4,
 "nbformat_minor": 5
}
