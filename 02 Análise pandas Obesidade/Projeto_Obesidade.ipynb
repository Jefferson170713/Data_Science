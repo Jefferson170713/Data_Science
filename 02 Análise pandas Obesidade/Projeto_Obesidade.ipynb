{
 "cells": [
  {
   "cell_type": "markdown",
   "id": "6d233e01-79eb-45dc-81e4-ae00334daa32",
   "metadata": {},
   "source": [
    "## Projeto 2 analisando dados com o Pandas, Obesidade."
   ]
  },
  {
   "cell_type": "code",
   "execution_count": 7,
   "id": "85b309d1-76d6-4192-82cf-48f4bdcb7a2f",
   "metadata": {},
   "outputs": [],
   "source": [
    "import pandas as pd"
   ]
  },
  {
   "cell_type": "code",
   "execution_count": 27,
   "id": "51caae90-fe3c-44b5-b2e4-bc8d3c5825ff",
   "metadata": {},
   "outputs": [
    {
     "data": {
      "text/html": [
       "<div>\n",
       "<style scoped>\n",
       "    .dataframe tbody tr th:only-of-type {\n",
       "        vertical-align: middle;\n",
       "    }\n",
       "\n",
       "    .dataframe tbody tr th {\n",
       "        vertical-align: top;\n",
       "    }\n",
       "\n",
       "    .dataframe thead th {\n",
       "        text-align: right;\n",
       "    }\n",
       "</style>\n",
       "<table border=\"1\" class=\"dataframe\">\n",
       "  <thead>\n",
       "    <tr style=\"text-align: right;\">\n",
       "      <th></th>\n",
       "      <th>Country</th>\n",
       "      <th>Year</th>\n",
       "      <th>Obesity (%)</th>\n",
       "      <th>Sex</th>\n",
       "    </tr>\n",
       "  </thead>\n",
       "  <tbody>\n",
       "    <tr>\n",
       "      <th>0</th>\n",
       "      <td>Afghanistan</td>\n",
       "      <td>1975</td>\n",
       "      <td>0.5 [0.2-1.1]</td>\n",
       "      <td>Both sexes</td>\n",
       "    </tr>\n",
       "    <tr>\n",
       "      <th>1</th>\n",
       "      <td>Afghanistan</td>\n",
       "      <td>1975</td>\n",
       "      <td>0.2 [0.0-0.6]</td>\n",
       "      <td>Male</td>\n",
       "    </tr>\n",
       "    <tr>\n",
       "      <th>2</th>\n",
       "      <td>Afghanistan</td>\n",
       "      <td>1975</td>\n",
       "      <td>0.8 [0.2-2.0]</td>\n",
       "      <td>Female</td>\n",
       "    </tr>\n",
       "  </tbody>\n",
       "</table>\n",
       "</div>"
      ],
      "text/plain": [
       "       Country  Year    Obesity (%)         Sex\n",
       "0  Afghanistan  1975  0.5 [0.2-1.1]  Both sexes\n",
       "1  Afghanistan  1975  0.2 [0.0-0.6]        Male\n",
       "2  Afghanistan  1975  0.8 [0.2-2.0]      Female"
      ]
     },
     "execution_count": 27,
     "metadata": {},
     "output_type": "execute_result"
    }
   ],
   "source": [
    "df = pd.read_csv('C:/Users/55859/Desktop/Estudos/Data Science/02 Análise pandas Obesidade/obesity_cleaned.csv', index_col=0)\n",
    "df.head(3)"
   ]
  },
  {
   "cell_type": "markdown",
   "id": "38904116-9700-4a96-9d8a-e4c7e18ca4bf",
   "metadata": {},
   "source": [
    "### 1 - Observando os tipos de dados.\n",
    "    - Função sahpe\n",
    "    - Função info()"
   ]
  },
  {
   "cell_type": "code",
   "execution_count": 30,
   "id": "9bf67f1d-5861-4cff-ae52-3f11fb1dce05",
   "metadata": {},
   "outputs": [
    {
     "data": {
      "text/plain": [
       "(24570, 4)"
      ]
     },
     "execution_count": 30,
     "metadata": {},
     "output_type": "execute_result"
    }
   ],
   "source": [
    "df.shape"
   ]
  },
  {
   "cell_type": "code",
   "execution_count": 33,
   "id": "6fd4c918-b1f0-4c71-9174-95ffa6eeb964",
   "metadata": {},
   "outputs": [
    {
     "name": "stdout",
     "output_type": "stream",
     "text": [
      "<class 'pandas.core.frame.DataFrame'>\n",
      "Int64Index: 24570 entries, 0 to 24569\n",
      "Data columns (total 4 columns):\n",
      " #   Column       Non-Null Count  Dtype \n",
      "---  ------       --------------  ----- \n",
      " 0   Country      24570 non-null  object\n",
      " 1   Year         24570 non-null  int64 \n",
      " 2   Obesity (%)  24570 non-null  object\n",
      " 3   Sex          24570 non-null  object\n",
      "dtypes: int64(1), object(3)\n",
      "memory usage: 959.8+ KB\n"
     ]
    }
   ],
   "source": [
    "df.info()"
   ]
  },
  {
   "cell_type": "markdown",
   "id": "0afcd0f4-116c-41dc-bd5e-385d74c276f6",
   "metadata": {},
   "source": [
    "- 1.0\n",
    "### Limpe os dados do DataFrame, criando uma coluna de nome 'Obesity' que conterá os valores de obesidade. Transforme em float as colunas que porventura foram importadas como string."
   ]
  },
  {
   "cell_type": "code",
   "execution_count": 38,
   "id": "226ae766-c1a0-44e3-bb0c-6ee94013269f",
   "metadata": {},
   "outputs": [
    {
     "data": {
      "text/plain": [
       "0           0.5 [0.2-1.1]\n",
       "1           0.2 [0.0-0.6]\n",
       "2           0.8 [0.2-2.0]\n",
       "3           0.5 [0.2-1.1]\n",
       "4           0.2 [0.0-0.7]\n",
       "               ...       \n",
       "24565       4.5 [2.4-7.6]\n",
       "24566    24.8 [18.9-31.3]\n",
       "24567    15.5 [12.0-19.2]\n",
       "24568       4.7 [2.5-8.0]\n",
       "24569    25.3 [19.1-32.0]\n",
       "Name: Obesity (%), Length: 24570, dtype: object"
      ]
     },
     "execution_count": 38,
     "metadata": {},
     "output_type": "execute_result"
    }
   ],
   "source": [
    "df['Obesity (%)']"
   ]
  },
  {
   "cell_type": "markdown",
   "id": "c33b9143-2699-4f9b-9e83-16175ad36325",
   "metadata": {},
   "source": [
    "- 1.1 \n",
    "## Se observarmos bem, os dados estão bagunçados.\n",
    "    - Com isso devemos limpar e tratar esse primeiro dado.\n",
    "    - a coluna (df['Obesity (%)']) está como object. ou seja, como string, de alguma forma, precisamos transforma-lá em vallor numerico, seja int ou float.\n",
    "        - Vamos criar uma nova coluna e tentar repassar os dados como uma lista de string para ela."
   ]
  },
  {
   "cell_type": "code",
   "execution_count": 52,
   "id": "d7f7bfb9-824d-484d-b0f0-e64e02b9739e",
   "metadata": {},
   "outputs": [
    {
     "data": {
      "text/html": [
       "<div>\n",
       "<style scoped>\n",
       "    .dataframe tbody tr th:only-of-type {\n",
       "        vertical-align: middle;\n",
       "    }\n",
       "\n",
       "    .dataframe tbody tr th {\n",
       "        vertical-align: top;\n",
       "    }\n",
       "\n",
       "    .dataframe thead th {\n",
       "        text-align: right;\n",
       "    }\n",
       "</style>\n",
       "<table border=\"1\" class=\"dataframe\">\n",
       "  <thead>\n",
       "    <tr style=\"text-align: right;\">\n",
       "      <th></th>\n",
       "      <th>Country</th>\n",
       "      <th>Year</th>\n",
       "      <th>Obesity (%)</th>\n",
       "      <th>Sex</th>\n",
       "      <th>Obesidade</th>\n",
       "    </tr>\n",
       "  </thead>\n",
       "  <tbody>\n",
       "    <tr>\n",
       "      <th>0</th>\n",
       "      <td>Afghanistan</td>\n",
       "      <td>1975</td>\n",
       "      <td>0.5 [0.2-1.1]</td>\n",
       "      <td>Both sexes</td>\n",
       "      <td>0.5</td>\n",
       "    </tr>\n",
       "    <tr>\n",
       "      <th>1</th>\n",
       "      <td>Afghanistan</td>\n",
       "      <td>1975</td>\n",
       "      <td>0.2 [0.0-0.6]</td>\n",
       "      <td>Male</td>\n",
       "      <td>0.2</td>\n",
       "    </tr>\n",
       "    <tr>\n",
       "      <th>2</th>\n",
       "      <td>Afghanistan</td>\n",
       "      <td>1975</td>\n",
       "      <td>0.8 [0.2-2.0]</td>\n",
       "      <td>Female</td>\n",
       "      <td>0.8</td>\n",
       "    </tr>\n",
       "    <tr>\n",
       "      <th>3</th>\n",
       "      <td>Afghanistan</td>\n",
       "      <td>1976</td>\n",
       "      <td>0.5 [0.2-1.1]</td>\n",
       "      <td>Both sexes</td>\n",
       "      <td>0.5</td>\n",
       "    </tr>\n",
       "    <tr>\n",
       "      <th>4</th>\n",
       "      <td>Afghanistan</td>\n",
       "      <td>1976</td>\n",
       "      <td>0.2 [0.0-0.7]</td>\n",
       "      <td>Male</td>\n",
       "      <td>0.2</td>\n",
       "    </tr>\n",
       "  </tbody>\n",
       "</table>\n",
       "</div>"
      ],
      "text/plain": [
       "       Country  Year    Obesity (%)         Sex Obesidade\n",
       "0  Afghanistan  1975  0.5 [0.2-1.1]  Both sexes       0.5\n",
       "1  Afghanistan  1975  0.2 [0.0-0.6]        Male       0.2\n",
       "2  Afghanistan  1975  0.8 [0.2-2.0]      Female       0.8\n",
       "3  Afghanistan  1976  0.5 [0.2-1.1]  Both sexes       0.5\n",
       "4  Afghanistan  1976  0.2 [0.0-0.7]        Male       0.2"
      ]
     },
     "execution_count": 52,
     "metadata": {},
     "output_type": "execute_result"
    }
   ],
   "source": [
    "df['Obesidade'] = df['Obesity (%)'].apply(lambda x: x.split(\" \")[0])\n",
    "df.head()"
   ]
  },
  {
   "cell_type": "markdown",
   "id": "c8126bef-f5db-463f-9de7-9a9913b63bc8",
   "metadata": {},
   "source": [
    "- 1.2\n",
    "#### Aqui na célula de cima foi criada uma coluna nova, com uma função que pega somente o primeiro índece da função split().\n",
    "    - Agora veremos como ficou dado e qual o tipo de dado desta respectiva coluna."
   ]
  },
  {
   "cell_type": "code",
   "execution_count": 56,
   "id": "cae6f20a-7a3c-4805-9e5e-f09cff5fb2aa",
   "metadata": {},
   "outputs": [
    {
     "data": {
      "text/plain": [
       "0         0.5\n",
       "1         0.2\n",
       "2         0.8\n",
       "3         0.5\n",
       "4         0.2\n",
       "         ... \n",
       "24565     4.5\n",
       "24566    24.8\n",
       "24567    15.5\n",
       "24568     4.7\n",
       "24569    25.3\n",
       "Name: Obesidade, Length: 24570, dtype: object"
      ]
     },
     "execution_count": 56,
     "metadata": {},
     "output_type": "execute_result"
    }
   ],
   "source": [
    "df['Obesidade']"
   ]
  },
  {
   "cell_type": "code",
   "execution_count": 73,
   "id": "1f7b355b-6d4a-40d5-89f5-fecc072722b8",
   "metadata": {},
   "outputs": [
    {
     "data": {
      "text/plain": [
       "str"
      ]
     },
     "execution_count": 73,
     "metadata": {},
     "output_type": "execute_result"
    }
   ],
   "source": [
    "type(df['Obesidade'].iloc[0])"
   ]
  },
  {
   "cell_type": "code",
   "execution_count": 76,
   "id": "9d68604f-23d0-419e-936c-a4b29b236d09",
   "metadata": {},
   "outputs": [
    {
     "data": {
      "text/plain": [
       "0.5"
      ]
     },
     "execution_count": 76,
     "metadata": {},
     "output_type": "execute_result"
    }
   ],
   "source": [
    "float(df['Obesidade'].iloc[0])"
   ]
  },
  {
   "cell_type": "code",
   "execution_count": null,
   "id": "5d2ab621-3e41-40bd-b20b-45219f64c1a5",
   "metadata": {},
   "outputs": [],
   "source": []
  }
 ],
 "metadata": {
  "kernelspec": {
   "display_name": "Python 3 (ipykernel)",
   "language": "python",
   "name": "python3"
  },
  "language_info": {
   "codemirror_mode": {
    "name": "ipython",
    "version": 3
   },
   "file_extension": ".py",
   "mimetype": "text/x-python",
   "name": "python",
   "nbconvert_exporter": "python",
   "pygments_lexer": "ipython3",
   "version": "3.9.12"
  }
 },
 "nbformat": 4,
 "nbformat_minor": 5
}
