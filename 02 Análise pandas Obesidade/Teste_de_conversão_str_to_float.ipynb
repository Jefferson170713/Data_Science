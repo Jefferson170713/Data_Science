{
 "cells": [
  {
   "cell_type": "code",
   "execution_count": 1,
   "id": "ed443f05",
   "metadata": {},
   "outputs": [],
   "source": [
    "import pandas as pd"
   ]
  },
  {
   "cell_type": "code",
   "execution_count": 85,
   "id": "c2acff33",
   "metadata": {},
   "outputs": [
    {
     "data": {
      "text/plain": [
       "{'NOME': ['Jefferson', 'Rayssa', 'Jonas', 'Juliana', 'Herverton'],\n",
       " 'IDADE': [29, 25, 27, 24, 24],\n",
       " 'SEXO': ['M', 'F', 'M', 'F', 'M']}"
      ]
     },
     "execution_count": 85,
     "metadata": {},
     "output_type": "execute_result"
    }
   ],
   "source": [
    "teste_01 ={ \"NOME\": [\n",
    "            \"Jefferson\",\n",
    "            \"Rayssa\",\n",
    "            \"Jonas\",\n",
    "            \"Juliana\",\n",
    "            \"Herverton\"\n",
    "        ],\n",
    "        \"IDADE\": [29, 25, 27, 24, 24],\n",
    "        \"SEXO\": [\"M\", \"F\", \"M\", \"F\", \"M\"],\n",
    "}\n",
    "teste_01"
   ]
  },
  {
   "cell_type": "code",
   "execution_count": 88,
   "id": "970f59fc",
   "metadata": {},
   "outputs": [
    {
     "data": {
      "text/html": [
       "<div>\n",
       "<style scoped>\n",
       "    .dataframe tbody tr th:only-of-type {\n",
       "        vertical-align: middle;\n",
       "    }\n",
       "\n",
       "    .dataframe tbody tr th {\n",
       "        vertical-align: top;\n",
       "    }\n",
       "\n",
       "    .dataframe thead th {\n",
       "        text-align: right;\n",
       "    }\n",
       "</style>\n",
       "<table border=\"1\" class=\"dataframe\">\n",
       "  <thead>\n",
       "    <tr style=\"text-align: right;\">\n",
       "      <th></th>\n",
       "      <th>NOME</th>\n",
       "      <th>IDADE</th>\n",
       "      <th>SEXO</th>\n",
       "    </tr>\n",
       "  </thead>\n",
       "  <tbody>\n",
       "    <tr>\n",
       "      <th>0</th>\n",
       "      <td>Jefferson</td>\n",
       "      <td>29</td>\n",
       "      <td>M</td>\n",
       "    </tr>\n",
       "    <tr>\n",
       "      <th>1</th>\n",
       "      <td>Rayssa</td>\n",
       "      <td>25</td>\n",
       "      <td>F</td>\n",
       "    </tr>\n",
       "    <tr>\n",
       "      <th>2</th>\n",
       "      <td>Jonas</td>\n",
       "      <td>27</td>\n",
       "      <td>M</td>\n",
       "    </tr>\n",
       "    <tr>\n",
       "      <th>3</th>\n",
       "      <td>Juliana</td>\n",
       "      <td>24</td>\n",
       "      <td>F</td>\n",
       "    </tr>\n",
       "    <tr>\n",
       "      <th>4</th>\n",
       "      <td>Herverton</td>\n",
       "      <td>24</td>\n",
       "      <td>M</td>\n",
       "    </tr>\n",
       "  </tbody>\n",
       "</table>\n",
       "</div>"
      ],
      "text/plain": [
       "        NOME  IDADE SEXO\n",
       "0  Jefferson     29    M\n",
       "1     Rayssa     25    F\n",
       "2      Jonas     27    M\n",
       "3    Juliana     24    F\n",
       "4  Herverton     24    M"
      ]
     },
     "execution_count": 88,
     "metadata": {},
     "output_type": "execute_result"
    }
   ],
   "source": [
    "df = pd.DataFrame(teste_01)\n",
    "df"
   ]
  },
  {
   "cell_type": "markdown",
   "id": "2719d0d0",
   "metadata": {},
   "source": [
    "- 1\n",
    "    #### Agora iremos fazer uma nova tabela teste com as idades  como formato de str ou string.\n",
    "        - A ideia é fazer uma stringa, separar e converter em algum número."
   ]
  },
  {
   "cell_type": "code",
   "execution_count": 89,
   "id": "6e9ce42e",
   "metadata": {},
   "outputs": [
    {
     "data": {
      "text/plain": [
       "{'NOME': ['Jefferson', 'Rayssa', 'Jonas', 'Juliana', 'Herverton'],\n",
       " 'IDADE': ['29 idade', '25 idade', '27 idade', '24 idade', '24 idade'],\n",
       " 'SEXO': ['M', 'F', 'M', 'F', 'M']}"
      ]
     },
     "execution_count": 89,
     "metadata": {},
     "output_type": "execute_result"
    }
   ],
   "source": [
    "teste_02 ={ \"NOME\": [\n",
    "            \"Jefferson\",\n",
    "            \"Rayssa\",\n",
    "            \"Jonas\",\n",
    "            \"Juliana\",\n",
    "            \"Herverton\"\n",
    "        ],\n",
    "        \"IDADE\": ['29 idade', '25 idade', '27 idade', '24 idade', '24 idade'],\n",
    "        \"SEXO\": [\"M\", \"F\", \"M\", \"F\", \"M\"],\n",
    "}\n",
    "teste_02"
   ]
  },
  {
   "cell_type": "code",
   "execution_count": 90,
   "id": "5837c5d0",
   "metadata": {},
   "outputs": [
    {
     "data": {
      "text/html": [
       "<div>\n",
       "<style scoped>\n",
       "    .dataframe tbody tr th:only-of-type {\n",
       "        vertical-align: middle;\n",
       "    }\n",
       "\n",
       "    .dataframe tbody tr th {\n",
       "        vertical-align: top;\n",
       "    }\n",
       "\n",
       "    .dataframe thead th {\n",
       "        text-align: right;\n",
       "    }\n",
       "</style>\n",
       "<table border=\"1\" class=\"dataframe\">\n",
       "  <thead>\n",
       "    <tr style=\"text-align: right;\">\n",
       "      <th></th>\n",
       "      <th>NOME</th>\n",
       "      <th>IDADE</th>\n",
       "      <th>SEXO</th>\n",
       "    </tr>\n",
       "  </thead>\n",
       "  <tbody>\n",
       "    <tr>\n",
       "      <th>0</th>\n",
       "      <td>Jefferson</td>\n",
       "      <td>29 idade</td>\n",
       "      <td>M</td>\n",
       "    </tr>\n",
       "    <tr>\n",
       "      <th>1</th>\n",
       "      <td>Rayssa</td>\n",
       "      <td>25 idade</td>\n",
       "      <td>F</td>\n",
       "    </tr>\n",
       "    <tr>\n",
       "      <th>2</th>\n",
       "      <td>Jonas</td>\n",
       "      <td>27 idade</td>\n",
       "      <td>M</td>\n",
       "    </tr>\n",
       "    <tr>\n",
       "      <th>3</th>\n",
       "      <td>Juliana</td>\n",
       "      <td>24 idade</td>\n",
       "      <td>F</td>\n",
       "    </tr>\n",
       "    <tr>\n",
       "      <th>4</th>\n",
       "      <td>Herverton</td>\n",
       "      <td>24 idade</td>\n",
       "      <td>M</td>\n",
       "    </tr>\n",
       "  </tbody>\n",
       "</table>\n",
       "</div>"
      ],
      "text/plain": [
       "        NOME     IDADE SEXO\n",
       "0  Jefferson  29 idade    M\n",
       "1     Rayssa  25 idade    F\n",
       "2      Jonas  27 idade    M\n",
       "3    Juliana  24 idade    F\n",
       "4  Herverton  24 idade    M"
      ]
     },
     "execution_count": 90,
     "metadata": {},
     "output_type": "execute_result"
    }
   ],
   "source": [
    "df = pd.DataFrame(teste_02)\n",
    "df"
   ]
  },
  {
   "cell_type": "markdown",
   "id": "df037762",
   "metadata": {},
   "source": [
    "- 1.2\n",
    "    #### Verificar os tipos de dados para só então poder trabaljhar com os dados, e assim converter."
   ]
  },
  {
   "cell_type": "code",
   "execution_count": 91,
   "id": "96f8c97f",
   "metadata": {},
   "outputs": [
    {
     "data": {
      "text/plain": [
       "0    29 idade\n",
       "1    25 idade\n",
       "2    27 idade\n",
       "3    24 idade\n",
       "4    24 idade\n",
       "Name: IDADE, dtype: object"
      ]
     },
     "execution_count": 91,
     "metadata": {},
     "output_type": "execute_result"
    }
   ],
   "source": [
    "df['IDADE']"
   ]
  },
  {
   "cell_type": "code",
   "execution_count": 92,
   "id": "0bd26720",
   "metadata": {},
   "outputs": [
    {
     "data": {
      "text/plain": [
       "str"
      ]
     },
     "execution_count": 92,
     "metadata": {},
     "output_type": "execute_result"
    }
   ],
   "source": [
    "type(df['IDADE'].iloc[0])"
   ]
  },
  {
   "cell_type": "markdown",
   "id": "7d773c6f",
   "metadata": {},
   "source": [
    "- 1.3\n",
    "    #### Início de conversão e trabalho de tratamento dos dados."
   ]
  },
  {
   "cell_type": "code",
   "execution_count": 106,
   "id": "054aaa71",
   "metadata": {},
   "outputs": [
    {
     "data": {
      "text/html": [
       "<div>\n",
       "<style scoped>\n",
       "    .dataframe tbody tr th:only-of-type {\n",
       "        vertical-align: middle;\n",
       "    }\n",
       "\n",
       "    .dataframe tbody tr th {\n",
       "        vertical-align: top;\n",
       "    }\n",
       "\n",
       "    .dataframe thead th {\n",
       "        text-align: right;\n",
       "    }\n",
       "</style>\n",
       "<table border=\"1\" class=\"dataframe\">\n",
       "  <thead>\n",
       "    <tr style=\"text-align: right;\">\n",
       "      <th></th>\n",
       "      <th>NOME</th>\n",
       "      <th>IDADE</th>\n",
       "      <th>SEXO</th>\n",
       "      <th>Nova IDADE</th>\n",
       "    </tr>\n",
       "  </thead>\n",
       "  <tbody>\n",
       "    <tr>\n",
       "      <th>0</th>\n",
       "      <td>Jefferson</td>\n",
       "      <td>29 idade</td>\n",
       "      <td>M</td>\n",
       "      <td>29.0</td>\n",
       "    </tr>\n",
       "    <tr>\n",
       "      <th>1</th>\n",
       "      <td>Rayssa</td>\n",
       "      <td>25 idade</td>\n",
       "      <td>F</td>\n",
       "      <td>25.0</td>\n",
       "    </tr>\n",
       "    <tr>\n",
       "      <th>2</th>\n",
       "      <td>Jonas</td>\n",
       "      <td>27 idade</td>\n",
       "      <td>M</td>\n",
       "      <td>27.0</td>\n",
       "    </tr>\n",
       "    <tr>\n",
       "      <th>3</th>\n",
       "      <td>Juliana</td>\n",
       "      <td>24 idade</td>\n",
       "      <td>F</td>\n",
       "      <td>24.0</td>\n",
       "    </tr>\n",
       "    <tr>\n",
       "      <th>4</th>\n",
       "      <td>Herverton</td>\n",
       "      <td>24 idade</td>\n",
       "      <td>M</td>\n",
       "      <td>24.0</td>\n",
       "    </tr>\n",
       "  </tbody>\n",
       "</table>\n",
       "</div>"
      ],
      "text/plain": [
       "        NOME     IDADE SEXO  Nova IDADE\n",
       "0  Jefferson  29 idade    M        29.0\n",
       "1     Rayssa  25 idade    F        25.0\n",
       "2      Jonas  27 idade    M        27.0\n",
       "3    Juliana  24 idade    F        24.0\n",
       "4  Herverton  24 idade    M        24.0"
      ]
     },
     "execution_count": 106,
     "metadata": {},
     "output_type": "execute_result"
    }
   ],
   "source": [
    "df['Nova IDADE'] = df['IDADE'].apply(lambda x: float(x.split(\" \")[0]))\n",
    "df"
   ]
  },
  {
   "cell_type": "code",
   "execution_count": 100,
   "id": "acc33953",
   "metadata": {},
   "outputs": [
    {
     "data": {
      "text/plain": [
       "29.0"
      ]
     },
     "execution_count": 100,
     "metadata": {},
     "output_type": "execute_result"
    }
   ],
   "source": [
    "df['Nova IDADE'].iloc[0]"
   ]
  },
  {
   "cell_type": "code",
   "execution_count": 101,
   "id": "52249855",
   "metadata": {},
   "outputs": [
    {
     "data": {
      "text/plain": [
       "numpy.float64"
      ]
     },
     "execution_count": 101,
     "metadata": {},
     "output_type": "execute_result"
    }
   ],
   "source": [
    "type(df['Nova IDADE'][0])"
   ]
  },
  {
   "cell_type": "code",
   "execution_count": 107,
   "id": "fcb2b9c6",
   "metadata": {},
   "outputs": [
    {
     "data": {
      "text/plain": [
       "129.0"
      ]
     },
     "execution_count": 107,
     "metadata": {},
     "output_type": "execute_result"
    }
   ],
   "source": [
    "df['Nova IDADE'].sum()"
   ]
  },
  {
   "cell_type": "code",
   "execution_count": 109,
   "id": "7cad2a7b",
   "metadata": {},
   "outputs": [
    {
     "data": {
      "text/plain": [
       "0    29 idade\n",
       "1    25 idade\n",
       "2    27 idade\n",
       "3    24 idade\n",
       "4    24 idade\n",
       "Name: IDADE, dtype: object"
      ]
     },
     "execution_count": 109,
     "metadata": {},
     "output_type": "execute_result"
    }
   ],
   "source": [
    "df['IDADE']"
   ]
  },
  {
   "cell_type": "code",
   "execution_count": 111,
   "id": "70b35b35",
   "metadata": {},
   "outputs": [
    {
     "data": {
      "text/plain": [
       "0    29.0\n",
       "1    25.0\n",
       "2    27.0\n",
       "3    24.0\n",
       "4    24.0\n",
       "Name: Nova IDADE, dtype: float64"
      ]
     },
     "execution_count": 111,
     "metadata": {},
     "output_type": "execute_result"
    }
   ],
   "source": [
    "df['Nova IDADE']"
   ]
  },
  {
   "cell_type": "code",
   "execution_count": null,
   "id": "7693027b",
   "metadata": {},
   "outputs": [],
   "source": [
    "df['Teste de idade'] = df['IDADE'].apply(lambda x: )"
   ]
  }
 ],
 "metadata": {
  "kernelspec": {
   "display_name": "Python 3 (ipykernel)",
   "language": "python",
   "name": "python3"
  },
  "language_info": {
   "codemirror_mode": {
    "name": "ipython",
    "version": 3
   },
   "file_extension": ".py",
   "mimetype": "text/x-python",
   "name": "python",
   "nbconvert_exporter": "python",
   "pygments_lexer": "ipython3",
   "version": "3.9.12"
  }
 },
 "nbformat": 4,
 "nbformat_minor": 5
}
