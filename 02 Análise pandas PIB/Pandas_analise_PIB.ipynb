{
 "cells": [
  {
   "cell_type": "code",
   "execution_count": 1,
   "id": "3a3c6b1c",
   "metadata": {},
   "outputs": [],
   "source": [
    "import pandas as pd"
   ]
  },
  {
   "cell_type": "code",
   "execution_count": 2,
   "id": "14f84883",
   "metadata": {},
   "outputs": [
    {
     "data": {
      "text/html": [
       "<div>\n",
       "<style scoped>\n",
       "    .dataframe tbody tr th:only-of-type {\n",
       "        vertical-align: middle;\n",
       "    }\n",
       "\n",
       "    .dataframe tbody tr th {\n",
       "        vertical-align: top;\n",
       "    }\n",
       "\n",
       "    .dataframe thead th {\n",
       "        text-align: right;\n",
       "    }\n",
       "</style>\n",
       "<table border=\"1\" class=\"dataframe\">\n",
       "  <thead>\n",
       "    <tr style=\"text-align: right;\">\n",
       "      <th></th>\n",
       "      <th>Country</th>\n",
       "      <th>Region</th>\n",
       "      <th>Year</th>\n",
       "      <th>GDP_pp</th>\n",
       "    </tr>\n",
       "  </thead>\n",
       "  <tbody>\n",
       "    <tr>\n",
       "      <th>0</th>\n",
       "      <td>Afghanistan</td>\n",
       "      <td>Middle East, North Africa, and Greater Arabia</td>\n",
       "      <td>1/1/1901</td>\n",
       "      <td>613.99</td>\n",
       "    </tr>\n",
       "    <tr>\n",
       "      <th>1</th>\n",
       "      <td>Afghanistan</td>\n",
       "      <td>Middle East, North Africa, and Greater Arabia</td>\n",
       "      <td>1/1/1906</td>\n",
       "      <td>624.04</td>\n",
       "    </tr>\n",
       "    <tr>\n",
       "      <th>2</th>\n",
       "      <td>Afghanistan</td>\n",
       "      <td>Middle East, North Africa, and Greater Arabia</td>\n",
       "      <td>1/1/1911</td>\n",
       "      <td>634.25</td>\n",
       "    </tr>\n",
       "    <tr>\n",
       "      <th>3</th>\n",
       "      <td>Afghanistan</td>\n",
       "      <td>Middle East, North Africa, and Greater Arabia</td>\n",
       "      <td>1/1/1916</td>\n",
       "      <td>647.28</td>\n",
       "    </tr>\n",
       "    <tr>\n",
       "      <th>4</th>\n",
       "      <td>Afghanistan</td>\n",
       "      <td>Middle East, North Africa, and Greater Arabia</td>\n",
       "      <td>1/1/1921</td>\n",
       "      <td>662.40</td>\n",
       "    </tr>\n",
       "    <tr>\n",
       "      <th>...</th>\n",
       "      <td>...</td>\n",
       "      <td>...</td>\n",
       "      <td>...</td>\n",
       "      <td>...</td>\n",
       "    </tr>\n",
       "    <tr>\n",
       "      <th>4414</th>\n",
       "      <td>Zimbabwe</td>\n",
       "      <td>Sub-Saharan Africa</td>\n",
       "      <td>1/1/1991</td>\n",
       "      <td>782.09</td>\n",
       "    </tr>\n",
       "    <tr>\n",
       "      <th>4415</th>\n",
       "      <td>Zimbabwe</td>\n",
       "      <td>Sub-Saharan Africa</td>\n",
       "      <td>1/1/1996</td>\n",
       "      <td>781.50</td>\n",
       "    </tr>\n",
       "    <tr>\n",
       "      <th>4416</th>\n",
       "      <td>Zimbabwe</td>\n",
       "      <td>Sub-Saharan Africa</td>\n",
       "      <td>1/1/2001</td>\n",
       "      <td>719.96</td>\n",
       "    </tr>\n",
       "    <tr>\n",
       "      <th>4417</th>\n",
       "      <td>Zimbabwe</td>\n",
       "      <td>Sub-Saharan Africa</td>\n",
       "      <td>1/1/2006</td>\n",
       "      <td>520.17</td>\n",
       "    </tr>\n",
       "    <tr>\n",
       "      <th>4418</th>\n",
       "      <td>Zimbabwe</td>\n",
       "      <td>Sub-Saharan Africa</td>\n",
       "      <td>1/1/2011</td>\n",
       "      <td>526.33</td>\n",
       "    </tr>\n",
       "  </tbody>\n",
       "</table>\n",
       "<p>4419 rows × 4 columns</p>\n",
       "</div>"
      ],
      "text/plain": [
       "          Country                                         Region      Year  \\\n",
       "0     Afghanistan  Middle East, North Africa, and Greater Arabia  1/1/1901   \n",
       "1     Afghanistan  Middle East, North Africa, and Greater Arabia  1/1/1906   \n",
       "2     Afghanistan  Middle East, North Africa, and Greater Arabia  1/1/1911   \n",
       "3     Afghanistan  Middle East, North Africa, and Greater Arabia  1/1/1916   \n",
       "4     Afghanistan  Middle East, North Africa, and Greater Arabia  1/1/1921   \n",
       "...           ...                                            ...       ...   \n",
       "4414     Zimbabwe                             Sub-Saharan Africa  1/1/1991   \n",
       "4415     Zimbabwe                             Sub-Saharan Africa  1/1/1996   \n",
       "4416     Zimbabwe                             Sub-Saharan Africa  1/1/2001   \n",
       "4417     Zimbabwe                             Sub-Saharan Africa  1/1/2006   \n",
       "4418     Zimbabwe                             Sub-Saharan Africa  1/1/2011   \n",
       "\n",
       "       GDP_pp   \n",
       "0      613.99   \n",
       "1      624.04   \n",
       "2      634.25   \n",
       "3      647.28   \n",
       "4      662.40   \n",
       "...        ...  \n",
       "4414   782.09   \n",
       "4415   781.50   \n",
       "4416   719.96   \n",
       "4417   520.17   \n",
       "4418   526.33   \n",
       "\n",
       "[4419 rows x 4 columns]"
      ]
     },
     "execution_count": 2,
     "metadata": {},
     "output_type": "execute_result"
    }
   ],
   "source": [
    "df = pd.read_csv('GDP.csv')\n",
    "df"
   ]
  },
  {
   "cell_type": "code",
   "execution_count": 3,
   "id": "e774a436",
   "metadata": {},
   "outputs": [
    {
     "name": "stdout",
     "output_type": "stream",
     "text": [
      "<class 'pandas.core.frame.DataFrame'>\n",
      "RangeIndex: 4419 entries, 0 to 4418\n",
      "Data columns (total 4 columns):\n",
      " #   Column    Non-Null Count  Dtype \n",
      "---  ------    --------------  ----- \n",
      " 0   Country   4419 non-null   object\n",
      " 1   Region    4419 non-null   object\n",
      " 2   Year      4419 non-null   object\n",
      " 3    GDP_pp   4419 non-null   object\n",
      "dtypes: object(4)\n",
      "memory usage: 138.2+ KB\n"
     ]
    }
   ],
   "source": [
    "df.info()"
   ]
  },
  {
   "cell_type": "code",
   "execution_count": 4,
   "id": "820be784",
   "metadata": {},
   "outputs": [
    {
     "data": {
      "text/plain": [
       " 3,372.76     4\n",
       " 959.19       2\n",
       " 1,084.20     2\n",
       " 745.46       2\n",
       " 6,289.83     2\n",
       "             ..\n",
       " 1,246.93     1\n",
       " 1,272.71     1\n",
       " 1,299.02     1\n",
       " 1,350.79     1\n",
       " 526.33       1\n",
       "Name:  GDP_pp , Length: 4387, dtype: int64"
      ]
     },
     "execution_count": 4,
     "metadata": {},
     "output_type": "execute_result"
    }
   ],
   "source": [
    "df[' GDP_pp '].value_counts()"
   ]
  },
  {
   "cell_type": "code",
   "execution_count": 5,
   "id": "a3e20f01",
   "metadata": {},
   "outputs": [
    {
     "data": {
      "text/html": [
       "<div>\n",
       "<style scoped>\n",
       "    .dataframe tbody tr th:only-of-type {\n",
       "        vertical-align: middle;\n",
       "    }\n",
       "\n",
       "    .dataframe tbody tr th {\n",
       "        vertical-align: top;\n",
       "    }\n",
       "\n",
       "    .dataframe thead th {\n",
       "        text-align: right;\n",
       "    }\n",
       "</style>\n",
       "<table border=\"1\" class=\"dataframe\">\n",
       "  <thead>\n",
       "    <tr style=\"text-align: right;\">\n",
       "      <th></th>\n",
       "      <th>Country</th>\n",
       "      <th>Region</th>\n",
       "      <th>Year</th>\n",
       "      <th>GDP_pp</th>\n",
       "      <th>GDP</th>\n",
       "    </tr>\n",
       "  </thead>\n",
       "  <tbody>\n",
       "    <tr>\n",
       "      <th>0</th>\n",
       "      <td>Afghanistan</td>\n",
       "      <td>Middle East, North Africa, and Greater Arabia</td>\n",
       "      <td>1/1/1901</td>\n",
       "      <td>613.99</td>\n",
       "      <td>613.99</td>\n",
       "    </tr>\n",
       "    <tr>\n",
       "      <th>1</th>\n",
       "      <td>Afghanistan</td>\n",
       "      <td>Middle East, North Africa, and Greater Arabia</td>\n",
       "      <td>1/1/1906</td>\n",
       "      <td>624.04</td>\n",
       "      <td>624.04</td>\n",
       "    </tr>\n",
       "    <tr>\n",
       "      <th>2</th>\n",
       "      <td>Afghanistan</td>\n",
       "      <td>Middle East, North Africa, and Greater Arabia</td>\n",
       "      <td>1/1/1911</td>\n",
       "      <td>634.25</td>\n",
       "      <td>634.25</td>\n",
       "    </tr>\n",
       "    <tr>\n",
       "      <th>3</th>\n",
       "      <td>Afghanistan</td>\n",
       "      <td>Middle East, North Africa, and Greater Arabia</td>\n",
       "      <td>1/1/1916</td>\n",
       "      <td>647.28</td>\n",
       "      <td>647.28</td>\n",
       "    </tr>\n",
       "    <tr>\n",
       "      <th>4</th>\n",
       "      <td>Afghanistan</td>\n",
       "      <td>Middle East, North Africa, and Greater Arabia</td>\n",
       "      <td>1/1/1921</td>\n",
       "      <td>662.40</td>\n",
       "      <td>662.40</td>\n",
       "    </tr>\n",
       "    <tr>\n",
       "      <th>...</th>\n",
       "      <td>...</td>\n",
       "      <td>...</td>\n",
       "      <td>...</td>\n",
       "      <td>...</td>\n",
       "      <td>...</td>\n",
       "    </tr>\n",
       "    <tr>\n",
       "      <th>4414</th>\n",
       "      <td>Zimbabwe</td>\n",
       "      <td>Sub-Saharan Africa</td>\n",
       "      <td>1/1/1991</td>\n",
       "      <td>782.09</td>\n",
       "      <td>782.09</td>\n",
       "    </tr>\n",
       "    <tr>\n",
       "      <th>4415</th>\n",
       "      <td>Zimbabwe</td>\n",
       "      <td>Sub-Saharan Africa</td>\n",
       "      <td>1/1/1996</td>\n",
       "      <td>781.50</td>\n",
       "      <td>781.50</td>\n",
       "    </tr>\n",
       "    <tr>\n",
       "      <th>4416</th>\n",
       "      <td>Zimbabwe</td>\n",
       "      <td>Sub-Saharan Africa</td>\n",
       "      <td>1/1/2001</td>\n",
       "      <td>719.96</td>\n",
       "      <td>719.96</td>\n",
       "    </tr>\n",
       "    <tr>\n",
       "      <th>4417</th>\n",
       "      <td>Zimbabwe</td>\n",
       "      <td>Sub-Saharan Africa</td>\n",
       "      <td>1/1/2006</td>\n",
       "      <td>520.17</td>\n",
       "      <td>520.17</td>\n",
       "    </tr>\n",
       "    <tr>\n",
       "      <th>4418</th>\n",
       "      <td>Zimbabwe</td>\n",
       "      <td>Sub-Saharan Africa</td>\n",
       "      <td>1/1/2011</td>\n",
       "      <td>526.33</td>\n",
       "      <td>526.33</td>\n",
       "    </tr>\n",
       "  </tbody>\n",
       "</table>\n",
       "<p>4419 rows × 5 columns</p>\n",
       "</div>"
      ],
      "text/plain": [
       "          Country                                         Region      Year  \\\n",
       "0     Afghanistan  Middle East, North Africa, and Greater Arabia  1/1/1901   \n",
       "1     Afghanistan  Middle East, North Africa, and Greater Arabia  1/1/1906   \n",
       "2     Afghanistan  Middle East, North Africa, and Greater Arabia  1/1/1911   \n",
       "3     Afghanistan  Middle East, North Africa, and Greater Arabia  1/1/1916   \n",
       "4     Afghanistan  Middle East, North Africa, and Greater Arabia  1/1/1921   \n",
       "...           ...                                            ...       ...   \n",
       "4414     Zimbabwe                             Sub-Saharan Africa  1/1/1991   \n",
       "4415     Zimbabwe                             Sub-Saharan Africa  1/1/1996   \n",
       "4416     Zimbabwe                             Sub-Saharan Africa  1/1/2001   \n",
       "4417     Zimbabwe                             Sub-Saharan Africa  1/1/2006   \n",
       "4418     Zimbabwe                             Sub-Saharan Africa  1/1/2011   \n",
       "\n",
       "       GDP_pp        GDP  \n",
       "0      613.99    613.99   \n",
       "1      624.04    624.04   \n",
       "2      634.25    634.25   \n",
       "3      647.28    647.28   \n",
       "4      662.40    662.40   \n",
       "...        ...       ...  \n",
       "4414   782.09    782.09   \n",
       "4415   781.50    781.50   \n",
       "4416   719.96    719.96   \n",
       "4417   520.17    520.17   \n",
       "4418   526.33    526.33   \n",
       "\n",
       "[4419 rows x 5 columns]"
      ]
     },
     "execution_count": 5,
     "metadata": {},
     "output_type": "execute_result"
    }
   ],
   "source": [
    "df['GDP' ] = df[' GDP_pp '].replace(',', '')\n",
    "df"
   ]
  },
  {
   "cell_type": "code",
   "execution_count": 6,
   "id": "69c6123d",
   "metadata": {},
   "outputs": [
    {
     "data": {
      "text/plain": [
       " 3372.76     4\n",
       " 959.19      2\n",
       " 1084.20     2\n",
       " 745.46      2\n",
       " 6289.83     2\n",
       "            ..\n",
       " 1246.93     1\n",
       " 1272.71     1\n",
       " 1299.02     1\n",
       " 1350.79     1\n",
       " 526.33      1\n",
       "Name: GDP, Length: 4387, dtype: int64"
      ]
     },
     "execution_count": 6,
     "metadata": {},
     "output_type": "execute_result"
    }
   ],
   "source": [
    "df['GDP'] = df['GDP'].apply(lambda x : x.replace(',', ''))\n",
    "df['GDP'].value_counts()"
   ]
  },
  {
   "cell_type": "code",
   "execution_count": 7,
   "id": "cb4f6cbd",
   "metadata": {},
   "outputs": [
    {
     "name": "stdout",
     "output_type": "stream",
     "text": [
      "<class 'pandas.core.frame.DataFrame'>\n",
      "RangeIndex: 4419 entries, 0 to 4418\n",
      "Data columns (total 5 columns):\n",
      " #   Column    Non-Null Count  Dtype  \n",
      "---  ------    --------------  -----  \n",
      " 0   Country   4419 non-null   object \n",
      " 1   Region    4419 non-null   object \n",
      " 2   Year      4419 non-null   object \n",
      " 3    GDP_pp   4419 non-null   object \n",
      " 4   GDP       4419 non-null   float64\n",
      "dtypes: float64(1), object(4)\n",
      "memory usage: 172.7+ KB\n"
     ]
    }
   ],
   "source": [
    "df['GDP'] = df['GDP'].apply(lambda x : float(x))\n",
    "df.info()"
   ]
  },
  {
   "cell_type": "code",
   "execution_count": 8,
   "id": "cff3bd2d",
   "metadata": {},
   "outputs": [
    {
     "data": {
      "text/plain": [
       "<AxesSubplot:>"
      ]
     },
     "execution_count": 8,
     "metadata": {},
     "output_type": "execute_result"
    },
    {
     "data": {
      "image/png": "[encoded data removed]",
      "text/plain": [
       "<Figure size 432x288 with 1 Axes>"
      ]
     },
     "metadata": {
      "needs_background": "light"
     },
     "output_type": "display_data"
    }
   ],
   "source": [
    "df['GDP'].sort_values()\n",
    "#df['GDP'].plot()\n",
    "a = df[df['Country'] == 'Brazil']['GDP'].sort_values()\n",
    "a.plot()"
   ]
  },
  {
   "cell_type": "code",
   "execution_count": 9,
   "id": "5dc7e3d1",
   "metadata": {},
   "outputs": [
    {
     "data": {
      "text/html": [
       "<div>\n",
       "<style scoped>\n",
       "    .dataframe tbody tr th:only-of-type {\n",
       "        vertical-align: middle;\n",
       "    }\n",
       "\n",
       "    .dataframe tbody tr th {\n",
       "        vertical-align: top;\n",
       "    }\n",
       "\n",
       "    .dataframe thead th {\n",
       "        text-align: right;\n",
       "    }\n",
       "</style>\n",
       "<table border=\"1\" class=\"dataframe\">\n",
       "  <thead>\n",
       "    <tr style=\"text-align: right;\">\n",
       "      <th></th>\n",
       "      <th>Country</th>\n",
       "      <th>Region</th>\n",
       "      <th>Year</th>\n",
       "      <th>GDP_pp</th>\n",
       "      <th>GDP</th>\n",
       "    </tr>\n",
       "  </thead>\n",
       "  <tbody>\n",
       "    <tr>\n",
       "      <th>529</th>\n",
       "      <td>Brazil</td>\n",
       "      <td>South America</td>\n",
       "      <td>1/1/1901</td>\n",
       "      <td>648.48</td>\n",
       "      <td>648.48</td>\n",
       "    </tr>\n",
       "    <tr>\n",
       "      <th>530</th>\n",
       "      <td>Brazil</td>\n",
       "      <td>South America</td>\n",
       "      <td>1/1/1906</td>\n",
       "      <td>696.97</td>\n",
       "      <td>696.97</td>\n",
       "    </tr>\n",
       "    <tr>\n",
       "      <th>531</th>\n",
       "      <td>Brazil</td>\n",
       "      <td>South America</td>\n",
       "      <td>1/1/1911</td>\n",
       "      <td>737.66</td>\n",
       "      <td>737.66</td>\n",
       "    </tr>\n",
       "    <tr>\n",
       "      <th>532</th>\n",
       "      <td>Brazil</td>\n",
       "      <td>South America</td>\n",
       "      <td>1/1/1916</td>\n",
       "      <td>729.69</td>\n",
       "      <td>729.69</td>\n",
       "    </tr>\n",
       "    <tr>\n",
       "      <th>533</th>\n",
       "      <td>Brazil</td>\n",
       "      <td>South America</td>\n",
       "      <td>1/1/1921</td>\n",
       "      <td>874.14</td>\n",
       "      <td>874.14</td>\n",
       "    </tr>\n",
       "    <tr>\n",
       "      <th>534</th>\n",
       "      <td>Brazil</td>\n",
       "      <td>South America</td>\n",
       "      <td>1/1/1926</td>\n",
       "      <td>989.10</td>\n",
       "      <td>989.10</td>\n",
       "    </tr>\n",
       "    <tr>\n",
       "      <th>535</th>\n",
       "      <td>Brazil</td>\n",
       "      <td>South America</td>\n",
       "      <td>1/1/1931</td>\n",
       "      <td>1,056.70</td>\n",
       "      <td>1056.70</td>\n",
       "    </tr>\n",
       "    <tr>\n",
       "      <th>536</th>\n",
       "      <td>Brazil</td>\n",
       "      <td>South America</td>\n",
       "      <td>1/1/1936</td>\n",
       "      <td>1,374.69</td>\n",
       "      <td>1374.69</td>\n",
       "    </tr>\n",
       "    <tr>\n",
       "      <th>537</th>\n",
       "      <td>Brazil</td>\n",
       "      <td>South America</td>\n",
       "      <td>1/1/1941</td>\n",
       "      <td>1,443.76</td>\n",
       "      <td>1443.76</td>\n",
       "    </tr>\n",
       "    <tr>\n",
       "      <th>538</th>\n",
       "      <td>Brazil</td>\n",
       "      <td>South America</td>\n",
       "      <td>1/1/1946</td>\n",
       "      <td>1,695.26</td>\n",
       "      <td>1695.26</td>\n",
       "    </tr>\n",
       "    <tr>\n",
       "      <th>539</th>\n",
       "      <td>Brazil</td>\n",
       "      <td>South America</td>\n",
       "      <td>1/1/1951</td>\n",
       "      <td>2,020.23</td>\n",
       "      <td>2020.23</td>\n",
       "    </tr>\n",
       "    <tr>\n",
       "      <th>540</th>\n",
       "      <td>Brazil</td>\n",
       "      <td>South America</td>\n",
       "      <td>1/1/1956</td>\n",
       "      <td>2,376.50</td>\n",
       "      <td>2376.50</td>\n",
       "    </tr>\n",
       "    <tr>\n",
       "      <th>541</th>\n",
       "      <td>Brazil</td>\n",
       "      <td>South America</td>\n",
       "      <td>1/1/1961</td>\n",
       "      <td>3,214.19</td>\n",
       "      <td>3214.19</td>\n",
       "    </tr>\n",
       "    <tr>\n",
       "      <th>542</th>\n",
       "      <td>Brazil</td>\n",
       "      <td>South America</td>\n",
       "      <td>1/1/1966</td>\n",
       "      <td>3,385.40</td>\n",
       "      <td>3385.40</td>\n",
       "    </tr>\n",
       "    <tr>\n",
       "      <th>543</th>\n",
       "      <td>Brazil</td>\n",
       "      <td>South America</td>\n",
       "      <td>1/1/1971</td>\n",
       "      <td>4,554.85</td>\n",
       "      <td>4554.85</td>\n",
       "    </tr>\n",
       "    <tr>\n",
       "      <th>544</th>\n",
       "      <td>Brazil</td>\n",
       "      <td>South America</td>\n",
       "      <td>1/1/1976</td>\n",
       "      <td>6,500.65</td>\n",
       "      <td>6500.65</td>\n",
       "    </tr>\n",
       "    <tr>\n",
       "      <th>545</th>\n",
       "      <td>Brazil</td>\n",
       "      <td>South America</td>\n",
       "      <td>1/1/1981</td>\n",
       "      <td>7,128.81</td>\n",
       "      <td>7128.81</td>\n",
       "    </tr>\n",
       "    <tr>\n",
       "      <th>546</th>\n",
       "      <td>Brazil</td>\n",
       "      <td>South America</td>\n",
       "      <td>1/1/1986</td>\n",
       "      <td>7,685.06</td>\n",
       "      <td>7685.06</td>\n",
       "    </tr>\n",
       "    <tr>\n",
       "      <th>547</th>\n",
       "      <td>Brazil</td>\n",
       "      <td>South America</td>\n",
       "      <td>1/1/1991</td>\n",
       "      <td>7,097.83</td>\n",
       "      <td>7097.83</td>\n",
       "    </tr>\n",
       "    <tr>\n",
       "      <th>548</th>\n",
       "      <td>Brazil</td>\n",
       "      <td>South America</td>\n",
       "      <td>1/1/1996</td>\n",
       "      <td>7,810.20</td>\n",
       "      <td>7810.20</td>\n",
       "    </tr>\n",
       "    <tr>\n",
       "      <th>549</th>\n",
       "      <td>Brazil</td>\n",
       "      <td>South America</td>\n",
       "      <td>1/1/2001</td>\n",
       "      <td>8,022.52</td>\n",
       "      <td>8022.52</td>\n",
       "    </tr>\n",
       "    <tr>\n",
       "      <th>550</th>\n",
       "      <td>Brazil</td>\n",
       "      <td>South America</td>\n",
       "      <td>1/1/2006</td>\n",
       "      <td>8,842.43</td>\n",
       "      <td>8842.43</td>\n",
       "    </tr>\n",
       "    <tr>\n",
       "      <th>551</th>\n",
       "      <td>Brazil</td>\n",
       "      <td>South America</td>\n",
       "      <td>1/1/2011</td>\n",
       "      <td>10,383.07</td>\n",
       "      <td>10383.07</td>\n",
       "    </tr>\n",
       "  </tbody>\n",
       "</table>\n",
       "</div>"
      ],
      "text/plain": [
       "    Country         Region      Year      GDP_pp        GDP\n",
       "529  Brazil  South America  1/1/1901      648.48     648.48\n",
       "530  Brazil  South America  1/1/1906      696.97     696.97\n",
       "531  Brazil  South America  1/1/1911      737.66     737.66\n",
       "532  Brazil  South America  1/1/1916      729.69     729.69\n",
       "533  Brazil  South America  1/1/1921      874.14     874.14\n",
       "534  Brazil  South America  1/1/1926      989.10     989.10\n",
       "535  Brazil  South America  1/1/1931    1,056.70    1056.70\n",
       "536  Brazil  South America  1/1/1936    1,374.69    1374.69\n",
       "537  Brazil  South America  1/1/1941    1,443.76    1443.76\n",
       "538  Brazil  South America  1/1/1946    1,695.26    1695.26\n",
       "539  Brazil  South America  1/1/1951    2,020.23    2020.23\n",
       "540  Brazil  South America  1/1/1956    2,376.50    2376.50\n",
       "541  Brazil  South America  1/1/1961    3,214.19    3214.19\n",
       "542  Brazil  South America  1/1/1966    3,385.40    3385.40\n",
       "543  Brazil  South America  1/1/1971    4,554.85    4554.85\n",
       "544  Brazil  South America  1/1/1976    6,500.65    6500.65\n",
       "545  Brazil  South America  1/1/1981    7,128.81    7128.81\n",
       "546  Brazil  South America  1/1/1986    7,685.06    7685.06\n",
       "547  Brazil  South America  1/1/1991    7,097.83    7097.83\n",
       "548  Brazil  South America  1/1/1996    7,810.20    7810.20\n",
       "549  Brazil  South America  1/1/2001    8,022.52    8022.52\n",
       "550  Brazil  South America  1/1/2006    8,842.43    8842.43\n",
       "551  Brazil  South America  1/1/2011   10,383.07   10383.07"
      ]
     },
     "execution_count": 9,
     "metadata": {},
     "output_type": "execute_result"
    }
   ],
   "source": [
    "df[df['Country'] == 'Brazil']"
   ]
  },
  {
   "cell_type": "code",
   "execution_count": 10,
   "id": "4e1a5333",
   "metadata": {},
   "outputs": [
    {
     "data": {
      "text/plain": [
       "0       1/1/1901\n",
       "1       1/1/1906\n",
       "2       1/1/1911\n",
       "3       1/1/1916\n",
       "4       1/1/1921\n",
       "          ...   \n",
       "4414    1/1/1991\n",
       "4415    1/1/1996\n",
       "4416    1/1/2001\n",
       "4417    1/1/2006\n",
       "4418    1/1/2011\n",
       "Name: Year, Length: 4419, dtype: object"
      ]
     },
     "execution_count": 10,
     "metadata": {},
     "output_type": "execute_result"
    }
   ],
   "source": [
    "df['Year']"
   ]
  },
  {
   "cell_type": "code",
   "execution_count": 11,
   "id": "31fa49b8",
   "metadata": {},
   "outputs": [],
   "source": [
    "df['YEAR'] = df['Year'].apply(lambda x : x.split('/')[2])"
   ]
  },
  {
   "cell_type": "code",
   "execution_count": 12,
   "id": "350ba70d",
   "metadata": {},
   "outputs": [
    {
     "data": {
      "text/html": [
       "<div>\n",
       "<style scoped>\n",
       "    .dataframe tbody tr th:only-of-type {\n",
       "        vertical-align: middle;\n",
       "    }\n",
       "\n",
       "    .dataframe tbody tr th {\n",
       "        vertical-align: top;\n",
       "    }\n",
       "\n",
       "    .dataframe thead th {\n",
       "        text-align: right;\n",
       "    }\n",
       "</style>\n",
       "<table border=\"1\" class=\"dataframe\">\n",
       "  <thead>\n",
       "    <tr style=\"text-align: right;\">\n",
       "      <th></th>\n",
       "      <th>Country</th>\n",
       "      <th>Region</th>\n",
       "      <th>Year</th>\n",
       "      <th>GDP_pp</th>\n",
       "      <th>GDP</th>\n",
       "      <th>YEAR</th>\n",
       "    </tr>\n",
       "  </thead>\n",
       "  <tbody>\n",
       "    <tr>\n",
       "      <th>0</th>\n",
       "      <td>Afghanistan</td>\n",
       "      <td>Middle East, North Africa, and Greater Arabia</td>\n",
       "      <td>1/1/1901</td>\n",
       "      <td>613.99</td>\n",
       "      <td>613.99</td>\n",
       "      <td>1901</td>\n",
       "    </tr>\n",
       "    <tr>\n",
       "      <th>1</th>\n",
       "      <td>Afghanistan</td>\n",
       "      <td>Middle East, North Africa, and Greater Arabia</td>\n",
       "      <td>1/1/1906</td>\n",
       "      <td>624.04</td>\n",
       "      <td>624.04</td>\n",
       "      <td>1906</td>\n",
       "    </tr>\n",
       "    <tr>\n",
       "      <th>2</th>\n",
       "      <td>Afghanistan</td>\n",
       "      <td>Middle East, North Africa, and Greater Arabia</td>\n",
       "      <td>1/1/1911</td>\n",
       "      <td>634.25</td>\n",
       "      <td>634.25</td>\n",
       "      <td>1911</td>\n",
       "    </tr>\n",
       "    <tr>\n",
       "      <th>3</th>\n",
       "      <td>Afghanistan</td>\n",
       "      <td>Middle East, North Africa, and Greater Arabia</td>\n",
       "      <td>1/1/1916</td>\n",
       "      <td>647.28</td>\n",
       "      <td>647.28</td>\n",
       "      <td>1916</td>\n",
       "    </tr>\n",
       "    <tr>\n",
       "      <th>4</th>\n",
       "      <td>Afghanistan</td>\n",
       "      <td>Middle East, North Africa, and Greater Arabia</td>\n",
       "      <td>1/1/1921</td>\n",
       "      <td>662.40</td>\n",
       "      <td>662.40</td>\n",
       "      <td>1921</td>\n",
       "    </tr>\n",
       "  </tbody>\n",
       "</table>\n",
       "</div>"
      ],
      "text/plain": [
       "       Country                                         Region      Year  \\\n",
       "0  Afghanistan  Middle East, North Africa, and Greater Arabia  1/1/1901   \n",
       "1  Afghanistan  Middle East, North Africa, and Greater Arabia  1/1/1906   \n",
       "2  Afghanistan  Middle East, North Africa, and Greater Arabia  1/1/1911   \n",
       "3  Afghanistan  Middle East, North Africa, and Greater Arabia  1/1/1916   \n",
       "4  Afghanistan  Middle East, North Africa, and Greater Arabia  1/1/1921   \n",
       "\n",
       "    GDP_pp      GDP  YEAR  \n",
       "0   613.99   613.99  1901  \n",
       "1   624.04   624.04  1906  \n",
       "2   634.25   634.25  1911  \n",
       "3   647.28   647.28  1916  \n",
       "4   662.40   662.40  1921  "
      ]
     },
     "execution_count": 12,
     "metadata": {},
     "output_type": "execute_result"
    }
   ],
   "source": [
    "df.head()"
   ]
  },
  {
   "cell_type": "code",
   "execution_count": 13,
   "id": "7d12c061",
   "metadata": {},
   "outputs": [
    {
     "data": {
      "text/html": [
       "<div>\n",
       "<style scoped>\n",
       "    .dataframe tbody tr th:only-of-type {\n",
       "        vertical-align: middle;\n",
       "    }\n",
       "\n",
       "    .dataframe tbody tr th {\n",
       "        vertical-align: top;\n",
       "    }\n",
       "\n",
       "    .dataframe thead th {\n",
       "        text-align: right;\n",
       "    }\n",
       "</style>\n",
       "<table border=\"1\" class=\"dataframe\">\n",
       "  <thead>\n",
       "    <tr style=\"text-align: right;\">\n",
       "      <th></th>\n",
       "      <th>Country</th>\n",
       "      <th>Region</th>\n",
       "      <th>Year</th>\n",
       "      <th>GDP_pp</th>\n",
       "      <th>GDP</th>\n",
       "      <th>YEAR</th>\n",
       "    </tr>\n",
       "  </thead>\n",
       "  <tbody>\n",
       "    <tr>\n",
       "      <th>529</th>\n",
       "      <td>Brazil</td>\n",
       "      <td>South America</td>\n",
       "      <td>1/1/1901</td>\n",
       "      <td>648.48</td>\n",
       "      <td>648.48</td>\n",
       "      <td>1901</td>\n",
       "    </tr>\n",
       "    <tr>\n",
       "      <th>530</th>\n",
       "      <td>Brazil</td>\n",
       "      <td>South America</td>\n",
       "      <td>1/1/1906</td>\n",
       "      <td>696.97</td>\n",
       "      <td>696.97</td>\n",
       "      <td>1906</td>\n",
       "    </tr>\n",
       "    <tr>\n",
       "      <th>531</th>\n",
       "      <td>Brazil</td>\n",
       "      <td>South America</td>\n",
       "      <td>1/1/1911</td>\n",
       "      <td>737.66</td>\n",
       "      <td>737.66</td>\n",
       "      <td>1911</td>\n",
       "    </tr>\n",
       "    <tr>\n",
       "      <th>532</th>\n",
       "      <td>Brazil</td>\n",
       "      <td>South America</td>\n",
       "      <td>1/1/1916</td>\n",
       "      <td>729.69</td>\n",
       "      <td>729.69</td>\n",
       "      <td>1916</td>\n",
       "    </tr>\n",
       "    <tr>\n",
       "      <th>533</th>\n",
       "      <td>Brazil</td>\n",
       "      <td>South America</td>\n",
       "      <td>1/1/1921</td>\n",
       "      <td>874.14</td>\n",
       "      <td>874.14</td>\n",
       "      <td>1921</td>\n",
       "    </tr>\n",
       "    <tr>\n",
       "      <th>534</th>\n",
       "      <td>Brazil</td>\n",
       "      <td>South America</td>\n",
       "      <td>1/1/1926</td>\n",
       "      <td>989.10</td>\n",
       "      <td>989.10</td>\n",
       "      <td>1926</td>\n",
       "    </tr>\n",
       "    <tr>\n",
       "      <th>535</th>\n",
       "      <td>Brazil</td>\n",
       "      <td>South America</td>\n",
       "      <td>1/1/1931</td>\n",
       "      <td>1,056.70</td>\n",
       "      <td>1056.70</td>\n",
       "      <td>1931</td>\n",
       "    </tr>\n",
       "    <tr>\n",
       "      <th>536</th>\n",
       "      <td>Brazil</td>\n",
       "      <td>South America</td>\n",
       "      <td>1/1/1936</td>\n",
       "      <td>1,374.69</td>\n",
       "      <td>1374.69</td>\n",
       "      <td>1936</td>\n",
       "    </tr>\n",
       "    <tr>\n",
       "      <th>537</th>\n",
       "      <td>Brazil</td>\n",
       "      <td>South America</td>\n",
       "      <td>1/1/1941</td>\n",
       "      <td>1,443.76</td>\n",
       "      <td>1443.76</td>\n",
       "      <td>1941</td>\n",
       "    </tr>\n",
       "    <tr>\n",
       "      <th>538</th>\n",
       "      <td>Brazil</td>\n",
       "      <td>South America</td>\n",
       "      <td>1/1/1946</td>\n",
       "      <td>1,695.26</td>\n",
       "      <td>1695.26</td>\n",
       "      <td>1946</td>\n",
       "    </tr>\n",
       "    <tr>\n",
       "      <th>539</th>\n",
       "      <td>Brazil</td>\n",
       "      <td>South America</td>\n",
       "      <td>1/1/1951</td>\n",
       "      <td>2,020.23</td>\n",
       "      <td>2020.23</td>\n",
       "      <td>1951</td>\n",
       "    </tr>\n",
       "    <tr>\n",
       "      <th>540</th>\n",
       "      <td>Brazil</td>\n",
       "      <td>South America</td>\n",
       "      <td>1/1/1956</td>\n",
       "      <td>2,376.50</td>\n",
       "      <td>2376.50</td>\n",
       "      <td>1956</td>\n",
       "    </tr>\n",
       "    <tr>\n",
       "      <th>541</th>\n",
       "      <td>Brazil</td>\n",
       "      <td>South America</td>\n",
       "      <td>1/1/1961</td>\n",
       "      <td>3,214.19</td>\n",
       "      <td>3214.19</td>\n",
       "      <td>1961</td>\n",
       "    </tr>\n",
       "    <tr>\n",
       "      <th>542</th>\n",
       "      <td>Brazil</td>\n",
       "      <td>South America</td>\n",
       "      <td>1/1/1966</td>\n",
       "      <td>3,385.40</td>\n",
       "      <td>3385.40</td>\n",
       "      <td>1966</td>\n",
       "    </tr>\n",
       "    <tr>\n",
       "      <th>543</th>\n",
       "      <td>Brazil</td>\n",
       "      <td>South America</td>\n",
       "      <td>1/1/1971</td>\n",
       "      <td>4,554.85</td>\n",
       "      <td>4554.85</td>\n",
       "      <td>1971</td>\n",
       "    </tr>\n",
       "    <tr>\n",
       "      <th>544</th>\n",
       "      <td>Brazil</td>\n",
       "      <td>South America</td>\n",
       "      <td>1/1/1976</td>\n",
       "      <td>6,500.65</td>\n",
       "      <td>6500.65</td>\n",
       "      <td>1976</td>\n",
       "    </tr>\n",
       "    <tr>\n",
       "      <th>545</th>\n",
       "      <td>Brazil</td>\n",
       "      <td>South America</td>\n",
       "      <td>1/1/1981</td>\n",
       "      <td>7,128.81</td>\n",
       "      <td>7128.81</td>\n",
       "      <td>1981</td>\n",
       "    </tr>\n",
       "    <tr>\n",
       "      <th>546</th>\n",
       "      <td>Brazil</td>\n",
       "      <td>South America</td>\n",
       "      <td>1/1/1986</td>\n",
       "      <td>7,685.06</td>\n",
       "      <td>7685.06</td>\n",
       "      <td>1986</td>\n",
       "    </tr>\n",
       "    <tr>\n",
       "      <th>547</th>\n",
       "      <td>Brazil</td>\n",
       "      <td>South America</td>\n",
       "      <td>1/1/1991</td>\n",
       "      <td>7,097.83</td>\n",
       "      <td>7097.83</td>\n",
       "      <td>1991</td>\n",
       "    </tr>\n",
       "    <tr>\n",
       "      <th>548</th>\n",
       "      <td>Brazil</td>\n",
       "      <td>South America</td>\n",
       "      <td>1/1/1996</td>\n",
       "      <td>7,810.20</td>\n",
       "      <td>7810.20</td>\n",
       "      <td>1996</td>\n",
       "    </tr>\n",
       "    <tr>\n",
       "      <th>549</th>\n",
       "      <td>Brazil</td>\n",
       "      <td>South America</td>\n",
       "      <td>1/1/2001</td>\n",
       "      <td>8,022.52</td>\n",
       "      <td>8022.52</td>\n",
       "      <td>2001</td>\n",
       "    </tr>\n",
       "    <tr>\n",
       "      <th>550</th>\n",
       "      <td>Brazil</td>\n",
       "      <td>South America</td>\n",
       "      <td>1/1/2006</td>\n",
       "      <td>8,842.43</td>\n",
       "      <td>8842.43</td>\n",
       "      <td>2006</td>\n",
       "    </tr>\n",
       "    <tr>\n",
       "      <th>551</th>\n",
       "      <td>Brazil</td>\n",
       "      <td>South America</td>\n",
       "      <td>1/1/2011</td>\n",
       "      <td>10,383.07</td>\n",
       "      <td>10383.07</td>\n",
       "      <td>2011</td>\n",
       "    </tr>\n",
       "  </tbody>\n",
       "</table>\n",
       "</div>"
      ],
      "text/plain": [
       "    Country         Region      Year      GDP_pp        GDP  YEAR\n",
       "529  Brazil  South America  1/1/1901      648.48     648.48  1901\n",
       "530  Brazil  South America  1/1/1906      696.97     696.97  1906\n",
       "531  Brazil  South America  1/1/1911      737.66     737.66  1911\n",
       "532  Brazil  South America  1/1/1916      729.69     729.69  1916\n",
       "533  Brazil  South America  1/1/1921      874.14     874.14  1921\n",
       "534  Brazil  South America  1/1/1926      989.10     989.10  1926\n",
       "535  Brazil  South America  1/1/1931    1,056.70    1056.70  1931\n",
       "536  Brazil  South America  1/1/1936    1,374.69    1374.69  1936\n",
       "537  Brazil  South America  1/1/1941    1,443.76    1443.76  1941\n",
       "538  Brazil  South America  1/1/1946    1,695.26    1695.26  1946\n",
       "539  Brazil  South America  1/1/1951    2,020.23    2020.23  1951\n",
       "540  Brazil  South America  1/1/1956    2,376.50    2376.50  1956\n",
       "541  Brazil  South America  1/1/1961    3,214.19    3214.19  1961\n",
       "542  Brazil  South America  1/1/1966    3,385.40    3385.40  1966\n",
       "543  Brazil  South America  1/1/1971    4,554.85    4554.85  1971\n",
       "544  Brazil  South America  1/1/1976    6,500.65    6500.65  1976\n",
       "545  Brazil  South America  1/1/1981    7,128.81    7128.81  1981\n",
       "546  Brazil  South America  1/1/1986    7,685.06    7685.06  1986\n",
       "547  Brazil  South America  1/1/1991    7,097.83    7097.83  1991\n",
       "548  Brazil  South America  1/1/1996    7,810.20    7810.20  1996\n",
       "549  Brazil  South America  1/1/2001    8,022.52    8022.52  2001\n",
       "550  Brazil  South America  1/1/2006    8,842.43    8842.43  2006\n",
       "551  Brazil  South America  1/1/2011   10,383.07   10383.07  2011"
      ]
     },
     "execution_count": 13,
     "metadata": {},
     "output_type": "execute_result"
    }
   ],
   "source": [
    "df[df['Country'] == 'Brazil']"
   ]
  },
  {
   "cell_type": "code",
   "execution_count": 14,
   "id": "41dc4746",
   "metadata": {},
   "outputs": [
    {
     "data": {
      "text/plain": [
       "str"
      ]
     },
     "execution_count": 14,
     "metadata": {},
     "output_type": "execute_result"
    }
   ],
   "source": [
    "type(df['YEAR'][0])"
   ]
  },
  {
   "cell_type": "code",
   "execution_count": 15,
   "id": "121b5849",
   "metadata": {},
   "outputs": [
    {
     "data": {
      "text/plain": [
       "numpy.int64"
      ]
     },
     "execution_count": 15,
     "metadata": {},
     "output_type": "execute_result"
    }
   ],
   "source": [
    "df['YEAR'] = df['YEAR'].apply(lambda year : int(year))\n",
    "type(df['YEAR'][0])"
   ]
  },
  {
   "cell_type": "code",
   "execution_count": 16,
   "id": "e5c9d862",
   "metadata": {},
   "outputs": [
    {
     "data": {
      "text/plain": [
       "<AxesSubplot:>"
      ]
     },
     "execution_count": 16,
     "metadata": {},
     "output_type": "execute_result"
    },
    {
     "data": {
      "image/png": "[encoded data removed]",
      "text/plain": [
       "<Figure size 432x288 with 1 Axes>"
      ]
     },
     "metadata": {
      "needs_background": "light"
     },
     "output_type": "display_data"
    }
   ],
   "source": [
    "df[df['Country'] == 'Brazil']['GDP'].plot()"
   ]
  },
  {
   "cell_type": "code",
   "execution_count": 17,
   "id": "29e9f2a9",
   "metadata": {},
   "outputs": [
    {
     "data": {
      "text/plain": [
       "<AxesSubplot:>"
      ]
     },
     "execution_count": 17,
     "metadata": {},
     "output_type": "execute_result"
    },
    {
     "data": {
      "image/png": "[encoded data removed]",
      "text/plain": [
       "<Figure size 432x288 with 1 Axes>"
      ]
     },
     "metadata": {
      "needs_background": "light"
     },
     "output_type": "display_data"
    }
   ],
   "source": [
    "df[df['Country'] == 'Afghanistan']['GDP'].plot()"
   ]
  },
  {
   "cell_type": "code",
   "execution_count": 42,
   "id": "adb8fa8b",
   "metadata": {},
   "outputs": [
    {
     "data": {
      "text/plain": [
       "Europe                                           1063\n",
       "Sub-Saharan Africa                               1058\n",
       "Asia                                              621\n",
       "Middle East, North Africa, and Greater Arabia     529\n",
       "Central America and the Caribbean                 437\n",
       "Australia and Oceania                             343\n",
       "South America                                     276\n",
       "North America                                      92\n",
       "Name: Region, dtype: int64"
      ]
     },
     "execution_count": 42,
     "metadata": {},
     "output_type": "execute_result"
    }
   ],
   "source": [
    "df['Region'].value_counts()"
   ]
  },
  {
   "cell_type": "code",
   "execution_count": 43,
   "id": "c2d11481",
   "metadata": {},
   "outputs": [
    {
     "data": {
      "text/html": [
       "<div>\n",
       "<style scoped>\n",
       "    .dataframe tbody tr th:only-of-type {\n",
       "        vertical-align: middle;\n",
       "    }\n",
       "\n",
       "    .dataframe tbody tr th {\n",
       "        vertical-align: top;\n",
       "    }\n",
       "\n",
       "    .dataframe thead th {\n",
       "        text-align: right;\n",
       "    }\n",
       "</style>\n",
       "<table border=\"1\" class=\"dataframe\">\n",
       "  <thead>\n",
       "    <tr style=\"text-align: right;\">\n",
       "      <th></th>\n",
       "      <th>Country</th>\n",
       "      <th>Region</th>\n",
       "      <th>Year</th>\n",
       "      <th>GDP_pp</th>\n",
       "      <th>GDP</th>\n",
       "      <th>YEAR</th>\n",
       "    </tr>\n",
       "  </thead>\n",
       "  <tbody>\n",
       "    <tr>\n",
       "      <th>690</th>\n",
       "      <td>Canada</td>\n",
       "      <td>North America</td>\n",
       "      <td>1/1/1901</td>\n",
       "      <td>4,493.99</td>\n",
       "      <td>4493.99</td>\n",
       "      <td>1901</td>\n",
       "    </tr>\n",
       "    <tr>\n",
       "      <th>691</th>\n",
       "      <td>Canada</td>\n",
       "      <td>North America</td>\n",
       "      <td>1/1/1906</td>\n",
       "      <td>5,581.55</td>\n",
       "      <td>5581.55</td>\n",
       "      <td>1906</td>\n",
       "    </tr>\n",
       "    <tr>\n",
       "      <th>692</th>\n",
       "      <td>Canada</td>\n",
       "      <td>North America</td>\n",
       "      <td>1/1/1911</td>\n",
       "      <td>6,113.16</td>\n",
       "      <td>6113.16</td>\n",
       "      <td>1911</td>\n",
       "    </tr>\n",
       "    <tr>\n",
       "      <th>693</th>\n",
       "      <td>Canada</td>\n",
       "      <td>North America</td>\n",
       "      <td>1/1/1916</td>\n",
       "      <td>6,742.36</td>\n",
       "      <td>6742.36</td>\n",
       "      <td>1916</td>\n",
       "    </tr>\n",
       "    <tr>\n",
       "      <th>694</th>\n",
       "      <td>Canada</td>\n",
       "      <td>North America</td>\n",
       "      <td>1/1/1921</td>\n",
       "      <td>4,871.63</td>\n",
       "      <td>4871.63</td>\n",
       "      <td>1921</td>\n",
       "    </tr>\n",
       "    <tr>\n",
       "      <th>...</th>\n",
       "      <td>...</td>\n",
       "      <td>...</td>\n",
       "      <td>...</td>\n",
       "      <td>...</td>\n",
       "      <td>...</td>\n",
       "      <td>...</td>\n",
       "    </tr>\n",
       "    <tr>\n",
       "      <th>4230</th>\n",
       "      <td>United States</td>\n",
       "      <td>North America</td>\n",
       "      <td>1/1/1991</td>\n",
       "      <td>33,076.87</td>\n",
       "      <td>33076.87</td>\n",
       "      <td>1991</td>\n",
       "    </tr>\n",
       "    <tr>\n",
       "      <th>4231</th>\n",
       "      <td>United States</td>\n",
       "      <td>North America</td>\n",
       "      <td>1/1/1996</td>\n",
       "      <td>35,807.00</td>\n",
       "      <td>35807.00</td>\n",
       "      <td>1996</td>\n",
       "    </tr>\n",
       "    <tr>\n",
       "      <th>4232</th>\n",
       "      <td>United States</td>\n",
       "      <td>North America</td>\n",
       "      <td>1/1/2001</td>\n",
       "      <td>39,474.11</td>\n",
       "      <td>39474.11</td>\n",
       "      <td>2001</td>\n",
       "    </tr>\n",
       "    <tr>\n",
       "      <th>4233</th>\n",
       "      <td>United States</td>\n",
       "      <td>North America</td>\n",
       "      <td>1/1/2006</td>\n",
       "      <td>42,378.85</td>\n",
       "      <td>42378.85</td>\n",
       "      <td>2006</td>\n",
       "    </tr>\n",
       "    <tr>\n",
       "      <th>4234</th>\n",
       "      <td>United States</td>\n",
       "      <td>North America</td>\n",
       "      <td>1/1/2011</td>\n",
       "      <td>41,678.41</td>\n",
       "      <td>41678.41</td>\n",
       "      <td>2011</td>\n",
       "    </tr>\n",
       "  </tbody>\n",
       "</table>\n",
       "<p>92 rows × 6 columns</p>\n",
       "</div>"
      ],
      "text/plain": [
       "            Country         Region      Year      GDP_pp        GDP  YEAR\n",
       "690          Canada  North America  1/1/1901    4,493.99    4493.99  1901\n",
       "691          Canada  North America  1/1/1906    5,581.55    5581.55  1906\n",
       "692          Canada  North America  1/1/1911    6,113.16    6113.16  1911\n",
       "693          Canada  North America  1/1/1916    6,742.36    6742.36  1916\n",
       "694          Canada  North America  1/1/1921    4,871.63    4871.63  1921\n",
       "...             ...            ...       ...          ...       ...   ...\n",
       "4230  United States  North America  1/1/1991   33,076.87   33076.87  1991\n",
       "4231  United States  North America  1/1/1996   35,807.00   35807.00  1996\n",
       "4232  United States  North America  1/1/2001   39,474.11   39474.11  2001\n",
       "4233  United States  North America  1/1/2006   42,378.85   42378.85  2006\n",
       "4234  United States  North America  1/1/2011   41,678.41   41678.41  2011\n",
       "\n",
       "[92 rows x 6 columns]"
      ]
     },
     "execution_count": 43,
     "metadata": {},
     "output_type": "execute_result"
    }
   ],
   "source": [
    "df[df['Region'] == 'North America']"
   ]
  },
  {
   "cell_type": "code",
   "execution_count": 45,
   "id": "fc6ed914",
   "metadata": {},
   "outputs": [
    {
     "data": {
      "text/plain": [
       "<AxesSubplot:xlabel='YEAR'>"
      ]
     },
     "execution_count": 45,
     "metadata": {},
     "output_type": "execute_result"
    },
    {
     "data": {
      "image/png": "[encoded data removed]",
      "text/plain": [
       "<Figure size 432x288 with 1 Axes>"
      ]
     },
     "metadata": {
      "needs_background": "light"
     },
     "output_type": "display_data"
    },
    {
     "data": {
      "image/png": "[encoded data removed]",
      "text/plain": [
       "<Figure size 432x288 with 1 Axes>"
      ]
     },
     "metadata": {
      "needs_background": "light"
     },
     "output_type": "display_data"
    },
    {
     "data": {
      "image/png": "[encoded data removed]",
      "text/plain": [
       "<Figure size 432x288 with 1 Axes>"
      ]
     },
     "metadata": {
      "needs_background": "light"
     },
     "output_type": "display_data"
    }
   ],
   "source": [
    "df[df['Country'] == 'Brazil'].plot('YEAR', 'GDP')\n",
    "df[df['Country'] == 'United States'].plot('YEAR', 'GDP')\n",
    "df[df['Country'] == 'Japan'].plot('YEAR', 'GDP')"
   ]
  },
  {
   "cell_type": "code",
   "execution_count": 65,
   "id": "2c0a855f",
   "metadata": {},
   "outputs": [
    {
     "data": {
      "text/plain": [
       "118681.3"
      ]
     },
     "execution_count": 65,
     "metadata": {},
     "output_type": "execute_result"
    }
   ],
   "source": [
    "df['GDP'].max()"
   ]
  },
  {
   "cell_type": "code",
   "execution_count": 67,
   "id": "473f3b69",
   "metadata": {},
   "outputs": [
    {
     "data": {
      "text/html": [
       "<div>\n",
       "<style scoped>\n",
       "    .dataframe tbody tr th:only-of-type {\n",
       "        vertical-align: middle;\n",
       "    }\n",
       "\n",
       "    .dataframe tbody tr th {\n",
       "        vertical-align: top;\n",
       "    }\n",
       "\n",
       "    .dataframe thead th {\n",
       "        text-align: right;\n",
       "    }\n",
       "</style>\n",
       "<table border=\"1\" class=\"dataframe\">\n",
       "  <thead>\n",
       "    <tr style=\"text-align: right;\">\n",
       "      <th></th>\n",
       "      <th>Country</th>\n",
       "      <th>Region</th>\n",
       "      <th>Year</th>\n",
       "      <th>GDP_pp</th>\n",
       "      <th>GDP</th>\n",
       "      <th>YEAR</th>\n",
       "    </tr>\n",
       "  </thead>\n",
       "  <tbody>\n",
       "    <tr>\n",
       "      <th>2040</th>\n",
       "      <td>Kuwait</td>\n",
       "      <td>Middle East, North Africa, and Greater Arabia</td>\n",
       "      <td>1/1/1956</td>\n",
       "      <td>118,681.30</td>\n",
       "      <td>118681.3</td>\n",
       "      <td>1956</td>\n",
       "    </tr>\n",
       "  </tbody>\n",
       "</table>\n",
       "</div>"
      ],
      "text/plain": [
       "     Country                                         Region      Year  \\\n",
       "2040  Kuwait  Middle East, North Africa, and Greater Arabia  1/1/1956   \n",
       "\n",
       "           GDP_pp        GDP  YEAR  \n",
       "2040   118,681.30   118681.3  1956  "
      ]
     },
     "execution_count": 67,
     "metadata": {},
     "output_type": "execute_result"
    }
   ],
   "source": [
    "df[df['GDP'] == 118681.3]"
   ]
  },
  {
   "cell_type": "code",
   "execution_count": 70,
   "id": "30b2f762",
   "metadata": {},
   "outputs": [
    {
     "data": {
      "text/plain": [
       "<AxesSubplot:>"
      ]
     },
     "execution_count": 70,
     "metadata": {},
     "output_type": "execute_result"
    },
    {
     "data": {
      "image/png": "[encoded data removed]",
      "text/plain": [
       "<Figure size 432x288 with 1 Axes>"
      ]
     },
     "metadata": {
      "needs_background": "light"
     },
     "output_type": "display_data"
    }
   ],
   "source": [
    "df[df['Country'] == 'Kuwait']['GDP'].plot()"
   ]
  },
  {
   "cell_type": "code",
   "execution_count": 71,
   "id": "bff19fdb",
   "metadata": {},
   "outputs": [
    {
     "data": {
      "text/plain": [
       "285.15"
      ]
     },
     "execution_count": 71,
     "metadata": {},
     "output_type": "execute_result"
    }
   ],
   "source": [
    "df['GDP'].min()"
   ]
  },
  {
   "cell_type": "code",
   "execution_count": 72,
   "id": "e0a29877",
   "metadata": {},
   "outputs": [
    {
     "data": {
      "text/html": [
       "<div>\n",
       "<style scoped>\n",
       "    .dataframe tbody tr th:only-of-type {\n",
       "        vertical-align: middle;\n",
       "    }\n",
       "\n",
       "    .dataframe tbody tr th {\n",
       "        vertical-align: top;\n",
       "    }\n",
       "\n",
       "    .dataframe thead th {\n",
       "        text-align: right;\n",
       "    }\n",
       "</style>\n",
       "<table border=\"1\" class=\"dataframe\">\n",
       "  <thead>\n",
       "    <tr style=\"text-align: right;\">\n",
       "      <th></th>\n",
       "      <th>Country</th>\n",
       "      <th>Region</th>\n",
       "      <th>Year</th>\n",
       "      <th>GDP_pp</th>\n",
       "      <th>GDP</th>\n",
       "      <th>YEAR</th>\n",
       "    </tr>\n",
       "  </thead>\n",
       "  <tbody>\n",
       "    <tr>\n",
       "      <th>2153</th>\n",
       "      <td>Lesotho</td>\n",
       "      <td>Sub-Saharan Africa</td>\n",
       "      <td>1/1/1946</td>\n",
       "      <td>285.15</td>\n",
       "      <td>285.15</td>\n",
       "      <td>1946</td>\n",
       "    </tr>\n",
       "  </tbody>\n",
       "</table>\n",
       "</div>"
      ],
      "text/plain": [
       "      Country              Region      Year   GDP_pp      GDP  YEAR\n",
       "2153  Lesotho  Sub-Saharan Africa  1/1/1946   285.15   285.15  1946"
      ]
     },
     "execution_count": 72,
     "metadata": {},
     "output_type": "execute_result"
    }
   ],
   "source": [
    "df[df['GDP'] == 285.15]"
   ]
  },
  {
   "cell_type": "code",
   "execution_count": 73,
   "id": "fa0510e3",
   "metadata": {},
   "outputs": [
    {
     "data": {
      "text/plain": [
       "<AxesSubplot:>"
      ]
     },
     "execution_count": 73,
     "metadata": {},
     "output_type": "execute_result"
    },
    {
     "data": {
      "image/png": "[encoded data removed]",
      "text/plain": [
       "<Figure size 432x288 with 1 Axes>"
      ]
     },
     "metadata": {
      "needs_background": "light"
     },
     "output_type": "display_data"
    }
   ],
   "source": [
    "df[df['Country'] == 'Lesotho']['GDP'].plot()"
   ]
  },
  {
   "cell_type": "code",
   "execution_count": 94,
   "id": "3c95d7d7",
   "metadata": {},
   "outputs": [
    {
     "data": {
      "text/html": [
       "<div>\n",
       "<style scoped>\n",
       "    .dataframe tbody tr th:only-of-type {\n",
       "        vertical-align: middle;\n",
       "    }\n",
       "\n",
       "    .dataframe tbody tr th {\n",
       "        vertical-align: top;\n",
       "    }\n",
       "\n",
       "    .dataframe thead th {\n",
       "        text-align: right;\n",
       "    }\n",
       "</style>\n",
       "<table border=\"1\" class=\"dataframe\">\n",
       "  <thead>\n",
       "    <tr style=\"text-align: right;\">\n",
       "      <th></th>\n",
       "      <th>Country</th>\n",
       "      <th>YEAR</th>\n",
       "      <th>GDP</th>\n",
       "    </tr>\n",
       "    <tr>\n",
       "      <th>Region</th>\n",
       "      <th></th>\n",
       "      <th></th>\n",
       "      <th></th>\n",
       "    </tr>\n",
       "  </thead>\n",
       "  <tbody>\n",
       "    <tr>\n",
       "      <th>Asia</th>\n",
       "      <td>Vietnam</td>\n",
       "      <td>2011</td>\n",
       "      <td>67973.72</td>\n",
       "    </tr>\n",
       "    <tr>\n",
       "      <th>Australia and Oceania</th>\n",
       "      <td>Vanuatu</td>\n",
       "      <td>2011</td>\n",
       "      <td>37129.99</td>\n",
       "    </tr>\n",
       "    <tr>\n",
       "      <th>Central America and the Caribbean</th>\n",
       "      <td>Trinidad and Tobago</td>\n",
       "      <td>2011</td>\n",
       "      <td>23314.07</td>\n",
       "    </tr>\n",
       "    <tr>\n",
       "      <th>Europe</th>\n",
       "      <td>United Kingdom</td>\n",
       "      <td>2011</td>\n",
       "      <td>90039.05</td>\n",
       "    </tr>\n",
       "    <tr>\n",
       "      <th>Middle East, North Africa, and Greater Arabia</th>\n",
       "      <td>Yemen, Rep.</td>\n",
       "      <td>2011</td>\n",
       "      <td>118681.30</td>\n",
       "    </tr>\n",
       "    <tr>\n",
       "      <th>North America</th>\n",
       "      <td>United States</td>\n",
       "      <td>2011</td>\n",
       "      <td>42378.85</td>\n",
       "    </tr>\n",
       "    <tr>\n",
       "      <th>South America</th>\n",
       "      <td>Venezuela</td>\n",
       "      <td>2011</td>\n",
       "      <td>15595.39</td>\n",
       "    </tr>\n",
       "    <tr>\n",
       "      <th>Sub-Saharan Africa</th>\n",
       "      <td>Zimbabwe</td>\n",
       "      <td>2011</td>\n",
       "      <td>25536.95</td>\n",
       "    </tr>\n",
       "  </tbody>\n",
       "</table>\n",
       "</div>"
      ],
      "text/plain": [
       "                                                           Country  YEAR  \\\n",
       "Region                                                                     \n",
       "Asia                                                       Vietnam  2011   \n",
       "Australia and Oceania                                      Vanuatu  2011   \n",
       "Central America and the Caribbean              Trinidad and Tobago  2011   \n",
       "Europe                                              United Kingdom  2011   \n",
       "Middle East, North Africa, and Greater Arabia          Yemen, Rep.  2011   \n",
       "North America                                        United States  2011   \n",
       "South America                                            Venezuela  2011   \n",
       "Sub-Saharan Africa                                        Zimbabwe  2011   \n",
       "\n",
       "                                                     GDP  \n",
       "Region                                                    \n",
       "Asia                                            67973.72  \n",
       "Australia and Oceania                           37129.99  \n",
       "Central America and the Caribbean               23314.07  \n",
       "Europe                                          90039.05  \n",
       "Middle East, North Africa, and Greater Arabia  118681.30  \n",
       "North America                                   42378.85  \n",
       "South America                                   15595.39  \n",
       "Sub-Saharan Africa                              25536.95  "
      ]
     },
     "execution_count": 94,
     "metadata": {},
     "output_type": "execute_result"
    }
   ],
   "source": [
    "df.groupby(df['Region'])[['Country','YEAR','GDP']].max()\n"
   ]
  },
  {
   "cell_type": "code",
   "execution_count": 96,
   "id": "75d0ba77",
   "metadata": {},
   "outputs": [
    {
     "data": {
      "text/html": [
       "<div>\n",
       "<style scoped>\n",
       "    .dataframe tbody tr th:only-of-type {\n",
       "        vertical-align: middle;\n",
       "    }\n",
       "\n",
       "    .dataframe tbody tr th {\n",
       "        vertical-align: top;\n",
       "    }\n",
       "\n",
       "    .dataframe thead th {\n",
       "        text-align: right;\n",
       "    }\n",
       "</style>\n",
       "<table border=\"1\" class=\"dataframe\">\n",
       "  <thead>\n",
       "    <tr style=\"text-align: right;\">\n",
       "      <th></th>\n",
       "      <th>Country</th>\n",
       "      <th>YEAR</th>\n",
       "      <th>GDP</th>\n",
       "    </tr>\n",
       "    <tr>\n",
       "      <th>Region</th>\n",
       "      <th></th>\n",
       "      <th></th>\n",
       "      <th></th>\n",
       "    </tr>\n",
       "  </thead>\n",
       "  <tbody>\n",
       "    <tr>\n",
       "      <th>Asia</th>\n",
       "      <td>Bangladesh</td>\n",
       "      <td>1901</td>\n",
       "      <td>355.00</td>\n",
       "    </tr>\n",
       "    <tr>\n",
       "      <th>Australia and Oceania</th>\n",
       "      <td>Australia</td>\n",
       "      <td>1901</td>\n",
       "      <td>509.54</td>\n",
       "    </tr>\n",
       "    <tr>\n",
       "      <th>Central America and the Caribbean</th>\n",
       "      <td>Antigua and Barbuda</td>\n",
       "      <td>1901</td>\n",
       "      <td>917.85</td>\n",
       "    </tr>\n",
       "    <tr>\n",
       "      <th>Europe</th>\n",
       "      <td>Albania</td>\n",
       "      <td>1901</td>\n",
       "      <td>365.00</td>\n",
       "    </tr>\n",
       "    <tr>\n",
       "      <th>Middle East, North Africa, and Greater Arabia</th>\n",
       "      <td>Afghanistan</td>\n",
       "      <td>1901</td>\n",
       "      <td>398.65</td>\n",
       "    </tr>\n",
       "    <tr>\n",
       "      <th>North America</th>\n",
       "      <td>Canada</td>\n",
       "      <td>1901</td>\n",
       "      <td>1066.70</td>\n",
       "    </tr>\n",
       "    <tr>\n",
       "      <th>South America</th>\n",
       "      <td>Argentina</td>\n",
       "      <td>1901</td>\n",
       "      <td>636.89</td>\n",
       "    </tr>\n",
       "    <tr>\n",
       "      <th>Sub-Saharan Africa</th>\n",
       "      <td>Angola</td>\n",
       "      <td>1901</td>\n",
       "      <td>285.15</td>\n",
       "    </tr>\n",
       "  </tbody>\n",
       "</table>\n",
       "</div>"
      ],
      "text/plain": [
       "                                                           Country  YEAR  \\\n",
       "Region                                                                     \n",
       "Asia                                                    Bangladesh  1901   \n",
       "Australia and Oceania                                    Australia  1901   \n",
       "Central America and the Caribbean              Antigua and Barbuda  1901   \n",
       "Europe                                                     Albania  1901   \n",
       "Middle East, North Africa, and Greater Arabia          Afghanistan  1901   \n",
       "North America                                               Canada  1901   \n",
       "South America                                            Argentina  1901   \n",
       "Sub-Saharan Africa                                          Angola  1901   \n",
       "\n",
       "                                                   GDP  \n",
       "Region                                                  \n",
       "Asia                                            355.00  \n",
       "Australia and Oceania                           509.54  \n",
       "Central America and the Caribbean               917.85  \n",
       "Europe                                          365.00  \n",
       "Middle East, North Africa, and Greater Arabia   398.65  \n",
       "North America                                  1066.70  \n",
       "South America                                   636.89  \n",
       "Sub-Saharan Africa                              285.15  "
      ]
     },
     "execution_count": 96,
     "metadata": {},
     "output_type": "execute_result"
    }
   ],
   "source": [
    "df.groupby(df['Region'])[['Country','YEAR','GDP']].min()\n"
   ]
  },
  {
   "cell_type": "code",
   "execution_count": 109,
   "id": "090d04cc",
   "metadata": {
    "scrolled": true
   },
   "outputs": [
    {
     "data": {
      "text/html": [
       "<div>\n",
       "<style scoped>\n",
       "    .dataframe tbody tr th:only-of-type {\n",
       "        vertical-align: middle;\n",
       "    }\n",
       "\n",
       "    .dataframe tbody tr th {\n",
       "        vertical-align: top;\n",
       "    }\n",
       "\n",
       "    .dataframe thead th {\n",
       "        text-align: right;\n",
       "    }\n",
       "</style>\n",
       "<table border=\"1\" class=\"dataframe\">\n",
       "  <thead>\n",
       "    <tr style=\"text-align: right;\">\n",
       "      <th></th>\n",
       "      <th>Country</th>\n",
       "      <th>GDP</th>\n",
       "    </tr>\n",
       "  </thead>\n",
       "  <tbody>\n",
       "    <tr>\n",
       "      <th>138</th>\n",
       "      <td>Argentina</td>\n",
       "      <td>3611.77</td>\n",
       "    </tr>\n",
       "    <tr>\n",
       "      <th>139</th>\n",
       "      <td>Argentina</td>\n",
       "      <td>4580.22</td>\n",
       "    </tr>\n",
       "    <tr>\n",
       "      <th>140</th>\n",
       "      <td>Argentina</td>\n",
       "      <td>4726.01</td>\n",
       "    </tr>\n",
       "    <tr>\n",
       "      <th>141</th>\n",
       "      <td>Argentina</td>\n",
       "      <td>3767.94</td>\n",
       "    </tr>\n",
       "    <tr>\n",
       "      <th>142</th>\n",
       "      <td>Argentina</td>\n",
       "      <td>4242.31</td>\n",
       "    </tr>\n",
       "    <tr>\n",
       "      <th>...</th>\n",
       "      <td>...</td>\n",
       "      <td>...</td>\n",
       "    </tr>\n",
       "    <tr>\n",
       "      <th>4322</th>\n",
       "      <td>Venezuela</td>\n",
       "      <td>10243.34</td>\n",
       "    </tr>\n",
       "    <tr>\n",
       "      <th>4323</th>\n",
       "      <td>Venezuela</td>\n",
       "      <td>9725.53</td>\n",
       "    </tr>\n",
       "    <tr>\n",
       "      <th>4324</th>\n",
       "      <td>Venezuela</td>\n",
       "      <td>9604.52</td>\n",
       "    </tr>\n",
       "    <tr>\n",
       "      <th>4325</th>\n",
       "      <td>Venezuela</td>\n",
       "      <td>10707.25</td>\n",
       "    </tr>\n",
       "    <tr>\n",
       "      <th>4326</th>\n",
       "      <td>Venezuela</td>\n",
       "      <td>11241.08</td>\n",
       "    </tr>\n",
       "  </tbody>\n",
       "</table>\n",
       "<p>276 rows × 2 columns</p>\n",
       "</div>"
      ],
      "text/plain": [
       "        Country       GDP\n",
       "138   Argentina   3611.77\n",
       "139   Argentina   4580.22\n",
       "140   Argentina   4726.01\n",
       "141   Argentina   3767.94\n",
       "142   Argentina   4242.31\n",
       "...         ...       ...\n",
       "4322  Venezuela  10243.34\n",
       "4323  Venezuela   9725.53\n",
       "4324  Venezuela   9604.52\n",
       "4325  Venezuela  10707.25\n",
       "4326  Venezuela  11241.08\n",
       "\n",
       "[276 rows x 2 columns]"
      ]
     },
     "execution_count": 109,
     "metadata": {},
     "output_type": "execute_result"
    }
   ],
   "source": [
    "df[df['Region'] == 'South America'][['Country','GDP']]"
   ]
  },
  {
   "cell_type": "code",
   "execution_count": 116,
   "id": "109c60eb",
   "metadata": {},
   "outputs": [
    {
     "data": {
      "text/plain": [
       "Country     4419\n",
       "Region      4419\n",
       "Year        4419\n",
       " GDP_pp     4419\n",
       "GDP         4419\n",
       "YEAR        4419\n",
       "dtype: int64"
      ]
     },
     "execution_count": 116,
     "metadata": {},
     "output_type": "execute_result"
    }
   ],
   "source": [
    "df.count()"
   ]
  },
  {
   "cell_type": "code",
   "execution_count": 122,
   "id": "51ccfa14",
   "metadata": {},
   "outputs": [
    {
     "data": {
      "text/plain": [
       "3372.76    4\n",
       "959.19     2\n",
       "1084.20    2\n",
       "745.46     2\n",
       "6289.83    2\n",
       "          ..\n",
       "1246.93    1\n",
       "1272.71    1\n",
       "1299.02    1\n",
       "1350.79    1\n",
       "526.33     1\n",
       "Name: GDP, Length: 4387, dtype: int64"
      ]
     },
     "execution_count": 122,
     "metadata": {},
     "output_type": "execute_result"
    }
   ],
   "source": [
    "df['GDP'].value_counts()"
   ]
  }
 ],
 "metadata": {
  "kernelspec": {
   "display_name": "Python 3 (ipykernel)",
   "language": "python",
   "name": "python3"
  },
  "language_info": {
   "codemirror_mode": {
    "name": "ipython",
    "version": 3
   },
   "file_extension": ".py",
   "mimetype": "text/x-python",
   "name": "python",
   "nbconvert_exporter": "python",
   "pygments_lexer": "ipython3",
   "version": "3.9.12"
  }
 },
 "nbformat": 4,
 "nbformat_minor": 5
}
