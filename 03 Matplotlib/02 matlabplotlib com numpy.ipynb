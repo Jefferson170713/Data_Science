{
 "cells": [
  {
   "cell_type": "code",
   "execution_count": 20,
   "id": "5c4702d5",
   "metadata": {},
   "outputs": [],
   "source": [
    "import pandas as pd\n",
    "import numpy as np\n",
    "import matplotlib.pyplot as plt"
   ]
  },
  {
   "cell_type": "code",
   "execution_count": 21,
   "id": "58f35b19",
   "metadata": {},
   "outputs": [],
   "source": [
    "x = np.linspace(0, 100, 200)\n",
    "y = np.linspace(100, 0, 200)"
   ]
  },
  {
   "cell_type": "code",
   "execution_count": 29,
   "id": "a4e36d6f",
   "metadata": {},
   "outputs": [
    {
     "data": {
      "text/html": [
       "<div>\n",
       "<style scoped>\n",
       "    .dataframe tbody tr th:only-of-type {\n",
       "        vertical-align: middle;\n",
       "    }\n",
       "\n",
       "    .dataframe tbody tr th {\n",
       "        vertical-align: top;\n",
       "    }\n",
       "\n",
       "    .dataframe thead th {\n",
       "        text-align: right;\n",
       "    }\n",
       "</style>\n",
       "<table border=\"1\" class=\"dataframe\">\n",
       "  <thead>\n",
       "    <tr style=\"text-align: right;\">\n",
       "      <th></th>\n",
       "      <th>A</th>\n",
       "      <th>B</th>\n",
       "    </tr>\n",
       "  </thead>\n",
       "  <tbody>\n",
       "    <tr>\n",
       "      <th>0</th>\n",
       "      <td>0.000000</td>\n",
       "      <td>100.000000</td>\n",
       "    </tr>\n",
       "    <tr>\n",
       "      <th>1</th>\n",
       "      <td>0.502513</td>\n",
       "      <td>99.497487</td>\n",
       "    </tr>\n",
       "    <tr>\n",
       "      <th>2</th>\n",
       "      <td>1.005025</td>\n",
       "      <td>98.994975</td>\n",
       "    </tr>\n",
       "    <tr>\n",
       "      <th>3</th>\n",
       "      <td>1.507538</td>\n",
       "      <td>98.492462</td>\n",
       "    </tr>\n",
       "    <tr>\n",
       "      <th>4</th>\n",
       "      <td>2.010050</td>\n",
       "      <td>97.989950</td>\n",
       "    </tr>\n",
       "    <tr>\n",
       "      <th>...</th>\n",
       "      <td>...</td>\n",
       "      <td>...</td>\n",
       "    </tr>\n",
       "    <tr>\n",
       "      <th>195</th>\n",
       "      <td>97.989950</td>\n",
       "      <td>2.010050</td>\n",
       "    </tr>\n",
       "    <tr>\n",
       "      <th>196</th>\n",
       "      <td>98.492462</td>\n",
       "      <td>1.507538</td>\n",
       "    </tr>\n",
       "    <tr>\n",
       "      <th>197</th>\n",
       "      <td>98.994975</td>\n",
       "      <td>1.005025</td>\n",
       "    </tr>\n",
       "    <tr>\n",
       "      <th>198</th>\n",
       "      <td>99.497487</td>\n",
       "      <td>0.502513</td>\n",
       "    </tr>\n",
       "    <tr>\n",
       "      <th>199</th>\n",
       "      <td>100.000000</td>\n",
       "      <td>0.000000</td>\n",
       "    </tr>\n",
       "  </tbody>\n",
       "</table>\n",
       "<p>200 rows × 2 columns</p>\n",
       "</div>"
      ],
      "text/plain": [
       "              A           B\n",
       "0      0.000000  100.000000\n",
       "1      0.502513   99.497487\n",
       "2      1.005025   98.994975\n",
       "3      1.507538   98.492462\n",
       "4      2.010050   97.989950\n",
       "..          ...         ...\n",
       "195   97.989950    2.010050\n",
       "196   98.492462    1.507538\n",
       "197   98.994975    1.005025\n",
       "198   99.497487    0.502513\n",
       "199  100.000000    0.000000\n",
       "\n",
       "[200 rows x 2 columns]"
      ]
     },
     "execution_count": 29,
     "metadata": {},
     "output_type": "execute_result"
    }
   ],
   "source": [
    "df = pd.DataFrame(x,columns=['A'])\n",
    "df['B'] = y\n",
    "df"
   ]
  },
  {
   "cell_type": "code",
   "execution_count": 34,
   "id": "bcde9dd0",
   "metadata": {},
   "outputs": [
    {
     "data": {
      "text/plain": [
       "[<matplotlib.lines.Line2D at 0x140213dfa90>]"
      ]
     },
     "execution_count": 34,
     "metadata": {},
     "output_type": "execute_result"
    },
    {
     "data": {
      "image/png": "[encoded data removed]",
      "text/plain": [
       "<Figure size 432x288 with 1 Axes>"
      ]
     },
     "metadata": {
      "needs_background": "light"
     },
     "output_type": "display_data"
    }
   ],
   "source": [
    "plt.plot(df['A'], 'r--')\n",
    "plt.plot(df['B'], 'g--')"
   ]
  },
  {
   "cell_type": "code",
   "execution_count": 38,
   "id": "60e3c3b7",
   "metadata": {},
   "outputs": [
    {
     "data": {
      "text/plain": [
       "[<matplotlib.lines.Line2D at 0x14021986a90>]"
      ]
     },
     "execution_count": 38,
     "metadata": {},
     "output_type": "execute_result"
    },
    {
     "data": {
      "image/png": "[encoded data removed]",
      "text/plain": [
       "<Figure size 432x288 with 1 Axes>"
      ]
     },
     "metadata": {
      "needs_background": "light"
     },
     "output_type": "display_data"
    }
   ],
   "source": [
    "%matplotlib inline\n",
    "plt.plot(x, y, 'b--')"
   ]
  },
  {
   "cell_type": "code",
   "execution_count": 51,
   "id": "4033ec54",
   "metadata": {},
   "outputs": [
    {
     "data": {
      "text/plain": [
       "[<matplotlib.lines.Line2D at 0x140270650a0>]"
      ]
     },
     "execution_count": 51,
     "metadata": {},
     "output_type": "execute_result"
    },
    {
     "data": {
      "image/png": "[encoded data removed]",
      "text/plain": [
       "<Figure size 432x288 with 2 Axes>"
      ]
     },
     "metadata": {
      "needs_background": "light"
     },
     "output_type": "display_data"
    }
   ],
   "source": [
    "plt.subplot(1,2,1)\n",
    "plt.plot(df['A'], df['B'], 'y--')\n",
    "plt.subplot(1,2,2)\n",
    "plt.plot(df['A'], 'orange')"
   ]
  },
  {
   "cell_type": "code",
   "execution_count": 53,
   "id": "5739c507",
   "metadata": {},
   "outputs": [
    {
     "data": {
      "text/html": [
       "<div>\n",
       "<style scoped>\n",
       "    .dataframe tbody tr th:only-of-type {\n",
       "        vertical-align: middle;\n",
       "    }\n",
       "\n",
       "    .dataframe tbody tr th {\n",
       "        vertical-align: top;\n",
       "    }\n",
       "\n",
       "    .dataframe thead th {\n",
       "        text-align: right;\n",
       "    }\n",
       "</style>\n",
       "<table border=\"1\" class=\"dataframe\">\n",
       "  <thead>\n",
       "    <tr style=\"text-align: right;\">\n",
       "      <th></th>\n",
       "      <th>A</th>\n",
       "      <th>B</th>\n",
       "      <th>C</th>\n",
       "    </tr>\n",
       "  </thead>\n",
       "  <tbody>\n",
       "    <tr>\n",
       "      <th>0</th>\n",
       "      <td>0.000000</td>\n",
       "      <td>100.000000</td>\n",
       "      <td>0.000000</td>\n",
       "    </tr>\n",
       "    <tr>\n",
       "      <th>1</th>\n",
       "      <td>0.502513</td>\n",
       "      <td>99.497487</td>\n",
       "      <td>49.998737</td>\n",
       "    </tr>\n",
       "    <tr>\n",
       "      <th>2</th>\n",
       "      <td>1.005025</td>\n",
       "      <td>98.994975</td>\n",
       "      <td>99.492437</td>\n",
       "    </tr>\n",
       "    <tr>\n",
       "      <th>3</th>\n",
       "      <td>1.507538</td>\n",
       "      <td>98.492462</td>\n",
       "      <td>148.481099</td>\n",
       "    </tr>\n",
       "    <tr>\n",
       "      <th>4</th>\n",
       "      <td>2.010050</td>\n",
       "      <td>97.989950</td>\n",
       "      <td>196.964723</td>\n",
       "    </tr>\n",
       "    <tr>\n",
       "      <th>...</th>\n",
       "      <td>...</td>\n",
       "      <td>...</td>\n",
       "      <td>...</td>\n",
       "    </tr>\n",
       "    <tr>\n",
       "      <th>195</th>\n",
       "      <td>97.989950</td>\n",
       "      <td>2.010050</td>\n",
       "      <td>196.964723</td>\n",
       "    </tr>\n",
       "    <tr>\n",
       "      <th>196</th>\n",
       "      <td>98.492462</td>\n",
       "      <td>1.507538</td>\n",
       "      <td>148.481099</td>\n",
       "    </tr>\n",
       "    <tr>\n",
       "      <th>197</th>\n",
       "      <td>98.994975</td>\n",
       "      <td>1.005025</td>\n",
       "      <td>99.492437</td>\n",
       "    </tr>\n",
       "    <tr>\n",
       "      <th>198</th>\n",
       "      <td>99.497487</td>\n",
       "      <td>0.502513</td>\n",
       "      <td>49.998737</td>\n",
       "    </tr>\n",
       "    <tr>\n",
       "      <th>199</th>\n",
       "      <td>100.000000</td>\n",
       "      <td>0.000000</td>\n",
       "      <td>0.000000</td>\n",
       "    </tr>\n",
       "  </tbody>\n",
       "</table>\n",
       "<p>200 rows × 3 columns</p>\n",
       "</div>"
      ],
      "text/plain": [
       "              A           B           C\n",
       "0      0.000000  100.000000    0.000000\n",
       "1      0.502513   99.497487   49.998737\n",
       "2      1.005025   98.994975   99.492437\n",
       "3      1.507538   98.492462  148.481099\n",
       "4      2.010050   97.989950  196.964723\n",
       "..          ...         ...         ...\n",
       "195   97.989950    2.010050  196.964723\n",
       "196   98.492462    1.507538  148.481099\n",
       "197   98.994975    1.005025   99.492437\n",
       "198   99.497487    0.502513   49.998737\n",
       "199  100.000000    0.000000    0.000000\n",
       "\n",
       "[200 rows x 3 columns]"
      ]
     },
     "execution_count": 53,
     "metadata": {},
     "output_type": "execute_result"
    }
   ],
   "source": [
    "df['C'] = (df['A'] * df['B'])\n",
    "df"
   ]
  },
  {
   "cell_type": "code",
   "execution_count": 55,
   "id": "b6d46644",
   "metadata": {},
   "outputs": [
    {
     "data": {
      "text/plain": [
       "[<matplotlib.lines.Line2D at 0x1402714d9d0>]"
      ]
     },
     "execution_count": 55,
     "metadata": {},
     "output_type": "execute_result"
    },
    {
     "data": {
      "image/png": "[encoded data removed]",
      "text/plain": [
       "<Figure size 432x288 with 1 Axes>"
      ]
     },
     "metadata": {
      "needs_background": "light"
     },
     "output_type": "display_data"
    }
   ],
   "source": [
    "plt.plot(df['A'], 'r--')\n",
    "plt.plot(df['B'], 'g--')\n",
    "plt.plot(df['C'], 'b--')\n"
   ]
  },
  {
   "cell_type": "code",
   "execution_count": 67,
   "id": "34bfefdc",
   "metadata": {},
   "outputs": [
    {
     "data": {
      "text/plain": [
       "[<matplotlib.lines.Line2D at 0x140275c3a90>]"
      ]
     },
     "execution_count": 67,
     "metadata": {},
     "output_type": "execute_result"
    },
    {
     "data": {
      "image/png": "[encoded data removed]",
      "text/plain": [
       "<Figure size 432x288 with 1 Axes>"
      ]
     },
     "metadata": {
      "needs_background": "light"
     },
     "output_type": "display_data"
    }
   ],
   "source": [
    "df['D'] = (df['B'] * df['C'])/df['A']\n",
    "plt.plot(df['A'], 'r--')\n",
    "plt.plot(df['B'], 'g--')\n",
    "plt.plot(df['C'], 'b--')\n",
    "plt.plot(df['D'], 'y--')"
   ]
  },
  {
   "cell_type": "code",
   "execution_count": 65,
   "id": "55d5923b",
   "metadata": {},
   "outputs": [
    {
     "data": {
      "text/html": [
       "<div>\n",
       "<style scoped>\n",
       "    .dataframe tbody tr th:only-of-type {\n",
       "        vertical-align: middle;\n",
       "    }\n",
       "\n",
       "    .dataframe tbody tr th {\n",
       "        vertical-align: top;\n",
       "    }\n",
       "\n",
       "    .dataframe thead th {\n",
       "        text-align: right;\n",
       "    }\n",
       "</style>\n",
       "<table border=\"1\" class=\"dataframe\">\n",
       "  <thead>\n",
       "    <tr style=\"text-align: right;\">\n",
       "      <th></th>\n",
       "      <th>A</th>\n",
       "      <th>B</th>\n",
       "      <th>C</th>\n",
       "      <th>D</th>\n",
       "    </tr>\n",
       "  </thead>\n",
       "  <tbody>\n",
       "    <tr>\n",
       "      <th>0</th>\n",
       "      <td>0.000000</td>\n",
       "      <td>100.000000</td>\n",
       "      <td>0.000000</td>\n",
       "      <td>0.000000</td>\n",
       "    </tr>\n",
       "    <tr>\n",
       "      <th>1</th>\n",
       "      <td>0.502513</td>\n",
       "      <td>99.497487</td>\n",
       "      <td>49.998737</td>\n",
       "      <td>0.252519</td>\n",
       "    </tr>\n",
       "    <tr>\n",
       "      <th>2</th>\n",
       "      <td>1.005025</td>\n",
       "      <td>98.994975</td>\n",
       "      <td>99.492437</td>\n",
       "      <td>1.010076</td>\n",
       "    </tr>\n",
       "    <tr>\n",
       "      <th>3</th>\n",
       "      <td>1.507538</td>\n",
       "      <td>98.492462</td>\n",
       "      <td>148.481099</td>\n",
       "      <td>2.272670</td>\n",
       "    </tr>\n",
       "    <tr>\n",
       "      <th>4</th>\n",
       "      <td>2.010050</td>\n",
       "      <td>97.989950</td>\n",
       "      <td>196.964723</td>\n",
       "      <td>4.040302</td>\n",
       "    </tr>\n",
       "    <tr>\n",
       "      <th>...</th>\n",
       "      <td>...</td>\n",
       "      <td>...</td>\n",
       "      <td>...</td>\n",
       "      <td>...</td>\n",
       "    </tr>\n",
       "    <tr>\n",
       "      <th>195</th>\n",
       "      <td>97.989950</td>\n",
       "      <td>2.010050</td>\n",
       "      <td>196.964723</td>\n",
       "      <td>9602.030252</td>\n",
       "    </tr>\n",
       "    <tr>\n",
       "      <th>196</th>\n",
       "      <td>98.492462</td>\n",
       "      <td>1.507538</td>\n",
       "      <td>148.481099</td>\n",
       "      <td>9700.765132</td>\n",
       "    </tr>\n",
       "    <tr>\n",
       "      <th>197</th>\n",
       "      <td>98.994975</td>\n",
       "      <td>1.005025</td>\n",
       "      <td>99.492437</td>\n",
       "      <td>9800.005050</td>\n",
       "    </tr>\n",
       "    <tr>\n",
       "      <th>198</th>\n",
       "      <td>99.497487</td>\n",
       "      <td>0.502513</td>\n",
       "      <td>49.998737</td>\n",
       "      <td>9899.750006</td>\n",
       "    </tr>\n",
       "    <tr>\n",
       "      <th>199</th>\n",
       "      <td>100.000000</td>\n",
       "      <td>0.000000</td>\n",
       "      <td>0.000000</td>\n",
       "      <td>NaN</td>\n",
       "    </tr>\n",
       "  </tbody>\n",
       "</table>\n",
       "<p>200 rows × 4 columns</p>\n",
       "</div>"
      ],
      "text/plain": [
       "              A           B           C            D\n",
       "0      0.000000  100.000000    0.000000     0.000000\n",
       "1      0.502513   99.497487   49.998737     0.252519\n",
       "2      1.005025   98.994975   99.492437     1.010076\n",
       "3      1.507538   98.492462  148.481099     2.272670\n",
       "4      2.010050   97.989950  196.964723     4.040302\n",
       "..          ...         ...         ...          ...\n",
       "195   97.989950    2.010050  196.964723  9602.030252\n",
       "196   98.492462    1.507538  148.481099  9700.765132\n",
       "197   98.994975    1.005025   99.492437  9800.005050\n",
       "198   99.497487    0.502513   49.998737  9899.750006\n",
       "199  100.000000    0.000000    0.000000          NaN\n",
       "\n",
       "[200 rows x 4 columns]"
      ]
     },
     "execution_count": 65,
     "metadata": {},
     "output_type": "execute_result"
    }
   ],
   "source": [
    "df"
   ]
  }
 ],
 "metadata": {
  "kernelspec": {
   "display_name": "Python 3 (ipykernel)",
   "language": "python",
   "name": "python3"
  },
  "language_info": {
   "codemirror_mode": {
    "name": "ipython",
    "version": 3
   },
   "file_extension": ".py",
   "mimetype": "text/x-python",
   "name": "python",
   "nbconvert_exporter": "python",
   "pygments_lexer": "ipython3",
   "version": "3.9.12"
  }
 },
 "nbformat": 4,
 "nbformat_minor": 5
}
