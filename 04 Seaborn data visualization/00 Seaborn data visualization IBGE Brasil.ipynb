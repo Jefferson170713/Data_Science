{
 "cells": [
  {
   "cell_type": "code",
   "execution_count": 99,
   "id": "2f24eaa4",
   "metadata": {},
   "outputs": [],
   "source": [
    "import pandas as pd\n",
    "import seaborn as sns\n",
    "import numpy as np"
   ]
  },
  {
   "cell_type": "code",
   "execution_count": 100,
   "id": "00e56a50",
   "metadata": {},
   "outputs": [
    {
     "data": {
      "text/html": [
       "<div>\n",
       "<style scoped>\n",
       "    .dataframe tbody tr th:only-of-type {\n",
       "        vertical-align: middle;\n",
       "    }\n",
       "\n",
       "    .dataframe tbody tr th {\n",
       "        vertical-align: top;\n",
       "    }\n",
       "\n",
       "    .dataframe thead th {\n",
       "        text-align: right;\n",
       "    }\n",
       "</style>\n",
       "<table border=\"1\" class=\"dataframe\">\n",
       "  <thead>\n",
       "    <tr style=\"text-align: right;\">\n",
       "      <th></th>\n",
       "      <th>IBGECode</th>\n",
       "      <th>LocalCidade</th>\n",
       "      <th>LocalUF</th>\n",
       "      <th>LocalEstado</th>\n",
       "      <th>RegiaoBrasil</th>\n",
       "      <th>Latitude</th>\n",
       "      <th>Longitude</th>\n",
       "      <th>Gentilico</th>\n",
       "      <th>PopEstimada_2018</th>\n",
       "      <th>PopCenso 2010</th>\n",
       "      <th>IDHM</th>\n",
       "      <th>ReceitasRealizadas_2014</th>\n",
       "      <th>DespesasEmpenhadas_2014</th>\n",
       "      <th>Pib_2014</th>\n",
       "    </tr>\n",
       "  </thead>\n",
       "  <tbody>\n",
       "    <tr>\n",
       "      <th>0</th>\n",
       "      <td>1100015</td>\n",
       "      <td>ALTA FLORESTA D'OESTE</td>\n",
       "      <td>RO</td>\n",
       "      <td>Rondonia</td>\n",
       "      <td>N</td>\n",
       "      <td>-119283</td>\n",
       "      <td>-619953</td>\n",
       "      <td>alta-florense</td>\n",
       "      <td>23167</td>\n",
       "      <td>24392</td>\n",
       "      <td>0,641</td>\n",
       "      <td>53490</td>\n",
       "      <td>47577</td>\n",
       "      <td>16461,11</td>\n",
       "    </tr>\n",
       "    <tr>\n",
       "      <th>1</th>\n",
       "      <td>1100023</td>\n",
       "      <td>ARIQUEMES</td>\n",
       "      <td>RO</td>\n",
       "      <td>Rondonia</td>\n",
       "      <td>N</td>\n",
       "      <td>-990571</td>\n",
       "      <td>-630325</td>\n",
       "      <td>ariquemense</td>\n",
       "      <td>106168</td>\n",
       "      <td>90353</td>\n",
       "      <td>0,702</td>\n",
       "      <td>0</td>\n",
       "      <td>0</td>\n",
       "      <td>19401,43</td>\n",
       "    </tr>\n",
       "    <tr>\n",
       "      <th>2</th>\n",
       "      <td>1100031</td>\n",
       "      <td>CABIXI</td>\n",
       "      <td>RO</td>\n",
       "      <td>Rondonia</td>\n",
       "      <td>N</td>\n",
       "      <td>-134945</td>\n",
       "      <td>-60552</td>\n",
       "      <td>cabixiense</td>\n",
       "      <td>5438</td>\n",
       "      <td>6313</td>\n",
       "      <td>0,65</td>\n",
       "      <td>22635</td>\n",
       "      <td>19354</td>\n",
       "      <td>18346,17</td>\n",
       "    </tr>\n",
       "  </tbody>\n",
       "</table>\n",
       "</div>"
      ],
      "text/plain": [
       "   IBGECode            LocalCidade LocalUF LocalEstado RegiaoBrasil Latitude  \\\n",
       "0   1100015  ALTA FLORESTA D'OESTE      RO    Rondonia            N  -119283   \n",
       "1   1100023              ARIQUEMES      RO    Rondonia            N  -990571   \n",
       "2   1100031                 CABIXI      RO    Rondonia            N  -134945   \n",
       "\n",
       "  Longitude       Gentilico  PopEstimada_2018  PopCenso 2010   IDHM  \\\n",
       "0   -619953  alta-florense              23167          24392  0,641   \n",
       "1   -630325    ariquemense             106168          90353  0,702   \n",
       "2    -60552     cabixiense               5438           6313   0,65   \n",
       "\n",
       "   ReceitasRealizadas_2014  DespesasEmpenhadas_2014  Pib_2014  \n",
       "0                    53490                    47577  16461,11  \n",
       "1                        0                        0  19401,43  \n",
       "2                    22635                    19354  18346,17  "
      ]
     },
     "execution_count": 100,
     "metadata": {},
     "output_type": "execute_result"
    }
   ],
   "source": [
    "dado = pd.read_excel('Datasets/Cities_Brazil_IBGE.xlsx')\n",
    "dado.head(3)"
   ]
  },
  {
   "cell_type": "code",
   "execution_count": 101,
   "id": "4b58dd8c",
   "metadata": {},
   "outputs": [
    {
     "name": "stdout",
     "output_type": "stream",
     "text": [
      "<class 'pandas.core.frame.DataFrame'>\n",
      "RangeIndex: 5570 entries, 0 to 5569\n",
      "Data columns (total 14 columns):\n",
      " #   Column                   Non-Null Count  Dtype \n",
      "---  ------                   --------------  ----- \n",
      " 0   IBGECode                 5570 non-null   int64 \n",
      " 1   LocalCidade              5570 non-null   object\n",
      " 2   LocalUF                  5570 non-null   object\n",
      " 3   LocalEstado              5570 non-null   object\n",
      " 4   RegiaoBrasil             5570 non-null   object\n",
      " 5   Latitude                 5570 non-null   object\n",
      " 6   Longitude                5570 non-null   object\n",
      " 7   Gentilico                5570 non-null   object\n",
      " 8   PopEstimada_2018         5570 non-null   int64 \n",
      " 9   PopCenso 2010            5570 non-null   int64 \n",
      " 10  IDHM                     5564 non-null   object\n",
      " 11  ReceitasRealizadas_2014  5570 non-null   int64 \n",
      " 12  DespesasEmpenhadas_2014  5570 non-null   int64 \n",
      " 13  Pib_2014                 5570 non-null   object\n",
      "dtypes: int64(5), object(9)\n",
      "memory usage: 609.3+ KB\n"
     ]
    }
   ],
   "source": [
    "dado.info()"
   ]
  },
  {
   "cell_type": "code",
   "execution_count": 102,
   "id": "f4a96a53",
   "metadata": {},
   "outputs": [
    {
     "data": {
      "text/plain": [
       "Index(['IBGECode', 'LocalCidade', 'LocalUF', 'LocalEstado', 'RegiaoBrasil',\n",
       "       'Latitude', 'Longitude', 'Gentilico', 'PopEstimada_2018',\n",
       "       'PopCenso 2010', 'IDHM', 'ReceitasRealizadas_2014',\n",
       "       'DespesasEmpenhadas_2014', 'Pib_2014'],\n",
       "      dtype='object')"
      ]
     },
     "execution_count": 102,
     "metadata": {},
     "output_type": "execute_result"
    }
   ],
   "source": [
    "dado.columns"
   ]
  },
  {
   "cell_type": "markdown",
   "id": "d102b902",
   "metadata": {},
   "source": [
    "### Obs 1: repare que a Coluna 'Pib_2014' não está em formato de número, está como se fosse o dado tipo string.\n",
    "    - Precisamos primeiro concetar isso para que possamos trabralhar.\n",
    "### Obs 2: Assim como as colunas 'Latitude', 'Longitude' e 'IDHM'.\n",
    "    - Assim tmabém precisamos fazer as converções."
   ]
  },
  {
   "cell_type": "code",
   "execution_count": 103,
   "id": "da0e8ef6",
   "metadata": {},
   "outputs": [
    {
     "data": {
      "text/plain": [
       "str"
      ]
     },
     "execution_count": 103,
     "metadata": {},
     "output_type": "execute_result"
    }
   ],
   "source": [
    "type(dado['Pib_2014'].iloc[0])"
   ]
  },
  {
   "cell_type": "code",
   "execution_count": 104,
   "id": "20742be4",
   "metadata": {},
   "outputs": [
    {
     "data": {
      "text/plain": [
       "-214148    2\n",
       "-189141    2\n",
       "-293919    2\n",
       "-229129    2\n",
       "-192345    2\n",
       "          ..\n",
       "-146151    1\n",
       "-114429    1\n",
       "-123914    1\n",
       "-130215    1\n",
       "-157795    1\n",
       "Name: Latitude, Length: 5520, dtype: int64"
      ]
     },
     "execution_count": 104,
     "metadata": {},
     "output_type": "execute_result"
    }
   ],
   "source": [
    "#sns.displot(x='Pib_2014', y='LocalUF', data=dado)\n",
    "#dado['Latitude'] = dado['Latitude'].apply(lambda x :)\n",
    "dado['Latitude'].value_counts()"
   ]
  },
  {
   "cell_type": "code",
   "execution_count": 105,
   "id": "0a206a40",
   "metadata": {},
   "outputs": [
    {
     "data": {
      "text/plain": [
       "int"
      ]
     },
     "execution_count": 105,
     "metadata": {},
     "output_type": "execute_result"
    }
   ],
   "source": [
    "type(dado['Latitude'].iloc[0])"
   ]
  },
  {
   "cell_type": "code",
   "execution_count": 106,
   "id": "8ca0dbcf",
   "metadata": {},
   "outputs": [
    {
     "data": {
      "text/plain": [
       "int"
      ]
     },
     "execution_count": 106,
     "metadata": {},
     "output_type": "execute_result"
    }
   ],
   "source": [
    "type(dado['Longitude'].iloc[0])"
   ]
  },
  {
   "cell_type": "code",
   "execution_count": 107,
   "id": "a5ccb442",
   "metadata": {},
   "outputs": [
    {
     "data": {
      "text/plain": [
       "str"
      ]
     },
     "execution_count": 107,
     "metadata": {},
     "output_type": "execute_result"
    }
   ],
   "source": [
    "type(dado['Pib_2014'].iloc[0])"
   ]
  },
  {
   "cell_type": "markdown",
   "id": "f1c3b01c",
   "metadata": {},
   "source": [
    "### Na célula abaixo, podemos ver um teste, assim podemos concluir em como resolver nosso problema.\n",
    "    - Nosso problema se dava porque quando abrimos a função lambda, ela não vem com valor definido.\n",
    "    então devemos dizer que tipo de dado ela é, porque se não, nós não conseguiremos converter para o tipo de dado\n",
    "    que queremos, e a função replace só funciona para strings."
   ]
  },
  {
   "cell_type": "code",
   "execution_count": 108,
   "id": "6e11878e",
   "metadata": {},
   "outputs": [
    {
     "data": {
      "text/plain": [
       "0       16461.11\n",
       "1       19401.43\n",
       "2       18346.17\n",
       "3       20725.23\n",
       "4       22179.17\n",
       "          ...   \n",
       "5565    23237.24\n",
       "5566    39480.36\n",
       "5567    18992.37\n",
       "5568    35691.39\n",
       "5569    73971.05\n",
       "Name: Pib_2014, Length: 5570, dtype: float64"
      ]
     },
     "execution_count": 108,
     "metadata": {},
     "output_type": "execute_result"
    }
   ],
   "source": [
    "p = dado['Pib_2014']\n",
    "s = p.apply(lambda x : float(str(x).replace(',','.')))\n",
    "s"
   ]
  },
  {
   "cell_type": "code",
   "execution_count": 109,
   "id": "00ced1b3",
   "metadata": {},
   "outputs": [
    {
     "data": {
      "text/plain": [
       "numpy.float64"
      ]
     },
     "execution_count": 109,
     "metadata": {},
     "output_type": "execute_result"
    }
   ],
   "source": [
    "dado['Pib_2014'] = dado['Pib_2014'].apply( lambda x : float(str(x).replace(',','.')))\n",
    "type(dado['Pib_2014'].iloc[0])"
   ]
  },
  {
   "cell_type": "code",
   "execution_count": 110,
   "id": "6e4bb90b",
   "metadata": {},
   "outputs": [
    {
     "data": {
      "text/plain": [
       "0       16461.11\n",
       "1       19401.43\n",
       "2       18346.17\n",
       "3       20725.23\n",
       "4       22179.17\n",
       "          ...   \n",
       "5565    23237.24\n",
       "5566    39480.36\n",
       "5567    18992.37\n",
       "5568    35691.39\n",
       "5569    73971.05\n",
       "Name: Pib_2014, Length: 5570, dtype: float64"
      ]
     },
     "execution_count": 110,
     "metadata": {},
     "output_type": "execute_result"
    }
   ],
   "source": [
    "dado['Pib_2014']"
   ]
  },
  {
   "cell_type": "markdown",
   "id": "1ad58057",
   "metadata": {},
   "source": [
    "### Agora que convertemos, vamos fazer o mesmo para as colunas latidude, longitude e IDHM."
   ]
  },
  {
   "cell_type": "code",
   "execution_count": 111,
   "id": "02c0b448",
   "metadata": {},
   "outputs": [
    {
     "data": {
      "text/plain": [
       "Index(['IBGECode', 'LocalCidade', 'LocalUF', 'LocalEstado', 'RegiaoBrasil',\n",
       "       'Latitude', 'Longitude', 'Gentilico', 'PopEstimada_2018',\n",
       "       'PopCenso 2010', 'IDHM', 'ReceitasRealizadas_2014',\n",
       "       'DespesasEmpenhadas_2014', 'Pib_2014'],\n",
       "      dtype='object')"
      ]
     },
     "execution_count": 111,
     "metadata": {},
     "output_type": "execute_result"
    }
   ],
   "source": [
    "dado.columns"
   ]
  },
  {
   "cell_type": "code",
   "execution_count": 112,
   "id": "da30fed0",
   "metadata": {},
   "outputs": [],
   "source": [
    "dado['Latitude'] = dado['Latitude'].apply( lambda x : float(str(x).replace(',','.')))\n",
    "dado['Longitude'] = dado['Longitude'].apply( lambda x : float(str(x).replace(',','.')))"
   ]
  },
  {
   "cell_type": "code",
   "execution_count": 113,
   "id": "45215d62",
   "metadata": {},
   "outputs": [],
   "source": [
    "dado['IDHM'] = dado['IDHM'].apply(lambda x : float(str(x).replace(',','.')))"
   ]
  },
  {
   "cell_type": "code",
   "execution_count": 114,
   "id": "a8057cf7",
   "metadata": {},
   "outputs": [
    {
     "name": "stdout",
     "output_type": "stream",
     "text": [
      "<class 'pandas.core.frame.DataFrame'>\n",
      "RangeIndex: 5570 entries, 0 to 5569\n",
      "Data columns (total 14 columns):\n",
      " #   Column                   Non-Null Count  Dtype  \n",
      "---  ------                   --------------  -----  \n",
      " 0   IBGECode                 5570 non-null   int64  \n",
      " 1   LocalCidade              5570 non-null   object \n",
      " 2   LocalUF                  5570 non-null   object \n",
      " 3   LocalEstado              5570 non-null   object \n",
      " 4   RegiaoBrasil             5570 non-null   object \n",
      " 5   Latitude                 5570 non-null   float64\n",
      " 6   Longitude                5570 non-null   float64\n",
      " 7   Gentilico                5570 non-null   object \n",
      " 8   PopEstimada_2018         5570 non-null   int64  \n",
      " 9   PopCenso 2010            5570 non-null   int64  \n",
      " 10  IDHM                     5564 non-null   float64\n",
      " 11  ReceitasRealizadas_2014  5570 non-null   int64  \n",
      " 12  DespesasEmpenhadas_2014  5570 non-null   int64  \n",
      " 13  Pib_2014                 5570 non-null   float64\n",
      "dtypes: float64(4), int64(5), object(5)\n",
      "memory usage: 609.3+ KB\n"
     ]
    }
   ],
   "source": [
    "dado.info()"
   ]
  },
  {
   "cell_type": "markdown",
   "id": "932eed03",
   "metadata": {},
   "source": [
    "# Tranformações feita nos dados.\n",
    "## podemos começar com as analises gráficas no Seaborn."
   ]
  },
  {
   "cell_type": "code",
   "execution_count": 115,
   "id": "bd9fa207",
   "metadata": {},
   "outputs": [
    {
     "data": {
      "text/plain": [
       "Index(['IBGECode', 'LocalCidade', 'LocalUF', 'LocalEstado', 'RegiaoBrasil',\n",
       "       'Latitude', 'Longitude', 'Gentilico', 'PopEstimada_2018',\n",
       "       'PopCenso 2010', 'IDHM', 'ReceitasRealizadas_2014',\n",
       "       'DespesasEmpenhadas_2014', 'Pib_2014'],\n",
       "      dtype='object')"
      ]
     },
     "execution_count": 115,
     "metadata": {},
     "output_type": "execute_result"
    }
   ],
   "source": [
    "dado.columns"
   ]
  },
  {
   "cell_type": "code",
   "execution_count": 116,
   "id": "c951b8df",
   "metadata": {},
   "outputs": [
    {
     "data": {
      "text/html": [
       "<div>\n",
       "<style scoped>\n",
       "    .dataframe tbody tr th:only-of-type {\n",
       "        vertical-align: middle;\n",
       "    }\n",
       "\n",
       "    .dataframe tbody tr th {\n",
       "        vertical-align: top;\n",
       "    }\n",
       "\n",
       "    .dataframe thead th {\n",
       "        text-align: right;\n",
       "    }\n",
       "</style>\n",
       "<table border=\"1\" class=\"dataframe\">\n",
       "  <thead>\n",
       "    <tr style=\"text-align: right;\">\n",
       "      <th></th>\n",
       "      <th>IBGECode</th>\n",
       "      <th>LocalCidade</th>\n",
       "      <th>LocalUF</th>\n",
       "      <th>LocalEstado</th>\n",
       "      <th>RegiaoBrasil</th>\n",
       "      <th>Latitude</th>\n",
       "      <th>Longitude</th>\n",
       "      <th>Gentilico</th>\n",
       "      <th>PopEstimada_2018</th>\n",
       "      <th>PopCenso 2010</th>\n",
       "      <th>IDHM</th>\n",
       "      <th>ReceitasRealizadas_2014</th>\n",
       "      <th>DespesasEmpenhadas_2014</th>\n",
       "      <th>Pib_2014</th>\n",
       "    </tr>\n",
       "  </thead>\n",
       "  <tbody>\n",
       "    <tr>\n",
       "      <th>0</th>\n",
       "      <td>1100015</td>\n",
       "      <td>ALTA FLORESTA D'OESTE</td>\n",
       "      <td>RO</td>\n",
       "      <td>Rondonia</td>\n",
       "      <td>N</td>\n",
       "      <td>-119283.0</td>\n",
       "      <td>-619953.0</td>\n",
       "      <td>alta-florense</td>\n",
       "      <td>23167</td>\n",
       "      <td>24392</td>\n",
       "      <td>0.641</td>\n",
       "      <td>53490</td>\n",
       "      <td>47577</td>\n",
       "      <td>16461.11</td>\n",
       "    </tr>\n",
       "    <tr>\n",
       "      <th>1</th>\n",
       "      <td>1100023</td>\n",
       "      <td>ARIQUEMES</td>\n",
       "      <td>RO</td>\n",
       "      <td>Rondonia</td>\n",
       "      <td>N</td>\n",
       "      <td>-990571.0</td>\n",
       "      <td>-630325.0</td>\n",
       "      <td>ariquemense</td>\n",
       "      <td>106168</td>\n",
       "      <td>90353</td>\n",
       "      <td>0.702</td>\n",
       "      <td>0</td>\n",
       "      <td>0</td>\n",
       "      <td>19401.43</td>\n",
       "    </tr>\n",
       "    <tr>\n",
       "      <th>2</th>\n",
       "      <td>1100031</td>\n",
       "      <td>CABIXI</td>\n",
       "      <td>RO</td>\n",
       "      <td>Rondonia</td>\n",
       "      <td>N</td>\n",
       "      <td>-134945.0</td>\n",
       "      <td>-60552.0</td>\n",
       "      <td>cabixiense</td>\n",
       "      <td>5438</td>\n",
       "      <td>6313</td>\n",
       "      <td>0.650</td>\n",
       "      <td>22635</td>\n",
       "      <td>19354</td>\n",
       "      <td>18346.17</td>\n",
       "    </tr>\n",
       "  </tbody>\n",
       "</table>\n",
       "</div>"
      ],
      "text/plain": [
       "   IBGECode            LocalCidade LocalUF LocalEstado RegiaoBrasil  Latitude  \\\n",
       "0   1100015  ALTA FLORESTA D'OESTE      RO    Rondonia            N -119283.0   \n",
       "1   1100023              ARIQUEMES      RO    Rondonia            N -990571.0   \n",
       "2   1100031                 CABIXI      RO    Rondonia            N -134945.0   \n",
       "\n",
       "   Longitude       Gentilico  PopEstimada_2018  PopCenso 2010   IDHM  \\\n",
       "0  -619953.0  alta-florense              23167          24392  0.641   \n",
       "1  -630325.0    ariquemense             106168          90353  0.702   \n",
       "2   -60552.0     cabixiense               5438           6313  0.650   \n",
       "\n",
       "   ReceitasRealizadas_2014  DespesasEmpenhadas_2014  Pib_2014  \n",
       "0                    53490                    47577  16461.11  \n",
       "1                        0                        0  19401.43  \n",
       "2                    22635                    19354  18346.17  "
      ]
     },
     "execution_count": 116,
     "metadata": {},
     "output_type": "execute_result"
    }
   ],
   "source": [
    "dado.head(3)"
   ]
  },
  {
   "cell_type": "code",
   "execution_count": 117,
   "id": "58e873b1",
   "metadata": {},
   "outputs": [
    {
     "data": {
      "text/plain": [
       "<AxesSubplot:xlabel='RegiaoBrasil', ylabel='Pib_2014'>"
      ]
     },
     "execution_count": 117,
     "metadata": {},
     "output_type": "execute_result"
    },
    {
     "data": {
      "image/png": "[encoded data removed]",
      "text/plain": [
       "<Figure size 432x288 with 1 Axes>"
      ]
     },
     "metadata": {
      "needs_background": "light"
     },
     "output_type": "display_data"
    }
   ],
   "source": [
    "sns.barplot(x='RegiaoBrasil',y='Pib_2014', data=dado)"
   ]
  },
  {
   "cell_type": "code",
   "execution_count": 118,
   "id": "81f53468",
   "metadata": {},
   "outputs": [
    {
     "data": {
      "text/plain": [
       "<AxesSubplot:xlabel='Pib_2014', ylabel='RegiaoBrasil'>"
      ]
     },
     "execution_count": 118,
     "metadata": {},
     "output_type": "execute_result"
    },
    {
     "data": {
      "image/png": "[encoded data removed]",
      "text/plain": [
       "<Figure size 432x288 with 1 Axes>"
      ]
     },
     "metadata": {
      "needs_background": "light"
     },
     "output_type": "display_data"
    }
   ],
   "source": [
    "sns.barplot(y='RegiaoBrasil',x='Pib_2014', data=dado)"
   ]
  },
  {
   "cell_type": "code",
   "execution_count": 119,
   "id": "f3641184",
   "metadata": {},
   "outputs": [
    {
     "data": {
      "text/plain": [
       "<AxesSubplot:xlabel='RegiaoBrasil', ylabel='IDHM'>"
      ]
     },
     "execution_count": 119,
     "metadata": {},
     "output_type": "execute_result"
    },
    {
     "data": {
      "image/png": "[encoded data removed]",
      "text/plain": [
       "<Figure size 432x288 with 1 Axes>"
      ]
     },
     "metadata": {
      "needs_background": "light"
     },
     "output_type": "display_data"
    }
   ],
   "source": [
    "sns.barplot(x='RegiaoBrasil',y='IDHM', data=dado)"
   ]
  },
  {
   "cell_type": "code",
   "execution_count": 120,
   "id": "110e983e",
   "metadata": {},
   "outputs": [
    {
     "data": {
      "text/plain": [
       "<AxesSubplot:xlabel='IDHM', ylabel='RegiaoBrasil'>"
      ]
     },
     "execution_count": 120,
     "metadata": {},
     "output_type": "execute_result"
    },
    {
     "data": {
      "image/png": "[encoded data removed]",
      "text/plain": [
       "<Figure size 432x288 with 1 Axes>"
      ]
     },
     "metadata": {
      "needs_background": "light"
     },
     "output_type": "display_data"
    }
   ],
   "source": [
    "sns.barplot(y='RegiaoBrasil',x='IDHM', data=dado)"
   ]
  },
  {
   "cell_type": "code",
   "execution_count": 121,
   "id": "aac9bfca",
   "metadata": {},
   "outputs": [
    {
     "data": {
      "text/plain": [
       "Index(['IBGECode', 'LocalCidade', 'LocalUF', 'LocalEstado', 'RegiaoBrasil',\n",
       "       'Latitude', 'Longitude', 'Gentilico', 'PopEstimada_2018',\n",
       "       'PopCenso 2010', 'IDHM', 'ReceitasRealizadas_2014',\n",
       "       'DespesasEmpenhadas_2014', 'Pib_2014'],\n",
       "      dtype='object')"
      ]
     },
     "execution_count": 121,
     "metadata": {},
     "output_type": "execute_result"
    }
   ],
   "source": [
    "dado.columns"
   ]
  },
  {
   "cell_type": "code",
   "execution_count": 122,
   "id": "8b12e5fc",
   "metadata": {},
   "outputs": [
    {
     "data": {
      "text/plain": [
       "<AxesSubplot:xlabel='PopEstimada_2018', ylabel='RegiaoBrasil'>"
      ]
     },
     "execution_count": 122,
     "metadata": {},
     "output_type": "execute_result"
    },
    {
     "data": {
      "image/png": "[encoded data removed]",
      "text/plain": [
       "<Figure size 432x288 with 1 Axes>"
      ]
     },
     "metadata": {
      "needs_background": "light"
     },
     "output_type": "display_data"
    }
   ],
   "source": [
    "sns.barplot(y='RegiaoBrasil', x='PopEstimada_2018', data=dado)"
   ]
  },
  {
   "cell_type": "code",
   "execution_count": 123,
   "id": "490569a9",
   "metadata": {},
   "outputs": [
    {
     "data": {
      "text/plain": [
       "<AxesSubplot:xlabel='RegiaoBrasil', ylabel='DespesasEmpenhadas_2014'>"
      ]
     },
     "execution_count": 123,
     "metadata": {},
     "output_type": "execute_result"
    },
    {
     "data": {
      "image/png": "[encoded data removed]",
      "text/plain": [
       "<Figure size 432x288 with 1 Axes>"
      ]
     },
     "metadata": {
      "needs_background": "light"
     },
     "output_type": "display_data"
    }
   ],
   "source": [
    "sns.barplot(x='RegiaoBrasil', y='DespesasEmpenhadas_2014', data=dado)"
   ]
  },
  {
   "cell_type": "code",
   "execution_count": 124,
   "id": "5a0049d2",
   "metadata": {},
   "outputs": [
    {
     "data": {
      "text/plain": [
       "450     111757\n",
       "451       6469\n",
       "452      12488\n",
       "453      22083\n",
       "454      26302\n",
       "         ...  \n",
       "2239    338885\n",
       "2240      9347\n",
       "2241     12299\n",
       "2242     21228\n",
       "2243     46440\n",
       "Name: PopEstimada_2018, Length: 1794, dtype: int64"
      ]
     },
     "execution_count": 124,
     "metadata": {},
     "output_type": "execute_result"
    }
   ],
   "source": [
    "y = dado[dado['RegiaoBrasil'] == 'NE']['PopEstimada_2018']\n",
    "y.sort_index(ignore_index=False)\n",
    "y\n",
    "#x.sort_values(ascending=True)\n",
    "#x"
   ]
  },
  {
   "cell_type": "markdown",
   "id": "89be7b1e",
   "metadata": {},
   "source": [
    "# Plots de regressão."
   ]
  },
  {
   "cell_type": "code",
   "execution_count": 128,
   "id": "97e446e6",
   "metadata": {},
   "outputs": [
    {
     "data": {
      "text/html": [
       "<div>\n",
       "<style scoped>\n",
       "    .dataframe tbody tr th:only-of-type {\n",
       "        vertical-align: middle;\n",
       "    }\n",
       "\n",
       "    .dataframe tbody tr th {\n",
       "        vertical-align: top;\n",
       "    }\n",
       "\n",
       "    .dataframe thead th {\n",
       "        text-align: right;\n",
       "    }\n",
       "</style>\n",
       "<table border=\"1\" class=\"dataframe\">\n",
       "  <thead>\n",
       "    <tr style=\"text-align: right;\">\n",
       "      <th></th>\n",
       "      <th>IBGECode</th>\n",
       "      <th>LocalCidade</th>\n",
       "      <th>LocalUF</th>\n",
       "      <th>LocalEstado</th>\n",
       "      <th>RegiaoBrasil</th>\n",
       "      <th>Latitude</th>\n",
       "      <th>Longitude</th>\n",
       "      <th>Gentilico</th>\n",
       "      <th>PopEstimada_2018</th>\n",
       "      <th>PopCenso 2010</th>\n",
       "      <th>IDHM</th>\n",
       "      <th>ReceitasRealizadas_2014</th>\n",
       "      <th>DespesasEmpenhadas_2014</th>\n",
       "      <th>Pib_2014</th>\n",
       "    </tr>\n",
       "  </thead>\n",
       "  <tbody>\n",
       "    <tr>\n",
       "      <th>0</th>\n",
       "      <td>1100015</td>\n",
       "      <td>ALTA FLORESTA D'OESTE</td>\n",
       "      <td>RO</td>\n",
       "      <td>Rondonia</td>\n",
       "      <td>N</td>\n",
       "      <td>-119283.0</td>\n",
       "      <td>-619953.0</td>\n",
       "      <td>alta-florense</td>\n",
       "      <td>23167</td>\n",
       "      <td>24392</td>\n",
       "      <td>0.641</td>\n",
       "      <td>53490</td>\n",
       "      <td>47577</td>\n",
       "      <td>16461.11</td>\n",
       "    </tr>\n",
       "    <tr>\n",
       "      <th>1</th>\n",
       "      <td>1100023</td>\n",
       "      <td>ARIQUEMES</td>\n",
       "      <td>RO</td>\n",
       "      <td>Rondonia</td>\n",
       "      <td>N</td>\n",
       "      <td>-990571.0</td>\n",
       "      <td>-630325.0</td>\n",
       "      <td>ariquemense</td>\n",
       "      <td>106168</td>\n",
       "      <td>90353</td>\n",
       "      <td>0.702</td>\n",
       "      <td>0</td>\n",
       "      <td>0</td>\n",
       "      <td>19401.43</td>\n",
       "    </tr>\n",
       "    <tr>\n",
       "      <th>2</th>\n",
       "      <td>1100031</td>\n",
       "      <td>CABIXI</td>\n",
       "      <td>RO</td>\n",
       "      <td>Rondonia</td>\n",
       "      <td>N</td>\n",
       "      <td>-134945.0</td>\n",
       "      <td>-60552.0</td>\n",
       "      <td>cabixiense</td>\n",
       "      <td>5438</td>\n",
       "      <td>6313</td>\n",
       "      <td>0.650</td>\n",
       "      <td>22635</td>\n",
       "      <td>19354</td>\n",
       "      <td>18346.17</td>\n",
       "    </tr>\n",
       "  </tbody>\n",
       "</table>\n",
       "</div>"
      ],
      "text/plain": [
       "   IBGECode            LocalCidade LocalUF LocalEstado RegiaoBrasil  Latitude  \\\n",
       "0   1100015  ALTA FLORESTA D'OESTE      RO    Rondonia            N -119283.0   \n",
       "1   1100023              ARIQUEMES      RO    Rondonia            N -990571.0   \n",
       "2   1100031                 CABIXI      RO    Rondonia            N -134945.0   \n",
       "\n",
       "   Longitude       Gentilico  PopEstimada_2018  PopCenso 2010   IDHM  \\\n",
       "0  -619953.0  alta-florense              23167          24392  0.641   \n",
       "1  -630325.0    ariquemense             106168          90353  0.702   \n",
       "2   -60552.0     cabixiense               5438           6313  0.650   \n",
       "\n",
       "   ReceitasRealizadas_2014  DespesasEmpenhadas_2014  Pib_2014  \n",
       "0                    53490                    47577  16461.11  \n",
       "1                        0                        0  19401.43  \n",
       "2                    22635                    19354  18346.17  "
      ]
     },
     "execution_count": 128,
     "metadata": {},
     "output_type": "execute_result"
    }
   ],
   "source": [
    "dado.head(3)"
   ]
  },
  {
   "cell_type": "code",
   "execution_count": 127,
   "id": "5c49ac39",
   "metadata": {},
   "outputs": [
    {
     "data": {
      "text/plain": [
       "Index(['IBGECode', 'LocalCidade', 'LocalUF', 'LocalEstado', 'RegiaoBrasil',\n",
       "       'Latitude', 'Longitude', 'Gentilico', 'PopEstimada_2018',\n",
       "       'PopCenso 2010', 'IDHM', 'ReceitasRealizadas_2014',\n",
       "       'DespesasEmpenhadas_2014', 'Pib_2014'],\n",
       "      dtype='object')"
      ]
     },
     "execution_count": 127,
     "metadata": {},
     "output_type": "execute_result"
    }
   ],
   "source": [
    "dado.columns"
   ]
  },
  {
   "cell_type": "code",
   "execution_count": 140,
   "id": "57e3ef9d",
   "metadata": {},
   "outputs": [
    {
     "data": {
      "text/plain": [
       "<seaborn.axisgrid.FacetGrid at 0x1fd642af580>"
      ]
     },
     "execution_count": 140,
     "metadata": {},
     "output_type": "execute_result"
    },
    {
     "data": {
      "image/png": "[encoded data removed]",
      "text/plain": [
       "<Figure size 1078x504 with 1 Axes>"
      ]
     },
     "metadata": {
      "needs_background": "light"
     },
     "output_type": "display_data"
    }
   ],
   "source": [
    "sns.lmplot(x='DespesasEmpenhadas_2014', y='PopEstimada_2018', data=dado, aspect=2, height=7, hue='RegiaoBrasil')"
   ]
  },
  {
   "cell_type": "code",
   "execution_count": null,
   "id": "1e2acd17",
   "metadata": {},
   "outputs": [],
   "source": []
  },
  {
   "cell_type": "code",
   "execution_count": null,
   "id": "9776b39b",
   "metadata": {},
   "outputs": [],
   "source": []
  },
  {
   "cell_type": "code",
   "execution_count": null,
   "id": "76dc9d21",
   "metadata": {},
   "outputs": [],
   "source": []
  },
  {
   "cell_type": "code",
   "execution_count": null,
   "id": "35afff57",
   "metadata": {},
   "outputs": [],
   "source": []
  },
  {
   "cell_type": "code",
   "execution_count": null,
   "id": "7595dde2",
   "metadata": {},
   "outputs": [],
   "source": []
  },
  {
   "cell_type": "code",
   "execution_count": null,
   "id": "34c2f9d4",
   "metadata": {},
   "outputs": [],
   "source": []
  }
 ],
 "metadata": {
  "kernelspec": {
   "display_name": "Python 3 (ipykernel)",
   "language": "python",
   "name": "python3"
  },
  "language_info": {
   "codemirror_mode": {
    "name": "ipython",
    "version": 3
   },
   "file_extension": ".py",
   "mimetype": "text/x-python",
   "name": "python",
   "nbconvert_exporter": "python",
   "pygments_lexer": "ipython3",
   "version": "3.9.12"
  }
 },
 "nbformat": 4,
 "nbformat_minor": 5
}
