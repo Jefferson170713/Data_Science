{
 "cells": [
  {
   "cell_type": "code",
   "execution_count": 1,
   "id": "6568df74",
   "metadata": {},
   "outputs": [],
   "source": [
    "import pandas as pd\n",
    "import seaborn as sns\n",
    "import matplotlib.pyplot as plt\n",
    "import numpy as np"
   ]
  },
  {
   "cell_type": "code",
   "execution_count": 2,
   "id": "a7d7da52",
   "metadata": {},
   "outputs": [
    {
     "data": {
      "text/html": [
       "<div>\n",
       "<style scoped>\n",
       "    .dataframe tbody tr th:only-of-type {\n",
       "        vertical-align: middle;\n",
       "    }\n",
       "\n",
       "    .dataframe tbody tr th {\n",
       "        vertical-align: top;\n",
       "    }\n",
       "\n",
       "    .dataframe thead th {\n",
       "        text-align: right;\n",
       "    }\n",
       "</style>\n",
       "<table border=\"1\" class=\"dataframe\">\n",
       "  <thead>\n",
       "    <tr style=\"text-align: right;\">\n",
       "      <th></th>\n",
       "      <th>Data da Venda</th>\n",
       "      <th>Produto</th>\n",
       "      <th>Categoria</th>\n",
       "      <th>PrecoUnitario</th>\n",
       "      <th>Custo Unitário</th>\n",
       "      <th>Marca</th>\n",
       "      <th>Qtd. Vendida</th>\n",
       "      <th>Nome Cliente</th>\n",
       "      <th>Localidade</th>\n",
       "      <th>Unnamed: 9</th>\n",
       "    </tr>\n",
       "  </thead>\n",
       "  <tbody>\n",
       "    <tr>\n",
       "      <th>0</th>\n",
       "      <td>2017-06-01 00:00:00</td>\n",
       "      <td>Sistema de Som 7.1 Channel X711 Prata</td>\n",
       "      <td>Sistema de Som</td>\n",
       "      <td>1109.00</td>\n",
       "      <td>367.43</td>\n",
       "      <td>Litware</td>\n",
       "      <td>1.0</td>\n",
       "      <td>Pinheiro, Vicente</td>\n",
       "      <td>França - Europa</td>\n",
       "      <td>NaN</td>\n",
       "    </tr>\n",
       "    <tr>\n",
       "      <th>1</th>\n",
       "      <td>2017-06-01 00:00:00</td>\n",
       "      <td>180 CFM Ventilador de Coluna X450 Preto</td>\n",
       "      <td>Ventiladores</td>\n",
       "      <td>215.62</td>\n",
       "      <td>71.44</td>\n",
       "      <td>Litware</td>\n",
       "      <td>1.0</td>\n",
       "      <td>Lopez, Marlon</td>\n",
       "      <td>Estados Unidos - América do Norte</td>\n",
       "      <td>NaN</td>\n",
       "    </tr>\n",
       "    <tr>\n",
       "      <th>2</th>\n",
       "      <td>2017-06-01 00:00:00</td>\n",
       "      <td>180 CFM Ventilador de Coluna X450 Preto</td>\n",
       "      <td>Ventiladores</td>\n",
       "      <td>215.62</td>\n",
       "      <td>71.44</td>\n",
       "      <td>Litware</td>\n",
       "      <td>1.0</td>\n",
       "      <td>Gonzalez, Martin</td>\n",
       "      <td>Chile - América do Sul</td>\n",
       "      <td>NaN</td>\n",
       "    </tr>\n",
       "    <tr>\n",
       "      <th>3</th>\n",
       "      <td>2017-06-01 00:00:00</td>\n",
       "      <td>180 CFM Ventilador de Coluna X450 Preto</td>\n",
       "      <td>Ventiladores</td>\n",
       "      <td>215.62</td>\n",
       "      <td>71.44</td>\n",
       "      <td>Litware</td>\n",
       "      <td>1.0</td>\n",
       "      <td>Ruiz, Victor</td>\n",
       "      <td>Alemanha - Europa</td>\n",
       "      <td>NaN</td>\n",
       "    </tr>\n",
       "    <tr>\n",
       "      <th>4</th>\n",
       "      <td>2017-06-01 00:00:00</td>\n",
       "      <td>180 CFM Ventilador de Coluna X450 Preto</td>\n",
       "      <td>Ventiladores</td>\n",
       "      <td>215.62</td>\n",
       "      <td>71.44</td>\n",
       "      <td>Litware</td>\n",
       "      <td>5.0</td>\n",
       "      <td>Nelson, Alex</td>\n",
       "      <td>Estados Unidos - América do Norte</td>\n",
       "      <td>NaN</td>\n",
       "    </tr>\n",
       "  </tbody>\n",
       "</table>\n",
       "</div>"
      ],
      "text/plain": [
       "         Data da Venda                                  Produto  \\\n",
       "0  2017-06-01 00:00:00    Sistema de Som 7.1 Channel X711 Prata   \n",
       "1  2017-06-01 00:00:00  180 CFM Ventilador de Coluna X450 Preto   \n",
       "2  2017-06-01 00:00:00  180 CFM Ventilador de Coluna X450 Preto   \n",
       "3  2017-06-01 00:00:00  180 CFM Ventilador de Coluna X450 Preto   \n",
       "4  2017-06-01 00:00:00  180 CFM Ventilador de Coluna X450 Preto   \n",
       "\n",
       "        Categoria  PrecoUnitario  Custo Unitário     Marca  Qtd. Vendida  \\\n",
       "0  Sistema de Som        1109.00          367.43  Litware            1.0   \n",
       "1    Ventiladores         215.62           71.44   Litware           1.0   \n",
       "2    Ventiladores         215.62           71.44   Litware           1.0   \n",
       "3    Ventiladores         215.62           71.44   Litware           1.0   \n",
       "4    Ventiladores         215.62           71.44   Litware           5.0   \n",
       "\n",
       "        Nome Cliente                         Localidade Unnamed: 9  \n",
       "0  Pinheiro, Vicente                    França - Europa        NaN  \n",
       "1      Lopez, Marlon  Estados Unidos - América do Norte        NaN  \n",
       "2   Gonzalez, Martin             Chile - América do Sul        NaN  \n",
       "3       Ruiz, Victor                  Alemanha - Europa        NaN  \n",
       "4       Nelson, Alex  Estados Unidos - América do Norte        NaN  "
      ]
     },
     "execution_count": 2,
     "metadata": {},
     "output_type": "execute_result"
    }
   ],
   "source": [
    "demo = pd.read_excel('Vendas_analise_yotube.xlsx')\n",
    "demo.head()"
   ]
  },
  {
   "cell_type": "markdown",
   "id": "bb2ee6c5",
   "metadata": {},
   "source": [
    "### Análise exploratória dos dados 1.0\n",
    "    Análise dos tipos Análise das colunasdos dados.\n",
    "### Análise das colunas.\n",
    "        1.1 - Data da Venda\n",
    "        1.2 - Produto\n",
    "        1.3 - Categoria\n",
    "        1.4 - PrecoUnitario\n",
    "        1.5 - Custo Unitário\n",
    "        1.6 - Marca\n",
    "        1.7 - Qtd. Vendida\n",
    "        1.8 - Nome Cliente\n",
    "        1.9 - Localidade\n",
    "        1.1.1 - Unnamed: 9\n",
    "        \n",
    "        \n",
    "### Análises gráficas 2.0\n",
    "        2.1 - Data da Venda\n",
    "        2.2 - Produto\n",
    "        2.3 - Categoria\n",
    "        2.4 - PrecoUnitario\n",
    "        2.5 - Custo Unitário\n",
    "        2.6 - Marca\n",
    "        2.7 - Qtd. Vendida\n",
    "        2.8 - Nome Cliente\n",
    "        2.9 - Localidade\n",
    "        "
   ]
  },
  {
   "cell_type": "code",
   "execution_count": 3,
   "id": "c827acf5",
   "metadata": {},
   "outputs": [
    {
     "data": {
      "text/plain": [
       "Index(['Data da Venda', 'Produto', 'Categoria', 'PrecoUnitario',\n",
       "       'Custo Unitário', 'Marca', 'Qtd. Vendida', 'Nome Cliente', 'Localidade',\n",
       "       'Unnamed: 9'],\n",
       "      dtype='object')"
      ]
     },
     "execution_count": 3,
     "metadata": {},
     "output_type": "execute_result"
    }
   ],
   "source": [
    "demo.columns"
   ]
  },
  {
   "cell_type": "code",
   "execution_count": 4,
   "id": "a4631f11",
   "metadata": {},
   "outputs": [
    {
     "name": "stdout",
     "output_type": "stream",
     "text": [
      "<class 'pandas.core.frame.DataFrame'>\n",
      "RangeIndex: 203888 entries, 0 to 203887\n",
      "Data columns (total 10 columns):\n",
      " #   Column          Non-Null Count   Dtype  \n",
      "---  ------          --------------   -----  \n",
      " 0   Data da Venda   203888 non-null  object \n",
      " 1   Produto         203882 non-null  object \n",
      " 2   Categoria       203882 non-null  object \n",
      " 3   PrecoUnitario   203882 non-null  float64\n",
      " 4   Custo Unitário  203882 non-null  float64\n",
      " 5   Marca           203882 non-null  object \n",
      " 6   Qtd. Vendida    203882 non-null  float64\n",
      " 7   Nome Cliente    203882 non-null  object \n",
      " 8   Localidade      203882 non-null  object \n",
      " 9   Unnamed: 9      2 non-null       object \n",
      "dtypes: float64(3), object(7)\n",
      "memory usage: 15.6+ MB\n"
     ]
    }
   ],
   "source": [
    "demo.info()"
   ]
  },
  {
   "cell_type": "code",
   "execution_count": 5,
   "id": "528bc524",
   "metadata": {},
   "outputs": [
    {
     "data": {
      "text/plain": [
       "Data da Venda          0\n",
       "Produto                6\n",
       "Categoria              6\n",
       "PrecoUnitario          6\n",
       "Custo Unitário         6\n",
       "Marca                  6\n",
       "Qtd. Vendida           6\n",
       "Nome Cliente           6\n",
       "Localidade             6\n",
       "Unnamed: 9        203886\n",
       "dtype: int64"
      ]
     },
     "execution_count": 5,
     "metadata": {},
     "output_type": "execute_result"
    }
   ],
   "source": [
    "demo.isnull().sum()"
   ]
  },
  {
   "cell_type": "markdown",
   "id": "2319ac6c",
   "metadata": {},
   "source": [
    "# Análise das colunas.\n",
    "## 1.1.1 - Unnamed: 9\n",
    "### Eliminando a coluna pois não é necessário, pois não há dados para serem analisados."
   ]
  },
  {
   "cell_type": "code",
   "execution_count": 6,
   "id": "7788d02d",
   "metadata": {},
   "outputs": [
    {
     "data": {
      "text/html": [
       "<div>\n",
       "<style scoped>\n",
       "    .dataframe tbody tr th:only-of-type {\n",
       "        vertical-align: middle;\n",
       "    }\n",
       "\n",
       "    .dataframe tbody tr th {\n",
       "        vertical-align: top;\n",
       "    }\n",
       "\n",
       "    .dataframe thead th {\n",
       "        text-align: right;\n",
       "    }\n",
       "</style>\n",
       "<table border=\"1\" class=\"dataframe\">\n",
       "  <thead>\n",
       "    <tr style=\"text-align: right;\">\n",
       "      <th></th>\n",
       "      <th>Data da Venda</th>\n",
       "      <th>Produto</th>\n",
       "      <th>Categoria</th>\n",
       "      <th>PrecoUnitario</th>\n",
       "      <th>Custo Unitário</th>\n",
       "      <th>Marca</th>\n",
       "      <th>Qtd. Vendida</th>\n",
       "      <th>Nome Cliente</th>\n",
       "      <th>Localidade</th>\n",
       "    </tr>\n",
       "  </thead>\n",
       "  <tbody>\n",
       "    <tr>\n",
       "      <th>0</th>\n",
       "      <td>2017-06-01 00:00:00</td>\n",
       "      <td>Sistema de Som 7.1 Channel X711 Prata</td>\n",
       "      <td>Sistema de Som</td>\n",
       "      <td>1109.00</td>\n",
       "      <td>367.43</td>\n",
       "      <td>Litware</td>\n",
       "      <td>1.0</td>\n",
       "      <td>Pinheiro, Vicente</td>\n",
       "      <td>França - Europa</td>\n",
       "    </tr>\n",
       "    <tr>\n",
       "      <th>1</th>\n",
       "      <td>2017-06-01 00:00:00</td>\n",
       "      <td>180 CFM Ventilador de Coluna X450 Preto</td>\n",
       "      <td>Ventiladores</td>\n",
       "      <td>215.62</td>\n",
       "      <td>71.44</td>\n",
       "      <td>Litware</td>\n",
       "      <td>1.0</td>\n",
       "      <td>Lopez, Marlon</td>\n",
       "      <td>Estados Unidos - América do Norte</td>\n",
       "    </tr>\n",
       "    <tr>\n",
       "      <th>2</th>\n",
       "      <td>2017-06-01 00:00:00</td>\n",
       "      <td>180 CFM Ventilador de Coluna X450 Preto</td>\n",
       "      <td>Ventiladores</td>\n",
       "      <td>215.62</td>\n",
       "      <td>71.44</td>\n",
       "      <td>Litware</td>\n",
       "      <td>1.0</td>\n",
       "      <td>Gonzalez, Martin</td>\n",
       "      <td>Chile - América do Sul</td>\n",
       "    </tr>\n",
       "  </tbody>\n",
       "</table>\n",
       "</div>"
      ],
      "text/plain": [
       "         Data da Venda                                  Produto  \\\n",
       "0  2017-06-01 00:00:00    Sistema de Som 7.1 Channel X711 Prata   \n",
       "1  2017-06-01 00:00:00  180 CFM Ventilador de Coluna X450 Preto   \n",
       "2  2017-06-01 00:00:00  180 CFM Ventilador de Coluna X450 Preto   \n",
       "\n",
       "        Categoria  PrecoUnitario  Custo Unitário     Marca  Qtd. Vendida  \\\n",
       "0  Sistema de Som        1109.00          367.43  Litware            1.0   \n",
       "1    Ventiladores         215.62           71.44   Litware           1.0   \n",
       "2    Ventiladores         215.62           71.44   Litware           1.0   \n",
       "\n",
       "        Nome Cliente                         Localidade  \n",
       "0  Pinheiro, Vicente                    França - Europa  \n",
       "1      Lopez, Marlon  Estados Unidos - América do Norte  \n",
       "2   Gonzalez, Martin             Chile - América do Sul  "
      ]
     },
     "execution_count": 6,
     "metadata": {},
     "output_type": "execute_result"
    }
   ],
   "source": [
    "demo.drop('Unnamed: 9', axis=1, inplace=True)\n",
    "demo.head(3)"
   ]
  },
  {
   "cell_type": "code",
   "execution_count": 7,
   "id": "edc94ebd",
   "metadata": {},
   "outputs": [],
   "source": [
    "demo = demo.dropna()"
   ]
  },
  {
   "cell_type": "markdown",
   "id": "6eba0ad6",
   "metadata": {},
   "source": [
    "#### 1.0 - Quantidade de valores nulos em cada coluna."
   ]
  },
  {
   "cell_type": "code",
   "execution_count": 8,
   "id": "801faac7",
   "metadata": {},
   "outputs": [
    {
     "name": "stdout",
     "output_type": "stream",
     "text": [
      "<class 'pandas.core.frame.DataFrame'>\n",
      "Int64Index: 203882 entries, 0 to 203881\n",
      "Data columns (total 9 columns):\n",
      " #   Column          Non-Null Count   Dtype  \n",
      "---  ------          --------------   -----  \n",
      " 0   Data da Venda   203882 non-null  object \n",
      " 1   Produto         203882 non-null  object \n",
      " 2   Categoria       203882 non-null  object \n",
      " 3   PrecoUnitario   203882 non-null  float64\n",
      " 4   Custo Unitário  203882 non-null  float64\n",
      " 5   Marca           203882 non-null  object \n",
      " 6   Qtd. Vendida    203882 non-null  float64\n",
      " 7   Nome Cliente    203882 non-null  object \n",
      " 8   Localidade      203882 non-null  object \n",
      "dtypes: float64(3), object(6)\n",
      "memory usage: 15.6+ MB\n"
     ]
    }
   ],
   "source": [
    "demo.info()"
   ]
  },
  {
   "cell_type": "code",
   "execution_count": 9,
   "id": "8966fd5b",
   "metadata": {},
   "outputs": [
    {
     "data": {
      "text/plain": [
       "Data da Venda     0\n",
       "Produto           0\n",
       "Categoria         0\n",
       "PrecoUnitario     0\n",
       "Custo Unitário    0\n",
       "Marca             0\n",
       "Qtd. Vendida      0\n",
       "Nome Cliente      0\n",
       "Localidade        0\n",
       "dtype: int64"
      ]
     },
     "execution_count": 9,
     "metadata": {},
     "output_type": "execute_result"
    }
   ],
   "source": [
    "demo.isnull().sum()"
   ]
  },
  {
   "cell_type": "code",
   "execution_count": 10,
   "id": "8cd9f190",
   "metadata": {
    "scrolled": true
   },
   "outputs": [
    {
     "data": {
      "text/plain": [
       "array(['Sistema de Som', 'Ventiladores', 'Acessórios para Câmeras',\n",
       "       'Games', 'Jogos de Tabuleiro', 'Headphone Bluetooth', 'Monitores',\n",
       "       'Car Video', 'Acessórios para Computador', 'Caneta Gravadora',\n",
       "       'Cafeteira', 'VCD & DVD', 'Movie DVD', 'Acessórios para Celular',\n",
       "       'MP4&MP3', 'Laptops', 'Impressoras, Scanners & Fax',\n",
       "       'Water Heaters', 'Telefones p/ Casa e Escritório',\n",
       "       'Ar Condicionado'], dtype=object)"
      ]
     },
     "execution_count": 10,
     "metadata": {},
     "output_type": "execute_result"
    }
   ],
   "source": [
    "demo['Categoria'].unique()"
   ]
  },
  {
   "cell_type": "code",
   "execution_count": 11,
   "id": "19794b74",
   "metadata": {},
   "outputs": [
    {
     "data": {
      "text/html": [
       "<div>\n",
       "<style scoped>\n",
       "    .dataframe tbody tr th:only-of-type {\n",
       "        vertical-align: middle;\n",
       "    }\n",
       "\n",
       "    .dataframe tbody tr th {\n",
       "        vertical-align: top;\n",
       "    }\n",
       "\n",
       "    .dataframe thead th {\n",
       "        text-align: right;\n",
       "    }\n",
       "</style>\n",
       "<table border=\"1\" class=\"dataframe\">\n",
       "  <thead>\n",
       "    <tr style=\"text-align: right;\">\n",
       "      <th></th>\n",
       "      <th></th>\n",
       "      <th>PrecoUnitario</th>\n",
       "      <th>Custo Unitário</th>\n",
       "      <th>Qtd. Vendida</th>\n",
       "    </tr>\n",
       "    <tr>\n",
       "      <th>Categoria</th>\n",
       "      <th>Produto</th>\n",
       "      <th></th>\n",
       "      <th></th>\n",
       "      <th></th>\n",
       "    </tr>\n",
       "  </thead>\n",
       "  <tbody>\n",
       "    <tr>\n",
       "      <th>Acessórios para Celular</th>\n",
       "      <th>Azultooth Active Headphones L15 Preto</th>\n",
       "      <td>11959.08</td>\n",
       "      <td>3962.44</td>\n",
       "      <td>157.0</td>\n",
       "    </tr>\n",
       "    <tr>\n",
       "      <th rowspan=\"4\" valign=\"top\">Acessórios para Computador</th>\n",
       "      <th>Laptop Keyboard X105 Branco</th>\n",
       "      <td>2539.90</td>\n",
       "      <td>841.50</td>\n",
       "      <td>25.0</td>\n",
       "    </tr>\n",
       "    <tr>\n",
       "      <th>Laptop Keyboard X105 Marrom</th>\n",
       "      <td>6234.30</td>\n",
       "      <td>2065.50</td>\n",
       "      <td>57.0</td>\n",
       "    </tr>\n",
       "    <tr>\n",
       "      <th>Laptop Keyboard X105 Prata</th>\n",
       "      <td>3925.30</td>\n",
       "      <td>1300.50</td>\n",
       "      <td>30.0</td>\n",
       "    </tr>\n",
       "    <tr>\n",
       "      <th>Laptop Keyboard X105 Preto</th>\n",
       "      <td>2770.80</td>\n",
       "      <td>918.00</td>\n",
       "      <td>29.0</td>\n",
       "    </tr>\n",
       "    <tr>\n",
       "      <th>...</th>\n",
       "      <th>...</th>\n",
       "      <td>...</td>\n",
       "      <td>...</td>\n",
       "      <td>...</td>\n",
       "    </tr>\n",
       "    <tr>\n",
       "      <th rowspan=\"5\" valign=\"top\">Water Heaters</th>\n",
       "      <th>Water Heater 1.5GPM E0800 Vermelho</th>\n",
       "      <td>19312.50</td>\n",
       "      <td>9846.00</td>\n",
       "      <td>153.0</td>\n",
       "    </tr>\n",
       "    <tr>\n",
       "      <th>Water Heater 2.6GPM E0900 Azul</th>\n",
       "      <td>37084.00</td>\n",
       "      <td>18906.27</td>\n",
       "      <td>135.0</td>\n",
       "    </tr>\n",
       "    <tr>\n",
       "      <th>Water Heater 2.6GPM E0900 Verde</th>\n",
       "      <td>35052.00</td>\n",
       "      <td>17870.31</td>\n",
       "      <td>129.0</td>\n",
       "    </tr>\n",
       "    <tr>\n",
       "      <th>Water Heater 4.0GPM M1250 Vermelho</th>\n",
       "      <td>57743.00</td>\n",
       "      <td>26553.75</td>\n",
       "      <td>149.0</td>\n",
       "    </tr>\n",
       "    <tr>\n",
       "      <th>Water Heater 7.2GPM X1800 Branco</th>\n",
       "      <td>162250.00</td>\n",
       "      <td>53757.00</td>\n",
       "      <td>208.0</td>\n",
       "    </tr>\n",
       "  </tbody>\n",
       "</table>\n",
       "<p>447 rows × 3 columns</p>\n",
       "</div>"
      ],
      "text/plain": [
       "                                                                  PrecoUnitario  \\\n",
       "Categoria                  Produto                                                \n",
       "Acessórios para Celular    Azultooth Active Headphones L15 Preto       11959.08   \n",
       "Acessórios para Computador Laptop Keyboard X105 Branco                  2539.90   \n",
       "                           Laptop Keyboard X105 Marrom                  6234.30   \n",
       "                           Laptop Keyboard X105 Prata                   3925.30   \n",
       "                           Laptop Keyboard X105 Preto                   2770.80   \n",
       "...                                                                         ...   \n",
       "Water Heaters              Water Heater 1.5GPM E0800 Vermelho          19312.50   \n",
       "                           Water Heater 2.6GPM E0900 Azul              37084.00   \n",
       "                           Water Heater 2.6GPM E0900 Verde             35052.00   \n",
       "                           Water Heater 4.0GPM M1250 Vermelho          57743.00   \n",
       "                           Water Heater 7.2GPM X1800 Branco           162250.00   \n",
       "\n",
       "                                                                  Custo Unitário  \\\n",
       "Categoria                  Produto                                                 \n",
       "Acessórios para Celular    Azultooth Active Headphones L15 Preto         3962.44   \n",
       "Acessórios para Computador Laptop Keyboard X105 Branco                    841.50   \n",
       "                           Laptop Keyboard X105 Marrom                   2065.50   \n",
       "                           Laptop Keyboard X105 Prata                    1300.50   \n",
       "                           Laptop Keyboard X105 Preto                     918.00   \n",
       "...                                                                          ...   \n",
       "Water Heaters              Water Heater 1.5GPM E0800 Vermelho            9846.00   \n",
       "                           Water Heater 2.6GPM E0900 Azul               18906.27   \n",
       "                           Water Heater 2.6GPM E0900 Verde              17870.31   \n",
       "                           Water Heater 4.0GPM M1250 Vermelho           26553.75   \n",
       "                           Water Heater 7.2GPM X1800 Branco             53757.00   \n",
       "\n",
       "                                                                  Qtd. Vendida  \n",
       "Categoria                  Produto                                              \n",
       "Acessórios para Celular    Azultooth Active Headphones L15 Preto         157.0  \n",
       "Acessórios para Computador Laptop Keyboard X105 Branco                    25.0  \n",
       "                           Laptop Keyboard X105 Marrom                    57.0  \n",
       "                           Laptop Keyboard X105 Prata                     30.0  \n",
       "                           Laptop Keyboard X105 Preto                     29.0  \n",
       "...                                                                        ...  \n",
       "Water Heaters              Water Heater 1.5GPM E0800 Vermelho            153.0  \n",
       "                           Water Heater 2.6GPM E0900 Azul                135.0  \n",
       "                           Water Heater 2.6GPM E0900 Verde               129.0  \n",
       "                           Water Heater 4.0GPM M1250 Vermelho            149.0  \n",
       "                           Water Heater 7.2GPM X1800 Branco              208.0  \n",
       "\n",
       "[447 rows x 3 columns]"
      ]
     },
     "execution_count": 11,
     "metadata": {},
     "output_type": "execute_result"
    }
   ],
   "source": [
    "avaliar1 = demo.groupby(['Categoria','Produto']).sum()\n",
    "avaliar1"
   ]
  },
  {
   "cell_type": "code",
   "execution_count": 12,
   "id": "1a905396",
   "metadata": {},
   "outputs": [
    {
     "data": {
      "text/html": [
       "<div>\n",
       "<style scoped>\n",
       "    .dataframe tbody tr th:only-of-type {\n",
       "        vertical-align: middle;\n",
       "    }\n",
       "\n",
       "    .dataframe tbody tr th {\n",
       "        vertical-align: top;\n",
       "    }\n",
       "\n",
       "    .dataframe thead th {\n",
       "        text-align: right;\n",
       "    }\n",
       "</style>\n",
       "<table border=\"1\" class=\"dataframe\">\n",
       "  <thead>\n",
       "    <tr style=\"text-align: right;\">\n",
       "      <th></th>\n",
       "      <th>PrecoUnitario</th>\n",
       "      <th>Custo Unitário</th>\n",
       "      <th>Qtd. Vendida</th>\n",
       "    </tr>\n",
       "    <tr>\n",
       "      <th>Categoria</th>\n",
       "      <th></th>\n",
       "      <th></th>\n",
       "      <th></th>\n",
       "    </tr>\n",
       "  </thead>\n",
       "  <tbody>\n",
       "    <tr>\n",
       "      <th>Acessórios para Celular</th>\n",
       "      <td>1.195908e+04</td>\n",
       "      <td>3962.44</td>\n",
       "      <td>157.0</td>\n",
       "    </tr>\n",
       "    <tr>\n",
       "      <th>Acessórios para Computador</th>\n",
       "      <td>1.970120e+04</td>\n",
       "      <td>6527.25</td>\n",
       "      <td>364.0</td>\n",
       "    </tr>\n",
       "    <tr>\n",
       "      <th>Acessórios para Câmeras</th>\n",
       "      <td>5.532685e+06</td>\n",
       "      <td>1851338.64</td>\n",
       "      <td>27386.0</td>\n",
       "    </tr>\n",
       "    <tr>\n",
       "      <th>Ar Condicionado</th>\n",
       "      <td>4.388331e+04</td>\n",
       "      <td>14539.68</td>\n",
       "      <td>158.0</td>\n",
       "    </tr>\n",
       "    <tr>\n",
       "      <th>Cafeteira</th>\n",
       "      <td>3.867180e+05</td>\n",
       "      <td>140084.75</td>\n",
       "      <td>778.0</td>\n",
       "    </tr>\n",
       "    <tr>\n",
       "      <th>Caneta Gravadora</th>\n",
       "      <td>8.433613e+05</td>\n",
       "      <td>383960.22</td>\n",
       "      <td>8865.0</td>\n",
       "    </tr>\n",
       "    <tr>\n",
       "      <th>Car Video</th>\n",
       "      <td>1.270690e+05</td>\n",
       "      <td>42340.88</td>\n",
       "      <td>283.0</td>\n",
       "    </tr>\n",
       "    <tr>\n",
       "      <th>Games</th>\n",
       "      <td>2.599471e+06</td>\n",
       "      <td>1190287.08</td>\n",
       "      <td>92601.0</td>\n",
       "    </tr>\n",
       "    <tr>\n",
       "      <th>Headphone Bluetooth</th>\n",
       "      <td>6.578594e+05</td>\n",
       "      <td>261659.19</td>\n",
       "      <td>10017.0</td>\n",
       "    </tr>\n",
       "    <tr>\n",
       "      <th>Impressoras, Scanners &amp; Fax</th>\n",
       "      <td>3.063780e+05</td>\n",
       "      <td>101852.64</td>\n",
       "      <td>2322.0</td>\n",
       "    </tr>\n",
       "    <tr>\n",
       "      <th>Jogos de Tabuleiro</th>\n",
       "      <td>5.704648e+05</td>\n",
       "      <td>247120.06</td>\n",
       "      <td>131520.0</td>\n",
       "    </tr>\n",
       "    <tr>\n",
       "      <th>Laptops</th>\n",
       "      <td>9.648579e+05</td>\n",
       "      <td>474357.60</td>\n",
       "      <td>4629.0</td>\n",
       "    </tr>\n",
       "    <tr>\n",
       "      <th>MP4&amp;MP3</th>\n",
       "      <td>2.046019e+05</td>\n",
       "      <td>85454.20</td>\n",
       "      <td>2906.0</td>\n",
       "    </tr>\n",
       "    <tr>\n",
       "      <th>Monitores</th>\n",
       "      <td>5.250612e+06</td>\n",
       "      <td>1940996.37</td>\n",
       "      <td>23535.0</td>\n",
       "    </tr>\n",
       "    <tr>\n",
       "      <th>Movie DVD</th>\n",
       "      <td>7.942562e+04</td>\n",
       "      <td>35371.97</td>\n",
       "      <td>2277.0</td>\n",
       "    </tr>\n",
       "    <tr>\n",
       "      <th>Sistema de Som</th>\n",
       "      <td>1.129988e+07</td>\n",
       "      <td>5105293.33</td>\n",
       "      <td>46534.0</td>\n",
       "    </tr>\n",
       "    <tr>\n",
       "      <th>Telefones p/ Casa e Escritório</th>\n",
       "      <td>5.115810e+03</td>\n",
       "      <td>1694.56</td>\n",
       "      <td>232.0</td>\n",
       "    </tr>\n",
       "    <tr>\n",
       "      <th>VCD &amp; DVD</th>\n",
       "      <td>2.844942e+06</td>\n",
       "      <td>1306352.87</td>\n",
       "      <td>45310.0</td>\n",
       "    </tr>\n",
       "    <tr>\n",
       "      <th>Ventiladores</th>\n",
       "      <td>4.174184e+05</td>\n",
       "      <td>172580.46</td>\n",
       "      <td>3660.0</td>\n",
       "    </tr>\n",
       "    <tr>\n",
       "      <th>Water Heaters</th>\n",
       "      <td>4.149565e+05</td>\n",
       "      <td>179707.89</td>\n",
       "      <td>1555.0</td>\n",
       "    </tr>\n",
       "  </tbody>\n",
       "</table>\n",
       "</div>"
      ],
      "text/plain": [
       "                                PrecoUnitario  Custo Unitário  Qtd. Vendida\n",
       "Categoria                                                                  \n",
       "Acessórios para Celular          1.195908e+04         3962.44         157.0\n",
       "Acessórios para Computador       1.970120e+04         6527.25         364.0\n",
       "Acessórios para Câmeras          5.532685e+06      1851338.64       27386.0\n",
       "Ar Condicionado                  4.388331e+04        14539.68         158.0\n",
       "Cafeteira                        3.867180e+05       140084.75         778.0\n",
       "Caneta Gravadora                 8.433613e+05       383960.22        8865.0\n",
       "Car Video                        1.270690e+05        42340.88         283.0\n",
       "Games                            2.599471e+06      1190287.08       92601.0\n",
       "Headphone Bluetooth              6.578594e+05       261659.19       10017.0\n",
       "Impressoras, Scanners & Fax      3.063780e+05       101852.64        2322.0\n",
       "Jogos de Tabuleiro               5.704648e+05       247120.06      131520.0\n",
       "Laptops                          9.648579e+05       474357.60        4629.0\n",
       "MP4&MP3                          2.046019e+05        85454.20        2906.0\n",
       "Monitores                        5.250612e+06      1940996.37       23535.0\n",
       "Movie DVD                        7.942562e+04        35371.97        2277.0\n",
       "Sistema de Som                   1.129988e+07      5105293.33       46534.0\n",
       "Telefones p/ Casa e Escritório   5.115810e+03         1694.56         232.0\n",
       "VCD & DVD                        2.844942e+06      1306352.87       45310.0\n",
       "Ventiladores                     4.174184e+05       172580.46        3660.0\n",
       "Water Heaters                    4.149565e+05       179707.89        1555.0"
      ]
     },
     "execution_count": 12,
     "metadata": {},
     "output_type": "execute_result"
    }
   ],
   "source": [
    "avaliar2 = demo.groupby('Categoria').sum()\n",
    "avaliar2"
   ]
  },
  {
   "cell_type": "code",
   "execution_count": 13,
   "id": "ec9cc4c6",
   "metadata": {},
   "outputs": [
    {
     "data": {
      "text/plain": [
       "Index(['Acessórios para Celular', 'Acessórios para Computador',\n",
       "       'Acessórios para Câmeras', 'Ar Condicionado', 'Cafeteira',\n",
       "       'Caneta Gravadora', 'Car Video', 'Games', 'Headphone Bluetooth',\n",
       "       'Impressoras, Scanners & Fax', 'Jogos de Tabuleiro', 'Laptops',\n",
       "       'MP4&MP3', 'Monitores', 'Movie DVD', 'Sistema de Som',\n",
       "       'Telefones p/ Casa e Escritório', 'VCD & DVD', 'Ventiladores',\n",
       "       'Water Heaters'],\n",
       "      dtype='object', name='Categoria')"
      ]
     },
     "execution_count": 13,
     "metadata": {},
     "output_type": "execute_result"
    }
   ],
   "source": [
    "avaliar2.index"
   ]
  },
  {
   "cell_type": "markdown",
   "id": "e1b4e96e",
   "metadata": {},
   "source": [
    "### Faremos uma lista do tipo de categoria que tem no nosso arquivo."
   ]
  },
  {
   "cell_type": "code",
   "execution_count": 14,
   "id": "a884907d",
   "metadata": {},
   "outputs": [
    {
     "data": {
      "text/plain": [
       "['Acessórios para Celular',\n",
       " 'Acessórios para Computador',\n",
       " 'Acessórios para Câmeras',\n",
       " 'Ar Condicionado',\n",
       " 'Cafeteira',\n",
       " 'Caneta Gravadora',\n",
       " 'Car Video',\n",
       " 'Games',\n",
       " 'Headphone Bluetooth',\n",
       " 'Impressoras, Scanners & Fax',\n",
       " 'Jogos de Tabuleiro',\n",
       " 'Laptops',\n",
       " 'MP4&MP3',\n",
       " 'Monitores',\n",
       " 'Movie DVD',\n",
       " 'Sistema de Som',\n",
       " 'Telefones p/ Casa e Escritório',\n",
       " 'VCD & DVD',\n",
       " 'Ventiladores',\n",
       " 'Water Heaters']"
      ]
     },
     "execution_count": 14,
     "metadata": {},
     "output_type": "execute_result"
    }
   ],
   "source": [
    "lista_categoria = []\n",
    "\n",
    "for x in avaliar2.index:\n",
    "    lista_categoria.append(x)\n",
    "\n",
    "lista_categoria"
   ]
  },
  {
   "cell_type": "code",
   "execution_count": 15,
   "id": "e92568da",
   "metadata": {},
   "outputs": [
    {
     "data": {
      "text/plain": [
       "array(['Litware ', 'Litware', 'Contoso', 'Hashtag Toys',\n",
       "       'Southridge Video', 'Northwind Traders', 'Proseware',\n",
       "       'Wide World Importers', 'Contoso '], dtype=object)"
      ]
     },
     "execution_count": 15,
     "metadata": {},
     "output_type": "execute_result"
    }
   ],
   "source": [
    "demo['Marca'].unique()"
   ]
  },
  {
   "cell_type": "code",
   "execution_count": 16,
   "id": "5cf34c44",
   "metadata": {},
   "outputs": [
    {
     "data": {
      "text/plain": [
       "['Litware ',\n",
       " 'Litware',\n",
       " 'Contoso',\n",
       " 'Hashtag Toys',\n",
       " 'Southridge Video',\n",
       " 'Northwind Traders',\n",
       " 'Proseware',\n",
       " 'Wide World Importers',\n",
       " 'Contoso ']"
      ]
     },
     "execution_count": 16,
     "metadata": {},
     "output_type": "execute_result"
    }
   ],
   "source": [
    "lista_Marca = []\n",
    "\n",
    "for x in demo['Marca'].unique():\n",
    "    lista_Marca.append(x)\n",
    "\n",
    "lista_Marca"
   ]
  },
  {
   "cell_type": "code",
   "execution_count": 17,
   "id": "9209f158",
   "metadata": {},
   "outputs": [
    {
     "name": "stdout",
     "output_type": "stream",
     "text": [
      "0 Litware \n",
      "1 Litware\n",
      "2 Contoso\n",
      "3 Hashtag Toys\n",
      "4 Southridge Video\n",
      "5 Northwind Traders\n",
      "6 Proseware\n",
      "7 Wide World Importers\n",
      "8 Contoso \n"
     ]
    }
   ],
   "source": [
    "for d,i in enumerate(lista_Marca):\n",
    "    print(d, i)\n",
    "\n"
   ]
  },
  {
   "cell_type": "code",
   "execution_count": 29,
   "id": "ec9ddbae",
   "metadata": {},
   "outputs": [
    {
     "data": {
      "text/plain": [
       "['Litware',\n",
       " 'Contoso',\n",
       " 'Hashtag Toys',\n",
       " 'Southridge Video',\n",
       " 'Northwind Traders',\n",
       " 'Proseware',\n",
       " 'Wide World Importers']"
      ]
     },
     "execution_count": 29,
     "metadata": {},
     "output_type": "execute_result"
    }
   ],
   "source": [
    "lista_marca = []\n",
    "\n",
    "for x in lista_Marca:\n",
    "    if x == 'Litware ' or x == 'Contoso ':\n",
    "        continue\n",
    "    else:\n",
    "        lista_marca.append(x)\n",
    "        \n",
    "lista_marca"
   ]
  },
  {
   "cell_type": "code",
   "execution_count": 37,
   "id": "0cc0ef3a",
   "metadata": {},
   "outputs": [
    {
     "data": {
      "text/html": [
       "<div>\n",
       "<style scoped>\n",
       "    .dataframe tbody tr th:only-of-type {\n",
       "        vertical-align: middle;\n",
       "    }\n",
       "\n",
       "    .dataframe tbody tr th {\n",
       "        vertical-align: top;\n",
       "    }\n",
       "\n",
       "    .dataframe thead th {\n",
       "        text-align: right;\n",
       "    }\n",
       "</style>\n",
       "<table border=\"1\" class=\"dataframe\">\n",
       "  <thead>\n",
       "    <tr style=\"text-align: right;\">\n",
       "      <th></th>\n",
       "      <th>PrecoUnitario</th>\n",
       "      <th>Custo Unitário</th>\n",
       "      <th>Qtd. Vendida</th>\n",
       "    </tr>\n",
       "    <tr>\n",
       "      <th>Nome Cliente</th>\n",
       "      <th></th>\n",
       "      <th></th>\n",
       "      <th></th>\n",
       "    </tr>\n",
       "  </thead>\n",
       "  <tbody>\n",
       "    <tr>\n",
       "      <th>Adams, Aaron</th>\n",
       "      <td>1207.120</td>\n",
       "      <td>478.62</td>\n",
       "      <td>16.0</td>\n",
       "    </tr>\n",
       "    <tr>\n",
       "      <th>Adams, Adam</th>\n",
       "      <td>3198.660</td>\n",
       "      <td>1394.47</td>\n",
       "      <td>21.0</td>\n",
       "    </tr>\n",
       "    <tr>\n",
       "      <th>Adams, Alex</th>\n",
       "      <td>1146.110</td>\n",
       "      <td>467.01</td>\n",
       "      <td>13.0</td>\n",
       "    </tr>\n",
       "    <tr>\n",
       "      <th>Adams, Alexandra</th>\n",
       "      <td>79.800</td>\n",
       "      <td>36.70</td>\n",
       "      <td>1.0</td>\n",
       "    </tr>\n",
       "    <tr>\n",
       "      <th>Adams, Allison</th>\n",
       "      <td>3829.880</td>\n",
       "      <td>1341.03</td>\n",
       "      <td>35.0</td>\n",
       "    </tr>\n",
       "    <tr>\n",
       "      <th>...</th>\n",
       "      <td>...</td>\n",
       "      <td>...</td>\n",
       "      <td>...</td>\n",
       "    </tr>\n",
       "    <tr>\n",
       "      <th>Zimmerman, Jack</th>\n",
       "      <td>2881.130</td>\n",
       "      <td>1341.34</td>\n",
       "      <td>21.0</td>\n",
       "    </tr>\n",
       "    <tr>\n",
       "      <th>Zimmerman, Jenny</th>\n",
       "      <td>2212.250</td>\n",
       "      <td>752.52</td>\n",
       "      <td>31.0</td>\n",
       "    </tr>\n",
       "    <tr>\n",
       "      <th>Zimmerman, Krystal</th>\n",
       "      <td>1707.260</td>\n",
       "      <td>725.04</td>\n",
       "      <td>24.0</td>\n",
       "    </tr>\n",
       "    <tr>\n",
       "      <th>Zimmerman, Tiffany</th>\n",
       "      <td>1237.648</td>\n",
       "      <td>630.97</td>\n",
       "      <td>38.0</td>\n",
       "    </tr>\n",
       "    <tr>\n",
       "      <th>Zukowski, Jake</th>\n",
       "      <td>1165.430</td>\n",
       "      <td>483.44</td>\n",
       "      <td>14.0</td>\n",
       "    </tr>\n",
       "  </tbody>\n",
       "</table>\n",
       "<p>18334 rows × 3 columns</p>\n",
       "</div>"
      ],
      "text/plain": [
       "                    PrecoUnitario  Custo Unitário  Qtd. Vendida\n",
       "Nome Cliente                                                   \n",
       "Adams, Aaron             1207.120          478.62          16.0\n",
       "Adams, Adam              3198.660         1394.47          21.0\n",
       "Adams, Alex              1146.110          467.01          13.0\n",
       "Adams, Alexandra           79.800           36.70           1.0\n",
       "Adams, Allison           3829.880         1341.03          35.0\n",
       "...                           ...             ...           ...\n",
       "Zimmerman, Jack          2881.130         1341.34          21.0\n",
       "Zimmerman, Jenny         2212.250          752.52          31.0\n",
       "Zimmerman, Krystal       1707.260          725.04          24.0\n",
       "Zimmerman, Tiffany       1237.648          630.97          38.0\n",
       "Zukowski, Jake           1165.430          483.44          14.0\n",
       "\n",
       "[18334 rows x 3 columns]"
      ]
     },
     "execution_count": 37,
     "metadata": {},
     "output_type": "execute_result"
    }
   ],
   "source": [
    "avaliar3 = demo.groupby('Nome Cliente').sum()\n",
    "avaliar3"
   ]
  },
  {
   "cell_type": "code",
   "execution_count": 38,
   "id": "1b002bdb",
   "metadata": {},
   "outputs": [
    {
     "data": {
      "text/plain": [
       "array(['Pinheiro, Vicente', 'Lopez, Marlon', 'Gonzalez, Martin', ...,\n",
       "       'Taylor, Taylor', 'Chander, Karl', 'Diaz, Elizabeth'], dtype=object)"
      ]
     },
     "execution_count": 38,
     "metadata": {},
     "output_type": "execute_result"
    }
   ],
   "source": [
    "demo['Nome Cliente'].unique()"
   ]
  },
  {
   "cell_type": "code",
   "execution_count": 52,
   "id": "4096a7d2",
   "metadata": {},
   "outputs": [
    {
     "data": {
      "text/plain": [
       "1237.648"
      ]
     },
     "execution_count": 52,
     "metadata": {},
     "output_type": "execute_result"
    }
   ],
   "source": [
    "a = demo[demo['Nome Cliente'] == 'Zimmerman, Tiffany']['PrecoUnitario'].sum()\n",
    "a"
   ]
  },
  {
   "cell_type": "markdown",
   "id": "753ea28a",
   "metadata": {},
   "source": [
    "---------------------------------"
   ]
  },
  {
   "cell_type": "code",
   "execution_count": 28,
   "id": "e120db44",
   "metadata": {},
   "outputs": [
    {
     "data": {
      "text/html": [
       "<div>\n",
       "<style scoped>\n",
       "    .dataframe tbody tr th:only-of-type {\n",
       "        vertical-align: middle;\n",
       "    }\n",
       "\n",
       "    .dataframe tbody tr th {\n",
       "        vertical-align: top;\n",
       "    }\n",
       "\n",
       "    .dataframe thead th {\n",
       "        text-align: right;\n",
       "    }\n",
       "</style>\n",
       "<table border=\"1\" class=\"dataframe\">\n",
       "  <thead>\n",
       "    <tr style=\"text-align: right;\">\n",
       "      <th></th>\n",
       "      <th>Data da Venda</th>\n",
       "      <th>Produto</th>\n",
       "      <th>Categoria</th>\n",
       "      <th>PrecoUnitario</th>\n",
       "      <th>Custo Unitário</th>\n",
       "      <th>Marca</th>\n",
       "      <th>Qtd. Vendida</th>\n",
       "      <th>Nome Cliente</th>\n",
       "      <th>Localidade</th>\n",
       "    </tr>\n",
       "  </thead>\n",
       "  <tbody>\n",
       "    <tr>\n",
       "      <th>0</th>\n",
       "      <td>2017-06-01 00:00:00</td>\n",
       "      <td>Sistema de Som 7.1 Channel X711 Prata</td>\n",
       "      <td>Sistema de Som</td>\n",
       "      <td>1109.00</td>\n",
       "      <td>367.43</td>\n",
       "      <td>Litware</td>\n",
       "      <td>1.0</td>\n",
       "      <td>Pinheiro, Vicente</td>\n",
       "      <td>França - Europa</td>\n",
       "    </tr>\n",
       "    <tr>\n",
       "      <th>1</th>\n",
       "      <td>2017-06-01 00:00:00</td>\n",
       "      <td>180 CFM Ventilador de Coluna X450 Preto</td>\n",
       "      <td>Ventiladores</td>\n",
       "      <td>215.62</td>\n",
       "      <td>71.44</td>\n",
       "      <td>Litware</td>\n",
       "      <td>1.0</td>\n",
       "      <td>Lopez, Marlon</td>\n",
       "      <td>Estados Unidos - América do Norte</td>\n",
       "    </tr>\n",
       "    <tr>\n",
       "      <th>2</th>\n",
       "      <td>2017-06-01 00:00:00</td>\n",
       "      <td>180 CFM Ventilador de Coluna X450 Preto</td>\n",
       "      <td>Ventiladores</td>\n",
       "      <td>215.62</td>\n",
       "      <td>71.44</td>\n",
       "      <td>Litware</td>\n",
       "      <td>1.0</td>\n",
       "      <td>Gonzalez, Martin</td>\n",
       "      <td>Chile - América do Sul</td>\n",
       "    </tr>\n",
       "    <tr>\n",
       "      <th>3</th>\n",
       "      <td>2017-06-01 00:00:00</td>\n",
       "      <td>180 CFM Ventilador de Coluna X450 Preto</td>\n",
       "      <td>Ventiladores</td>\n",
       "      <td>215.62</td>\n",
       "      <td>71.44</td>\n",
       "      <td>Litware</td>\n",
       "      <td>1.0</td>\n",
       "      <td>Ruiz, Victor</td>\n",
       "      <td>Alemanha - Europa</td>\n",
       "    </tr>\n",
       "    <tr>\n",
       "      <th>4</th>\n",
       "      <td>2017-06-01 00:00:00</td>\n",
       "      <td>180 CFM Ventilador de Coluna X450 Preto</td>\n",
       "      <td>Ventiladores</td>\n",
       "      <td>215.62</td>\n",
       "      <td>71.44</td>\n",
       "      <td>Litware</td>\n",
       "      <td>5.0</td>\n",
       "      <td>Nelson, Alex</td>\n",
       "      <td>Estados Unidos - América do Norte</td>\n",
       "    </tr>\n",
       "  </tbody>\n",
       "</table>\n",
       "</div>"
      ],
      "text/plain": [
       "         Data da Venda                                  Produto  \\\n",
       "0  2017-06-01 00:00:00    Sistema de Som 7.1 Channel X711 Prata   \n",
       "1  2017-06-01 00:00:00  180 CFM Ventilador de Coluna X450 Preto   \n",
       "2  2017-06-01 00:00:00  180 CFM Ventilador de Coluna X450 Preto   \n",
       "3  2017-06-01 00:00:00  180 CFM Ventilador de Coluna X450 Preto   \n",
       "4  2017-06-01 00:00:00  180 CFM Ventilador de Coluna X450 Preto   \n",
       "\n",
       "        Categoria  PrecoUnitario  Custo Unitário     Marca  Qtd. Vendida  \\\n",
       "0  Sistema de Som        1109.00          367.43  Litware            1.0   \n",
       "1    Ventiladores         215.62           71.44   Litware           1.0   \n",
       "2    Ventiladores         215.62           71.44   Litware           1.0   \n",
       "3    Ventiladores         215.62           71.44   Litware           1.0   \n",
       "4    Ventiladores         215.62           71.44   Litware           5.0   \n",
       "\n",
       "        Nome Cliente                         Localidade  \n",
       "0  Pinheiro, Vicente                    França - Europa  \n",
       "1      Lopez, Marlon  Estados Unidos - América do Norte  \n",
       "2   Gonzalez, Martin             Chile - América do Sul  \n",
       "3       Ruiz, Victor                  Alemanha - Europa  \n",
       "4       Nelson, Alex  Estados Unidos - América do Norte  "
      ]
     },
     "execution_count": 28,
     "metadata": {},
     "output_type": "execute_result"
    }
   ],
   "source": [
    "demo.head()"
   ]
  },
  {
   "cell_type": "markdown",
   "id": "abaf0c2d",
   "metadata": {},
   "source": [
    "### Tratando a coluna Localidade.\n",
    "# 1.9 - Localidade\n"
   ]
  },
  {
   "cell_type": "code",
   "execution_count": null,
   "id": "a5245e77",
   "metadata": {},
   "outputs": [],
   "source": []
  },
  {
   "cell_type": "code",
   "execution_count": null,
   "id": "2f55937f",
   "metadata": {},
   "outputs": [],
   "source": []
  },
  {
   "cell_type": "code",
   "execution_count": null,
   "id": "120b4672",
   "metadata": {},
   "outputs": [],
   "source": []
  },
  {
   "cell_type": "code",
   "execution_count": null,
   "id": "d23a0ec2",
   "metadata": {},
   "outputs": [],
   "source": []
  },
  {
   "cell_type": "code",
   "execution_count": null,
   "id": "e7c98ab1",
   "metadata": {},
   "outputs": [],
   "source": []
  },
  {
   "cell_type": "code",
   "execution_count": null,
   "id": "ae12f725",
   "metadata": {},
   "outputs": [],
   "source": []
  },
  {
   "cell_type": "code",
   "execution_count": null,
   "id": "d80b76a1",
   "metadata": {},
   "outputs": [],
   "source": []
  },
  {
   "cell_type": "code",
   "execution_count": null,
   "id": "d1670a9e",
   "metadata": {},
   "outputs": [],
   "source": []
  },
  {
   "cell_type": "code",
   "execution_count": null,
   "id": "12808660",
   "metadata": {},
   "outputs": [],
   "source": []
  },
  {
   "cell_type": "code",
   "execution_count": null,
   "id": "63782d76",
   "metadata": {},
   "outputs": [],
   "source": []
  },
  {
   "cell_type": "code",
   "execution_count": null,
   "id": "a28aeb29",
   "metadata": {},
   "outputs": [],
   "source": []
  },
  {
   "cell_type": "code",
   "execution_count": null,
   "id": "82b022aa",
   "metadata": {},
   "outputs": [],
   "source": []
  },
  {
   "cell_type": "code",
   "execution_count": null,
   "id": "c346a5fb",
   "metadata": {},
   "outputs": [],
   "source": []
  },
  {
   "cell_type": "code",
   "execution_count": null,
   "id": "b21585fc",
   "metadata": {},
   "outputs": [],
   "source": []
  }
 ],
 "metadata": {
  "kernelspec": {
   "display_name": "Python 3 (ipykernel)",
   "language": "python",
   "name": "python3"
  },
  "language_info": {
   "codemirror_mode": {
    "name": "ipython",
    "version": 3
   },
   "file_extension": ".py",
   "mimetype": "text/x-python",
   "name": "python",
   "nbconvert_exporter": "python",
   "pygments_lexer": "ipython3",
   "version": "3.9.12"
  }
 },
 "nbformat": 4,
 "nbformat_minor": 5
}
