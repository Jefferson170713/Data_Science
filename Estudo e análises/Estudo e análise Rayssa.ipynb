{
 "cells": [
  {
   "cell_type": "code",
   "execution_count": 3,
   "id": "7e62d138",
   "metadata": {},
   "outputs": [],
   "source": [
    "import pandas as pd\n",
    "import numpy as np"
   ]
  },
  {
   "cell_type": "code",
   "execution_count": 4,
   "id": "fd15f319",
   "metadata": {},
   "outputs": [
    {
     "data": {
      "text/html": [
       "<div>\n",
       "<style scoped>\n",
       "    .dataframe tbody tr th:only-of-type {\n",
       "        vertical-align: middle;\n",
       "    }\n",
       "\n",
       "    .dataframe tbody tr th {\n",
       "        vertical-align: top;\n",
       "    }\n",
       "\n",
       "    .dataframe thead th {\n",
       "        text-align: right;\n",
       "    }\n",
       "</style>\n",
       "<table border=\"1\" class=\"dataframe\">\n",
       "  <thead>\n",
       "    <tr style=\"text-align: right;\">\n",
       "      <th></th>\n",
       "      <th>Matrícula</th>\n",
       "      <th>Nome</th>\n",
       "      <th>Concessão</th>\n",
       "      <th>Vigência</th>\n",
       "      <th>NP</th>\n",
       "      <th>Valor da Parcela</th>\n",
       "      <th>Resíduo</th>\n",
       "      <th>Valor Total</th>\n",
       "    </tr>\n",
       "  </thead>\n",
       "  <tbody>\n",
       "    <tr>\n",
       "      <th>0</th>\n",
       "      <td>863328</td>\n",
       "      <td>ADAILTON DE OLIVEIRA FONSECA</td>\n",
       "      <td>2021-11-01</td>\n",
       "      <td>2021-11-01</td>\n",
       "      <td>10</td>\n",
       "      <td>210.90</td>\n",
       "      <td>0</td>\n",
       "      <td>2109.0</td>\n",
       "    </tr>\n",
       "    <tr>\n",
       "      <th>1</th>\n",
       "      <td>455490</td>\n",
       "      <td>ADALBERTO DA SILVA LIMA</td>\n",
       "      <td>2021-11-01</td>\n",
       "      <td>2021-11-01</td>\n",
       "      <td>5</td>\n",
       "      <td>152.50</td>\n",
       "      <td>0</td>\n",
       "      <td>762.5</td>\n",
       "    </tr>\n",
       "    <tr>\n",
       "      <th>2</th>\n",
       "      <td>455490</td>\n",
       "      <td>ADALBERTO DA SILVA LIMA</td>\n",
       "      <td>2021-07-01</td>\n",
       "      <td>2021-07-01</td>\n",
       "      <td>3</td>\n",
       "      <td>152.50</td>\n",
       "      <td>0</td>\n",
       "      <td>457.5</td>\n",
       "    </tr>\n",
       "    <tr>\n",
       "      <th>3</th>\n",
       "      <td>28931</td>\n",
       "      <td>ADALBERTO JUNIOR NUNES MACHADO</td>\n",
       "      <td>2021-12-01</td>\n",
       "      <td>2021-12-01</td>\n",
       "      <td>4</td>\n",
       "      <td>177.25</td>\n",
       "      <td>0</td>\n",
       "      <td>709.0</td>\n",
       "    </tr>\n",
       "    <tr>\n",
       "      <th>4</th>\n",
       "      <td>454019</td>\n",
       "      <td>ADEILSON DA SILVA INACIO</td>\n",
       "      <td>2021-12-01</td>\n",
       "      <td>2021-12-01</td>\n",
       "      <td>10</td>\n",
       "      <td>122.90</td>\n",
       "      <td>0</td>\n",
       "      <td>1229.0</td>\n",
       "    </tr>\n",
       "  </tbody>\n",
       "</table>\n",
       "</div>"
      ],
      "text/plain": [
       "   Matrícula                            Nome  Concessão   Vigência  NP  \\\n",
       "0     863328    ADAILTON DE OLIVEIRA FONSECA 2021-11-01 2021-11-01  10   \n",
       "1     455490         ADALBERTO DA SILVA LIMA 2021-11-01 2021-11-01   5   \n",
       "2     455490         ADALBERTO DA SILVA LIMA 2021-07-01 2021-07-01   3   \n",
       "3      28931  ADALBERTO JUNIOR NUNES MACHADO 2021-12-01 2021-12-01   4   \n",
       "4     454019        ADEILSON DA SILVA INACIO 2021-12-01 2021-12-01  10   \n",
       "\n",
       "   Valor da Parcela  Resíduo  Valor Total  \n",
       "0            210.90        0       2109.0  \n",
       "1            152.50        0        762.5  \n",
       "2            152.50        0        457.5  \n",
       "3            177.25        0        709.0  \n",
       "4            122.90        0       1229.0  "
      ]
     },
     "execution_count": 4,
     "metadata": {},
     "output_type": "execute_result"
    }
   ],
   "source": [
    "df_1 = pd.read_excel('rayssa_pratica_com_python.xlsx')\n",
    "df_1.head()"
   ]
  },
  {
   "cell_type": "code",
   "execution_count": 5,
   "id": "c4ac4ec3",
   "metadata": {},
   "outputs": [
    {
     "name": "stdout",
     "output_type": "stream",
     "text": [
      "<class 'pandas.core.frame.DataFrame'>\n",
      "RangeIndex: 731 entries, 0 to 730\n",
      "Data columns (total 8 columns):\n",
      " #   Column            Non-Null Count  Dtype         \n",
      "---  ------            --------------  -----         \n",
      " 0   Matrícula         731 non-null    int64         \n",
      " 1   Nome              731 non-null    object        \n",
      " 2   Concessão         731 non-null    datetime64[ns]\n",
      " 3   Vigência          731 non-null    datetime64[ns]\n",
      " 4   NP                731 non-null    int64         \n",
      " 5   Valor da Parcela  731 non-null    float64       \n",
      " 6   Resíduo           731 non-null    int64         \n",
      " 7   Valor Total       731 non-null    float64       \n",
      "dtypes: datetime64[ns](2), float64(2), int64(3), object(1)\n",
      "memory usage: 45.8+ KB\n"
     ]
    }
   ],
   "source": [
    "df_1.info()"
   ]
  },
  {
   "cell_type": "code",
   "execution_count": 9,
   "id": "bbebbc20",
   "metadata": {},
   "outputs": [
    {
     "data": {
      "text/html": [
       "<div>\n",
       "<style scoped>\n",
       "    .dataframe tbody tr th:only-of-type {\n",
       "        vertical-align: middle;\n",
       "    }\n",
       "\n",
       "    .dataframe tbody tr th {\n",
       "        vertical-align: top;\n",
       "    }\n",
       "\n",
       "    .dataframe thead th {\n",
       "        text-align: right;\n",
       "    }\n",
       "</style>\n",
       "<table border=\"1\" class=\"dataframe\">\n",
       "  <thead>\n",
       "    <tr style=\"text-align: right;\">\n",
       "      <th></th>\n",
       "      <th>Matrícula</th>\n",
       "      <th>Nome</th>\n",
       "      <th>Concessão</th>\n",
       "      <th>NP</th>\n",
       "      <th>Valor da Parcela</th>\n",
       "      <th>Resíduo</th>\n",
       "      <th>Valor Total</th>\n",
       "    </tr>\n",
       "  </thead>\n",
       "  <tbody>\n",
       "    <tr>\n",
       "      <th>0</th>\n",
       "      <td>863328</td>\n",
       "      <td>ADAILTON DE OLIVEIRA FONSECA</td>\n",
       "      <td>2021-11-01</td>\n",
       "      <td>10</td>\n",
       "      <td>210.90</td>\n",
       "      <td>0</td>\n",
       "      <td>2109.0</td>\n",
       "    </tr>\n",
       "    <tr>\n",
       "      <th>1</th>\n",
       "      <td>455490</td>\n",
       "      <td>ADALBERTO DA SILVA LIMA</td>\n",
       "      <td>2021-11-01</td>\n",
       "      <td>5</td>\n",
       "      <td>152.50</td>\n",
       "      <td>0</td>\n",
       "      <td>762.5</td>\n",
       "    </tr>\n",
       "    <tr>\n",
       "      <th>2</th>\n",
       "      <td>455490</td>\n",
       "      <td>ADALBERTO DA SILVA LIMA</td>\n",
       "      <td>2021-07-01</td>\n",
       "      <td>3</td>\n",
       "      <td>152.50</td>\n",
       "      <td>0</td>\n",
       "      <td>457.5</td>\n",
       "    </tr>\n",
       "    <tr>\n",
       "      <th>3</th>\n",
       "      <td>28931</td>\n",
       "      <td>ADALBERTO JUNIOR NUNES MACHADO</td>\n",
       "      <td>2021-12-01</td>\n",
       "      <td>4</td>\n",
       "      <td>177.25</td>\n",
       "      <td>0</td>\n",
       "      <td>709.0</td>\n",
       "    </tr>\n",
       "    <tr>\n",
       "      <th>4</th>\n",
       "      <td>454019</td>\n",
       "      <td>ADEILSON DA SILVA INACIO</td>\n",
       "      <td>2021-12-01</td>\n",
       "      <td>10</td>\n",
       "      <td>122.90</td>\n",
       "      <td>0</td>\n",
       "      <td>1229.0</td>\n",
       "    </tr>\n",
       "  </tbody>\n",
       "</table>\n",
       "</div>"
      ],
      "text/plain": [
       "   Matrícula                            Nome  Concessão  NP  Valor da Parcela  \\\n",
       "0     863328    ADAILTON DE OLIVEIRA FONSECA 2021-11-01  10            210.90   \n",
       "1     455490         ADALBERTO DA SILVA LIMA 2021-11-01   5            152.50   \n",
       "2     455490         ADALBERTO DA SILVA LIMA 2021-07-01   3            152.50   \n",
       "3      28931  ADALBERTO JUNIOR NUNES MACHADO 2021-12-01   4            177.25   \n",
       "4     454019        ADEILSON DA SILVA INACIO 2021-12-01  10            122.90   \n",
       "\n",
       "   Resíduo  Valor Total  \n",
       "0        0       2109.0  \n",
       "1        0        762.5  \n",
       "2        0        457.5  \n",
       "3        0        709.0  \n",
       "4        0       1229.0  "
      ]
     },
     "execution_count": 9,
     "metadata": {},
     "output_type": "execute_result"
    }
   ],
   "source": [
    "df_1.drop('Vigência', axis=1,inplace=True)\n",
    "df_1.head()"
   ]
  },
  {
   "cell_type": "code",
   "execution_count": 10,
   "id": "68000bc9",
   "metadata": {},
   "outputs": [
    {
     "ename": "AttributeError",
     "evalue": "'DataFrame' object has no attribute 'unique'",
     "output_type": "error",
     "traceback": [
      "\u001b[1;31m---------------------------------------------------------------------------\u001b[0m",
      "\u001b[1;31mAttributeError\u001b[0m                            Traceback (most recent call last)",
      "Input \u001b[1;32mIn [10]\u001b[0m, in \u001b[0;36m<cell line: 1>\u001b[1;34m()\u001b[0m\n\u001b[1;32m----> 1\u001b[0m \u001b[43mdf_1\u001b[49m\u001b[38;5;241;43m.\u001b[39;49m\u001b[43munique\u001b[49m()\n",
      "File \u001b[1;32mC:\\ProgramData\\Anaconda3\\lib\\site-packages\\pandas\\core\\generic.py:5575\u001b[0m, in \u001b[0;36mNDFrame.__getattr__\u001b[1;34m(self, name)\u001b[0m\n\u001b[0;32m   5568\u001b[0m \u001b[38;5;28;01mif\u001b[39;00m (\n\u001b[0;32m   5569\u001b[0m     name \u001b[38;5;129;01mnot\u001b[39;00m \u001b[38;5;129;01min\u001b[39;00m \u001b[38;5;28mself\u001b[39m\u001b[38;5;241m.\u001b[39m_internal_names_set\n\u001b[0;32m   5570\u001b[0m     \u001b[38;5;129;01mand\u001b[39;00m name \u001b[38;5;129;01mnot\u001b[39;00m \u001b[38;5;129;01min\u001b[39;00m \u001b[38;5;28mself\u001b[39m\u001b[38;5;241m.\u001b[39m_metadata\n\u001b[0;32m   5571\u001b[0m     \u001b[38;5;129;01mand\u001b[39;00m name \u001b[38;5;129;01mnot\u001b[39;00m \u001b[38;5;129;01min\u001b[39;00m \u001b[38;5;28mself\u001b[39m\u001b[38;5;241m.\u001b[39m_accessors\n\u001b[0;32m   5572\u001b[0m     \u001b[38;5;129;01mand\u001b[39;00m \u001b[38;5;28mself\u001b[39m\u001b[38;5;241m.\u001b[39m_info_axis\u001b[38;5;241m.\u001b[39m_can_hold_identifiers_and_holds_name(name)\n\u001b[0;32m   5573\u001b[0m ):\n\u001b[0;32m   5574\u001b[0m     \u001b[38;5;28;01mreturn\u001b[39;00m \u001b[38;5;28mself\u001b[39m[name]\n\u001b[1;32m-> 5575\u001b[0m \u001b[38;5;28;01mreturn\u001b[39;00m \u001b[38;5;28;43mobject\u001b[39;49m\u001b[38;5;241;43m.\u001b[39;49m\u001b[38;5;21;43m__getattribute__\u001b[39;49m\u001b[43m(\u001b[49m\u001b[38;5;28;43mself\u001b[39;49m\u001b[43m,\u001b[49m\u001b[43m \u001b[49m\u001b[43mname\u001b[49m\u001b[43m)\u001b[49m\n",
      "\u001b[1;31mAttributeError\u001b[0m: 'DataFrame' object has no attribute 'unique'"
     ]
    }
   ],
   "source": [
    "df_1.unique()"
   ]
  },
  {
   "cell_type": "code",
   "execution_count": null,
   "id": "d89ba473",
   "metadata": {},
   "outputs": [],
   "source": []
  },
  {
   "cell_type": "code",
   "execution_count": null,
   "id": "1a77c2f6",
   "metadata": {},
   "outputs": [],
   "source": []
  },
  {
   "cell_type": "code",
   "execution_count": null,
   "id": "a36d4c73",
   "metadata": {},
   "outputs": [],
   "source": []
  },
  {
   "cell_type": "code",
   "execution_count": null,
   "id": "c03d54e0",
   "metadata": {},
   "outputs": [],
   "source": []
  }
 ],
 "metadata": {
  "kernelspec": {
   "display_name": "Python 3 (ipykernel)",
   "language": "python",
   "name": "python3"
  },
  "language_info": {
   "codemirror_mode": {
    "name": "ipython",
    "version": 3
   },
   "file_extension": ".py",
   "mimetype": "text/x-python",
   "name": "python",
   "nbconvert_exporter": "python",
   "pygments_lexer": "ipython3",
   "version": "3.9.12"
  }
 },
 "nbformat": 4,
 "nbformat_minor": 5
}
