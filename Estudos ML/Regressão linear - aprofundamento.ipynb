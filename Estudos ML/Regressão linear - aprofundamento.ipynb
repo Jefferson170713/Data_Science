{
 "cells": [
  {
   "cell_type": "code",
   "execution_count": 1,
   "id": "e8e8b699",
   "metadata": {},
   "outputs": [],
   "source": [
    "import numpy as np\n",
    "import seaborn as sns\n",
    "import matplotlib.pyplot as plt\n",
    "%matplotlib inline\n",
    "\n",
    "sns.set_style('darkgrid')"
   ]
  },
  {
   "cell_type": "code",
   "execution_count": 2,
   "id": "b541eafc",
   "metadata": {},
   "outputs": [],
   "source": [
    "x = 2 * np.random.rand(100, 1)\n",
    "\n",
    "y = 4 + 3 * x + np.random.randn(100, 1)"
   ]
  },
  {
   "cell_type": "code",
   "execution_count": 4,
   "id": "b388152c",
   "metadata": {},
   "outputs": [
    {
     "data": {
      "text/plain": [
       "<matplotlib.collections.PathCollection at 0x21284da7dc0>"
      ]
     },
     "execution_count": 4,
     "metadata": {},
     "output_type": "execute_result"
    },
    {
     "data": {
      "image/png": "[encoded data removed]",
      "text/plain": [
       "<Figure size 1440x576 with 1 Axes>"
      ]
     },
     "metadata": {},
     "output_type": "display_data"
    }
   ],
   "source": [
    "plt.figure(figsize=(20, 8))\n",
    "\n",
    "plt.scatter(x, y, marker='v')"
   ]
  },
  {
   "cell_type": "code",
   "execution_count": 34,
   "id": "7ea597f1",
   "metadata": {},
   "outputs": [
    {
     "data": {
      "text/plain": [
       "array([[1.00000000e+00, 2.34917730e-01],\n",
       "       [1.00000000e+00, 1.02617738e+00],\n",
       "       [1.00000000e+00, 2.25583869e-01],\n",
       "       [1.00000000e+00, 6.19152598e-01],\n",
       "       [1.00000000e+00, 3.75146601e-01],\n",
       "       [1.00000000e+00, 8.99862970e-01],\n",
       "       [1.00000000e+00, 5.45501488e-01],\n",
       "       [1.00000000e+00, 8.86565084e-01],\n",
       "       [1.00000000e+00, 1.34916511e+00],\n",
       "       [1.00000000e+00, 1.19510182e+00],\n",
       "       [1.00000000e+00, 1.10310583e+00],\n",
       "       [1.00000000e+00, 1.98015603e+00],\n",
       "       [1.00000000e+00, 3.82344488e-02],\n",
       "       [1.00000000e+00, 1.96384775e+00],\n",
       "       [1.00000000e+00, 1.74437106e+00],\n",
       "       [1.00000000e+00, 1.75720140e+00],\n",
       "       [1.00000000e+00, 3.33595136e-01],\n",
       "       [1.00000000e+00, 1.95476842e+00],\n",
       "       [1.00000000e+00, 1.00480664e+00],\n",
       "       [1.00000000e+00, 1.80478059e-01],\n",
       "       [1.00000000e+00, 7.18667547e-01],\n",
       "       [1.00000000e+00, 5.83278184e-01],\n",
       "       [1.00000000e+00, 1.78863868e+00],\n",
       "       [1.00000000e+00, 5.66268931e-02],\n",
       "       [1.00000000e+00, 4.02047833e-02],\n",
       "       [1.00000000e+00, 1.50448149e+00],\n",
       "       [1.00000000e+00, 1.92470259e+00],\n",
       "       [1.00000000e+00, 3.02672945e-01],\n",
       "       [1.00000000e+00, 9.08042717e-01],\n",
       "       [1.00000000e+00, 9.41957762e-01],\n",
       "       [1.00000000e+00, 3.63470351e-01],\n",
       "       [1.00000000e+00, 4.65164209e-01],\n",
       "       [1.00000000e+00, 3.46406552e-02],\n",
       "       [1.00000000e+00, 4.19799599e-01],\n",
       "       [1.00000000e+00, 7.48088197e-01],\n",
       "       [1.00000000e+00, 1.35344049e-02],\n",
       "       [1.00000000e+00, 1.05079058e-01],\n",
       "       [1.00000000e+00, 1.27331383e+00],\n",
       "       [1.00000000e+00, 4.96189004e-02],\n",
       "       [1.00000000e+00, 3.61209070e-01],\n",
       "       [1.00000000e+00, 1.76666122e+00],\n",
       "       [1.00000000e+00, 4.54396416e-01],\n",
       "       [1.00000000e+00, 1.02629232e+00],\n",
       "       [1.00000000e+00, 1.34792072e+00],\n",
       "       [1.00000000e+00, 1.04196988e+00],\n",
       "       [1.00000000e+00, 8.18333768e-01],\n",
       "       [1.00000000e+00, 3.12328628e-01],\n",
       "       [1.00000000e+00, 9.34884061e-01],\n",
       "       [1.00000000e+00, 3.00207047e-03],\n",
       "       [1.00000000e+00, 9.25588828e-01],\n",
       "       [1.00000000e+00, 8.57577911e-01],\n",
       "       [1.00000000e+00, 6.87690130e-01],\n",
       "       [1.00000000e+00, 1.89104708e+00],\n",
       "       [1.00000000e+00, 3.56157258e-01],\n",
       "       [1.00000000e+00, 1.06574926e+00],\n",
       "       [1.00000000e+00, 1.08133898e+00],\n",
       "       [1.00000000e+00, 2.45729313e-01],\n",
       "       [1.00000000e+00, 1.40354467e+00],\n",
       "       [1.00000000e+00, 4.96007212e-01],\n",
       "       [1.00000000e+00, 8.68949382e-01],\n",
       "       [1.00000000e+00, 7.99621499e-01],\n",
       "       [1.00000000e+00, 1.21029634e+00],\n",
       "       [1.00000000e+00, 1.57716191e-02],\n",
       "       [1.00000000e+00, 1.56800989e-01],\n",
       "       [1.00000000e+00, 1.94260510e+00],\n",
       "       [1.00000000e+00, 3.46852219e-02],\n",
       "       [1.00000000e+00, 1.14701383e+00],\n",
       "       [1.00000000e+00, 1.27756965e+00],\n",
       "       [1.00000000e+00, 1.24463176e+00],\n",
       "       [1.00000000e+00, 7.26499101e-01],\n",
       "       [1.00000000e+00, 1.42766277e+00],\n",
       "       [1.00000000e+00, 1.44382984e+00],\n",
       "       [1.00000000e+00, 4.41635169e-01],\n",
       "       [1.00000000e+00, 8.69771086e-01],\n",
       "       [1.00000000e+00, 9.07548063e-01],\n",
       "       [1.00000000e+00, 1.72728897e+00],\n",
       "       [1.00000000e+00, 8.76790284e-01],\n",
       "       [1.00000000e+00, 4.66037664e-01],\n",
       "       [1.00000000e+00, 5.34597770e-01],\n",
       "       [1.00000000e+00, 9.35051404e-01],\n",
       "       [1.00000000e+00, 2.97847652e-01],\n",
       "       [1.00000000e+00, 1.82283861e+00],\n",
       "       [1.00000000e+00, 2.72743175e-01],\n",
       "       [1.00000000e+00, 7.62984920e-01],\n",
       "       [1.00000000e+00, 1.65706445e+00],\n",
       "       [1.00000000e+00, 4.56884521e-01],\n",
       "       [1.00000000e+00, 1.80882999e+00],\n",
       "       [1.00000000e+00, 6.61468299e-01],\n",
       "       [1.00000000e+00, 1.84533741e+00],\n",
       "       [1.00000000e+00, 8.11516489e-01],\n",
       "       [1.00000000e+00, 1.65988677e+00],\n",
       "       [1.00000000e+00, 4.42081349e-01],\n",
       "       [1.00000000e+00, 1.55784000e+00],\n",
       "       [1.00000000e+00, 5.75253430e-01],\n",
       "       [1.00000000e+00, 7.27643124e-01],\n",
       "       [1.00000000e+00, 1.25693489e+00],\n",
       "       [1.00000000e+00, 1.49830952e-03],\n",
       "       [1.00000000e+00, 1.11774971e+00],\n",
       "       [1.00000000e+00, 1.55897869e+00],\n",
       "       [1.00000000e+00, 1.53451261e+00]])"
      ]
     },
     "execution_count": 34,
     "metadata": {},
     "output_type": "execute_result"
    }
   ],
   "source": [
    "x_b = np.c_[np.ones((100,1)), x]\n",
    "x_b"
   ]
  },
  {
   "cell_type": "code",
   "execution_count": null,
   "id": "4d535552",
   "metadata": {},
   "outputs": [],
   "source": []
  },
  {
   "cell_type": "code",
   "execution_count": null,
   "id": "e85dbbac",
   "metadata": {},
   "outputs": [],
   "source": []
  },
  {
   "cell_type": "code",
   "execution_count": null,
   "id": "e7251955",
   "metadata": {},
   "outputs": [],
   "source": []
  },
  {
   "cell_type": "code",
   "execution_count": null,
   "id": "0d4c4f0f",
   "metadata": {},
   "outputs": [],
   "source": []
  },
  {
   "cell_type": "code",
   "execution_count": null,
   "id": "1d5f181f",
   "metadata": {},
   "outputs": [],
   "source": []
  },
  {
   "cell_type": "code",
   "execution_count": null,
   "id": "3c324c7a",
   "metadata": {},
   "outputs": [],
   "source": []
  },
  {
   "cell_type": "code",
   "execution_count": null,
   "id": "571123a7",
   "metadata": {},
   "outputs": [],
   "source": []
  },
  {
   "cell_type": "code",
   "execution_count": null,
   "id": "c00be99e",
   "metadata": {},
   "outputs": [],
   "source": []
  },
  {
   "cell_type": "code",
   "execution_count": null,
   "id": "816eb909",
   "metadata": {},
   "outputs": [],
   "source": []
  },
  {
   "cell_type": "code",
   "execution_count": null,
   "id": "00160d85",
   "metadata": {},
   "outputs": [],
   "source": []
  },
  {
   "cell_type": "code",
   "execution_count": null,
   "id": "d7471317",
   "metadata": {},
   "outputs": [],
   "source": []
  }
 ],
 "metadata": {
  "kernelspec": {
   "display_name": "Python 3 (ipykernel)",
   "language": "python",
   "name": "python3"
  },
  "language_info": {
   "codemirror_mode": {
    "name": "ipython",
    "version": 3
   },
   "file_extension": ".py",
   "mimetype": "text/x-python",
   "name": "python",
   "nbconvert_exporter": "python",
   "pygments_lexer": "ipython3",
   "version": "3.9.12"
  }
 },
 "nbformat": 4,
 "nbformat_minor": 5
}
