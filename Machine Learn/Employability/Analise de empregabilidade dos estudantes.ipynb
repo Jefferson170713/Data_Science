{
 "cells": [
  {
   "cell_type": "code",
   "execution_count": null,
   "id": "840dc646",
   "metadata": {},
   "outputs": [],
   "source": [
    "\"\"\"\n",
    "*****************************[ J ]****************************************\n",
    "Jefferson de Almeida. \n",
    "Eng.Produção\n",
    "*************************************************************************\n",
    "\"\"\""
   ]
  },
  {
   "cell_type": "code",
   "execution_count": 55,
   "id": "9b7c4017",
   "metadata": {},
   "outputs": [],
   "source": [
    "import pandas as pd\n",
    "import numpy as np\n",
    "import seaborn as sns\n",
    "import matplotlib.pyplot as plt\n",
    "\n",
    "sns.set_style('whitegrid')"
   ]
  },
  {
   "cell_type": "code",
   "execution_count": 56,
   "id": "9ead005c",
   "metadata": {},
   "outputs": [
    {
     "data": {
      "text/html": [
       "<div>\n",
       "<style scoped>\n",
       "    .dataframe tbody tr th:only-of-type {\n",
       "        vertical-align: middle;\n",
       "    }\n",
       "\n",
       "    .dataframe tbody tr th {\n",
       "        vertical-align: top;\n",
       "    }\n",
       "\n",
       "    .dataframe thead th {\n",
       "        text-align: right;\n",
       "    }\n",
       "</style>\n",
       "<table border=\"1\" class=\"dataframe\">\n",
       "  <thead>\n",
       "    <tr style=\"text-align: right;\">\n",
       "      <th></th>\n",
       "      <th>GENERAL APPEARANCE</th>\n",
       "      <th>MANNER OF SPEAKING</th>\n",
       "      <th>PHYSICAL CONDITION</th>\n",
       "      <th>MENTAL ALERTNESS</th>\n",
       "      <th>SELF-CONFIDENCE</th>\n",
       "      <th>ABILITY TO PRESENT IDEAS</th>\n",
       "      <th>COMMUNICATION SKILLS</th>\n",
       "      <th>Student Performance Rating</th>\n",
       "      <th>CLASS</th>\n",
       "    </tr>\n",
       "    <tr>\n",
       "      <th>Name of Student</th>\n",
       "      <th></th>\n",
       "      <th></th>\n",
       "      <th></th>\n",
       "      <th></th>\n",
       "      <th></th>\n",
       "      <th></th>\n",
       "      <th></th>\n",
       "      <th></th>\n",
       "      <th></th>\n",
       "    </tr>\n",
       "  </thead>\n",
       "  <tbody>\n",
       "    <tr>\n",
       "      <th>Student 1</th>\n",
       "      <td>4</td>\n",
       "      <td>5</td>\n",
       "      <td>4</td>\n",
       "      <td>5</td>\n",
       "      <td>5</td>\n",
       "      <td>5</td>\n",
       "      <td>5</td>\n",
       "      <td>5</td>\n",
       "      <td>Employable</td>\n",
       "    </tr>\n",
       "    <tr>\n",
       "      <th>Student 2</th>\n",
       "      <td>4</td>\n",
       "      <td>4</td>\n",
       "      <td>4</td>\n",
       "      <td>4</td>\n",
       "      <td>4</td>\n",
       "      <td>4</td>\n",
       "      <td>3</td>\n",
       "      <td>5</td>\n",
       "      <td>Employable</td>\n",
       "    </tr>\n",
       "    <tr>\n",
       "      <th>Student 3</th>\n",
       "      <td>4</td>\n",
       "      <td>3</td>\n",
       "      <td>3</td>\n",
       "      <td>3</td>\n",
       "      <td>3</td>\n",
       "      <td>3</td>\n",
       "      <td>2</td>\n",
       "      <td>5</td>\n",
       "      <td>LessEmployable</td>\n",
       "    </tr>\n",
       "    <tr>\n",
       "      <th>Student 4</th>\n",
       "      <td>3</td>\n",
       "      <td>3</td>\n",
       "      <td>3</td>\n",
       "      <td>2</td>\n",
       "      <td>3</td>\n",
       "      <td>3</td>\n",
       "      <td>3</td>\n",
       "      <td>5</td>\n",
       "      <td>LessEmployable</td>\n",
       "    </tr>\n",
       "    <tr>\n",
       "      <th>Student 5</th>\n",
       "      <td>4</td>\n",
       "      <td>4</td>\n",
       "      <td>3</td>\n",
       "      <td>3</td>\n",
       "      <td>4</td>\n",
       "      <td>4</td>\n",
       "      <td>3</td>\n",
       "      <td>5</td>\n",
       "      <td>Employable</td>\n",
       "    </tr>\n",
       "  </tbody>\n",
       "</table>\n",
       "</div>"
      ],
      "text/plain": [
       "                 GENERAL APPEARANCE  MANNER OF SPEAKING  PHYSICAL CONDITION  \\\n",
       "Name of Student                                                               \n",
       "Student 1                         4                   5                   4   \n",
       "Student 2                         4                   4                   4   \n",
       "Student 3                         4                   3                   3   \n",
       "Student 4                         3                   3                   3   \n",
       "Student 5                         4                   4                   3   \n",
       "\n",
       "                 MENTAL ALERTNESS  SELF-CONFIDENCE  ABILITY TO PRESENT IDEAS  \\\n",
       "Name of Student                                                                \n",
       "Student 1                       5                5                         5   \n",
       "Student 2                       4                4                         4   \n",
       "Student 3                       3                3                         3   \n",
       "Student 4                       2                3                         3   \n",
       "Student 5                       3                4                         4   \n",
       "\n",
       "                 COMMUNICATION SKILLS  Student Performance Rating  \\\n",
       "Name of Student                                                     \n",
       "Student 1                           5                           5   \n",
       "Student 2                           3                           5   \n",
       "Student 3                           2                           5   \n",
       "Student 4                           3                           5   \n",
       "Student 5                           3                           5   \n",
       "\n",
       "                          CLASS  \n",
       "Name of Student                  \n",
       "Student 1            Employable  \n",
       "Student 2            Employable  \n",
       "Student 3        LessEmployable  \n",
       "Student 4        LessEmployable  \n",
       "Student 5            Employable  "
      ]
     },
     "execution_count": 56,
     "metadata": {},
     "output_type": "execute_result"
    }
   ],
   "source": [
    "df = pd.read_excel('Student-Employability-Datasets.xlsx', index_col='Name of Student')\n",
    "df.head()"
   ]
  },
  {
   "cell_type": "markdown",
   "id": "6288aaaf",
   "metadata": {},
   "source": [
    "## 1.0 - Análise exploratória dos dados.\n",
    "    Informações sobre o dataframe.\n",
    "    Observar se existe valores nulos."
   ]
  },
  {
   "cell_type": "code",
   "execution_count": 57,
   "id": "f6f6a4dd",
   "metadata": {},
   "outputs": [
    {
     "name": "stdout",
     "output_type": "stream",
     "text": [
      "<class 'pandas.core.frame.DataFrame'>\n",
      "Index: 2982 entries, Student 1 to Student 3000\n",
      "Data columns (total 9 columns):\n",
      " #   Column                      Non-Null Count  Dtype \n",
      "---  ------                      --------------  ----- \n",
      " 0   GENERAL APPEARANCE          2982 non-null   int64 \n",
      " 1   MANNER OF SPEAKING          2982 non-null   int64 \n",
      " 2   PHYSICAL CONDITION          2982 non-null   int64 \n",
      " 3   MENTAL ALERTNESS            2982 non-null   int64 \n",
      " 4   SELF-CONFIDENCE             2982 non-null   int64 \n",
      " 5   ABILITY TO PRESENT IDEAS    2982 non-null   int64 \n",
      " 6   COMMUNICATION SKILLS        2982 non-null   int64 \n",
      " 7   Student Performance Rating  2982 non-null   int64 \n",
      " 8   CLASS                       2982 non-null   object\n",
      "dtypes: int64(8), object(1)\n",
      "memory usage: 233.0+ KB\n"
     ]
    }
   ],
   "source": [
    "df.info()"
   ]
  },
  {
   "cell_type": "code",
   "execution_count": 58,
   "id": "d9866332",
   "metadata": {},
   "outputs": [
    {
     "data": {
      "text/plain": [
       "GENERAL APPEARANCE            0\n",
       "MANNER OF SPEAKING            0\n",
       "PHYSICAL CONDITION            0\n",
       "MENTAL ALERTNESS              0\n",
       "SELF-CONFIDENCE               0\n",
       "ABILITY TO PRESENT IDEAS      0\n",
       "COMMUNICATION SKILLS          0\n",
       "Student Performance Rating    0\n",
       "CLASS                         0\n",
       "dtype: int64"
      ]
     },
     "execution_count": 58,
     "metadata": {},
     "output_type": "execute_result"
    }
   ],
   "source": [
    "df.isnull().sum()"
   ]
  },
  {
   "cell_type": "code",
   "execution_count": 65,
   "id": "d8136d08",
   "metadata": {},
   "outputs": [
    {
     "data": {
      "text/plain": [
       "(2982, 9)"
      ]
     },
     "execution_count": 65,
     "metadata": {},
     "output_type": "execute_result"
    }
   ],
   "source": [
    "df.shape"
   ]
  },
  {
   "cell_type": "code",
   "execution_count": 59,
   "id": "3c50462c",
   "metadata": {},
   "outputs": [
    {
     "data": {
      "text/plain": [
       "array(['Employable', 'LessEmployable'], dtype=object)"
      ]
     },
     "execution_count": 59,
     "metadata": {},
     "output_type": "execute_result"
    }
   ],
   "source": [
    "df['CLASS'].unique()\n",
    "# Como só tem dois valores, este será nossa label que iremos prever."
   ]
  },
  {
   "cell_type": "code",
   "execution_count": 60,
   "id": "2d60c4e4",
   "metadata": {},
   "outputs": [
    {
     "data": {
      "text/plain": [
       "count           2982\n",
       "unique             2\n",
       "top       Employable\n",
       "freq            1729\n",
       "Name: CLASS, dtype: object"
      ]
     },
     "execution_count": 60,
     "metadata": {},
     "output_type": "execute_result"
    }
   ],
   "source": [
    "df['CLASS'].describe()"
   ]
  },
  {
   "cell_type": "code",
   "execution_count": 61,
   "id": "6a17068b",
   "metadata": {},
   "outputs": [
    {
     "data": {
      "text/html": [
       "<div>\n",
       "<style scoped>\n",
       "    .dataframe tbody tr th:only-of-type {\n",
       "        vertical-align: middle;\n",
       "    }\n",
       "\n",
       "    .dataframe tbody tr th {\n",
       "        vertical-align: top;\n",
       "    }\n",
       "\n",
       "    .dataframe thead th {\n",
       "        text-align: right;\n",
       "    }\n",
       "</style>\n",
       "<table border=\"1\" class=\"dataframe\">\n",
       "  <thead>\n",
       "    <tr style=\"text-align: right;\">\n",
       "      <th></th>\n",
       "      <th>GENERAL APPEARANCE</th>\n",
       "      <th>MANNER OF SPEAKING</th>\n",
       "      <th>PHYSICAL CONDITION</th>\n",
       "      <th>MENTAL ALERTNESS</th>\n",
       "      <th>SELF-CONFIDENCE</th>\n",
       "      <th>ABILITY TO PRESENT IDEAS</th>\n",
       "      <th>COMMUNICATION SKILLS</th>\n",
       "      <th>Student Performance Rating</th>\n",
       "    </tr>\n",
       "  </thead>\n",
       "  <tbody>\n",
       "    <tr>\n",
       "      <th>count</th>\n",
       "      <td>2982.000000</td>\n",
       "      <td>2982.000000</td>\n",
       "      <td>2982.000000</td>\n",
       "      <td>2982.000000</td>\n",
       "      <td>2982.000000</td>\n",
       "      <td>2982.000000</td>\n",
       "      <td>2982.000000</td>\n",
       "      <td>2982.000000</td>\n",
       "    </tr>\n",
       "    <tr>\n",
       "      <th>mean</th>\n",
       "      <td>4.246814</td>\n",
       "      <td>3.884641</td>\n",
       "      <td>3.972166</td>\n",
       "      <td>3.962777</td>\n",
       "      <td>3.910798</td>\n",
       "      <td>3.813883</td>\n",
       "      <td>3.525486</td>\n",
       "      <td>4.610664</td>\n",
       "    </tr>\n",
       "    <tr>\n",
       "      <th>std</th>\n",
       "      <td>0.678501</td>\n",
       "      <td>0.757013</td>\n",
       "      <td>0.744135</td>\n",
       "      <td>0.781982</td>\n",
       "      <td>0.807602</td>\n",
       "      <td>0.739390</td>\n",
       "      <td>0.743881</td>\n",
       "      <td>0.692845</td>\n",
       "    </tr>\n",
       "    <tr>\n",
       "      <th>min</th>\n",
       "      <td>2.000000</td>\n",
       "      <td>2.000000</td>\n",
       "      <td>2.000000</td>\n",
       "      <td>2.000000</td>\n",
       "      <td>2.000000</td>\n",
       "      <td>2.000000</td>\n",
       "      <td>2.000000</td>\n",
       "      <td>3.000000</td>\n",
       "    </tr>\n",
       "    <tr>\n",
       "      <th>25%</th>\n",
       "      <td>4.000000</td>\n",
       "      <td>3.000000</td>\n",
       "      <td>3.000000</td>\n",
       "      <td>3.000000</td>\n",
       "      <td>3.000000</td>\n",
       "      <td>3.000000</td>\n",
       "      <td>3.000000</td>\n",
       "      <td>4.000000</td>\n",
       "    </tr>\n",
       "    <tr>\n",
       "      <th>50%</th>\n",
       "      <td>4.000000</td>\n",
       "      <td>4.000000</td>\n",
       "      <td>4.000000</td>\n",
       "      <td>4.000000</td>\n",
       "      <td>4.000000</td>\n",
       "      <td>4.000000</td>\n",
       "      <td>3.000000</td>\n",
       "      <td>5.000000</td>\n",
       "    </tr>\n",
       "    <tr>\n",
       "      <th>75%</th>\n",
       "      <td>5.000000</td>\n",
       "      <td>4.000000</td>\n",
       "      <td>5.000000</td>\n",
       "      <td>5.000000</td>\n",
       "      <td>5.000000</td>\n",
       "      <td>4.000000</td>\n",
       "      <td>4.000000</td>\n",
       "      <td>5.000000</td>\n",
       "    </tr>\n",
       "    <tr>\n",
       "      <th>max</th>\n",
       "      <td>5.000000</td>\n",
       "      <td>5.000000</td>\n",
       "      <td>5.000000</td>\n",
       "      <td>5.000000</td>\n",
       "      <td>5.000000</td>\n",
       "      <td>5.000000</td>\n",
       "      <td>5.000000</td>\n",
       "      <td>5.000000</td>\n",
       "    </tr>\n",
       "  </tbody>\n",
       "</table>\n",
       "</div>"
      ],
      "text/plain": [
       "       GENERAL APPEARANCE  MANNER OF SPEAKING  PHYSICAL CONDITION  \\\n",
       "count         2982.000000         2982.000000         2982.000000   \n",
       "mean             4.246814            3.884641            3.972166   \n",
       "std              0.678501            0.757013            0.744135   \n",
       "min              2.000000            2.000000            2.000000   \n",
       "25%              4.000000            3.000000            3.000000   \n",
       "50%              4.000000            4.000000            4.000000   \n",
       "75%              5.000000            4.000000            5.000000   \n",
       "max              5.000000            5.000000            5.000000   \n",
       "\n",
       "       MENTAL ALERTNESS  SELF-CONFIDENCE  ABILITY TO PRESENT IDEAS  \\\n",
       "count       2982.000000      2982.000000               2982.000000   \n",
       "mean           3.962777         3.910798                  3.813883   \n",
       "std            0.781982         0.807602                  0.739390   \n",
       "min            2.000000         2.000000                  2.000000   \n",
       "25%            3.000000         3.000000                  3.000000   \n",
       "50%            4.000000         4.000000                  4.000000   \n",
       "75%            5.000000         5.000000                  4.000000   \n",
       "max            5.000000         5.000000                  5.000000   \n",
       "\n",
       "       COMMUNICATION SKILLS  Student Performance Rating  \n",
       "count           2982.000000                 2982.000000  \n",
       "mean               3.525486                    4.610664  \n",
       "std                0.743881                    0.692845  \n",
       "min                2.000000                    3.000000  \n",
       "25%                3.000000                    4.000000  \n",
       "50%                3.000000                    5.000000  \n",
       "75%                4.000000                    5.000000  \n",
       "max                5.000000                    5.000000  "
      ]
     },
     "execution_count": 61,
     "metadata": {},
     "output_type": "execute_result"
    }
   ],
   "source": [
    "df.describe()"
   ]
  },
  {
   "cell_type": "code",
   "execution_count": 62,
   "id": "d4efe373",
   "metadata": {},
   "outputs": [
    {
     "data": {
      "text/html": [
       "<div>\n",
       "<style scoped>\n",
       "    .dataframe tbody tr th:only-of-type {\n",
       "        vertical-align: middle;\n",
       "    }\n",
       "\n",
       "    .dataframe tbody tr th {\n",
       "        vertical-align: top;\n",
       "    }\n",
       "\n",
       "    .dataframe thead th {\n",
       "        text-align: right;\n",
       "    }\n",
       "</style>\n",
       "<table border=\"1\" class=\"dataframe\">\n",
       "  <thead>\n",
       "    <tr style=\"text-align: right;\">\n",
       "      <th></th>\n",
       "      <th>GENERAL APPEARANCE</th>\n",
       "      <th>MANNER OF SPEAKING</th>\n",
       "      <th>PHYSICAL CONDITION</th>\n",
       "      <th>MENTAL ALERTNESS</th>\n",
       "      <th>SELF-CONFIDENCE</th>\n",
       "      <th>ABILITY TO PRESENT IDEAS</th>\n",
       "      <th>COMMUNICATION SKILLS</th>\n",
       "      <th>Student Performance Rating</th>\n",
       "    </tr>\n",
       "  </thead>\n",
       "  <tbody>\n",
       "    <tr>\n",
       "      <th>GENERAL APPEARANCE</th>\n",
       "      <td>1.000000</td>\n",
       "      <td>0.406823</td>\n",
       "      <td>0.468731</td>\n",
       "      <td>0.495937</td>\n",
       "      <td>0.480360</td>\n",
       "      <td>0.406541</td>\n",
       "      <td>0.371028</td>\n",
       "      <td>-0.087379</td>\n",
       "    </tr>\n",
       "    <tr>\n",
       "      <th>MANNER OF SPEAKING</th>\n",
       "      <td>0.406823</td>\n",
       "      <td>1.000000</td>\n",
       "      <td>0.551092</td>\n",
       "      <td>0.617226</td>\n",
       "      <td>0.549424</td>\n",
       "      <td>0.726366</td>\n",
       "      <td>0.622969</td>\n",
       "      <td>0.072317</td>\n",
       "    </tr>\n",
       "    <tr>\n",
       "      <th>PHYSICAL CONDITION</th>\n",
       "      <td>0.468731</td>\n",
       "      <td>0.551092</td>\n",
       "      <td>1.000000</td>\n",
       "      <td>0.634661</td>\n",
       "      <td>0.663473</td>\n",
       "      <td>0.570402</td>\n",
       "      <td>0.513667</td>\n",
       "      <td>0.041437</td>\n",
       "    </tr>\n",
       "    <tr>\n",
       "      <th>MENTAL ALERTNESS</th>\n",
       "      <td>0.495937</td>\n",
       "      <td>0.617226</td>\n",
       "      <td>0.634661</td>\n",
       "      <td>1.000000</td>\n",
       "      <td>0.675185</td>\n",
       "      <td>0.662191</td>\n",
       "      <td>0.630505</td>\n",
       "      <td>0.073547</td>\n",
       "    </tr>\n",
       "    <tr>\n",
       "      <th>SELF-CONFIDENCE</th>\n",
       "      <td>0.480360</td>\n",
       "      <td>0.549424</td>\n",
       "      <td>0.663473</td>\n",
       "      <td>0.675185</td>\n",
       "      <td>1.000000</td>\n",
       "      <td>0.587900</td>\n",
       "      <td>0.577251</td>\n",
       "      <td>-0.068683</td>\n",
       "    </tr>\n",
       "    <tr>\n",
       "      <th>ABILITY TO PRESENT IDEAS</th>\n",
       "      <td>0.406541</td>\n",
       "      <td>0.726366</td>\n",
       "      <td>0.570402</td>\n",
       "      <td>0.662191</td>\n",
       "      <td>0.587900</td>\n",
       "      <td>1.000000</td>\n",
       "      <td>0.647501</td>\n",
       "      <td>0.192467</td>\n",
       "    </tr>\n",
       "    <tr>\n",
       "      <th>COMMUNICATION SKILLS</th>\n",
       "      <td>0.371028</td>\n",
       "      <td>0.622969</td>\n",
       "      <td>0.513667</td>\n",
       "      <td>0.630505</td>\n",
       "      <td>0.577251</td>\n",
       "      <td>0.647501</td>\n",
       "      <td>1.000000</td>\n",
       "      <td>0.048223</td>\n",
       "    </tr>\n",
       "    <tr>\n",
       "      <th>Student Performance Rating</th>\n",
       "      <td>-0.087379</td>\n",
       "      <td>0.072317</td>\n",
       "      <td>0.041437</td>\n",
       "      <td>0.073547</td>\n",
       "      <td>-0.068683</td>\n",
       "      <td>0.192467</td>\n",
       "      <td>0.048223</td>\n",
       "      <td>1.000000</td>\n",
       "    </tr>\n",
       "  </tbody>\n",
       "</table>\n",
       "</div>"
      ],
      "text/plain": [
       "                            GENERAL APPEARANCE  MANNER OF SPEAKING  \\\n",
       "GENERAL APPEARANCE                    1.000000            0.406823   \n",
       "MANNER OF SPEAKING                    0.406823            1.000000   \n",
       "PHYSICAL CONDITION                    0.468731            0.551092   \n",
       "MENTAL ALERTNESS                      0.495937            0.617226   \n",
       "SELF-CONFIDENCE                       0.480360            0.549424   \n",
       "ABILITY TO PRESENT IDEAS              0.406541            0.726366   \n",
       "COMMUNICATION SKILLS                  0.371028            0.622969   \n",
       "Student Performance Rating           -0.087379            0.072317   \n",
       "\n",
       "                            PHYSICAL CONDITION  MENTAL ALERTNESS  \\\n",
       "GENERAL APPEARANCE                    0.468731          0.495937   \n",
       "MANNER OF SPEAKING                    0.551092          0.617226   \n",
       "PHYSICAL CONDITION                    1.000000          0.634661   \n",
       "MENTAL ALERTNESS                      0.634661          1.000000   \n",
       "SELF-CONFIDENCE                       0.663473          0.675185   \n",
       "ABILITY TO PRESENT IDEAS              0.570402          0.662191   \n",
       "COMMUNICATION SKILLS                  0.513667          0.630505   \n",
       "Student Performance Rating            0.041437          0.073547   \n",
       "\n",
       "                            SELF-CONFIDENCE  ABILITY TO PRESENT IDEAS  \\\n",
       "GENERAL APPEARANCE                 0.480360                  0.406541   \n",
       "MANNER OF SPEAKING                 0.549424                  0.726366   \n",
       "PHYSICAL CONDITION                 0.663473                  0.570402   \n",
       "MENTAL ALERTNESS                   0.675185                  0.662191   \n",
       "SELF-CONFIDENCE                    1.000000                  0.587900   \n",
       "ABILITY TO PRESENT IDEAS           0.587900                  1.000000   \n",
       "COMMUNICATION SKILLS               0.577251                  0.647501   \n",
       "Student Performance Rating        -0.068683                  0.192467   \n",
       "\n",
       "                            COMMUNICATION SKILLS  Student Performance Rating  \n",
       "GENERAL APPEARANCE                      0.371028                   -0.087379  \n",
       "MANNER OF SPEAKING                      0.622969                    0.072317  \n",
       "PHYSICAL CONDITION                      0.513667                    0.041437  \n",
       "MENTAL ALERTNESS                        0.630505                    0.073547  \n",
       "SELF-CONFIDENCE                         0.577251                   -0.068683  \n",
       "ABILITY TO PRESENT IDEAS                0.647501                    0.192467  \n",
       "COMMUNICATION SKILLS                    1.000000                    0.048223  \n",
       "Student Performance Rating              0.048223                    1.000000  "
      ]
     },
     "execution_count": 62,
     "metadata": {},
     "output_type": "execute_result"
    }
   ],
   "source": [
    "df.corr()"
   ]
  },
  {
   "cell_type": "markdown",
   "id": "5a6d7625",
   "metadata": {},
   "source": [
    "## 2.0 Análise gráfica dos dados.\n",
    "\n",
    "#### 2.1 - GENERAL APPEARANCE\n",
    "#### 2.2 - MANNER OF SPEAKING\n",
    "#### 2.3 - PHYSICAL CONDITION\n",
    "#### 2.4 - MENTAL ALERTNESS\n",
    "#### 2.5 - SELF-CONFIDENCE\n",
    "#### 2.6 - ABILITY TO PRESENT IDEAS\n",
    "#### 2.7 - COMMUNICATION SKILLS\n",
    "#### 2.8 - Student Performance Rating\n",
    "#### 2.8 - CLASS\n"
   ]
  },
  {
   "cell_type": "code",
   "execution_count": 66,
   "id": "4a7bcce9",
   "metadata": {},
   "outputs": [
    {
     "data": {
      "text/plain": [
       "Index(['GENERAL APPEARANCE', 'MANNER OF SPEAKING', 'PHYSICAL CONDITION',\n",
       "       'MENTAL ALERTNESS', 'SELF-CONFIDENCE', 'ABILITY TO PRESENT IDEAS',\n",
       "       'COMMUNICATION SKILLS', 'Student Performance Rating', 'CLASS'],\n",
       "      dtype='object')"
      ]
     },
     "execution_count": 66,
     "metadata": {},
     "output_type": "execute_result"
    }
   ],
   "source": [
    "df.columns"
   ]
  },
  {
   "cell_type": "markdown",
   "id": "63e84e8c",
   "metadata": {},
   "source": [
    "#### 2.1 - GENERAL APPEARANCE"
   ]
  },
  {
   "cell_type": "code",
   "execution_count": 67,
   "id": "0dcd8ba6",
   "metadata": {
    "scrolled": true
   },
   "outputs": [
    {
     "data": {
      "image/png": "[encoded data removed]",
      "text/plain": [
       "<Figure size 1080x288 with 1 Axes>"
      ]
     },
     "metadata": {},
     "output_type": "display_data"
    }
   ],
   "source": [
    "fig, ax = plt.subplots(figsize = (15, 4))\n",
    "sns.countplot(data=df, x='GENERAL APPEARANCE',hue='CLASS',dodge=True)\n",
    "\n",
    "plt.show()\n",
    "# Com o argumento dogge = true, mostra as barras separadas.\n"
   ]
  },
  {
   "cell_type": "code",
   "execution_count": 68,
   "id": "eb692dd8",
   "metadata": {},
   "outputs": [
    {
     "data": {
      "text/plain": [
       "<AxesSubplot:ylabel='GENERAL APPEARANCE'>"
      ]
     },
     "execution_count": 68,
     "metadata": {},
     "output_type": "execute_result"
    },
    {
     "data": {
      "image/png": "[encoded data removed]",
      "text/plain": [
       "<Figure size 144x288 with 1 Axes>"
      ]
     },
     "metadata": {},
     "output_type": "display_data"
    }
   ],
   "source": [
    "fig, ax = plt.subplots(figsize = (2, 4))\n",
    "sns.boxplot(data=df, y='GENERAL APPEARANCE', hue='CLASS')"
   ]
  },
  {
   "cell_type": "markdown",
   "id": "fe150d9b",
   "metadata": {},
   "source": [
    "#### 2.2 - MANNER OF SPEAKING"
   ]
  },
  {
   "cell_type": "code",
   "execution_count": 69,
   "id": "3c2f9ad6",
   "metadata": {},
   "outputs": [
    {
     "data": {
      "image/png": "[encoded data removed]",
      "text/plain": [
       "<Figure size 1080x288 with 1 Axes>"
      ]
     },
     "metadata": {},
     "output_type": "display_data"
    }
   ],
   "source": [
    "fig, ax = plt.subplots(figsize = (15, 4))\n",
    "sns.countplot(data=df, x='MANNER OF SPEAKING',hue='CLASS',dodge=True)\n",
    "plt.show()"
   ]
  },
  {
   "cell_type": "code",
   "execution_count": 70,
   "id": "86625f69",
   "metadata": {},
   "outputs": [
    {
     "data": {
      "text/plain": [
       "<AxesSubplot:ylabel='MANNER OF SPEAKING'>"
      ]
     },
     "execution_count": 70,
     "metadata": {},
     "output_type": "execute_result"
    },
    {
     "data": {
      "image/png": "[encoded data removed]",
      "text/plain": [
       "<Figure size 144x288 with 1 Axes>"
      ]
     },
     "metadata": {},
     "output_type": "display_data"
    }
   ],
   "source": [
    "fig, ax = plt.subplots(figsize = (2, 4))\n",
    "sns.boxplot(data=df, y='MANNER OF SPEAKING', hue='CLASS')"
   ]
  },
  {
   "cell_type": "markdown",
   "id": "3a6e5b41",
   "metadata": {},
   "source": [
    "#### 2.3 - PHYSICAL CONDITION"
   ]
  },
  {
   "cell_type": "code",
   "execution_count": 71,
   "id": "ba6d5dec",
   "metadata": {},
   "outputs": [
    {
     "data": {
      "text/plain": [
       "<AxesSubplot:xlabel='PHYSICAL CONDITION', ylabel='count'>"
      ]
     },
     "execution_count": 71,
     "metadata": {},
     "output_type": "execute_result"
    },
    {
     "data": {
      "image/png": "[encoded data removed]",
      "text/plain": [
       "<Figure size 1080x216 with 1 Axes>"
      ]
     },
     "metadata": {},
     "output_type": "display_data"
    }
   ],
   "source": [
    "fig, ax = plt.subplots(figsize = (15, 3))\n",
    "sns.countplot(data=df, x='PHYSICAL CONDITION',hue='CLASS')"
   ]
  },
  {
   "cell_type": "code",
   "execution_count": 72,
   "id": "b39ec1d9",
   "metadata": {},
   "outputs": [
    {
     "data": {
      "text/plain": [
       "<AxesSubplot:ylabel='PHYSICAL CONDITION'>"
      ]
     },
     "execution_count": 72,
     "metadata": {},
     "output_type": "execute_result"
    },
    {
     "data": {
      "image/png": "[encoded data removed]",
      "text/plain": [
       "<Figure size 144x288 with 1 Axes>"
      ]
     },
     "metadata": {},
     "output_type": "display_data"
    }
   ],
   "source": [
    "fig, ax = plt.subplots(figsize = (2, 4))\n",
    "sns.boxplot(data=df, y='PHYSICAL CONDITION')"
   ]
  },
  {
   "cell_type": "markdown",
   "id": "287e3d0a",
   "metadata": {},
   "source": [
    "#### 2.4 - MENTAL ALERTNESS"
   ]
  },
  {
   "cell_type": "code",
   "execution_count": 73,
   "id": "ccddd334",
   "metadata": {},
   "outputs": [
    {
     "data": {
      "text/plain": [
       "<AxesSubplot:xlabel='MENTAL ALERTNESS', ylabel='count'>"
      ]
     },
     "execution_count": 73,
     "metadata": {},
     "output_type": "execute_result"
    },
    {
     "data": {
      "image/png": "[encoded data removed]",
      "text/plain": [
       "<Figure size 1080x216 with 1 Axes>"
      ]
     },
     "metadata": {},
     "output_type": "display_data"
    }
   ],
   "source": [
    "fig, ax = plt.subplots(figsize = (15, 3))\n",
    "sns.countplot(data=df, x='MENTAL ALERTNESS',hue='CLASS')"
   ]
  },
  {
   "cell_type": "code",
   "execution_count": 74,
   "id": "3cb2c91a",
   "metadata": {},
   "outputs": [
    {
     "data": {
      "text/plain": [
       "<AxesSubplot:ylabel='MENTAL ALERTNESS'>"
      ]
     },
     "execution_count": 74,
     "metadata": {},
     "output_type": "execute_result"
    },
    {
     "data": {
      "image/png": "[encoded data removed]",
      "text/plain": [
       "<Figure size 144x288 with 1 Axes>"
      ]
     },
     "metadata": {},
     "output_type": "display_data"
    }
   ],
   "source": [
    "fig, ax = plt.subplots(figsize = (2, 4))\n",
    "sns.boxplot(data=df, y='MENTAL ALERTNESS')"
   ]
  },
  {
   "cell_type": "markdown",
   "id": "78f0e398",
   "metadata": {},
   "source": [
    "#### 2.5 - SELF-CONFIDENCE"
   ]
  },
  {
   "cell_type": "code",
   "execution_count": 75,
   "id": "0e17f22d",
   "metadata": {},
   "outputs": [
    {
     "data": {
      "text/plain": [
       "<AxesSubplot:xlabel='SELF-CONFIDENCE', ylabel='count'>"
      ]
     },
     "execution_count": 75,
     "metadata": {},
     "output_type": "execute_result"
    },
    {
     "data": {
      "image/png": "[encoded data removed]",
      "text/plain": [
       "<Figure size 1080x216 with 1 Axes>"
      ]
     },
     "metadata": {},
     "output_type": "display_data"
    }
   ],
   "source": [
    "fig, ax = plt.subplots(figsize = (15, 3))\n",
    "sns.countplot(data=df, x='SELF-CONFIDENCE',hue='CLASS')"
   ]
  },
  {
   "cell_type": "code",
   "execution_count": 76,
   "id": "130d0743",
   "metadata": {},
   "outputs": [
    {
     "data": {
      "text/plain": [
       "<AxesSubplot:ylabel='SELF-CONFIDENCE'>"
      ]
     },
     "execution_count": 76,
     "metadata": {},
     "output_type": "execute_result"
    },
    {
     "data": {
      "image/png": "[encoded data removed]",
      "text/plain": [
       "<Figure size 144x288 with 1 Axes>"
      ]
     },
     "metadata": {},
     "output_type": "display_data"
    }
   ],
   "source": [
    "fig, ax = plt.subplots(figsize = (2, 4))\n",
    "sns.boxplot(data=df, y='SELF-CONFIDENCE')"
   ]
  },
  {
   "cell_type": "markdown",
   "id": "3f6ff4fe",
   "metadata": {},
   "source": [
    "#### 2.6 - ABILITY TO PRESENT IDEAS"
   ]
  },
  {
   "cell_type": "code",
   "execution_count": 77,
   "id": "75778d47",
   "metadata": {},
   "outputs": [
    {
     "data": {
      "text/plain": [
       "<AxesSubplot:xlabel='ABILITY TO PRESENT IDEAS', ylabel='count'>"
      ]
     },
     "execution_count": 77,
     "metadata": {},
     "output_type": "execute_result"
    },
    {
     "data": {
      "image/png": "[encoded data removed]",
      "text/plain": [
       "<Figure size 1080x216 with 1 Axes>"
      ]
     },
     "metadata": {},
     "output_type": "display_data"
    }
   ],
   "source": [
    "fig, ax = plt.subplots(figsize = (15, 3))\n",
    "sns.countplot(data=df, x='ABILITY TO PRESENT IDEAS',hue='CLASS')"
   ]
  },
  {
   "cell_type": "code",
   "execution_count": 78,
   "id": "ae60c28c",
   "metadata": {},
   "outputs": [
    {
     "data": {
      "text/plain": [
       "<AxesSubplot:ylabel='ABILITY TO PRESENT IDEAS'>"
      ]
     },
     "execution_count": 78,
     "metadata": {},
     "output_type": "execute_result"
    },
    {
     "data": {
      "image/png": "[encoded data removed]",
      "text/plain": [
       "<Figure size 144x288 with 1 Axes>"
      ]
     },
     "metadata": {},
     "output_type": "display_data"
    }
   ],
   "source": [
    "fig, ax = plt.subplots(figsize = (2, 4))\n",
    "sns.boxplot(data=df, y='ABILITY TO PRESENT IDEAS')"
   ]
  },
  {
   "cell_type": "markdown",
   "id": "94abf114",
   "metadata": {},
   "source": [
    "#### 2.7 - COMMUNICATION SKILLS"
   ]
  },
  {
   "cell_type": "code",
   "execution_count": 79,
   "id": "b08be5ce",
   "metadata": {},
   "outputs": [
    {
     "data": {
      "text/plain": [
       "<AxesSubplot:xlabel='COMMUNICATION SKILLS', ylabel='count'>"
      ]
     },
     "execution_count": 79,
     "metadata": {},
     "output_type": "execute_result"
    },
    {
     "data": {
      "image/png": "[encoded data removed]",
      "text/plain": [
       "<Figure size 1080x216 with 1 Axes>"
      ]
     },
     "metadata": {},
     "output_type": "display_data"
    }
   ],
   "source": [
    "fig, ax = plt.subplots(figsize = (15, 3))\n",
    "sns.countplot(data=df, x='COMMUNICATION SKILLS',hue='CLASS')"
   ]
  },
  {
   "cell_type": "code",
   "execution_count": 80,
   "id": "65ad8e83",
   "metadata": {},
   "outputs": [
    {
     "data": {
      "text/plain": [
       "<AxesSubplot:ylabel='COMMUNICATION SKILLS'>"
      ]
     },
     "execution_count": 80,
     "metadata": {},
     "output_type": "execute_result"
    },
    {
     "data": {
      "image/png": "[encoded data removed]",
      "text/plain": [
       "<Figure size 144x288 with 1 Axes>"
      ]
     },
     "metadata": {},
     "output_type": "display_data"
    }
   ],
   "source": [
    "fig, ax = plt.subplots(figsize = (2, 4))\n",
    "sns.boxplot(data=df, y='COMMUNICATION SKILLS')"
   ]
  },
  {
   "cell_type": "markdown",
   "id": "ed8690ce",
   "metadata": {},
   "source": [
    "#### 2.8 - Student Performance Rating"
   ]
  },
  {
   "cell_type": "code",
   "execution_count": 81,
   "id": "1123896f",
   "metadata": {},
   "outputs": [
    {
     "data": {
      "text/plain": [
       "<AxesSubplot:xlabel='Student Performance Rating', ylabel='count'>"
      ]
     },
     "execution_count": 81,
     "metadata": {},
     "output_type": "execute_result"
    },
    {
     "data": {
      "image/png": "[encoded data removed]",
      "text/plain": [
       "<Figure size 1080x216 with 1 Axes>"
      ]
     },
     "metadata": {},
     "output_type": "display_data"
    }
   ],
   "source": [
    "fig, ax = plt.subplots(figsize = (15, 3))\n",
    "sns.countplot(data=df, x='Student Performance Rating',hue='CLASS')"
   ]
  },
  {
   "cell_type": "code",
   "execution_count": 82,
   "id": "4633925d",
   "metadata": {},
   "outputs": [
    {
     "data": {
      "text/plain": [
       "<AxesSubplot:ylabel='Student Performance Rating'>"
      ]
     },
     "execution_count": 82,
     "metadata": {},
     "output_type": "execute_result"
    },
    {
     "data": {
      "image/png": "[encoded data removed]",
      "text/plain": [
       "<Figure size 144x288 with 1 Axes>"
      ]
     },
     "metadata": {},
     "output_type": "display_data"
    }
   ],
   "source": [
    "fig, ax = plt.subplots(figsize = (2, 4))\n",
    "sns.boxplot(data=df, y='Student Performance Rating')"
   ]
  },
  {
   "cell_type": "markdown",
   "id": "c80826f1",
   "metadata": {},
   "source": [
    "#### 2.8 - CLASS\n",
    "#### 2.8.1 - Transformando a coluna CLASS categórica para valores BINÁRIOS(0 ou 1).\n",
    "    Porque a coluna CLASS será nossa variável de predição."
   ]
  },
  {
   "cell_type": "code",
   "execution_count": 83,
   "id": "4df12298",
   "metadata": {},
   "outputs": [
    {
     "data": {
      "text/plain": [
       "array(['Employable', 'LessEmployable'], dtype=object)"
      ]
     },
     "execution_count": 83,
     "metadata": {},
     "output_type": "execute_result"
    }
   ],
   "source": [
    "df['CLASS'].unique()"
   ]
  },
  {
   "cell_type": "code",
   "execution_count": 84,
   "id": "bbe4be55",
   "metadata": {},
   "outputs": [
    {
     "data": {
      "text/html": [
       "<div>\n",
       "<style scoped>\n",
       "    .dataframe tbody tr th:only-of-type {\n",
       "        vertical-align: middle;\n",
       "    }\n",
       "\n",
       "    .dataframe tbody tr th {\n",
       "        vertical-align: top;\n",
       "    }\n",
       "\n",
       "    .dataframe thead th {\n",
       "        text-align: right;\n",
       "    }\n",
       "</style>\n",
       "<table border=\"1\" class=\"dataframe\">\n",
       "  <thead>\n",
       "    <tr style=\"text-align: right;\">\n",
       "      <th></th>\n",
       "      <th>GENERAL APPEARANCE</th>\n",
       "      <th>MANNER OF SPEAKING</th>\n",
       "      <th>PHYSICAL CONDITION</th>\n",
       "      <th>MENTAL ALERTNESS</th>\n",
       "      <th>SELF-CONFIDENCE</th>\n",
       "      <th>ABILITY TO PRESENT IDEAS</th>\n",
       "      <th>COMMUNICATION SKILLS</th>\n",
       "      <th>Student Performance Rating</th>\n",
       "      <th>CLASS</th>\n",
       "    </tr>\n",
       "    <tr>\n",
       "      <th>Name of Student</th>\n",
       "      <th></th>\n",
       "      <th></th>\n",
       "      <th></th>\n",
       "      <th></th>\n",
       "      <th></th>\n",
       "      <th></th>\n",
       "      <th></th>\n",
       "      <th></th>\n",
       "      <th></th>\n",
       "    </tr>\n",
       "  </thead>\n",
       "  <tbody>\n",
       "    <tr>\n",
       "      <th>Student 1</th>\n",
       "      <td>4</td>\n",
       "      <td>5</td>\n",
       "      <td>4</td>\n",
       "      <td>5</td>\n",
       "      <td>5</td>\n",
       "      <td>5</td>\n",
       "      <td>5</td>\n",
       "      <td>5</td>\n",
       "      <td>1</td>\n",
       "    </tr>\n",
       "    <tr>\n",
       "      <th>Student 2</th>\n",
       "      <td>4</td>\n",
       "      <td>4</td>\n",
       "      <td>4</td>\n",
       "      <td>4</td>\n",
       "      <td>4</td>\n",
       "      <td>4</td>\n",
       "      <td>3</td>\n",
       "      <td>5</td>\n",
       "      <td>1</td>\n",
       "    </tr>\n",
       "  </tbody>\n",
       "</table>\n",
       "</div>"
      ],
      "text/plain": [
       "                 GENERAL APPEARANCE  MANNER OF SPEAKING  PHYSICAL CONDITION  \\\n",
       "Name of Student                                                               \n",
       "Student 1                         4                   5                   4   \n",
       "Student 2                         4                   4                   4   \n",
       "\n",
       "                 MENTAL ALERTNESS  SELF-CONFIDENCE  ABILITY TO PRESENT IDEAS  \\\n",
       "Name of Student                                                                \n",
       "Student 1                       5                5                         5   \n",
       "Student 2                       4                4                         4   \n",
       "\n",
       "                 COMMUNICATION SKILLS  Student Performance Rating  CLASS  \n",
       "Name of Student                                                           \n",
       "Student 1                           5                           5      1  \n",
       "Student 2                           3                           5      1  "
      ]
     },
     "execution_count": 84,
     "metadata": {},
     "output_type": "execute_result"
    }
   ],
   "source": [
    "df['CLASS'] = df['CLASS'].map({'Employable': 1, 'LessEmployable' : 0})\n",
    "df.head(2)"
   ]
  },
  {
   "cell_type": "code",
   "execution_count": 85,
   "id": "8bf525e6",
   "metadata": {},
   "outputs": [
    {
     "data": {
      "text/plain": [
       "(2982, 9)"
      ]
     },
     "execution_count": 85,
     "metadata": {},
     "output_type": "execute_result"
    }
   ],
   "source": [
    "df.shape"
   ]
  },
  {
   "cell_type": "code",
   "execution_count": 86,
   "id": "a5e45b05",
   "metadata": {},
   "outputs": [
    {
     "data": {
      "text/plain": [
       "Name of Student\n",
       "Student 1       1\n",
       "Student 2       1\n",
       "Student 3       0\n",
       "Student 4       0\n",
       "Student 5       1\n",
       "               ..\n",
       "Student 2996    1\n",
       "Student 2997    1\n",
       "Student 2998    1\n",
       "Student 2999    0\n",
       "Student 3000    1\n",
       "Name: CLASS, Length: 2982, dtype: int64"
      ]
     },
     "execution_count": 86,
     "metadata": {},
     "output_type": "execute_result"
    }
   ],
   "source": [
    "df['CLASS']"
   ]
  },
  {
   "cell_type": "code",
   "execution_count": 88,
   "id": "29167826",
   "metadata": {},
   "outputs": [
    {
     "data": {
      "text/plain": [
       "(2982,)"
      ]
     },
     "execution_count": 88,
     "metadata": {},
     "output_type": "execute_result"
    }
   ],
   "source": [
    "df['CLASS'].shape"
   ]
  },
  {
   "cell_type": "code",
   "execution_count": 89,
   "id": "0a48d9bb",
   "metadata": {},
   "outputs": [
    {
     "data": {
      "image/png": "[encoded data removed]",
      "text/plain": [
       "<Figure size 720x504 with 1 Axes>"
      ]
     },
     "metadata": {},
     "output_type": "display_data"
    }
   ],
   "source": [
    "fig, ax = plt.subplots(figsize = (10,7))\n",
    "\n",
    "df.groupby('CLASS').size().plot(kind='pie', ylabel='', ax=ax)\n",
    "plt.show()"
   ]
  },
  {
   "cell_type": "markdown",
   "id": "3f778d57",
   "metadata": {},
   "source": [
    "## 3.0 Preparação para os modelos de MACHINE LEARN."
   ]
  },
  {
   "cell_type": "code",
   "execution_count": 90,
   "id": "79ab330f",
   "metadata": {},
   "outputs": [],
   "source": [
    "X = df.iloc[:, 0:-1]\n",
    "y = df.iloc[:, -1]"
   ]
  },
  {
   "cell_type": "code",
   "execution_count": 91,
   "id": "9a7cfc15",
   "metadata": {},
   "outputs": [
    {
     "data": {
      "text/plain": [
       "Name of Student\n",
       "Student 1       1\n",
       "Student 2       1\n",
       "Student 3       0\n",
       "Student 4       0\n",
       "Student 5       1\n",
       "               ..\n",
       "Student 2996    1\n",
       "Student 2997    1\n",
       "Student 2998    1\n",
       "Student 2999    0\n",
       "Student 3000    1\n",
       "Name: CLASS, Length: 2982, dtype: int64"
      ]
     },
     "execution_count": 91,
     "metadata": {},
     "output_type": "execute_result"
    }
   ],
   "source": [
    "y"
   ]
  },
  {
   "cell_type": "code",
   "execution_count": 92,
   "id": "9ddd37e6",
   "metadata": {},
   "outputs": [
    {
     "data": {
      "text/html": [
       "<div>\n",
       "<style scoped>\n",
       "    .dataframe tbody tr th:only-of-type {\n",
       "        vertical-align: middle;\n",
       "    }\n",
       "\n",
       "    .dataframe tbody tr th {\n",
       "        vertical-align: top;\n",
       "    }\n",
       "\n",
       "    .dataframe thead th {\n",
       "        text-align: right;\n",
       "    }\n",
       "</style>\n",
       "<table border=\"1\" class=\"dataframe\">\n",
       "  <thead>\n",
       "    <tr style=\"text-align: right;\">\n",
       "      <th></th>\n",
       "      <th>GENERAL APPEARANCE</th>\n",
       "      <th>MANNER OF SPEAKING</th>\n",
       "      <th>PHYSICAL CONDITION</th>\n",
       "      <th>MENTAL ALERTNESS</th>\n",
       "      <th>SELF-CONFIDENCE</th>\n",
       "      <th>ABILITY TO PRESENT IDEAS</th>\n",
       "      <th>COMMUNICATION SKILLS</th>\n",
       "      <th>Student Performance Rating</th>\n",
       "    </tr>\n",
       "    <tr>\n",
       "      <th>Name of Student</th>\n",
       "      <th></th>\n",
       "      <th></th>\n",
       "      <th></th>\n",
       "      <th></th>\n",
       "      <th></th>\n",
       "      <th></th>\n",
       "      <th></th>\n",
       "      <th></th>\n",
       "    </tr>\n",
       "  </thead>\n",
       "  <tbody>\n",
       "    <tr>\n",
       "      <th>Student 1</th>\n",
       "      <td>4</td>\n",
       "      <td>5</td>\n",
       "      <td>4</td>\n",
       "      <td>5</td>\n",
       "      <td>5</td>\n",
       "      <td>5</td>\n",
       "      <td>5</td>\n",
       "      <td>5</td>\n",
       "    </tr>\n",
       "    <tr>\n",
       "      <th>Student 2</th>\n",
       "      <td>4</td>\n",
       "      <td>4</td>\n",
       "      <td>4</td>\n",
       "      <td>4</td>\n",
       "      <td>4</td>\n",
       "      <td>4</td>\n",
       "      <td>3</td>\n",
       "      <td>5</td>\n",
       "    </tr>\n",
       "    <tr>\n",
       "      <th>Student 3</th>\n",
       "      <td>4</td>\n",
       "      <td>3</td>\n",
       "      <td>3</td>\n",
       "      <td>3</td>\n",
       "      <td>3</td>\n",
       "      <td>3</td>\n",
       "      <td>2</td>\n",
       "      <td>5</td>\n",
       "    </tr>\n",
       "    <tr>\n",
       "      <th>Student 4</th>\n",
       "      <td>3</td>\n",
       "      <td>3</td>\n",
       "      <td>3</td>\n",
       "      <td>2</td>\n",
       "      <td>3</td>\n",
       "      <td>3</td>\n",
       "      <td>3</td>\n",
       "      <td>5</td>\n",
       "    </tr>\n",
       "    <tr>\n",
       "      <th>Student 5</th>\n",
       "      <td>4</td>\n",
       "      <td>4</td>\n",
       "      <td>3</td>\n",
       "      <td>3</td>\n",
       "      <td>4</td>\n",
       "      <td>4</td>\n",
       "      <td>3</td>\n",
       "      <td>5</td>\n",
       "    </tr>\n",
       "  </tbody>\n",
       "</table>\n",
       "</div>"
      ],
      "text/plain": [
       "                 GENERAL APPEARANCE  MANNER OF SPEAKING  PHYSICAL CONDITION  \\\n",
       "Name of Student                                                               \n",
       "Student 1                         4                   5                   4   \n",
       "Student 2                         4                   4                   4   \n",
       "Student 3                         4                   3                   3   \n",
       "Student 4                         3                   3                   3   \n",
       "Student 5                         4                   4                   3   \n",
       "\n",
       "                 MENTAL ALERTNESS  SELF-CONFIDENCE  ABILITY TO PRESENT IDEAS  \\\n",
       "Name of Student                                                                \n",
       "Student 1                       5                5                         5   \n",
       "Student 2                       4                4                         4   \n",
       "Student 3                       3                3                         3   \n",
       "Student 4                       2                3                         3   \n",
       "Student 5                       3                4                         4   \n",
       "\n",
       "                 COMMUNICATION SKILLS  Student Performance Rating  \n",
       "Name of Student                                                    \n",
       "Student 1                           5                           5  \n",
       "Student 2                           3                           5  \n",
       "Student 3                           2                           5  \n",
       "Student 4                           3                           5  \n",
       "Student 5                           3                           5  "
      ]
     },
     "execution_count": 92,
     "metadata": {},
     "output_type": "execute_result"
    }
   ],
   "source": [
    "X.head()"
   ]
  },
  {
   "cell_type": "code",
   "execution_count": 93,
   "id": "c48ca690",
   "metadata": {},
   "outputs": [
    {
     "data": {
      "text/plain": [
       "(2982, 8)"
      ]
     },
     "execution_count": 93,
     "metadata": {},
     "output_type": "execute_result"
    }
   ],
   "source": [
    "X.shape"
   ]
  },
  {
   "cell_type": "code",
   "execution_count": 94,
   "id": "a1d9759b",
   "metadata": {},
   "outputs": [],
   "source": [
    "from sklearn.model_selection import train_test_split\n",
    "from sklearn import model_selection\n",
    "from sklearn import metrics\n",
    "from sklearn.metrics import accuracy_score"
   ]
  },
  {
   "cell_type": "code",
   "execution_count": 95,
   "id": "33f4dd56",
   "metadata": {},
   "outputs": [],
   "source": [
    "X_train, X_test, y_train, y_test = train_test_split(X, y, test_size=0.3)"
   ]
  },
  {
   "cell_type": "code",
   "execution_count": 100,
   "id": "76d304f5",
   "metadata": {},
   "outputs": [],
   "source": [
    "axu1 = list(X_train.shape)\n",
    "axu2 = list(X_test.shape)\n",
    "aux3 = list(y_train.shape)\n",
    "aux4 = list(y_test.shape)"
   ]
  },
  {
   "cell_type": "code",
   "execution_count": 102,
   "id": "c3729448",
   "metadata": {},
   "outputs": [
    {
     "name": "stdout",
     "output_type": "stream",
     "text": [
      "X traino :  [2087, 8]\n",
      "X Teste :  [895, 8]\n",
      "Y traino :  [2087]\n",
      "Y Teste :  [895]\n"
     ]
    }
   ],
   "source": [
    "print(f'X traino : ', axu1)\n",
    "print(f'X Teste : ', axu2)\n",
    "print(f'Y traino : ', aux3)\n",
    "print(f'Y Teste : ',aux4)"
   ]
  },
  {
   "cell_type": "code",
   "execution_count": null,
   "id": "44293cc8",
   "metadata": {},
   "outputs": [],
   "source": []
  },
  {
   "cell_type": "code",
   "execution_count": 96,
   "id": "e89c9e51",
   "metadata": {},
   "outputs": [],
   "source": [
    "from sklearn.ensemble import RandomForestClassifier # Deu certo\n",
    "from sklearn.tree import DecisionTreeClassifier # Deu certo"
   ]
  },
  {
   "cell_type": "markdown",
   "id": "b9ce3678",
   "metadata": {},
   "source": [
    "# 3.1 - RandomForestClassifier"
   ]
  },
  {
   "cell_type": "code",
   "execution_count": 97,
   "id": "05a1a49a",
   "metadata": {},
   "outputs": [],
   "source": [
    "from sklearn.ensemble import RandomForestClassifier"
   ]
  },
  {
   "cell_type": "code",
   "execution_count": 38,
   "id": "e3caf549",
   "metadata": {},
   "outputs": [],
   "source": [
    "mod_RFC = RandomForestClassifier()"
   ]
  },
  {
   "cell_type": "code",
   "execution_count": 39,
   "id": "1369b4cb",
   "metadata": {},
   "outputs": [
    {
     "data": {
      "text/plain": [
       "RandomForestClassifier()"
      ]
     },
     "execution_count": 39,
     "metadata": {},
     "output_type": "execute_result"
    }
   ],
   "source": [
    "mod_RFC.fit(X_train,y_train)"
   ]
  },
  {
   "cell_type": "code",
   "execution_count": 40,
   "id": "29f6ba27",
   "metadata": {},
   "outputs": [],
   "source": [
    "acuracia = round(mod_RFC.score(X_train, y_train) * 100, 2)"
   ]
  },
  {
   "cell_type": "code",
   "execution_count": 41,
   "id": "a9664967",
   "metadata": {},
   "outputs": [],
   "source": [
    "train_pred_RFC = model_selection.cross_val_predict(RandomForestClassifier(), X_train, y_train, cv = 15, n_jobs = -1)"
   ]
  },
  {
   "cell_type": "code",
   "execution_count": 42,
   "id": "6979e961",
   "metadata": {},
   "outputs": [],
   "source": [
    "acuracia_vc = round(metrics.accuracy_score(y_train, train_pred_RFC) * 100, 2)"
   ]
  },
  {
   "cell_type": "code",
   "execution_count": 46,
   "id": "5470aedb",
   "metadata": {},
   "outputs": [
    {
     "name": "stdout",
     "output_type": "stream",
     "text": [
      "Acurácia: 92.24 %\n",
      "Acurácia validação Cruzada : 91.47 %\n"
     ]
    }
   ],
   "source": [
    "print(f'Acurácia: {acuracia} %')\n",
    "print(f'Acurácia validação Cruzada : {acuracia_vc} %')"
   ]
  },
  {
   "cell_type": "markdown",
   "id": "6e32c20b",
   "metadata": {},
   "source": [
    "# 3.2 - DecisionTreeClassifier"
   ]
  },
  {
   "cell_type": "code",
   "execution_count": 44,
   "id": "de7c6588",
   "metadata": {},
   "outputs": [],
   "source": [
    "from sklearn.tree import DecisionTreeClassifier"
   ]
  },
  {
   "cell_type": "code",
   "execution_count": 47,
   "id": "33e51b0d",
   "metadata": {},
   "outputs": [
    {
     "name": "stdout",
     "output_type": "stream",
     "text": [
      "Acurácia: 92.24 %\n",
      "Acurácia validação Cruzada : 91.57 %\n"
     ]
    }
   ],
   "source": [
    "mod_DC = DecisionTreeClassifier()\n",
    "\n",
    "mod_DC.fit(X_train,y_train)\n",
    "\n",
    "acuracia_DC = round(mod_DC.score(X_train, y_train) * 100, 2)\n",
    "\n",
    "train_pred_DC = model_selection.cross_val_predict(DecisionTreeClassifier(), X_train, y_train, cv = 11, n_jobs = -1)\n",
    "\n",
    "acuracia_vc_DC = round(metrics.accuracy_score(y_train, train_pred_DC) * 100, 2)\n",
    "\n",
    "print(f'Acurácia: {acuracia_DC} %')\n",
    "print(f'Acurácia validação Cruzada : {acuracia_vc_DC} %')\n"
   ]
  },
  {
   "cell_type": "code",
   "execution_count": 116,
   "id": "c6100485",
   "metadata": {},
   "outputs": [],
   "source": [
    "y_theta1 = pd.Series(mod_DC.predict(X_train))"
   ]
  },
  {
   "cell_type": "code",
   "execution_count": 117,
   "id": "6b7f5b40",
   "metadata": {},
   "outputs": [
    {
     "data": {
      "text/plain": [
       "(2087,)"
      ]
     },
     "execution_count": 117,
     "metadata": {},
     "output_type": "execute_result"
    }
   ],
   "source": [
    "y_theta1.shape"
   ]
  },
  {
   "cell_type": "code",
   "execution_count": 118,
   "id": "a21aa587",
   "metadata": {},
   "outputs": [
    {
     "data": {
      "text/plain": [
       "0       0\n",
       "1       1\n",
       "2       1\n",
       "3       0\n",
       "4       1\n",
       "       ..\n",
       "2082    1\n",
       "2083    0\n",
       "2084    0\n",
       "2085    1\n",
       "2086    1\n",
       "Length: 2087, dtype: int64"
      ]
     },
     "execution_count": 118,
     "metadata": {},
     "output_type": "execute_result"
    }
   ],
   "source": [
    "y_theta1"
   ]
  },
  {
   "cell_type": "code",
   "execution_count": 119,
   "id": "26d1a2d1",
   "metadata": {},
   "outputs": [
    {
     "data": {
      "text/plain": [
       "(895,)"
      ]
     },
     "execution_count": 119,
     "metadata": {},
     "output_type": "execute_result"
    }
   ],
   "source": [
    "y_theta2 = pd.Series(mod_DC.predict(X_test))\n",
    "y_theta2.shape"
   ]
  },
  {
   "cell_type": "code",
   "execution_count": 122,
   "id": "f3bc6164",
   "metadata": {},
   "outputs": [
    {
     "data": {
      "text/plain": [
       "(2982,)"
      ]
     },
     "execution_count": 122,
     "metadata": {},
     "output_type": "execute_result"
    }
   ],
   "source": [
    "y_label = pd.concat([y_theta1, y_theta2])\n",
    "y_label.shape"
   ]
  },
  {
   "cell_type": "code",
   "execution_count": null,
   "id": "fc666382",
   "metadata": {},
   "outputs": [],
   "source": []
  },
  {
   "cell_type": "code",
   "execution_count": null,
   "id": "9ecf6947",
   "metadata": {},
   "outputs": [],
   "source": []
  },
  {
   "cell_type": "code",
   "execution_count": 129,
   "id": "48035a1b",
   "metadata": {},
   "outputs": [],
   "source": []
  },
  {
   "cell_type": "code",
   "execution_count": null,
   "id": "aaf9b031",
   "metadata": {},
   "outputs": [],
   "source": []
  },
  {
   "cell_type": "code",
   "execution_count": null,
   "id": "239984c4",
   "metadata": {},
   "outputs": [],
   "source": []
  }
 ],
 "metadata": {
  "kernelspec": {
   "display_name": "Python 3 (ipykernel)",
   "language": "python",
   "name": "python3"
  },
  "language_info": {
   "codemirror_mode": {
    "name": "ipython",
    "version": 3
   },
   "file_extension": ".py",
   "mimetype": "text/x-python",
   "name": "python",
   "nbconvert_exporter": "python",
   "pygments_lexer": "ipython3",
   "version": "3.9.12"
  }
 },
 "nbformat": 4,
 "nbformat_minor": 5
}
