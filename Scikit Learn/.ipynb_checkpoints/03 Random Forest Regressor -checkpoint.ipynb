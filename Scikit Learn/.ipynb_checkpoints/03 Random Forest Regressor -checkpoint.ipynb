{
 "cells": [
  {
   "cell_type": "code",
   "execution_count": 1,
   "id": "17aa72bc",
   "metadata": {},
   "outputs": [],
   "source": [
    "import pandas as pd\n",
    "import matplotlib.pyplot as plt\n",
    "import seaborn as sns\n",
    "import numpy as np"
   ]
  },
  {
   "cell_type": "code",
   "execution_count": 2,
   "id": "a873eb6a",
   "metadata": {},
   "outputs": [],
   "source": [
    "df_sp = pd.read_csv('sao-paulo-properties-april-2019.csv')"
   ]
  },
  {
   "cell_type": "code",
   "execution_count": 3,
   "id": "b1dcc32d",
   "metadata": {},
   "outputs": [],
   "source": [
    "df_rent = df_sp[df_sp['Negotiation Type'] == 'rent']"
   ]
  },
  {
   "cell_type": "code",
   "execution_count": 4,
   "id": "a1c64ea4",
   "metadata": {},
   "outputs": [],
   "source": [
    "from sklearn.preprocessing import OneHotEncoder\n",
    "cat_enconder = OneHotEncoder()"
   ]
  },
  {
   "cell_type": "code",
   "execution_count": 6,
   "id": "cfc7de89",
   "metadata": {},
   "outputs": [],
   "source": [
    "df_cleaned = df_rent.drop(['New', 'Negotiation Type','Property Type'], axis=1)"
   ]
  },
  {
   "cell_type": "code",
   "execution_count": 7,
   "id": "711faf59",
   "metadata": {},
   "outputs": [],
   "source": [
    "housing_cat_1hot = cat_enconder.fit_transform(df_cleaned[['District']])"
   ]
  },
  {
   "cell_type": "code",
   "execution_count": 8,
   "id": "ef48a8cc",
   "metadata": {},
   "outputs": [
    {
     "data": {
      "text/plain": [
       "<7228x94 sparse matrix of type '<class 'numpy.float64'>'\n",
       "\twith 7228 stored elements in Compressed Sparse Row format>"
      ]
     },
     "execution_count": 8,
     "metadata": {},
     "output_type": "execute_result"
    }
   ],
   "source": [
    "housing_cat_1hot"
   ]
  },
  {
   "cell_type": "code",
   "execution_count": 9,
   "id": "e4ce52e6",
   "metadata": {},
   "outputs": [
    {
     "data": {
      "text/plain": [
       "array([[0., 0., 0., ..., 0., 0., 0.],\n",
       "       [0., 0., 0., ..., 0., 0., 0.],\n",
       "       [0., 0., 0., ..., 0., 0., 0.],\n",
       "       ...,\n",
       "       [0., 0., 0., ..., 0., 0., 0.],\n",
       "       [0., 0., 0., ..., 0., 0., 0.],\n",
       "       [0., 0., 0., ..., 0., 0., 0.]])"
      ]
     },
     "execution_count": 9,
     "metadata": {},
     "output_type": "execute_result"
    }
   ],
   "source": [
    "housing_cat_1hot.toarray()"
   ]
  },
  {
   "cell_type": "code",
   "execution_count": 10,
   "id": "2c79f9a0",
   "metadata": {},
   "outputs": [
    {
     "data": {
      "text/html": [
       "<div>\n",
       "<style scoped>\n",
       "    .dataframe tbody tr th:only-of-type {\n",
       "        vertical-align: middle;\n",
       "    }\n",
       "\n",
       "    .dataframe tbody tr th {\n",
       "        vertical-align: top;\n",
       "    }\n",
       "\n",
       "    .dataframe thead th {\n",
       "        text-align: right;\n",
       "    }\n",
       "</style>\n",
       "<table border=\"1\" class=\"dataframe\">\n",
       "  <thead>\n",
       "    <tr style=\"text-align: right;\">\n",
       "      <th></th>\n",
       "      <th>Alto de Pinheiros/São Paulo</th>\n",
       "      <th>Anhanguera/São Paulo</th>\n",
       "      <th>Aricanduva/São Paulo</th>\n",
       "      <th>Artur Alvim/São Paulo</th>\n",
       "      <th>Barra Funda/São Paulo</th>\n",
       "      <th>Bela Vista/São Paulo</th>\n",
       "      <th>Belém/São Paulo</th>\n",
       "      <th>Bom Retiro/São Paulo</th>\n",
       "      <th>Brasilândia/São Paulo</th>\n",
       "      <th>Brooklin/São Paulo</th>\n",
       "      <th>...</th>\n",
       "      <th>Vila Jacuí/São Paulo</th>\n",
       "      <th>Vila Leopoldina/São Paulo</th>\n",
       "      <th>Vila Madalena/São Paulo</th>\n",
       "      <th>Vila Maria/São Paulo</th>\n",
       "      <th>Vila Mariana/São Paulo</th>\n",
       "      <th>Vila Matilde/São Paulo</th>\n",
       "      <th>Vila Olimpia/São Paulo</th>\n",
       "      <th>Vila Prudente/São Paulo</th>\n",
       "      <th>Vila Sônia/São Paulo</th>\n",
       "      <th>Água Rasa/São Paulo</th>\n",
       "    </tr>\n",
       "  </thead>\n",
       "  <tbody>\n",
       "    <tr>\n",
       "      <th>0</th>\n",
       "      <td>0</td>\n",
       "      <td>0</td>\n",
       "      <td>0</td>\n",
       "      <td>1</td>\n",
       "      <td>0</td>\n",
       "      <td>0</td>\n",
       "      <td>0</td>\n",
       "      <td>0</td>\n",
       "      <td>0</td>\n",
       "      <td>0</td>\n",
       "      <td>...</td>\n",
       "      <td>0</td>\n",
       "      <td>0</td>\n",
       "      <td>0</td>\n",
       "      <td>0</td>\n",
       "      <td>0</td>\n",
       "      <td>0</td>\n",
       "      <td>0</td>\n",
       "      <td>0</td>\n",
       "      <td>0</td>\n",
       "      <td>0</td>\n",
       "    </tr>\n",
       "    <tr>\n",
       "      <th>1</th>\n",
       "      <td>0</td>\n",
       "      <td>0</td>\n",
       "      <td>0</td>\n",
       "      <td>1</td>\n",
       "      <td>0</td>\n",
       "      <td>0</td>\n",
       "      <td>0</td>\n",
       "      <td>0</td>\n",
       "      <td>0</td>\n",
       "      <td>0</td>\n",
       "      <td>...</td>\n",
       "      <td>0</td>\n",
       "      <td>0</td>\n",
       "      <td>0</td>\n",
       "      <td>0</td>\n",
       "      <td>0</td>\n",
       "      <td>0</td>\n",
       "      <td>0</td>\n",
       "      <td>0</td>\n",
       "      <td>0</td>\n",
       "      <td>0</td>\n",
       "    </tr>\n",
       "    <tr>\n",
       "      <th>2</th>\n",
       "      <td>0</td>\n",
       "      <td>0</td>\n",
       "      <td>0</td>\n",
       "      <td>1</td>\n",
       "      <td>0</td>\n",
       "      <td>0</td>\n",
       "      <td>0</td>\n",
       "      <td>0</td>\n",
       "      <td>0</td>\n",
       "      <td>0</td>\n",
       "      <td>...</td>\n",
       "      <td>0</td>\n",
       "      <td>0</td>\n",
       "      <td>0</td>\n",
       "      <td>0</td>\n",
       "      <td>0</td>\n",
       "      <td>0</td>\n",
       "      <td>0</td>\n",
       "      <td>0</td>\n",
       "      <td>0</td>\n",
       "      <td>0</td>\n",
       "    </tr>\n",
       "    <tr>\n",
       "      <th>3</th>\n",
       "      <td>0</td>\n",
       "      <td>0</td>\n",
       "      <td>0</td>\n",
       "      <td>1</td>\n",
       "      <td>0</td>\n",
       "      <td>0</td>\n",
       "      <td>0</td>\n",
       "      <td>0</td>\n",
       "      <td>0</td>\n",
       "      <td>0</td>\n",
       "      <td>...</td>\n",
       "      <td>0</td>\n",
       "      <td>0</td>\n",
       "      <td>0</td>\n",
       "      <td>0</td>\n",
       "      <td>0</td>\n",
       "      <td>0</td>\n",
       "      <td>0</td>\n",
       "      <td>0</td>\n",
       "      <td>0</td>\n",
       "      <td>0</td>\n",
       "    </tr>\n",
       "    <tr>\n",
       "      <th>4</th>\n",
       "      <td>0</td>\n",
       "      <td>0</td>\n",
       "      <td>0</td>\n",
       "      <td>1</td>\n",
       "      <td>0</td>\n",
       "      <td>0</td>\n",
       "      <td>0</td>\n",
       "      <td>0</td>\n",
       "      <td>0</td>\n",
       "      <td>0</td>\n",
       "      <td>...</td>\n",
       "      <td>0</td>\n",
       "      <td>0</td>\n",
       "      <td>0</td>\n",
       "      <td>0</td>\n",
       "      <td>0</td>\n",
       "      <td>0</td>\n",
       "      <td>0</td>\n",
       "      <td>0</td>\n",
       "      <td>0</td>\n",
       "      <td>0</td>\n",
       "    </tr>\n",
       "    <tr>\n",
       "      <th>...</th>\n",
       "      <td>...</td>\n",
       "      <td>...</td>\n",
       "      <td>...</td>\n",
       "      <td>...</td>\n",
       "      <td>...</td>\n",
       "      <td>...</td>\n",
       "      <td>...</td>\n",
       "      <td>...</td>\n",
       "      <td>...</td>\n",
       "      <td>...</td>\n",
       "      <td>...</td>\n",
       "      <td>...</td>\n",
       "      <td>...</td>\n",
       "      <td>...</td>\n",
       "      <td>...</td>\n",
       "      <td>...</td>\n",
       "      <td>...</td>\n",
       "      <td>...</td>\n",
       "      <td>...</td>\n",
       "      <td>...</td>\n",
       "      <td>...</td>\n",
       "    </tr>\n",
       "    <tr>\n",
       "      <th>11205</th>\n",
       "      <td>0</td>\n",
       "      <td>0</td>\n",
       "      <td>0</td>\n",
       "      <td>0</td>\n",
       "      <td>0</td>\n",
       "      <td>0</td>\n",
       "      <td>0</td>\n",
       "      <td>0</td>\n",
       "      <td>0</td>\n",
       "      <td>1</td>\n",
       "      <td>...</td>\n",
       "      <td>0</td>\n",
       "      <td>0</td>\n",
       "      <td>0</td>\n",
       "      <td>0</td>\n",
       "      <td>0</td>\n",
       "      <td>0</td>\n",
       "      <td>0</td>\n",
       "      <td>0</td>\n",
       "      <td>0</td>\n",
       "      <td>0</td>\n",
       "    </tr>\n",
       "    <tr>\n",
       "      <th>11206</th>\n",
       "      <td>0</td>\n",
       "      <td>0</td>\n",
       "      <td>0</td>\n",
       "      <td>0</td>\n",
       "      <td>0</td>\n",
       "      <td>0</td>\n",
       "      <td>0</td>\n",
       "      <td>0</td>\n",
       "      <td>0</td>\n",
       "      <td>1</td>\n",
       "      <td>...</td>\n",
       "      <td>0</td>\n",
       "      <td>0</td>\n",
       "      <td>0</td>\n",
       "      <td>0</td>\n",
       "      <td>0</td>\n",
       "      <td>0</td>\n",
       "      <td>0</td>\n",
       "      <td>0</td>\n",
       "      <td>0</td>\n",
       "      <td>0</td>\n",
       "    </tr>\n",
       "    <tr>\n",
       "      <th>11207</th>\n",
       "      <td>0</td>\n",
       "      <td>0</td>\n",
       "      <td>0</td>\n",
       "      <td>0</td>\n",
       "      <td>0</td>\n",
       "      <td>0</td>\n",
       "      <td>0</td>\n",
       "      <td>0</td>\n",
       "      <td>0</td>\n",
       "      <td>1</td>\n",
       "      <td>...</td>\n",
       "      <td>0</td>\n",
       "      <td>0</td>\n",
       "      <td>0</td>\n",
       "      <td>0</td>\n",
       "      <td>0</td>\n",
       "      <td>0</td>\n",
       "      <td>0</td>\n",
       "      <td>0</td>\n",
       "      <td>0</td>\n",
       "      <td>0</td>\n",
       "    </tr>\n",
       "    <tr>\n",
       "      <th>11208</th>\n",
       "      <td>0</td>\n",
       "      <td>0</td>\n",
       "      <td>0</td>\n",
       "      <td>0</td>\n",
       "      <td>0</td>\n",
       "      <td>0</td>\n",
       "      <td>0</td>\n",
       "      <td>0</td>\n",
       "      <td>0</td>\n",
       "      <td>1</td>\n",
       "      <td>...</td>\n",
       "      <td>0</td>\n",
       "      <td>0</td>\n",
       "      <td>0</td>\n",
       "      <td>0</td>\n",
       "      <td>0</td>\n",
       "      <td>0</td>\n",
       "      <td>0</td>\n",
       "      <td>0</td>\n",
       "      <td>0</td>\n",
       "      <td>0</td>\n",
       "    </tr>\n",
       "    <tr>\n",
       "      <th>11209</th>\n",
       "      <td>0</td>\n",
       "      <td>0</td>\n",
       "      <td>0</td>\n",
       "      <td>0</td>\n",
       "      <td>0</td>\n",
       "      <td>0</td>\n",
       "      <td>0</td>\n",
       "      <td>0</td>\n",
       "      <td>0</td>\n",
       "      <td>1</td>\n",
       "      <td>...</td>\n",
       "      <td>0</td>\n",
       "      <td>0</td>\n",
       "      <td>0</td>\n",
       "      <td>0</td>\n",
       "      <td>0</td>\n",
       "      <td>0</td>\n",
       "      <td>0</td>\n",
       "      <td>0</td>\n",
       "      <td>0</td>\n",
       "      <td>0</td>\n",
       "    </tr>\n",
       "  </tbody>\n",
       "</table>\n",
       "<p>7228 rows × 94 columns</p>\n",
       "</div>"
      ],
      "text/plain": [
       "       Alto de Pinheiros/São Paulo  Anhanguera/São Paulo  \\\n",
       "0                                0                     0   \n",
       "1                                0                     0   \n",
       "2                                0                     0   \n",
       "3                                0                     0   \n",
       "4                                0                     0   \n",
       "...                            ...                   ...   \n",
       "11205                            0                     0   \n",
       "11206                            0                     0   \n",
       "11207                            0                     0   \n",
       "11208                            0                     0   \n",
       "11209                            0                     0   \n",
       "\n",
       "       Aricanduva/São Paulo  Artur Alvim/São Paulo  Barra Funda/São Paulo  \\\n",
       "0                         0                      1                      0   \n",
       "1                         0                      1                      0   \n",
       "2                         0                      1                      0   \n",
       "3                         0                      1                      0   \n",
       "4                         0                      1                      0   \n",
       "...                     ...                    ...                    ...   \n",
       "11205                     0                      0                      0   \n",
       "11206                     0                      0                      0   \n",
       "11207                     0                      0                      0   \n",
       "11208                     0                      0                      0   \n",
       "11209                     0                      0                      0   \n",
       "\n",
       "       Bela Vista/São Paulo  Belém/São Paulo  Bom Retiro/São Paulo  \\\n",
       "0                         0                0                     0   \n",
       "1                         0                0                     0   \n",
       "2                         0                0                     0   \n",
       "3                         0                0                     0   \n",
       "4                         0                0                     0   \n",
       "...                     ...              ...                   ...   \n",
       "11205                     0                0                     0   \n",
       "11206                     0                0                     0   \n",
       "11207                     0                0                     0   \n",
       "11208                     0                0                     0   \n",
       "11209                     0                0                     0   \n",
       "\n",
       "       Brasilândia/São Paulo  Brooklin/São Paulo  ...  Vila Jacuí/São Paulo  \\\n",
       "0                          0                   0  ...                     0   \n",
       "1                          0                   0  ...                     0   \n",
       "2                          0                   0  ...                     0   \n",
       "3                          0                   0  ...                     0   \n",
       "4                          0                   0  ...                     0   \n",
       "...                      ...                 ...  ...                   ...   \n",
       "11205                      0                   1  ...                     0   \n",
       "11206                      0                   1  ...                     0   \n",
       "11207                      0                   1  ...                     0   \n",
       "11208                      0                   1  ...                     0   \n",
       "11209                      0                   1  ...                     0   \n",
       "\n",
       "       Vila Leopoldina/São Paulo  Vila Madalena/São Paulo  \\\n",
       "0                              0                        0   \n",
       "1                              0                        0   \n",
       "2                              0                        0   \n",
       "3                              0                        0   \n",
       "4                              0                        0   \n",
       "...                          ...                      ...   \n",
       "11205                          0                        0   \n",
       "11206                          0                        0   \n",
       "11207                          0                        0   \n",
       "11208                          0                        0   \n",
       "11209                          0                        0   \n",
       "\n",
       "       Vila Maria/São Paulo  Vila Mariana/São Paulo  Vila Matilde/São Paulo  \\\n",
       "0                         0                       0                       0   \n",
       "1                         0                       0                       0   \n",
       "2                         0                       0                       0   \n",
       "3                         0                       0                       0   \n",
       "4                         0                       0                       0   \n",
       "...                     ...                     ...                     ...   \n",
       "11205                     0                       0                       0   \n",
       "11206                     0                       0                       0   \n",
       "11207                     0                       0                       0   \n",
       "11208                     0                       0                       0   \n",
       "11209                     0                       0                       0   \n",
       "\n",
       "       Vila Olimpia/São Paulo  Vila Prudente/São Paulo  Vila Sônia/São Paulo  \\\n",
       "0                           0                        0                     0   \n",
       "1                           0                        0                     0   \n",
       "2                           0                        0                     0   \n",
       "3                           0                        0                     0   \n",
       "4                           0                        0                     0   \n",
       "...                       ...                      ...                   ...   \n",
       "11205                       0                        0                     0   \n",
       "11206                       0                        0                     0   \n",
       "11207                       0                        0                     0   \n",
       "11208                       0                        0                     0   \n",
       "11209                       0                        0                     0   \n",
       "\n",
       "       Água Rasa/São Paulo  \n",
       "0                        0  \n",
       "1                        0  \n",
       "2                        0  \n",
       "3                        0  \n",
       "4                        0  \n",
       "...                    ...  \n",
       "11205                    0  \n",
       "11206                    0  \n",
       "11207                    0  \n",
       "11208                    0  \n",
       "11209                    0  \n",
       "\n",
       "[7228 rows x 94 columns]"
      ]
     },
     "execution_count": 10,
     "metadata": {},
     "output_type": "execute_result"
    }
   ],
   "source": [
    "one_hot = pd.get_dummies(df_cleaned['District'])\n",
    "one_hot"
   ]
  },
  {
   "cell_type": "code",
   "execution_count": 11,
   "id": "db66a935",
   "metadata": {},
   "outputs": [],
   "source": [
    "df = df_cleaned.drop('District', axis=1)"
   ]
  },
  {
   "cell_type": "code",
   "execution_count": 12,
   "id": "b4557220",
   "metadata": {},
   "outputs": [],
   "source": [
    "df = df.join(one_hot)"
   ]
  },
  {
   "cell_type": "code",
   "execution_count": 13,
   "id": "b7825cf8",
   "metadata": {},
   "outputs": [],
   "source": [
    "from sklearn.model_selection import train_test_split"
   ]
  },
  {
   "cell_type": "code",
   "execution_count": 14,
   "id": "38187039",
   "metadata": {},
   "outputs": [],
   "source": [
    "Y = df['Price'] \n",
    "X = df.loc[:, df.columns != 'Price']"
   ]
  },
  {
   "cell_type": "code",
   "execution_count": 15,
   "id": "184d0694",
   "metadata": {},
   "outputs": [],
   "source": [
    "x_train, x_test, y_train, y_test = train_test_split(X, Y, test_size=0.3) # Treino e, 70% e teste em 30% do nosso df."
   ]
  },
  {
   "cell_type": "code",
   "execution_count": 16,
   "id": "adf22b72",
   "metadata": {},
   "outputs": [],
   "source": [
    "# DecisionTreeRegressor (regressão de árvore de decisão.)\n",
    "from sklearn.tree import DecisionTreeRegressor"
   ]
  },
  {
   "cell_type": "code",
   "execution_count": 17,
   "id": "9b7225ff",
   "metadata": {},
   "outputs": [],
   "source": [
    "tree_reg = DecisionTreeRegressor()"
   ]
  },
  {
   "cell_type": "code",
   "execution_count": 18,
   "id": "c951f949",
   "metadata": {},
   "outputs": [
    {
     "data": {
      "text/plain": [
       "DecisionTreeRegressor()"
      ]
     },
     "execution_count": 18,
     "metadata": {},
     "output_type": "execute_result"
    }
   ],
   "source": [
    "tree_reg.fit(x_train, y_train)"
   ]
  },
  {
   "cell_type": "code",
   "execution_count": 19,
   "id": "e89b27ff",
   "metadata": {},
   "outputs": [],
   "source": [
    "from sklearn.metrics import mean_squared_error"
   ]
  },
  {
   "cell_type": "code",
   "execution_count": 26,
   "id": "d32e3241",
   "metadata": {},
   "outputs": [
    {
     "data": {
      "text/plain": [
       "40.784044368127766"
      ]
     },
     "execution_count": 26,
     "metadata": {},
     "output_type": "execute_result"
    }
   ],
   "source": [
    "predts = tree_reg.predict(x_train)\n",
    "\n",
    "tree_mse = mean_squared_error(y_train, predts)\n",
    "\n",
    "tree_mse = np.sqrt(tree_mse)\n",
    "\n",
    "tree_mse"
   ]
  },
  {
   "cell_type": "code",
   "execution_count": 44,
   "id": "e09622f6",
   "metadata": {},
   "outputs": [],
   "source": [
    "alguns_dados = x_train.iloc[:5]\n",
    "algumas_label = y_train.iloc[:5]"
   ]
  },
  {
   "cell_type": "code",
   "execution_count": 45,
   "id": "5cb8029f",
   "metadata": {},
   "outputs": [
    {
     "name": "stdout",
     "output_type": "stream",
     "text": [
      "*************************  Predições *************************\n",
      "1  :  2700.00\n",
      "2  :  2450.00\n",
      "3  :  970.00\n",
      "4  :  1990.00\n",
      "5  :  2000.00\n"
     ]
    }
   ],
   "source": [
    "print(f'*'*25, ' Predições', '*'*25)\n",
    "for a, b in enumerate(tree_reg.predict(alguns_dados)):\n",
    "    print(a + 1,' : ', f'{b:.02f}')"
   ]
  },
  {
   "cell_type": "code",
   "execution_count": 46,
   "id": "f960ff27",
   "metadata": {},
   "outputs": [
    {
     "name": "stdout",
     "output_type": "stream",
     "text": [
      "*************************  Labels  *************************\n",
      "1  :  2700.00\n",
      "2  :  2400.00\n",
      "3  :  970.00\n",
      "4  :  1990.00\n",
      "5  :  2000.00\n"
     ]
    }
   ],
   "source": [
    "print(f'*'*25, ' Labels ', '*'*25)\n",
    "for a, b in enumerate(algumas_label.values):\n",
    "    print(a + 1,' : ', f'{b:.02f}')"
   ]
  },
  {
   "cell_type": "code",
   "execution_count": 47,
   "id": "a2a37fc6",
   "metadata": {},
   "outputs": [
    {
     "data": {
      "text/plain": [
       "array([2700., 2450.,  970., ..., 1000., 1400.,  900.])"
      ]
     },
     "execution_count": 47,
     "metadata": {},
     "output_type": "execute_result"
    }
   ],
   "source": [
    "tree_reg.predict(x_train)"
   ]
  },
  {
   "cell_type": "code",
   "execution_count": 48,
   "id": "6b729b29",
   "metadata": {},
   "outputs": [],
   "source": [
    "from sklearn.model_selection import cross_val_score"
   ]
  },
  {
   "cell_type": "code",
   "execution_count": 49,
   "id": "2ab5a18c",
   "metadata": {},
   "outputs": [],
   "source": [
    "score = cross_val_score(tree_reg, x_train, y_train, scoring='neg_mean_squared_error', cv=10)"
   ]
  },
  {
   "cell_type": "code",
   "execution_count": 50,
   "id": "b6b27567",
   "metadata": {},
   "outputs": [],
   "source": [
    "tree_rmse_scores = np.sqrt(-score)"
   ]
  },
  {
   "cell_type": "code",
   "execution_count": 69,
   "id": "00847bb8",
   "metadata": {},
   "outputs": [],
   "source": [
    "def diskplay_score(scores):\n",
    "    for a, b in enumerate(scores):\n",
    "        print(f'Score {a + 1} : ', f'{b:.05f}')\n",
    "    #print('Score :', scores)\n",
    "    print()\n",
    "    print('Média : ', scores.mean())\n",
    "    print('Desvio padrão : ', scores.std())"
   ]
  },
  {
   "cell_type": "code",
   "execution_count": 70,
   "id": "0e6bcfb4",
   "metadata": {},
   "outputs": [
    {
     "name": "stdout",
     "output_type": "stream",
     "text": [
      "Score 1 :  2242.70355\n",
      "Score 2 :  1947.23635\n",
      "Score 3 :  2023.53559\n",
      "Score 4 :  2961.31325\n",
      "Score 5 :  2435.56718\n",
      "Score 6 :  2640.50163\n",
      "Score 7 :  2688.30015\n",
      "Score 8 :  3009.17150\n",
      "Score 9 :  1914.03588\n",
      "Score 10 :  2022.23489\n",
      "\n",
      "Média :  2388.4599971406196\n",
      "Desvio padrão :  397.1629325801242\n"
     ]
    }
   ],
   "source": [
    "diskplay_score(tree_rmse_scores)"
   ]
  },
  {
   "cell_type": "code",
   "execution_count": null,
   "id": "f6ccbba2",
   "metadata": {},
   "outputs": [],
   "source": []
  },
  {
   "cell_type": "code",
   "execution_count": null,
   "id": "52b31434",
   "metadata": {},
   "outputs": [],
   "source": []
  },
  {
   "cell_type": "code",
   "execution_count": null,
   "id": "775c80c5",
   "metadata": {},
   "outputs": [],
   "source": []
  },
  {
   "cell_type": "code",
   "execution_count": null,
   "id": "0bd54795",
   "metadata": {},
   "outputs": [],
   "source": []
  },
  {
   "cell_type": "code",
   "execution_count": null,
   "id": "d0ee58a7",
   "metadata": {},
   "outputs": [],
   "source": []
  },
  {
   "cell_type": "code",
   "execution_count": null,
   "id": "d5042b79",
   "metadata": {},
   "outputs": [],
   "source": []
  }
 ],
 "metadata": {
  "kernelspec": {
   "display_name": "Python 3 (ipykernel)",
   "language": "python",
   "name": "python3"
  },
  "language_info": {
   "codemirror_mode": {
    "name": "ipython",
    "version": 3
   },
   "file_extension": ".py",
   "mimetype": "text/x-python",
   "name": "python",
   "nbconvert_exporter": "python",
   "pygments_lexer": "ipython3",
   "version": "3.9.12"
  }
 },
 "nbformat": 4,
 "nbformat_minor": 5
}
